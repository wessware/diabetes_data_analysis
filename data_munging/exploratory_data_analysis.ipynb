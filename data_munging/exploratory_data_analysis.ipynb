{
 "cells": [
  {
   "cell_type": "markdown",
   "metadata": {},
   "source": [
    "THIS PROJECT IS COMPRISED OF THREE FILES; ONE FOR DATA PREPARATION - DATA MUNGING. THE OTHER TWO FILES ARE FOR FITTING\n",
    "MODELS TO THE PREPARED DATA AND EVALUATING THIER PERFORMANCE BASED ON DIFFERENNT METRICS AND THE STATUS OF THE DATA.\n",
    "\n",
    "THE AIM OF THE PROJECT WILL TO PREDICT USING MACHINE LEARNING CLASSIFIERS WHETHER A PATIENT HAS TYPE B DIABETES OR NOT [THE MODELS WILL CLASSIFY THE PATIENTS AS SUCH, BASED ON THEIR MEDICAL DATA]\n",
    "\n",
    "THE SELECT CLASSIFIERS ARE RANDOM FORESTS (RF), SUPPORT VECTOR MACHINE(SVM), AND EXTREME GRADIENT BOOSTERS (XGB). THIS MODELS ARE FAST TO TRAIN, SCORE GENERALLY WELL, HAVE A STRONG UNDERLYING ARCHITECTURE & LOGIC FOR CLASSIFICATION, AND HAVE A FAIR PERFORMANCE INDEX ON BOTH SMALL AND HUGE DATASETS COMPARED TO OTHER CLASSIFIERS, HENCE BEST SUITED FOR THIS PROJECT. "
   ]
  },
  {
   "cell_type": "code",
   "execution_count": 49,
   "metadata": {},
   "outputs": [],
   "source": [
    "#importing support libraries for data preparation\n",
    "import pandas as pd\n",
    "import numpy as np\n",
    "from sklearn.preprocessing import LabelEncoder\n",
    "import matplotlib\n",
    "import seaborn as sns\n",
    "import plotly.express as px\n"
   ]
  },
  {
   "cell_type": "code",
   "execution_count": 50,
   "metadata": {},
   "outputs": [],
   "source": [
    "#setting default parameters for visualization\n",
    "sns.set_style('darkgrid')\n",
    "matplotlib.rcParams['font.size'] = 14\n",
    "matplotlib.rcParams['figure.figsize'] = (10, 6)\n",
    "matplotlib.rcParams['figure.facecolor'] = '#000000'"
   ]
  },
  {
   "cell_type": "code",
   "execution_count": 51,
   "metadata": {},
   "outputs": [],
   "source": [
    "#import the dataset\n",
    "df_raw = pd.read_csv('../datasets/diabetes.csv')"
   ]
  },
  {
   "cell_type": "markdown",
   "metadata": {},
   "source": [
    "EXPLORATORY DATA ANALYSIS\n",
    "\n",
    "INCLUDES DATA SHAPE, DATA TYPES, AND CHECK FOR MISSSING VALUES"
   ]
  },
  {
   "cell_type": "code",
   "execution_count": 52,
   "metadata": {},
   "outputs": [
    {
     "data": {
      "text/html": [
       "<div>\n",
       "<style scoped>\n",
       "    .dataframe tbody tr th:only-of-type {\n",
       "        vertical-align: middle;\n",
       "    }\n",
       "\n",
       "    .dataframe tbody tr th {\n",
       "        vertical-align: top;\n",
       "    }\n",
       "\n",
       "    .dataframe thead th {\n",
       "        text-align: right;\n",
       "    }\n",
       "</style>\n",
       "<table border=\"1\" class=\"dataframe\">\n",
       "  <thead>\n",
       "    <tr style=\"text-align: right;\">\n",
       "      <th></th>\n",
       "      <th>id</th>\n",
       "      <th>chol</th>\n",
       "      <th>stab.glu</th>\n",
       "      <th>hdl</th>\n",
       "      <th>ratio</th>\n",
       "      <th>glyhb</th>\n",
       "      <th>location</th>\n",
       "      <th>age</th>\n",
       "      <th>gender</th>\n",
       "      <th>height</th>\n",
       "      <th>weight</th>\n",
       "      <th>frame</th>\n",
       "      <th>bp.1s</th>\n",
       "      <th>bp.1d</th>\n",
       "      <th>bp.2s</th>\n",
       "      <th>bp.2d</th>\n",
       "      <th>waist</th>\n",
       "      <th>hip</th>\n",
       "      <th>time.ppn</th>\n",
       "    </tr>\n",
       "  </thead>\n",
       "  <tbody>\n",
       "    <tr>\n",
       "      <th>0</th>\n",
       "      <td>1000</td>\n",
       "      <td>203.0</td>\n",
       "      <td>82</td>\n",
       "      <td>56.0</td>\n",
       "      <td>3.6</td>\n",
       "      <td>4.310000</td>\n",
       "      <td>Buckingham</td>\n",
       "      <td>46</td>\n",
       "      <td>female</td>\n",
       "      <td>62.0</td>\n",
       "      <td>121.0</td>\n",
       "      <td>medium</td>\n",
       "      <td>118.0</td>\n",
       "      <td>59.0</td>\n",
       "      <td>NaN</td>\n",
       "      <td>NaN</td>\n",
       "      <td>29.0</td>\n",
       "      <td>38.0</td>\n",
       "      <td>720.0</td>\n",
       "    </tr>\n",
       "    <tr>\n",
       "      <th>1</th>\n",
       "      <td>1001</td>\n",
       "      <td>165.0</td>\n",
       "      <td>97</td>\n",
       "      <td>24.0</td>\n",
       "      <td>6.9</td>\n",
       "      <td>4.440000</td>\n",
       "      <td>Buckingham</td>\n",
       "      <td>29</td>\n",
       "      <td>female</td>\n",
       "      <td>64.0</td>\n",
       "      <td>218.0</td>\n",
       "      <td>large</td>\n",
       "      <td>112.0</td>\n",
       "      <td>68.0</td>\n",
       "      <td>NaN</td>\n",
       "      <td>NaN</td>\n",
       "      <td>46.0</td>\n",
       "      <td>48.0</td>\n",
       "      <td>360.0</td>\n",
       "    </tr>\n",
       "    <tr>\n",
       "      <th>2</th>\n",
       "      <td>1002</td>\n",
       "      <td>228.0</td>\n",
       "      <td>92</td>\n",
       "      <td>37.0</td>\n",
       "      <td>6.2</td>\n",
       "      <td>4.640000</td>\n",
       "      <td>Buckingham</td>\n",
       "      <td>58</td>\n",
       "      <td>female</td>\n",
       "      <td>61.0</td>\n",
       "      <td>256.0</td>\n",
       "      <td>large</td>\n",
       "      <td>190.0</td>\n",
       "      <td>92.0</td>\n",
       "      <td>185.0</td>\n",
       "      <td>92.0</td>\n",
       "      <td>49.0</td>\n",
       "      <td>57.0</td>\n",
       "      <td>180.0</td>\n",
       "    </tr>\n",
       "    <tr>\n",
       "      <th>3</th>\n",
       "      <td>1003</td>\n",
       "      <td>78.0</td>\n",
       "      <td>93</td>\n",
       "      <td>12.0</td>\n",
       "      <td>6.5</td>\n",
       "      <td>4.630000</td>\n",
       "      <td>Buckingham</td>\n",
       "      <td>67</td>\n",
       "      <td>male</td>\n",
       "      <td>67.0</td>\n",
       "      <td>119.0</td>\n",
       "      <td>large</td>\n",
       "      <td>110.0</td>\n",
       "      <td>50.0</td>\n",
       "      <td>NaN</td>\n",
       "      <td>NaN</td>\n",
       "      <td>33.0</td>\n",
       "      <td>38.0</td>\n",
       "      <td>480.0</td>\n",
       "    </tr>\n",
       "    <tr>\n",
       "      <th>4</th>\n",
       "      <td>1005</td>\n",
       "      <td>249.0</td>\n",
       "      <td>90</td>\n",
       "      <td>28.0</td>\n",
       "      <td>8.9</td>\n",
       "      <td>7.720000</td>\n",
       "      <td>Buckingham</td>\n",
       "      <td>64</td>\n",
       "      <td>male</td>\n",
       "      <td>68.0</td>\n",
       "      <td>183.0</td>\n",
       "      <td>medium</td>\n",
       "      <td>138.0</td>\n",
       "      <td>80.0</td>\n",
       "      <td>NaN</td>\n",
       "      <td>NaN</td>\n",
       "      <td>44.0</td>\n",
       "      <td>41.0</td>\n",
       "      <td>300.0</td>\n",
       "    </tr>\n",
       "    <tr>\n",
       "      <th>...</th>\n",
       "      <td>...</td>\n",
       "      <td>...</td>\n",
       "      <td>...</td>\n",
       "      <td>...</td>\n",
       "      <td>...</td>\n",
       "      <td>...</td>\n",
       "      <td>...</td>\n",
       "      <td>...</td>\n",
       "      <td>...</td>\n",
       "      <td>...</td>\n",
       "      <td>...</td>\n",
       "      <td>...</td>\n",
       "      <td>...</td>\n",
       "      <td>...</td>\n",
       "      <td>...</td>\n",
       "      <td>...</td>\n",
       "      <td>...</td>\n",
       "      <td>...</td>\n",
       "      <td>...</td>\n",
       "    </tr>\n",
       "    <tr>\n",
       "      <th>398</th>\n",
       "      <td>41506</td>\n",
       "      <td>296.0</td>\n",
       "      <td>369</td>\n",
       "      <td>46.0</td>\n",
       "      <td>6.4</td>\n",
       "      <td>16.110001</td>\n",
       "      <td>Louisa</td>\n",
       "      <td>53</td>\n",
       "      <td>male</td>\n",
       "      <td>69.0</td>\n",
       "      <td>173.0</td>\n",
       "      <td>medium</td>\n",
       "      <td>138.0</td>\n",
       "      <td>94.0</td>\n",
       "      <td>130.0</td>\n",
       "      <td>94.0</td>\n",
       "      <td>35.0</td>\n",
       "      <td>39.0</td>\n",
       "      <td>210.0</td>\n",
       "    </tr>\n",
       "    <tr>\n",
       "      <th>399</th>\n",
       "      <td>41507</td>\n",
       "      <td>284.0</td>\n",
       "      <td>89</td>\n",
       "      <td>54.0</td>\n",
       "      <td>5.3</td>\n",
       "      <td>4.390000</td>\n",
       "      <td>Louisa</td>\n",
       "      <td>51</td>\n",
       "      <td>female</td>\n",
       "      <td>63.0</td>\n",
       "      <td>154.0</td>\n",
       "      <td>medium</td>\n",
       "      <td>140.0</td>\n",
       "      <td>100.0</td>\n",
       "      <td>146.0</td>\n",
       "      <td>102.0</td>\n",
       "      <td>32.0</td>\n",
       "      <td>43.0</td>\n",
       "      <td>180.0</td>\n",
       "    </tr>\n",
       "    <tr>\n",
       "      <th>400</th>\n",
       "      <td>41510</td>\n",
       "      <td>194.0</td>\n",
       "      <td>269</td>\n",
       "      <td>38.0</td>\n",
       "      <td>5.1</td>\n",
       "      <td>13.630000</td>\n",
       "      <td>Louisa</td>\n",
       "      <td>29</td>\n",
       "      <td>female</td>\n",
       "      <td>69.0</td>\n",
       "      <td>167.0</td>\n",
       "      <td>small</td>\n",
       "      <td>120.0</td>\n",
       "      <td>70.0</td>\n",
       "      <td>NaN</td>\n",
       "      <td>NaN</td>\n",
       "      <td>33.0</td>\n",
       "      <td>40.0</td>\n",
       "      <td>20.0</td>\n",
       "    </tr>\n",
       "    <tr>\n",
       "      <th>401</th>\n",
       "      <td>41752</td>\n",
       "      <td>199.0</td>\n",
       "      <td>76</td>\n",
       "      <td>52.0</td>\n",
       "      <td>3.8</td>\n",
       "      <td>4.490000</td>\n",
       "      <td>Louisa</td>\n",
       "      <td>41</td>\n",
       "      <td>female</td>\n",
       "      <td>63.0</td>\n",
       "      <td>197.0</td>\n",
       "      <td>medium</td>\n",
       "      <td>120.0</td>\n",
       "      <td>78.0</td>\n",
       "      <td>NaN</td>\n",
       "      <td>NaN</td>\n",
       "      <td>41.0</td>\n",
       "      <td>48.0</td>\n",
       "      <td>255.0</td>\n",
       "    </tr>\n",
       "    <tr>\n",
       "      <th>402</th>\n",
       "      <td>41756</td>\n",
       "      <td>159.0</td>\n",
       "      <td>88</td>\n",
       "      <td>79.0</td>\n",
       "      <td>2.0</td>\n",
       "      <td>NaN</td>\n",
       "      <td>Louisa</td>\n",
       "      <td>68</td>\n",
       "      <td>female</td>\n",
       "      <td>64.0</td>\n",
       "      <td>220.0</td>\n",
       "      <td>medium</td>\n",
       "      <td>100.0</td>\n",
       "      <td>72.0</td>\n",
       "      <td>NaN</td>\n",
       "      <td>NaN</td>\n",
       "      <td>49.0</td>\n",
       "      <td>58.0</td>\n",
       "      <td>900.0</td>\n",
       "    </tr>\n",
       "  </tbody>\n",
       "</table>\n",
       "<p>403 rows × 19 columns</p>\n",
       "</div>"
      ],
      "text/plain": [
       "        id   chol  stab.glu   hdl  ratio      glyhb    location  age  gender  \\\n",
       "0     1000  203.0        82  56.0    3.6   4.310000  Buckingham   46  female   \n",
       "1     1001  165.0        97  24.0    6.9   4.440000  Buckingham   29  female   \n",
       "2     1002  228.0        92  37.0    6.2   4.640000  Buckingham   58  female   \n",
       "3     1003   78.0        93  12.0    6.5   4.630000  Buckingham   67    male   \n",
       "4     1005  249.0        90  28.0    8.9   7.720000  Buckingham   64    male   \n",
       "..     ...    ...       ...   ...    ...        ...         ...  ...     ...   \n",
       "398  41506  296.0       369  46.0    6.4  16.110001      Louisa   53    male   \n",
       "399  41507  284.0        89  54.0    5.3   4.390000      Louisa   51  female   \n",
       "400  41510  194.0       269  38.0    5.1  13.630000      Louisa   29  female   \n",
       "401  41752  199.0        76  52.0    3.8   4.490000      Louisa   41  female   \n",
       "402  41756  159.0        88  79.0    2.0        NaN      Louisa   68  female   \n",
       "\n",
       "     height  weight   frame  bp.1s  bp.1d  bp.2s  bp.2d  waist   hip  time.ppn  \n",
       "0      62.0   121.0  medium  118.0   59.0    NaN    NaN   29.0  38.0     720.0  \n",
       "1      64.0   218.0   large  112.0   68.0    NaN    NaN   46.0  48.0     360.0  \n",
       "2      61.0   256.0   large  190.0   92.0  185.0   92.0   49.0  57.0     180.0  \n",
       "3      67.0   119.0   large  110.0   50.0    NaN    NaN   33.0  38.0     480.0  \n",
       "4      68.0   183.0  medium  138.0   80.0    NaN    NaN   44.0  41.0     300.0  \n",
       "..      ...     ...     ...    ...    ...    ...    ...    ...   ...       ...  \n",
       "398    69.0   173.0  medium  138.0   94.0  130.0   94.0   35.0  39.0     210.0  \n",
       "399    63.0   154.0  medium  140.0  100.0  146.0  102.0   32.0  43.0     180.0  \n",
       "400    69.0   167.0   small  120.0   70.0    NaN    NaN   33.0  40.0      20.0  \n",
       "401    63.0   197.0  medium  120.0   78.0    NaN    NaN   41.0  48.0     255.0  \n",
       "402    64.0   220.0  medium  100.0   72.0    NaN    NaN   49.0  58.0     900.0  \n",
       "\n",
       "[403 rows x 19 columns]"
      ]
     },
     "execution_count": 52,
     "metadata": {},
     "output_type": "execute_result"
    }
   ],
   "source": [
    "df_raw"
   ]
  },
  {
   "cell_type": "code",
   "execution_count": 53,
   "metadata": {},
   "outputs": [
    {
     "data": {
      "text/plain": [
       "(403, 19)"
      ]
     },
     "execution_count": 53,
     "metadata": {},
     "output_type": "execute_result"
    }
   ],
   "source": [
    "df_raw.shape"
   ]
  },
  {
   "cell_type": "code",
   "execution_count": 54,
   "metadata": {},
   "outputs": [
    {
     "name": "stdout",
     "output_type": "stream",
     "text": [
      "<class 'pandas.core.frame.DataFrame'>\n",
      "RangeIndex: 403 entries, 0 to 402\n",
      "Data columns (total 19 columns):\n",
      " #   Column    Non-Null Count  Dtype  \n",
      "---  ------    --------------  -----  \n",
      " 0   id        403 non-null    int64  \n",
      " 1   chol      402 non-null    float64\n",
      " 2   stab.glu  403 non-null    int64  \n",
      " 3   hdl       402 non-null    float64\n",
      " 4   ratio     402 non-null    float64\n",
      " 5   glyhb     390 non-null    float64\n",
      " 6   location  403 non-null    object \n",
      " 7   age       403 non-null    int64  \n",
      " 8   gender    403 non-null    object \n",
      " 9   height    398 non-null    float64\n",
      " 10  weight    402 non-null    float64\n",
      " 11  frame     391 non-null    object \n",
      " 12  bp.1s     398 non-null    float64\n",
      " 13  bp.1d     398 non-null    float64\n",
      " 14  bp.2s     141 non-null    float64\n",
      " 15  bp.2d     141 non-null    float64\n",
      " 16  waist     401 non-null    float64\n",
      " 17  hip       401 non-null    float64\n",
      " 18  time.ppn  400 non-null    float64\n",
      "dtypes: float64(13), int64(3), object(3)\n",
      "memory usage: 59.9+ KB\n"
     ]
    }
   ],
   "source": [
    "df_raw.info()"
   ]
  },
  {
   "cell_type": "code",
   "execution_count": 55,
   "metadata": {},
   "outputs": [
    {
     "data": {
      "text/plain": [
       "id            0\n",
       "chol          1\n",
       "stab.glu      0\n",
       "hdl           1\n",
       "ratio         1\n",
       "glyhb        13\n",
       "location      0\n",
       "age           0\n",
       "gender        0\n",
       "height        5\n",
       "weight        1\n",
       "frame        12\n",
       "bp.1s         5\n",
       "bp.1d         5\n",
       "bp.2s       262\n",
       "bp.2d       262\n",
       "waist         2\n",
       "hip           2\n",
       "time.ppn      3\n",
       "dtype: int64"
      ]
     },
     "execution_count": 55,
     "metadata": {},
     "output_type": "execute_result"
    }
   ],
   "source": [
    "df_raw.isnull().sum() "
   ]
  },
  {
   "cell_type": "markdown",
   "metadata": {},
   "source": [
    "FEATURE ENGINEERING \n",
    "\n",
    "EXTRACTING NEW FEATURES FROM EXISTING FEATURES"
   ]
  },
  {
   "cell_type": "code",
   "execution_count": 56,
   "metadata": {},
   "outputs": [],
   "source": [
    "#create a new column for height in meters by converting current height from inches\n",
    "df_raw['height_meters'] = df_raw['height'] * 0.0254"
   ]
  },
  {
   "cell_type": "code",
   "execution_count": 57,
   "metadata": {},
   "outputs": [],
   "source": [
    "#BMI can be a good determinant in diagnosing heart disease and diabetes\n",
    "#calculating and adding a column for the BMI using height and weight\n",
    "df_raw['BMI'] = df_raw['weight'] / (df_raw['height_meters'])**2"
   ]
  },
  {
   "cell_type": "code",
   "execution_count": 58,
   "metadata": {},
   "outputs": [
    {
     "data": {
      "text/html": [
       "<div>\n",
       "<style scoped>\n",
       "    .dataframe tbody tr th:only-of-type {\n",
       "        vertical-align: middle;\n",
       "    }\n",
       "\n",
       "    .dataframe tbody tr th {\n",
       "        vertical-align: top;\n",
       "    }\n",
       "\n",
       "    .dataframe thead th {\n",
       "        text-align: right;\n",
       "    }\n",
       "</style>\n",
       "<table border=\"1\" class=\"dataframe\">\n",
       "  <thead>\n",
       "    <tr style=\"text-align: right;\">\n",
       "      <th></th>\n",
       "      <th>id</th>\n",
       "      <th>chol</th>\n",
       "      <th>stab.glu</th>\n",
       "      <th>hdl</th>\n",
       "      <th>ratio</th>\n",
       "      <th>glyhb</th>\n",
       "      <th>location</th>\n",
       "      <th>age</th>\n",
       "      <th>gender</th>\n",
       "      <th>height</th>\n",
       "      <th>...</th>\n",
       "      <th>frame</th>\n",
       "      <th>bp.1s</th>\n",
       "      <th>bp.1d</th>\n",
       "      <th>bp.2s</th>\n",
       "      <th>bp.2d</th>\n",
       "      <th>waist</th>\n",
       "      <th>hip</th>\n",
       "      <th>time.ppn</th>\n",
       "      <th>height_meters</th>\n",
       "      <th>BMI</th>\n",
       "    </tr>\n",
       "  </thead>\n",
       "  <tbody>\n",
       "    <tr>\n",
       "      <th>0</th>\n",
       "      <td>1000</td>\n",
       "      <td>203.0</td>\n",
       "      <td>82</td>\n",
       "      <td>56.0</td>\n",
       "      <td>3.6</td>\n",
       "      <td>4.310000</td>\n",
       "      <td>Buckingham</td>\n",
       "      <td>46</td>\n",
       "      <td>female</td>\n",
       "      <td>62.0</td>\n",
       "      <td>...</td>\n",
       "      <td>medium</td>\n",
       "      <td>118.0</td>\n",
       "      <td>59.0</td>\n",
       "      <td>NaN</td>\n",
       "      <td>NaN</td>\n",
       "      <td>29.0</td>\n",
       "      <td>38.0</td>\n",
       "      <td>720.0</td>\n",
       "      <td>1.5748</td>\n",
       "      <td>48.790420</td>\n",
       "    </tr>\n",
       "    <tr>\n",
       "      <th>1</th>\n",
       "      <td>1001</td>\n",
       "      <td>165.0</td>\n",
       "      <td>97</td>\n",
       "      <td>24.0</td>\n",
       "      <td>6.9</td>\n",
       "      <td>4.440000</td>\n",
       "      <td>Buckingham</td>\n",
       "      <td>29</td>\n",
       "      <td>female</td>\n",
       "      <td>64.0</td>\n",
       "      <td>...</td>\n",
       "      <td>large</td>\n",
       "      <td>112.0</td>\n",
       "      <td>68.0</td>\n",
       "      <td>NaN</td>\n",
       "      <td>NaN</td>\n",
       "      <td>46.0</td>\n",
       "      <td>48.0</td>\n",
       "      <td>360.0</td>\n",
       "      <td>1.6256</td>\n",
       "      <td>82.495282</td>\n",
       "    </tr>\n",
       "    <tr>\n",
       "      <th>2</th>\n",
       "      <td>1002</td>\n",
       "      <td>228.0</td>\n",
       "      <td>92</td>\n",
       "      <td>37.0</td>\n",
       "      <td>6.2</td>\n",
       "      <td>4.640000</td>\n",
       "      <td>Buckingham</td>\n",
       "      <td>58</td>\n",
       "      <td>female</td>\n",
       "      <td>61.0</td>\n",
       "      <td>...</td>\n",
       "      <td>large</td>\n",
       "      <td>190.0</td>\n",
       "      <td>92.0</td>\n",
       "      <td>185.0</td>\n",
       "      <td>92.0</td>\n",
       "      <td>49.0</td>\n",
       "      <td>57.0</td>\n",
       "      <td>180.0</td>\n",
       "      <td>1.5494</td>\n",
       "      <td>106.638214</td>\n",
       "    </tr>\n",
       "    <tr>\n",
       "      <th>3</th>\n",
       "      <td>1003</td>\n",
       "      <td>78.0</td>\n",
       "      <td>93</td>\n",
       "      <td>12.0</td>\n",
       "      <td>6.5</td>\n",
       "      <td>4.630000</td>\n",
       "      <td>Buckingham</td>\n",
       "      <td>67</td>\n",
       "      <td>male</td>\n",
       "      <td>67.0</td>\n",
       "      <td>...</td>\n",
       "      <td>large</td>\n",
       "      <td>110.0</td>\n",
       "      <td>50.0</td>\n",
       "      <td>NaN</td>\n",
       "      <td>NaN</td>\n",
       "      <td>33.0</td>\n",
       "      <td>38.0</td>\n",
       "      <td>480.0</td>\n",
       "      <td>1.7018</td>\n",
       "      <td>41.089412</td>\n",
       "    </tr>\n",
       "    <tr>\n",
       "      <th>4</th>\n",
       "      <td>1005</td>\n",
       "      <td>249.0</td>\n",
       "      <td>90</td>\n",
       "      <td>28.0</td>\n",
       "      <td>8.9</td>\n",
       "      <td>7.720000</td>\n",
       "      <td>Buckingham</td>\n",
       "      <td>64</td>\n",
       "      <td>male</td>\n",
       "      <td>68.0</td>\n",
       "      <td>...</td>\n",
       "      <td>medium</td>\n",
       "      <td>138.0</td>\n",
       "      <td>80.0</td>\n",
       "      <td>NaN</td>\n",
       "      <td>NaN</td>\n",
       "      <td>44.0</td>\n",
       "      <td>41.0</td>\n",
       "      <td>300.0</td>\n",
       "      <td>1.7272</td>\n",
       "      <td>61.343116</td>\n",
       "    </tr>\n",
       "    <tr>\n",
       "      <th>...</th>\n",
       "      <td>...</td>\n",
       "      <td>...</td>\n",
       "      <td>...</td>\n",
       "      <td>...</td>\n",
       "      <td>...</td>\n",
       "      <td>...</td>\n",
       "      <td>...</td>\n",
       "      <td>...</td>\n",
       "      <td>...</td>\n",
       "      <td>...</td>\n",
       "      <td>...</td>\n",
       "      <td>...</td>\n",
       "      <td>...</td>\n",
       "      <td>...</td>\n",
       "      <td>...</td>\n",
       "      <td>...</td>\n",
       "      <td>...</td>\n",
       "      <td>...</td>\n",
       "      <td>...</td>\n",
       "      <td>...</td>\n",
       "      <td>...</td>\n",
       "    </tr>\n",
       "    <tr>\n",
       "      <th>398</th>\n",
       "      <td>41506</td>\n",
       "      <td>296.0</td>\n",
       "      <td>369</td>\n",
       "      <td>46.0</td>\n",
       "      <td>6.4</td>\n",
       "      <td>16.110001</td>\n",
       "      <td>Louisa</td>\n",
       "      <td>53</td>\n",
       "      <td>male</td>\n",
       "      <td>69.0</td>\n",
       "      <td>...</td>\n",
       "      <td>medium</td>\n",
       "      <td>138.0</td>\n",
       "      <td>94.0</td>\n",
       "      <td>130.0</td>\n",
       "      <td>94.0</td>\n",
       "      <td>35.0</td>\n",
       "      <td>39.0</td>\n",
       "      <td>210.0</td>\n",
       "      <td>1.7526</td>\n",
       "      <td>56.322314</td>\n",
       "    </tr>\n",
       "    <tr>\n",
       "      <th>399</th>\n",
       "      <td>41507</td>\n",
       "      <td>284.0</td>\n",
       "      <td>89</td>\n",
       "      <td>54.0</td>\n",
       "      <td>5.3</td>\n",
       "      <td>4.390000</td>\n",
       "      <td>Louisa</td>\n",
       "      <td>51</td>\n",
       "      <td>female</td>\n",
       "      <td>63.0</td>\n",
       "      <td>...</td>\n",
       "      <td>medium</td>\n",
       "      <td>140.0</td>\n",
       "      <td>100.0</td>\n",
       "      <td>146.0</td>\n",
       "      <td>102.0</td>\n",
       "      <td>32.0</td>\n",
       "      <td>43.0</td>\n",
       "      <td>180.0</td>\n",
       "      <td>1.6002</td>\n",
       "      <td>60.141214</td>\n",
       "    </tr>\n",
       "    <tr>\n",
       "      <th>400</th>\n",
       "      <td>41510</td>\n",
       "      <td>194.0</td>\n",
       "      <td>269</td>\n",
       "      <td>38.0</td>\n",
       "      <td>5.1</td>\n",
       "      <td>13.630000</td>\n",
       "      <td>Louisa</td>\n",
       "      <td>29</td>\n",
       "      <td>female</td>\n",
       "      <td>69.0</td>\n",
       "      <td>...</td>\n",
       "      <td>small</td>\n",
       "      <td>120.0</td>\n",
       "      <td>70.0</td>\n",
       "      <td>NaN</td>\n",
       "      <td>NaN</td>\n",
       "      <td>33.0</td>\n",
       "      <td>40.0</td>\n",
       "      <td>20.0</td>\n",
       "      <td>1.7526</td>\n",
       "      <td>54.368939</td>\n",
       "    </tr>\n",
       "    <tr>\n",
       "      <th>401</th>\n",
       "      <td>41752</td>\n",
       "      <td>199.0</td>\n",
       "      <td>76</td>\n",
       "      <td>52.0</td>\n",
       "      <td>3.8</td>\n",
       "      <td>4.490000</td>\n",
       "      <td>Louisa</td>\n",
       "      <td>41</td>\n",
       "      <td>female</td>\n",
       "      <td>63.0</td>\n",
       "      <td>...</td>\n",
       "      <td>medium</td>\n",
       "      <td>120.0</td>\n",
       "      <td>78.0</td>\n",
       "      <td>NaN</td>\n",
       "      <td>NaN</td>\n",
       "      <td>41.0</td>\n",
       "      <td>48.0</td>\n",
       "      <td>255.0</td>\n",
       "      <td>1.6002</td>\n",
       "      <td>76.933890</td>\n",
       "    </tr>\n",
       "    <tr>\n",
       "      <th>402</th>\n",
       "      <td>41756</td>\n",
       "      <td>159.0</td>\n",
       "      <td>88</td>\n",
       "      <td>79.0</td>\n",
       "      <td>2.0</td>\n",
       "      <td>NaN</td>\n",
       "      <td>Louisa</td>\n",
       "      <td>68</td>\n",
       "      <td>female</td>\n",
       "      <td>64.0</td>\n",
       "      <td>...</td>\n",
       "      <td>medium</td>\n",
       "      <td>100.0</td>\n",
       "      <td>72.0</td>\n",
       "      <td>NaN</td>\n",
       "      <td>NaN</td>\n",
       "      <td>49.0</td>\n",
       "      <td>58.0</td>\n",
       "      <td>900.0</td>\n",
       "      <td>1.6256</td>\n",
       "      <td>83.252120</td>\n",
       "    </tr>\n",
       "  </tbody>\n",
       "</table>\n",
       "<p>403 rows × 21 columns</p>\n",
       "</div>"
      ],
      "text/plain": [
       "        id   chol  stab.glu   hdl  ratio      glyhb    location  age  gender  \\\n",
       "0     1000  203.0        82  56.0    3.6   4.310000  Buckingham   46  female   \n",
       "1     1001  165.0        97  24.0    6.9   4.440000  Buckingham   29  female   \n",
       "2     1002  228.0        92  37.0    6.2   4.640000  Buckingham   58  female   \n",
       "3     1003   78.0        93  12.0    6.5   4.630000  Buckingham   67    male   \n",
       "4     1005  249.0        90  28.0    8.9   7.720000  Buckingham   64    male   \n",
       "..     ...    ...       ...   ...    ...        ...         ...  ...     ...   \n",
       "398  41506  296.0       369  46.0    6.4  16.110001      Louisa   53    male   \n",
       "399  41507  284.0        89  54.0    5.3   4.390000      Louisa   51  female   \n",
       "400  41510  194.0       269  38.0    5.1  13.630000      Louisa   29  female   \n",
       "401  41752  199.0        76  52.0    3.8   4.490000      Louisa   41  female   \n",
       "402  41756  159.0        88  79.0    2.0        NaN      Louisa   68  female   \n",
       "\n",
       "     height  ...   frame  bp.1s  bp.1d  bp.2s  bp.2d  waist   hip  time.ppn  \\\n",
       "0      62.0  ...  medium  118.0   59.0    NaN    NaN   29.0  38.0     720.0   \n",
       "1      64.0  ...   large  112.0   68.0    NaN    NaN   46.0  48.0     360.0   \n",
       "2      61.0  ...   large  190.0   92.0  185.0   92.0   49.0  57.0     180.0   \n",
       "3      67.0  ...   large  110.0   50.0    NaN    NaN   33.0  38.0     480.0   \n",
       "4      68.0  ...  medium  138.0   80.0    NaN    NaN   44.0  41.0     300.0   \n",
       "..      ...  ...     ...    ...    ...    ...    ...    ...   ...       ...   \n",
       "398    69.0  ...  medium  138.0   94.0  130.0   94.0   35.0  39.0     210.0   \n",
       "399    63.0  ...  medium  140.0  100.0  146.0  102.0   32.0  43.0     180.0   \n",
       "400    69.0  ...   small  120.0   70.0    NaN    NaN   33.0  40.0      20.0   \n",
       "401    63.0  ...  medium  120.0   78.0    NaN    NaN   41.0  48.0     255.0   \n",
       "402    64.0  ...  medium  100.0   72.0    NaN    NaN   49.0  58.0     900.0   \n",
       "\n",
       "     height_meters         BMI  \n",
       "0           1.5748   48.790420  \n",
       "1           1.6256   82.495282  \n",
       "2           1.5494  106.638214  \n",
       "3           1.7018   41.089412  \n",
       "4           1.7272   61.343116  \n",
       "..             ...         ...  \n",
       "398         1.7526   56.322314  \n",
       "399         1.6002   60.141214  \n",
       "400         1.7526   54.368939  \n",
       "401         1.6002   76.933890  \n",
       "402         1.6256   83.252120  \n",
       "\n",
       "[403 rows x 21 columns]"
      ]
     },
     "execution_count": 58,
     "metadata": {},
     "output_type": "execute_result"
    }
   ],
   "source": [
    "df_raw"
   ]
  },
  {
   "cell_type": "code",
   "execution_count": 59,
   "metadata": {},
   "outputs": [
    {
     "data": {
      "text/plain": [
       "Index(['id', 'chol', 'stab.glu', 'hdl', 'ratio', 'glyhb', 'location', 'age',\n",
       "       'gender', 'height', 'weight', 'frame', 'bp.1s', 'bp.1d', 'bp.2s',\n",
       "       'bp.2d', 'waist', 'hip', 'time.ppn', 'height_meters', 'BMI'],\n",
       "      dtype='object')"
      ]
     },
     "execution_count": 59,
     "metadata": {},
     "output_type": "execute_result"
    }
   ],
   "source": [
    "df_raw.columns"
   ]
  },
  {
   "cell_type": "code",
   "execution_count": 60,
   "metadata": {},
   "outputs": [],
   "source": [
    "#Hip-waist ratio is a good determinant to heart disease\n",
    "#create a column for this and add it to the dataset\n",
    "df_raw['hip_waist_ratio'] = df_raw['waist'] / df_raw['hip']"
   ]
  },
  {
   "cell_type": "code",
   "execution_count": 61,
   "metadata": {},
   "outputs": [],
   "source": [
    "#A patient is diagnosed positive for diabetes if their 'glyhb' is above 7\n",
    "#extracting a feature from this, will give us the target feature for our supervised ML models\n",
    "def condition(df_raw):\n",
    "    if (df_raw['glyhb'] < 7):\n",
    "        return 0\n",
    "    else:\n",
    "        return 1\n",
    "\n",
    "df_raw['diabetic'] = df_raw.apply(condition, axis=1)"
   ]
  },
  {
   "cell_type": "code",
   "execution_count": 62,
   "metadata": {},
   "outputs": [
    {
     "data": {
      "text/html": [
       "<div>\n",
       "<style scoped>\n",
       "    .dataframe tbody tr th:only-of-type {\n",
       "        vertical-align: middle;\n",
       "    }\n",
       "\n",
       "    .dataframe tbody tr th {\n",
       "        vertical-align: top;\n",
       "    }\n",
       "\n",
       "    .dataframe thead th {\n",
       "        text-align: right;\n",
       "    }\n",
       "</style>\n",
       "<table border=\"1\" class=\"dataframe\">\n",
       "  <thead>\n",
       "    <tr style=\"text-align: right;\">\n",
       "      <th></th>\n",
       "      <th>id</th>\n",
       "      <th>chol</th>\n",
       "      <th>stab.glu</th>\n",
       "      <th>hdl</th>\n",
       "      <th>ratio</th>\n",
       "      <th>glyhb</th>\n",
       "      <th>location</th>\n",
       "      <th>age</th>\n",
       "      <th>gender</th>\n",
       "      <th>height</th>\n",
       "      <th>...</th>\n",
       "      <th>bp.1d</th>\n",
       "      <th>bp.2s</th>\n",
       "      <th>bp.2d</th>\n",
       "      <th>waist</th>\n",
       "      <th>hip</th>\n",
       "      <th>time.ppn</th>\n",
       "      <th>height_meters</th>\n",
       "      <th>BMI</th>\n",
       "      <th>hip_waist_ratio</th>\n",
       "      <th>diabetic</th>\n",
       "    </tr>\n",
       "  </thead>\n",
       "  <tbody>\n",
       "    <tr>\n",
       "      <th>0</th>\n",
       "      <td>1000</td>\n",
       "      <td>203.0</td>\n",
       "      <td>82</td>\n",
       "      <td>56.0</td>\n",
       "      <td>3.6</td>\n",
       "      <td>4.310000</td>\n",
       "      <td>Buckingham</td>\n",
       "      <td>46</td>\n",
       "      <td>female</td>\n",
       "      <td>62.0</td>\n",
       "      <td>...</td>\n",
       "      <td>59.0</td>\n",
       "      <td>NaN</td>\n",
       "      <td>NaN</td>\n",
       "      <td>29.0</td>\n",
       "      <td>38.0</td>\n",
       "      <td>720.0</td>\n",
       "      <td>1.5748</td>\n",
       "      <td>48.790420</td>\n",
       "      <td>0.763158</td>\n",
       "      <td>0</td>\n",
       "    </tr>\n",
       "    <tr>\n",
       "      <th>1</th>\n",
       "      <td>1001</td>\n",
       "      <td>165.0</td>\n",
       "      <td>97</td>\n",
       "      <td>24.0</td>\n",
       "      <td>6.9</td>\n",
       "      <td>4.440000</td>\n",
       "      <td>Buckingham</td>\n",
       "      <td>29</td>\n",
       "      <td>female</td>\n",
       "      <td>64.0</td>\n",
       "      <td>...</td>\n",
       "      <td>68.0</td>\n",
       "      <td>NaN</td>\n",
       "      <td>NaN</td>\n",
       "      <td>46.0</td>\n",
       "      <td>48.0</td>\n",
       "      <td>360.0</td>\n",
       "      <td>1.6256</td>\n",
       "      <td>82.495282</td>\n",
       "      <td>0.958333</td>\n",
       "      <td>0</td>\n",
       "    </tr>\n",
       "    <tr>\n",
       "      <th>2</th>\n",
       "      <td>1002</td>\n",
       "      <td>228.0</td>\n",
       "      <td>92</td>\n",
       "      <td>37.0</td>\n",
       "      <td>6.2</td>\n",
       "      <td>4.640000</td>\n",
       "      <td>Buckingham</td>\n",
       "      <td>58</td>\n",
       "      <td>female</td>\n",
       "      <td>61.0</td>\n",
       "      <td>...</td>\n",
       "      <td>92.0</td>\n",
       "      <td>185.0</td>\n",
       "      <td>92.0</td>\n",
       "      <td>49.0</td>\n",
       "      <td>57.0</td>\n",
       "      <td>180.0</td>\n",
       "      <td>1.5494</td>\n",
       "      <td>106.638214</td>\n",
       "      <td>0.859649</td>\n",
       "      <td>0</td>\n",
       "    </tr>\n",
       "    <tr>\n",
       "      <th>3</th>\n",
       "      <td>1003</td>\n",
       "      <td>78.0</td>\n",
       "      <td>93</td>\n",
       "      <td>12.0</td>\n",
       "      <td>6.5</td>\n",
       "      <td>4.630000</td>\n",
       "      <td>Buckingham</td>\n",
       "      <td>67</td>\n",
       "      <td>male</td>\n",
       "      <td>67.0</td>\n",
       "      <td>...</td>\n",
       "      <td>50.0</td>\n",
       "      <td>NaN</td>\n",
       "      <td>NaN</td>\n",
       "      <td>33.0</td>\n",
       "      <td>38.0</td>\n",
       "      <td>480.0</td>\n",
       "      <td>1.7018</td>\n",
       "      <td>41.089412</td>\n",
       "      <td>0.868421</td>\n",
       "      <td>0</td>\n",
       "    </tr>\n",
       "    <tr>\n",
       "      <th>4</th>\n",
       "      <td>1005</td>\n",
       "      <td>249.0</td>\n",
       "      <td>90</td>\n",
       "      <td>28.0</td>\n",
       "      <td>8.9</td>\n",
       "      <td>7.720000</td>\n",
       "      <td>Buckingham</td>\n",
       "      <td>64</td>\n",
       "      <td>male</td>\n",
       "      <td>68.0</td>\n",
       "      <td>...</td>\n",
       "      <td>80.0</td>\n",
       "      <td>NaN</td>\n",
       "      <td>NaN</td>\n",
       "      <td>44.0</td>\n",
       "      <td>41.0</td>\n",
       "      <td>300.0</td>\n",
       "      <td>1.7272</td>\n",
       "      <td>61.343116</td>\n",
       "      <td>1.073171</td>\n",
       "      <td>1</td>\n",
       "    </tr>\n",
       "    <tr>\n",
       "      <th>...</th>\n",
       "      <td>...</td>\n",
       "      <td>...</td>\n",
       "      <td>...</td>\n",
       "      <td>...</td>\n",
       "      <td>...</td>\n",
       "      <td>...</td>\n",
       "      <td>...</td>\n",
       "      <td>...</td>\n",
       "      <td>...</td>\n",
       "      <td>...</td>\n",
       "      <td>...</td>\n",
       "      <td>...</td>\n",
       "      <td>...</td>\n",
       "      <td>...</td>\n",
       "      <td>...</td>\n",
       "      <td>...</td>\n",
       "      <td>...</td>\n",
       "      <td>...</td>\n",
       "      <td>...</td>\n",
       "      <td>...</td>\n",
       "      <td>...</td>\n",
       "    </tr>\n",
       "    <tr>\n",
       "      <th>398</th>\n",
       "      <td>41506</td>\n",
       "      <td>296.0</td>\n",
       "      <td>369</td>\n",
       "      <td>46.0</td>\n",
       "      <td>6.4</td>\n",
       "      <td>16.110001</td>\n",
       "      <td>Louisa</td>\n",
       "      <td>53</td>\n",
       "      <td>male</td>\n",
       "      <td>69.0</td>\n",
       "      <td>...</td>\n",
       "      <td>94.0</td>\n",
       "      <td>130.0</td>\n",
       "      <td>94.0</td>\n",
       "      <td>35.0</td>\n",
       "      <td>39.0</td>\n",
       "      <td>210.0</td>\n",
       "      <td>1.7526</td>\n",
       "      <td>56.322314</td>\n",
       "      <td>0.897436</td>\n",
       "      <td>1</td>\n",
       "    </tr>\n",
       "    <tr>\n",
       "      <th>399</th>\n",
       "      <td>41507</td>\n",
       "      <td>284.0</td>\n",
       "      <td>89</td>\n",
       "      <td>54.0</td>\n",
       "      <td>5.3</td>\n",
       "      <td>4.390000</td>\n",
       "      <td>Louisa</td>\n",
       "      <td>51</td>\n",
       "      <td>female</td>\n",
       "      <td>63.0</td>\n",
       "      <td>...</td>\n",
       "      <td>100.0</td>\n",
       "      <td>146.0</td>\n",
       "      <td>102.0</td>\n",
       "      <td>32.0</td>\n",
       "      <td>43.0</td>\n",
       "      <td>180.0</td>\n",
       "      <td>1.6002</td>\n",
       "      <td>60.141214</td>\n",
       "      <td>0.744186</td>\n",
       "      <td>0</td>\n",
       "    </tr>\n",
       "    <tr>\n",
       "      <th>400</th>\n",
       "      <td>41510</td>\n",
       "      <td>194.0</td>\n",
       "      <td>269</td>\n",
       "      <td>38.0</td>\n",
       "      <td>5.1</td>\n",
       "      <td>13.630000</td>\n",
       "      <td>Louisa</td>\n",
       "      <td>29</td>\n",
       "      <td>female</td>\n",
       "      <td>69.0</td>\n",
       "      <td>...</td>\n",
       "      <td>70.0</td>\n",
       "      <td>NaN</td>\n",
       "      <td>NaN</td>\n",
       "      <td>33.0</td>\n",
       "      <td>40.0</td>\n",
       "      <td>20.0</td>\n",
       "      <td>1.7526</td>\n",
       "      <td>54.368939</td>\n",
       "      <td>0.825000</td>\n",
       "      <td>1</td>\n",
       "    </tr>\n",
       "    <tr>\n",
       "      <th>401</th>\n",
       "      <td>41752</td>\n",
       "      <td>199.0</td>\n",
       "      <td>76</td>\n",
       "      <td>52.0</td>\n",
       "      <td>3.8</td>\n",
       "      <td>4.490000</td>\n",
       "      <td>Louisa</td>\n",
       "      <td>41</td>\n",
       "      <td>female</td>\n",
       "      <td>63.0</td>\n",
       "      <td>...</td>\n",
       "      <td>78.0</td>\n",
       "      <td>NaN</td>\n",
       "      <td>NaN</td>\n",
       "      <td>41.0</td>\n",
       "      <td>48.0</td>\n",
       "      <td>255.0</td>\n",
       "      <td>1.6002</td>\n",
       "      <td>76.933890</td>\n",
       "      <td>0.854167</td>\n",
       "      <td>0</td>\n",
       "    </tr>\n",
       "    <tr>\n",
       "      <th>402</th>\n",
       "      <td>41756</td>\n",
       "      <td>159.0</td>\n",
       "      <td>88</td>\n",
       "      <td>79.0</td>\n",
       "      <td>2.0</td>\n",
       "      <td>NaN</td>\n",
       "      <td>Louisa</td>\n",
       "      <td>68</td>\n",
       "      <td>female</td>\n",
       "      <td>64.0</td>\n",
       "      <td>...</td>\n",
       "      <td>72.0</td>\n",
       "      <td>NaN</td>\n",
       "      <td>NaN</td>\n",
       "      <td>49.0</td>\n",
       "      <td>58.0</td>\n",
       "      <td>900.0</td>\n",
       "      <td>1.6256</td>\n",
       "      <td>83.252120</td>\n",
       "      <td>0.844828</td>\n",
       "      <td>1</td>\n",
       "    </tr>\n",
       "  </tbody>\n",
       "</table>\n",
       "<p>403 rows × 23 columns</p>\n",
       "</div>"
      ],
      "text/plain": [
       "        id   chol  stab.glu   hdl  ratio      glyhb    location  age  gender  \\\n",
       "0     1000  203.0        82  56.0    3.6   4.310000  Buckingham   46  female   \n",
       "1     1001  165.0        97  24.0    6.9   4.440000  Buckingham   29  female   \n",
       "2     1002  228.0        92  37.0    6.2   4.640000  Buckingham   58  female   \n",
       "3     1003   78.0        93  12.0    6.5   4.630000  Buckingham   67    male   \n",
       "4     1005  249.0        90  28.0    8.9   7.720000  Buckingham   64    male   \n",
       "..     ...    ...       ...   ...    ...        ...         ...  ...     ...   \n",
       "398  41506  296.0       369  46.0    6.4  16.110001      Louisa   53    male   \n",
       "399  41507  284.0        89  54.0    5.3   4.390000      Louisa   51  female   \n",
       "400  41510  194.0       269  38.0    5.1  13.630000      Louisa   29  female   \n",
       "401  41752  199.0        76  52.0    3.8   4.490000      Louisa   41  female   \n",
       "402  41756  159.0        88  79.0    2.0        NaN      Louisa   68  female   \n",
       "\n",
       "     height  ...  bp.1d  bp.2s  bp.2d  waist   hip  time.ppn  height_meters  \\\n",
       "0      62.0  ...   59.0    NaN    NaN   29.0  38.0     720.0         1.5748   \n",
       "1      64.0  ...   68.0    NaN    NaN   46.0  48.0     360.0         1.6256   \n",
       "2      61.0  ...   92.0  185.0   92.0   49.0  57.0     180.0         1.5494   \n",
       "3      67.0  ...   50.0    NaN    NaN   33.0  38.0     480.0         1.7018   \n",
       "4      68.0  ...   80.0    NaN    NaN   44.0  41.0     300.0         1.7272   \n",
       "..      ...  ...    ...    ...    ...    ...   ...       ...            ...   \n",
       "398    69.0  ...   94.0  130.0   94.0   35.0  39.0     210.0         1.7526   \n",
       "399    63.0  ...  100.0  146.0  102.0   32.0  43.0     180.0         1.6002   \n",
       "400    69.0  ...   70.0    NaN    NaN   33.0  40.0      20.0         1.7526   \n",
       "401    63.0  ...   78.0    NaN    NaN   41.0  48.0     255.0         1.6002   \n",
       "402    64.0  ...   72.0    NaN    NaN   49.0  58.0     900.0         1.6256   \n",
       "\n",
       "            BMI  hip_waist_ratio  diabetic  \n",
       "0     48.790420         0.763158         0  \n",
       "1     82.495282         0.958333         0  \n",
       "2    106.638214         0.859649         0  \n",
       "3     41.089412         0.868421         0  \n",
       "4     61.343116         1.073171         1  \n",
       "..          ...              ...       ...  \n",
       "398   56.322314         0.897436         1  \n",
       "399   60.141214         0.744186         0  \n",
       "400   54.368939         0.825000         1  \n",
       "401   76.933890         0.854167         0  \n",
       "402   83.252120         0.844828         1  \n",
       "\n",
       "[403 rows x 23 columns]"
      ]
     },
     "execution_count": 62,
     "metadata": {},
     "output_type": "execute_result"
    }
   ],
   "source": [
    "df_raw"
   ]
  },
  {
   "cell_type": "code",
   "execution_count": 63,
   "metadata": {},
   "outputs": [
    {
     "data": {
      "text/html": [
       "<div>\n",
       "<style scoped>\n",
       "    .dataframe tbody tr th:only-of-type {\n",
       "        vertical-align: middle;\n",
       "    }\n",
       "\n",
       "    .dataframe tbody tr th {\n",
       "        vertical-align: top;\n",
       "    }\n",
       "\n",
       "    .dataframe thead th {\n",
       "        text-align: right;\n",
       "    }\n",
       "</style>\n",
       "<table border=\"1\" class=\"dataframe\">\n",
       "  <thead>\n",
       "    <tr style=\"text-align: right;\">\n",
       "      <th></th>\n",
       "      <th>id</th>\n",
       "      <th>chol</th>\n",
       "      <th>stab.glu</th>\n",
       "      <th>hdl</th>\n",
       "      <th>ratio</th>\n",
       "      <th>glyhb</th>\n",
       "      <th>location</th>\n",
       "      <th>age</th>\n",
       "      <th>gender</th>\n",
       "      <th>height</th>\n",
       "      <th>...</th>\n",
       "      <th>bp.1s</th>\n",
       "      <th>bp.1d</th>\n",
       "      <th>bp.2s</th>\n",
       "      <th>bp.2d</th>\n",
       "      <th>waist</th>\n",
       "      <th>hip</th>\n",
       "      <th>time.ppn</th>\n",
       "      <th>height_meters</th>\n",
       "      <th>BMI</th>\n",
       "      <th>hip_waist_ratio</th>\n",
       "    </tr>\n",
       "    <tr>\n",
       "      <th>diabetic</th>\n",
       "      <th></th>\n",
       "      <th></th>\n",
       "      <th></th>\n",
       "      <th></th>\n",
       "      <th></th>\n",
       "      <th></th>\n",
       "      <th></th>\n",
       "      <th></th>\n",
       "      <th></th>\n",
       "      <th></th>\n",
       "      <th></th>\n",
       "      <th></th>\n",
       "      <th></th>\n",
       "      <th></th>\n",
       "      <th></th>\n",
       "      <th></th>\n",
       "      <th></th>\n",
       "      <th></th>\n",
       "      <th></th>\n",
       "      <th></th>\n",
       "      <th></th>\n",
       "    </tr>\n",
       "  </thead>\n",
       "  <tbody>\n",
       "    <tr>\n",
       "      <th>0</th>\n",
       "      <td>330</td>\n",
       "      <td>329</td>\n",
       "      <td>330</td>\n",
       "      <td>329</td>\n",
       "      <td>329</td>\n",
       "      <td>330</td>\n",
       "      <td>330</td>\n",
       "      <td>330</td>\n",
       "      <td>330</td>\n",
       "      <td>326</td>\n",
       "      <td>...</td>\n",
       "      <td>325</td>\n",
       "      <td>325</td>\n",
       "      <td>107</td>\n",
       "      <td>107</td>\n",
       "      <td>328</td>\n",
       "      <td>328</td>\n",
       "      <td>327</td>\n",
       "      <td>326</td>\n",
       "      <td>326</td>\n",
       "      <td>328</td>\n",
       "    </tr>\n",
       "    <tr>\n",
       "      <th>1</th>\n",
       "      <td>73</td>\n",
       "      <td>73</td>\n",
       "      <td>73</td>\n",
       "      <td>73</td>\n",
       "      <td>73</td>\n",
       "      <td>60</td>\n",
       "      <td>73</td>\n",
       "      <td>73</td>\n",
       "      <td>73</td>\n",
       "      <td>72</td>\n",
       "      <td>...</td>\n",
       "      <td>73</td>\n",
       "      <td>73</td>\n",
       "      <td>34</td>\n",
       "      <td>34</td>\n",
       "      <td>73</td>\n",
       "      <td>73</td>\n",
       "      <td>73</td>\n",
       "      <td>72</td>\n",
       "      <td>71</td>\n",
       "      <td>73</td>\n",
       "    </tr>\n",
       "  </tbody>\n",
       "</table>\n",
       "<p>2 rows × 22 columns</p>\n",
       "</div>"
      ],
      "text/plain": [
       "           id  chol  stab.glu  hdl  ratio  glyhb  location  age  gender  \\\n",
       "diabetic                                                                  \n",
       "0         330   329       330  329    329    330       330  330     330   \n",
       "1          73    73        73   73     73     60        73   73      73   \n",
       "\n",
       "          height  ...  bp.1s  bp.1d  bp.2s  bp.2d  waist  hip  time.ppn  \\\n",
       "diabetic          ...                                                     \n",
       "0            326  ...    325    325    107    107    328  328       327   \n",
       "1             72  ...     73     73     34     34     73   73        73   \n",
       "\n",
       "          height_meters  BMI  hip_waist_ratio  \n",
       "diabetic                                       \n",
       "0                   326  326              328  \n",
       "1                    72   71               73  \n",
       "\n",
       "[2 rows x 22 columns]"
      ]
     },
     "execution_count": 63,
     "metadata": {},
     "output_type": "execute_result"
    }
   ],
   "source": [
    "#assessing the distribution of the target variable 'diabetic'\n",
    "df_raw.groupby('diabetic').count()\n"
   ]
  },
  {
   "cell_type": "code",
   "execution_count": 64,
   "metadata": {},
   "outputs": [],
   "source": [
    "#preserving a copy of the data before encoding it - this is ease future changes.\n",
    "df_original= df_raw.copy()"
   ]
  },
  {
   "cell_type": "code",
   "execution_count": 65,
   "metadata": {},
   "outputs": [
    {
     "name": "stderr",
     "output_type": "stream",
     "text": [
      "<ipython-input-65-8c5c99acdb75>:2: DeprecationWarning:\n",
      "\n",
      "Converting `np.inexact` or `np.floating` to a dtype is deprecated. The current result is `float64` which is not strictly correct.\n",
      "\n"
     ]
    }
   ],
   "source": [
    "#using label encoder to fit and transform all non numeric values into numerical values\n",
    "for column in df_raw.columns:\n",
    "    if df_raw[column].dtype == np.number:\n",
    "        continue\n",
    "    df_raw[column] = LabelEncoder().fit_transform(df_raw[column])"
   ]
  },
  {
   "cell_type": "code",
   "execution_count": 66,
   "metadata": {},
   "outputs": [],
   "source": [
    "#preserving a copy of the now encoded data before proceeding\n",
    "df_encoded = df_raw.copy()"
   ]
  },
  {
   "cell_type": "code",
   "execution_count": 67,
   "metadata": {},
   "outputs": [
    {
     "data": {
      "text/html": [
       "<div>\n",
       "<style scoped>\n",
       "    .dataframe tbody tr th:only-of-type {\n",
       "        vertical-align: middle;\n",
       "    }\n",
       "\n",
       "    .dataframe tbody tr th {\n",
       "        vertical-align: top;\n",
       "    }\n",
       "\n",
       "    .dataframe thead th {\n",
       "        text-align: right;\n",
       "    }\n",
       "</style>\n",
       "<table border=\"1\" class=\"dataframe\">\n",
       "  <thead>\n",
       "    <tr style=\"text-align: right;\">\n",
       "      <th></th>\n",
       "      <th>id</th>\n",
       "      <th>chol</th>\n",
       "      <th>stab.glu</th>\n",
       "      <th>hdl</th>\n",
       "      <th>ratio</th>\n",
       "      <th>glyhb</th>\n",
       "      <th>location</th>\n",
       "      <th>age</th>\n",
       "      <th>gender</th>\n",
       "      <th>height</th>\n",
       "      <th>...</th>\n",
       "      <th>bp.1d</th>\n",
       "      <th>bp.2s</th>\n",
       "      <th>bp.2d</th>\n",
       "      <th>waist</th>\n",
       "      <th>hip</th>\n",
       "      <th>time.ppn</th>\n",
       "      <th>height_meters</th>\n",
       "      <th>BMI</th>\n",
       "      <th>hip_waist_ratio</th>\n",
       "      <th>diabetic</th>\n",
       "    </tr>\n",
       "  </thead>\n",
       "  <tbody>\n",
       "    <tr>\n",
       "      <th>0</th>\n",
       "      <td>0</td>\n",
       "      <td>203.0</td>\n",
       "      <td>27</td>\n",
       "      <td>56.0</td>\n",
       "      <td>3.6</td>\n",
       "      <td>4.310000</td>\n",
       "      <td>0</td>\n",
       "      <td>27</td>\n",
       "      <td>0</td>\n",
       "      <td>62.0</td>\n",
       "      <td>...</td>\n",
       "      <td>59.0</td>\n",
       "      <td>NaN</td>\n",
       "      <td>NaN</td>\n",
       "      <td>29.0</td>\n",
       "      <td>38.0</td>\n",
       "      <td>720.0</td>\n",
       "      <td>1.5748</td>\n",
       "      <td>48.790420</td>\n",
       "      <td>0.763158</td>\n",
       "      <td>0</td>\n",
       "    </tr>\n",
       "    <tr>\n",
       "      <th>1</th>\n",
       "      <td>1</td>\n",
       "      <td>165.0</td>\n",
       "      <td>42</td>\n",
       "      <td>24.0</td>\n",
       "      <td>6.9</td>\n",
       "      <td>4.440000</td>\n",
       "      <td>0</td>\n",
       "      <td>10</td>\n",
       "      <td>0</td>\n",
       "      <td>64.0</td>\n",
       "      <td>...</td>\n",
       "      <td>68.0</td>\n",
       "      <td>NaN</td>\n",
       "      <td>NaN</td>\n",
       "      <td>46.0</td>\n",
       "      <td>48.0</td>\n",
       "      <td>360.0</td>\n",
       "      <td>1.6256</td>\n",
       "      <td>82.495282</td>\n",
       "      <td>0.958333</td>\n",
       "      <td>0</td>\n",
       "    </tr>\n",
       "    <tr>\n",
       "      <th>2</th>\n",
       "      <td>2</td>\n",
       "      <td>228.0</td>\n",
       "      <td>37</td>\n",
       "      <td>37.0</td>\n",
       "      <td>6.2</td>\n",
       "      <td>4.640000</td>\n",
       "      <td>0</td>\n",
       "      <td>39</td>\n",
       "      <td>0</td>\n",
       "      <td>61.0</td>\n",
       "      <td>...</td>\n",
       "      <td>92.0</td>\n",
       "      <td>185.0</td>\n",
       "      <td>92.0</td>\n",
       "      <td>49.0</td>\n",
       "      <td>57.0</td>\n",
       "      <td>180.0</td>\n",
       "      <td>1.5494</td>\n",
       "      <td>106.638214</td>\n",
       "      <td>0.859649</td>\n",
       "      <td>0</td>\n",
       "    </tr>\n",
       "    <tr>\n",
       "      <th>3</th>\n",
       "      <td>3</td>\n",
       "      <td>78.0</td>\n",
       "      <td>38</td>\n",
       "      <td>12.0</td>\n",
       "      <td>6.5</td>\n",
       "      <td>4.630000</td>\n",
       "      <td>0</td>\n",
       "      <td>48</td>\n",
       "      <td>1</td>\n",
       "      <td>67.0</td>\n",
       "      <td>...</td>\n",
       "      <td>50.0</td>\n",
       "      <td>NaN</td>\n",
       "      <td>NaN</td>\n",
       "      <td>33.0</td>\n",
       "      <td>38.0</td>\n",
       "      <td>480.0</td>\n",
       "      <td>1.7018</td>\n",
       "      <td>41.089412</td>\n",
       "      <td>0.868421</td>\n",
       "      <td>0</td>\n",
       "    </tr>\n",
       "    <tr>\n",
       "      <th>4</th>\n",
       "      <td>4</td>\n",
       "      <td>249.0</td>\n",
       "      <td>35</td>\n",
       "      <td>28.0</td>\n",
       "      <td>8.9</td>\n",
       "      <td>7.720000</td>\n",
       "      <td>0</td>\n",
       "      <td>45</td>\n",
       "      <td>1</td>\n",
       "      <td>68.0</td>\n",
       "      <td>...</td>\n",
       "      <td>80.0</td>\n",
       "      <td>NaN</td>\n",
       "      <td>NaN</td>\n",
       "      <td>44.0</td>\n",
       "      <td>41.0</td>\n",
       "      <td>300.0</td>\n",
       "      <td>1.7272</td>\n",
       "      <td>61.343116</td>\n",
       "      <td>1.073171</td>\n",
       "      <td>1</td>\n",
       "    </tr>\n",
       "    <tr>\n",
       "      <th>...</th>\n",
       "      <td>...</td>\n",
       "      <td>...</td>\n",
       "      <td>...</td>\n",
       "      <td>...</td>\n",
       "      <td>...</td>\n",
       "      <td>...</td>\n",
       "      <td>...</td>\n",
       "      <td>...</td>\n",
       "      <td>...</td>\n",
       "      <td>...</td>\n",
       "      <td>...</td>\n",
       "      <td>...</td>\n",
       "      <td>...</td>\n",
       "      <td>...</td>\n",
       "      <td>...</td>\n",
       "      <td>...</td>\n",
       "      <td>...</td>\n",
       "      <td>...</td>\n",
       "      <td>...</td>\n",
       "      <td>...</td>\n",
       "      <td>...</td>\n",
       "    </tr>\n",
       "    <tr>\n",
       "      <th>398</th>\n",
       "      <td>398</td>\n",
       "      <td>296.0</td>\n",
       "      <td>113</td>\n",
       "      <td>46.0</td>\n",
       "      <td>6.4</td>\n",
       "      <td>16.110001</td>\n",
       "      <td>1</td>\n",
       "      <td>34</td>\n",
       "      <td>1</td>\n",
       "      <td>69.0</td>\n",
       "      <td>...</td>\n",
       "      <td>94.0</td>\n",
       "      <td>130.0</td>\n",
       "      <td>94.0</td>\n",
       "      <td>35.0</td>\n",
       "      <td>39.0</td>\n",
       "      <td>210.0</td>\n",
       "      <td>1.7526</td>\n",
       "      <td>56.322314</td>\n",
       "      <td>0.897436</td>\n",
       "      <td>1</td>\n",
       "    </tr>\n",
       "    <tr>\n",
       "      <th>399</th>\n",
       "      <td>399</td>\n",
       "      <td>284.0</td>\n",
       "      <td>34</td>\n",
       "      <td>54.0</td>\n",
       "      <td>5.3</td>\n",
       "      <td>4.390000</td>\n",
       "      <td>1</td>\n",
       "      <td>32</td>\n",
       "      <td>0</td>\n",
       "      <td>63.0</td>\n",
       "      <td>...</td>\n",
       "      <td>100.0</td>\n",
       "      <td>146.0</td>\n",
       "      <td>102.0</td>\n",
       "      <td>32.0</td>\n",
       "      <td>43.0</td>\n",
       "      <td>180.0</td>\n",
       "      <td>1.6002</td>\n",
       "      <td>60.141214</td>\n",
       "      <td>0.744186</td>\n",
       "      <td>0</td>\n",
       "    </tr>\n",
       "    <tr>\n",
       "      <th>400</th>\n",
       "      <td>400</td>\n",
       "      <td>194.0</td>\n",
       "      <td>105</td>\n",
       "      <td>38.0</td>\n",
       "      <td>5.1</td>\n",
       "      <td>13.630000</td>\n",
       "      <td>1</td>\n",
       "      <td>10</td>\n",
       "      <td>0</td>\n",
       "      <td>69.0</td>\n",
       "      <td>...</td>\n",
       "      <td>70.0</td>\n",
       "      <td>NaN</td>\n",
       "      <td>NaN</td>\n",
       "      <td>33.0</td>\n",
       "      <td>40.0</td>\n",
       "      <td>20.0</td>\n",
       "      <td>1.7526</td>\n",
       "      <td>54.368939</td>\n",
       "      <td>0.825000</td>\n",
       "      <td>1</td>\n",
       "    </tr>\n",
       "    <tr>\n",
       "      <th>401</th>\n",
       "      <td>401</td>\n",
       "      <td>199.0</td>\n",
       "      <td>21</td>\n",
       "      <td>52.0</td>\n",
       "      <td>3.8</td>\n",
       "      <td>4.490000</td>\n",
       "      <td>1</td>\n",
       "      <td>22</td>\n",
       "      <td>0</td>\n",
       "      <td>63.0</td>\n",
       "      <td>...</td>\n",
       "      <td>78.0</td>\n",
       "      <td>NaN</td>\n",
       "      <td>NaN</td>\n",
       "      <td>41.0</td>\n",
       "      <td>48.0</td>\n",
       "      <td>255.0</td>\n",
       "      <td>1.6002</td>\n",
       "      <td>76.933890</td>\n",
       "      <td>0.854167</td>\n",
       "      <td>0</td>\n",
       "    </tr>\n",
       "    <tr>\n",
       "      <th>402</th>\n",
       "      <td>402</td>\n",
       "      <td>159.0</td>\n",
       "      <td>33</td>\n",
       "      <td>79.0</td>\n",
       "      <td>2.0</td>\n",
       "      <td>NaN</td>\n",
       "      <td>1</td>\n",
       "      <td>49</td>\n",
       "      <td>0</td>\n",
       "      <td>64.0</td>\n",
       "      <td>...</td>\n",
       "      <td>72.0</td>\n",
       "      <td>NaN</td>\n",
       "      <td>NaN</td>\n",
       "      <td>49.0</td>\n",
       "      <td>58.0</td>\n",
       "      <td>900.0</td>\n",
       "      <td>1.6256</td>\n",
       "      <td>83.252120</td>\n",
       "      <td>0.844828</td>\n",
       "      <td>1</td>\n",
       "    </tr>\n",
       "  </tbody>\n",
       "</table>\n",
       "<p>403 rows × 23 columns</p>\n",
       "</div>"
      ],
      "text/plain": [
       "      id   chol  stab.glu   hdl  ratio      glyhb  location  age  gender  \\\n",
       "0      0  203.0        27  56.0    3.6   4.310000         0   27       0   \n",
       "1      1  165.0        42  24.0    6.9   4.440000         0   10       0   \n",
       "2      2  228.0        37  37.0    6.2   4.640000         0   39       0   \n",
       "3      3   78.0        38  12.0    6.5   4.630000         0   48       1   \n",
       "4      4  249.0        35  28.0    8.9   7.720000         0   45       1   \n",
       "..   ...    ...       ...   ...    ...        ...       ...  ...     ...   \n",
       "398  398  296.0       113  46.0    6.4  16.110001         1   34       1   \n",
       "399  399  284.0        34  54.0    5.3   4.390000         1   32       0   \n",
       "400  400  194.0       105  38.0    5.1  13.630000         1   10       0   \n",
       "401  401  199.0        21  52.0    3.8   4.490000         1   22       0   \n",
       "402  402  159.0        33  79.0    2.0        NaN         1   49       0   \n",
       "\n",
       "     height  ...  bp.1d  bp.2s  bp.2d  waist   hip  time.ppn  height_meters  \\\n",
       "0      62.0  ...   59.0    NaN    NaN   29.0  38.0     720.0         1.5748   \n",
       "1      64.0  ...   68.0    NaN    NaN   46.0  48.0     360.0         1.6256   \n",
       "2      61.0  ...   92.0  185.0   92.0   49.0  57.0     180.0         1.5494   \n",
       "3      67.0  ...   50.0    NaN    NaN   33.0  38.0     480.0         1.7018   \n",
       "4      68.0  ...   80.0    NaN    NaN   44.0  41.0     300.0         1.7272   \n",
       "..      ...  ...    ...    ...    ...    ...   ...       ...            ...   \n",
       "398    69.0  ...   94.0  130.0   94.0   35.0  39.0     210.0         1.7526   \n",
       "399    63.0  ...  100.0  146.0  102.0   32.0  43.0     180.0         1.6002   \n",
       "400    69.0  ...   70.0    NaN    NaN   33.0  40.0      20.0         1.7526   \n",
       "401    63.0  ...   78.0    NaN    NaN   41.0  48.0     255.0         1.6002   \n",
       "402    64.0  ...   72.0    NaN    NaN   49.0  58.0     900.0         1.6256   \n",
       "\n",
       "            BMI  hip_waist_ratio  diabetic  \n",
       "0     48.790420         0.763158         0  \n",
       "1     82.495282         0.958333         0  \n",
       "2    106.638214         0.859649         0  \n",
       "3     41.089412         0.868421         0  \n",
       "4     61.343116         1.073171         1  \n",
       "..          ...              ...       ...  \n",
       "398   56.322314         0.897436         1  \n",
       "399   60.141214         0.744186         0  \n",
       "400   54.368939         0.825000         1  \n",
       "401   76.933890         0.854167         0  \n",
       "402   83.252120         0.844828         1  \n",
       "\n",
       "[403 rows x 23 columns]"
      ]
     },
     "execution_count": 67,
     "metadata": {},
     "output_type": "execute_result"
    }
   ],
   "source": [
    "df_raw"
   ]
  },
  {
   "cell_type": "code",
   "execution_count": 68,
   "metadata": {},
   "outputs": [
    {
     "data": {
      "text/plain": [
       "id                   0\n",
       "chol                 1\n",
       "stab.glu             0\n",
       "hdl                  1\n",
       "ratio                1\n",
       "glyhb               13\n",
       "location             0\n",
       "age                  0\n",
       "gender               0\n",
       "height               5\n",
       "weight               1\n",
       "frame                0\n",
       "bp.1s                5\n",
       "bp.1d                5\n",
       "bp.2s              262\n",
       "bp.2d              262\n",
       "waist                2\n",
       "hip                  2\n",
       "time.ppn             3\n",
       "height_meters        5\n",
       "BMI                  6\n",
       "hip_waist_ratio      2\n",
       "diabetic             0\n",
       "dtype: int64"
      ]
     },
     "execution_count": 68,
     "metadata": {},
     "output_type": "execute_result"
    }
   ],
   "source": [
    "#finally after having all numeric values, we embark on imputation of missing values\n",
    "#Machine Learning models cannot evaluate NaN hence this a key step in data preparation\n",
    "df_raw.isnull().sum()"
   ]
  },
  {
   "cell_type": "code",
   "execution_count": 69,
   "metadata": {},
   "outputs": [
    {
     "data": {
      "application/vnd.plotly.v1+json": {
       "config": {
        "plotlyServerURL": "https://plot.ly"
       },
       "data": [
        {
         "alignmentgroup": "True",
         "bingroup": "x",
         "hovertemplate": "bp.2s=%{x}<br>count=%{y}<extra></extra>",
         "legendgroup": "",
         "marker": {
          "color": "#636efa"
         },
         "name": "",
         "nbinsx": 47,
         "offsetgroup": "",
         "orientation": "v",
         "showlegend": false,
         "type": "histogram",
         "x": [
          null,
          null,
          185,
          null,
          null,
          null,
          161,
          null,
          128,
          null,
          130,
          null,
          null,
          null,
          null,
          120,
          null,
          null,
          null,
          null,
          148,
          149,
          null,
          160,
          110,
          null,
          null,
          null,
          null,
          170,
          139,
          null,
          168,
          180,
          null,
          null,
          null,
          null,
          null,
          160,
          null,
          null,
          136,
          null,
          null,
          null,
          null,
          null,
          null,
          142,
          140,
          null,
          149,
          null,
          null,
          153,
          null,
          null,
          null,
          null,
          160,
          null,
          148,
          null,
          null,
          null,
          null,
          145,
          160,
          null,
          140,
          null,
          null,
          130,
          null,
          144,
          null,
          182,
          null,
          null,
          null,
          null,
          null,
          null,
          null,
          null,
          null,
          null,
          null,
          null,
          null,
          148,
          null,
          null,
          null,
          117,
          null,
          156,
          150,
          158,
          null,
          130,
          null,
          126,
          null,
          null,
          null,
          156,
          170,
          null,
          null,
          158,
          null,
          162,
          null,
          null,
          null,
          null,
          150,
          null,
          150,
          150,
          null,
          158,
          null,
          null,
          null,
          null,
          null,
          null,
          210,
          null,
          null,
          null,
          null,
          null,
          null,
          null,
          null,
          156,
          null,
          null,
          null,
          168,
          null,
          null,
          null,
          null,
          null,
          null,
          null,
          null,
          172,
          136,
          null,
          null,
          null,
          null,
          137,
          null,
          null,
          null,
          null,
          160,
          null,
          null,
          151,
          null,
          null,
          235,
          null,
          136,
          null,
          null,
          null,
          148,
          null,
          null,
          190,
          null,
          208,
          null,
          null,
          136,
          null,
          136,
          148,
          130,
          176,
          null,
          148,
          140,
          null,
          null,
          null,
          null,
          null,
          null,
          170,
          null,
          165,
          null,
          158,
          142,
          180,
          190,
          null,
          null,
          null,
          170,
          null,
          null,
          160,
          null,
          null,
          null,
          null,
          null,
          null,
          null,
          null,
          null,
          null,
          140,
          150,
          null,
          150,
          150,
          160,
          144,
          null,
          null,
          180,
          150,
          146,
          178,
          null,
          null,
          null,
          159,
          null,
          null,
          null,
          null,
          null,
          null,
          null,
          null,
          null,
          null,
          null,
          null,
          null,
          null,
          null,
          null,
          152,
          null,
          null,
          130,
          142,
          null,
          null,
          null,
          null,
          null,
          null,
          null,
          150,
          null,
          130,
          126,
          null,
          null,
          null,
          null,
          null,
          null,
          142,
          null,
          null,
          null,
          null,
          null,
          158,
          128,
          null,
          null,
          null,
          202,
          190,
          null,
          210,
          null,
          150,
          null,
          null,
          null,
          138,
          138,
          null,
          null,
          null,
          null,
          176,
          null,
          null,
          null,
          null,
          null,
          null,
          null,
          null,
          null,
          130,
          null,
          null,
          null,
          null,
          null,
          null,
          130,
          null,
          142,
          null,
          null,
          130,
          138,
          null,
          null,
          null,
          124,
          141,
          null,
          null,
          null,
          null,
          162,
          null,
          null,
          null,
          null,
          null,
          170,
          null,
          null,
          158,
          null,
          null,
          168,
          135,
          142,
          170,
          142,
          170,
          152,
          null,
          110,
          142,
          null,
          140,
          null,
          null,
          null,
          146,
          null,
          158,
          130,
          160,
          null,
          null,
          136,
          136,
          138,
          null,
          160,
          144,
          null,
          166,
          null,
          122,
          null,
          138,
          130,
          null,
          null,
          148,
          174,
          null,
          149,
          142,
          null,
          null,
          170,
          130,
          172,
          126,
          238,
          130,
          146,
          null,
          null,
          null
         ],
         "xaxis": "x",
         "yaxis": "y"
        },
        {
         "alignmentgroup": "True",
         "hovertemplate": "bp.2s=%{x}<extra></extra>",
         "legendgroup": "",
         "marker": {
          "color": "#636efa"
         },
         "name": "",
         "notched": true,
         "offsetgroup": "",
         "showlegend": false,
         "type": "box",
         "x": [
          null,
          null,
          185,
          null,
          null,
          null,
          161,
          null,
          128,
          null,
          130,
          null,
          null,
          null,
          null,
          120,
          null,
          null,
          null,
          null,
          148,
          149,
          null,
          160,
          110,
          null,
          null,
          null,
          null,
          170,
          139,
          null,
          168,
          180,
          null,
          null,
          null,
          null,
          null,
          160,
          null,
          null,
          136,
          null,
          null,
          null,
          null,
          null,
          null,
          142,
          140,
          null,
          149,
          null,
          null,
          153,
          null,
          null,
          null,
          null,
          160,
          null,
          148,
          null,
          null,
          null,
          null,
          145,
          160,
          null,
          140,
          null,
          null,
          130,
          null,
          144,
          null,
          182,
          null,
          null,
          null,
          null,
          null,
          null,
          null,
          null,
          null,
          null,
          null,
          null,
          null,
          148,
          null,
          null,
          null,
          117,
          null,
          156,
          150,
          158,
          null,
          130,
          null,
          126,
          null,
          null,
          null,
          156,
          170,
          null,
          null,
          158,
          null,
          162,
          null,
          null,
          null,
          null,
          150,
          null,
          150,
          150,
          null,
          158,
          null,
          null,
          null,
          null,
          null,
          null,
          210,
          null,
          null,
          null,
          null,
          null,
          null,
          null,
          null,
          156,
          null,
          null,
          null,
          168,
          null,
          null,
          null,
          null,
          null,
          null,
          null,
          null,
          172,
          136,
          null,
          null,
          null,
          null,
          137,
          null,
          null,
          null,
          null,
          160,
          null,
          null,
          151,
          null,
          null,
          235,
          null,
          136,
          null,
          null,
          null,
          148,
          null,
          null,
          190,
          null,
          208,
          null,
          null,
          136,
          null,
          136,
          148,
          130,
          176,
          null,
          148,
          140,
          null,
          null,
          null,
          null,
          null,
          null,
          170,
          null,
          165,
          null,
          158,
          142,
          180,
          190,
          null,
          null,
          null,
          170,
          null,
          null,
          160,
          null,
          null,
          null,
          null,
          null,
          null,
          null,
          null,
          null,
          null,
          140,
          150,
          null,
          150,
          150,
          160,
          144,
          null,
          null,
          180,
          150,
          146,
          178,
          null,
          null,
          null,
          159,
          null,
          null,
          null,
          null,
          null,
          null,
          null,
          null,
          null,
          null,
          null,
          null,
          null,
          null,
          null,
          null,
          152,
          null,
          null,
          130,
          142,
          null,
          null,
          null,
          null,
          null,
          null,
          null,
          150,
          null,
          130,
          126,
          null,
          null,
          null,
          null,
          null,
          null,
          142,
          null,
          null,
          null,
          null,
          null,
          158,
          128,
          null,
          null,
          null,
          202,
          190,
          null,
          210,
          null,
          150,
          null,
          null,
          null,
          138,
          138,
          null,
          null,
          null,
          null,
          176,
          null,
          null,
          null,
          null,
          null,
          null,
          null,
          null,
          null,
          130,
          null,
          null,
          null,
          null,
          null,
          null,
          130,
          null,
          142,
          null,
          null,
          130,
          138,
          null,
          null,
          null,
          124,
          141,
          null,
          null,
          null,
          null,
          162,
          null,
          null,
          null,
          null,
          null,
          170,
          null,
          null,
          158,
          null,
          null,
          168,
          135,
          142,
          170,
          142,
          170,
          152,
          null,
          110,
          142,
          null,
          140,
          null,
          null,
          null,
          146,
          null,
          158,
          130,
          160,
          null,
          null,
          136,
          136,
          138,
          null,
          160,
          144,
          null,
          166,
          null,
          122,
          null,
          138,
          130,
          null,
          null,
          148,
          174,
          null,
          149,
          142,
          null,
          null,
          170,
          130,
          172,
          126,
          238,
          130,
          146,
          null,
          null,
          null
         ],
         "xaxis": "x2",
         "yaxis": "y2"
        }
       ],
       "layout": {
        "bargap": 0.1,
        "barmode": "relative",
        "legend": {
         "tracegroupgap": 0
        },
        "template": {
         "data": {
          "bar": [
           {
            "error_x": {
             "color": "#2a3f5f"
            },
            "error_y": {
             "color": "#2a3f5f"
            },
            "marker": {
             "line": {
              "color": "#E5ECF6",
              "width": 0.5
             }
            },
            "type": "bar"
           }
          ],
          "barpolar": [
           {
            "marker": {
             "line": {
              "color": "#E5ECF6",
              "width": 0.5
             }
            },
            "type": "barpolar"
           }
          ],
          "carpet": [
           {
            "aaxis": {
             "endlinecolor": "#2a3f5f",
             "gridcolor": "white",
             "linecolor": "white",
             "minorgridcolor": "white",
             "startlinecolor": "#2a3f5f"
            },
            "baxis": {
             "endlinecolor": "#2a3f5f",
             "gridcolor": "white",
             "linecolor": "white",
             "minorgridcolor": "white",
             "startlinecolor": "#2a3f5f"
            },
            "type": "carpet"
           }
          ],
          "choropleth": [
           {
            "colorbar": {
             "outlinewidth": 0,
             "ticks": ""
            },
            "type": "choropleth"
           }
          ],
          "contour": [
           {
            "colorbar": {
             "outlinewidth": 0,
             "ticks": ""
            },
            "colorscale": [
             [
              0,
              "#0d0887"
             ],
             [
              0.1111111111111111,
              "#46039f"
             ],
             [
              0.2222222222222222,
              "#7201a8"
             ],
             [
              0.3333333333333333,
              "#9c179e"
             ],
             [
              0.4444444444444444,
              "#bd3786"
             ],
             [
              0.5555555555555556,
              "#d8576b"
             ],
             [
              0.6666666666666666,
              "#ed7953"
             ],
             [
              0.7777777777777778,
              "#fb9f3a"
             ],
             [
              0.8888888888888888,
              "#fdca26"
             ],
             [
              1,
              "#f0f921"
             ]
            ],
            "type": "contour"
           }
          ],
          "contourcarpet": [
           {
            "colorbar": {
             "outlinewidth": 0,
             "ticks": ""
            },
            "type": "contourcarpet"
           }
          ],
          "heatmap": [
           {
            "colorbar": {
             "outlinewidth": 0,
             "ticks": ""
            },
            "colorscale": [
             [
              0,
              "#0d0887"
             ],
             [
              0.1111111111111111,
              "#46039f"
             ],
             [
              0.2222222222222222,
              "#7201a8"
             ],
             [
              0.3333333333333333,
              "#9c179e"
             ],
             [
              0.4444444444444444,
              "#bd3786"
             ],
             [
              0.5555555555555556,
              "#d8576b"
             ],
             [
              0.6666666666666666,
              "#ed7953"
             ],
             [
              0.7777777777777778,
              "#fb9f3a"
             ],
             [
              0.8888888888888888,
              "#fdca26"
             ],
             [
              1,
              "#f0f921"
             ]
            ],
            "type": "heatmap"
           }
          ],
          "heatmapgl": [
           {
            "colorbar": {
             "outlinewidth": 0,
             "ticks": ""
            },
            "colorscale": [
             [
              0,
              "#0d0887"
             ],
             [
              0.1111111111111111,
              "#46039f"
             ],
             [
              0.2222222222222222,
              "#7201a8"
             ],
             [
              0.3333333333333333,
              "#9c179e"
             ],
             [
              0.4444444444444444,
              "#bd3786"
             ],
             [
              0.5555555555555556,
              "#d8576b"
             ],
             [
              0.6666666666666666,
              "#ed7953"
             ],
             [
              0.7777777777777778,
              "#fb9f3a"
             ],
             [
              0.8888888888888888,
              "#fdca26"
             ],
             [
              1,
              "#f0f921"
             ]
            ],
            "type": "heatmapgl"
           }
          ],
          "histogram": [
           {
            "marker": {
             "colorbar": {
              "outlinewidth": 0,
              "ticks": ""
             }
            },
            "type": "histogram"
           }
          ],
          "histogram2d": [
           {
            "colorbar": {
             "outlinewidth": 0,
             "ticks": ""
            },
            "colorscale": [
             [
              0,
              "#0d0887"
             ],
             [
              0.1111111111111111,
              "#46039f"
             ],
             [
              0.2222222222222222,
              "#7201a8"
             ],
             [
              0.3333333333333333,
              "#9c179e"
             ],
             [
              0.4444444444444444,
              "#bd3786"
             ],
             [
              0.5555555555555556,
              "#d8576b"
             ],
             [
              0.6666666666666666,
              "#ed7953"
             ],
             [
              0.7777777777777778,
              "#fb9f3a"
             ],
             [
              0.8888888888888888,
              "#fdca26"
             ],
             [
              1,
              "#f0f921"
             ]
            ],
            "type": "histogram2d"
           }
          ],
          "histogram2dcontour": [
           {
            "colorbar": {
             "outlinewidth": 0,
             "ticks": ""
            },
            "colorscale": [
             [
              0,
              "#0d0887"
             ],
             [
              0.1111111111111111,
              "#46039f"
             ],
             [
              0.2222222222222222,
              "#7201a8"
             ],
             [
              0.3333333333333333,
              "#9c179e"
             ],
             [
              0.4444444444444444,
              "#bd3786"
             ],
             [
              0.5555555555555556,
              "#d8576b"
             ],
             [
              0.6666666666666666,
              "#ed7953"
             ],
             [
              0.7777777777777778,
              "#fb9f3a"
             ],
             [
              0.8888888888888888,
              "#fdca26"
             ],
             [
              1,
              "#f0f921"
             ]
            ],
            "type": "histogram2dcontour"
           }
          ],
          "mesh3d": [
           {
            "colorbar": {
             "outlinewidth": 0,
             "ticks": ""
            },
            "type": "mesh3d"
           }
          ],
          "parcoords": [
           {
            "line": {
             "colorbar": {
              "outlinewidth": 0,
              "ticks": ""
             }
            },
            "type": "parcoords"
           }
          ],
          "pie": [
           {
            "automargin": true,
            "type": "pie"
           }
          ],
          "scatter": [
           {
            "marker": {
             "colorbar": {
              "outlinewidth": 0,
              "ticks": ""
             }
            },
            "type": "scatter"
           }
          ],
          "scatter3d": [
           {
            "line": {
             "colorbar": {
              "outlinewidth": 0,
              "ticks": ""
             }
            },
            "marker": {
             "colorbar": {
              "outlinewidth": 0,
              "ticks": ""
             }
            },
            "type": "scatter3d"
           }
          ],
          "scattercarpet": [
           {
            "marker": {
             "colorbar": {
              "outlinewidth": 0,
              "ticks": ""
             }
            },
            "type": "scattercarpet"
           }
          ],
          "scattergeo": [
           {
            "marker": {
             "colorbar": {
              "outlinewidth": 0,
              "ticks": ""
             }
            },
            "type": "scattergeo"
           }
          ],
          "scattergl": [
           {
            "marker": {
             "colorbar": {
              "outlinewidth": 0,
              "ticks": ""
             }
            },
            "type": "scattergl"
           }
          ],
          "scattermapbox": [
           {
            "marker": {
             "colorbar": {
              "outlinewidth": 0,
              "ticks": ""
             }
            },
            "type": "scattermapbox"
           }
          ],
          "scatterpolar": [
           {
            "marker": {
             "colorbar": {
              "outlinewidth": 0,
              "ticks": ""
             }
            },
            "type": "scatterpolar"
           }
          ],
          "scatterpolargl": [
           {
            "marker": {
             "colorbar": {
              "outlinewidth": 0,
              "ticks": ""
             }
            },
            "type": "scatterpolargl"
           }
          ],
          "scatterternary": [
           {
            "marker": {
             "colorbar": {
              "outlinewidth": 0,
              "ticks": ""
             }
            },
            "type": "scatterternary"
           }
          ],
          "surface": [
           {
            "colorbar": {
             "outlinewidth": 0,
             "ticks": ""
            },
            "colorscale": [
             [
              0,
              "#0d0887"
             ],
             [
              0.1111111111111111,
              "#46039f"
             ],
             [
              0.2222222222222222,
              "#7201a8"
             ],
             [
              0.3333333333333333,
              "#9c179e"
             ],
             [
              0.4444444444444444,
              "#bd3786"
             ],
             [
              0.5555555555555556,
              "#d8576b"
             ],
             [
              0.6666666666666666,
              "#ed7953"
             ],
             [
              0.7777777777777778,
              "#fb9f3a"
             ],
             [
              0.8888888888888888,
              "#fdca26"
             ],
             [
              1,
              "#f0f921"
             ]
            ],
            "type": "surface"
           }
          ],
          "table": [
           {
            "cells": {
             "fill": {
              "color": "#EBF0F8"
             },
             "line": {
              "color": "white"
             }
            },
            "header": {
             "fill": {
              "color": "#C8D4E3"
             },
             "line": {
              "color": "white"
             }
            },
            "type": "table"
           }
          ]
         },
         "layout": {
          "annotationdefaults": {
           "arrowcolor": "#2a3f5f",
           "arrowhead": 0,
           "arrowwidth": 1
          },
          "autotypenumbers": "strict",
          "coloraxis": {
           "colorbar": {
            "outlinewidth": 0,
            "ticks": ""
           }
          },
          "colorscale": {
           "diverging": [
            [
             0,
             "#8e0152"
            ],
            [
             0.1,
             "#c51b7d"
            ],
            [
             0.2,
             "#de77ae"
            ],
            [
             0.3,
             "#f1b6da"
            ],
            [
             0.4,
             "#fde0ef"
            ],
            [
             0.5,
             "#f7f7f7"
            ],
            [
             0.6,
             "#e6f5d0"
            ],
            [
             0.7,
             "#b8e186"
            ],
            [
             0.8,
             "#7fbc41"
            ],
            [
             0.9,
             "#4d9221"
            ],
            [
             1,
             "#276419"
            ]
           ],
           "sequential": [
            [
             0,
             "#0d0887"
            ],
            [
             0.1111111111111111,
             "#46039f"
            ],
            [
             0.2222222222222222,
             "#7201a8"
            ],
            [
             0.3333333333333333,
             "#9c179e"
            ],
            [
             0.4444444444444444,
             "#bd3786"
            ],
            [
             0.5555555555555556,
             "#d8576b"
            ],
            [
             0.6666666666666666,
             "#ed7953"
            ],
            [
             0.7777777777777778,
             "#fb9f3a"
            ],
            [
             0.8888888888888888,
             "#fdca26"
            ],
            [
             1,
             "#f0f921"
            ]
           ],
           "sequentialminus": [
            [
             0,
             "#0d0887"
            ],
            [
             0.1111111111111111,
             "#46039f"
            ],
            [
             0.2222222222222222,
             "#7201a8"
            ],
            [
             0.3333333333333333,
             "#9c179e"
            ],
            [
             0.4444444444444444,
             "#bd3786"
            ],
            [
             0.5555555555555556,
             "#d8576b"
            ],
            [
             0.6666666666666666,
             "#ed7953"
            ],
            [
             0.7777777777777778,
             "#fb9f3a"
            ],
            [
             0.8888888888888888,
             "#fdca26"
            ],
            [
             1,
             "#f0f921"
            ]
           ]
          },
          "colorway": [
           "#636efa",
           "#EF553B",
           "#00cc96",
           "#ab63fa",
           "#FFA15A",
           "#19d3f3",
           "#FF6692",
           "#B6E880",
           "#FF97FF",
           "#FECB52"
          ],
          "font": {
           "color": "#2a3f5f"
          },
          "geo": {
           "bgcolor": "white",
           "lakecolor": "white",
           "landcolor": "#E5ECF6",
           "showlakes": true,
           "showland": true,
           "subunitcolor": "white"
          },
          "hoverlabel": {
           "align": "left"
          },
          "hovermode": "closest",
          "mapbox": {
           "style": "light"
          },
          "paper_bgcolor": "white",
          "plot_bgcolor": "#E5ECF6",
          "polar": {
           "angularaxis": {
            "gridcolor": "white",
            "linecolor": "white",
            "ticks": ""
           },
           "bgcolor": "#E5ECF6",
           "radialaxis": {
            "gridcolor": "white",
            "linecolor": "white",
            "ticks": ""
           }
          },
          "scene": {
           "xaxis": {
            "backgroundcolor": "#E5ECF6",
            "gridcolor": "white",
            "gridwidth": 2,
            "linecolor": "white",
            "showbackground": true,
            "ticks": "",
            "zerolinecolor": "white"
           },
           "yaxis": {
            "backgroundcolor": "#E5ECF6",
            "gridcolor": "white",
            "gridwidth": 2,
            "linecolor": "white",
            "showbackground": true,
            "ticks": "",
            "zerolinecolor": "white"
           },
           "zaxis": {
            "backgroundcolor": "#E5ECF6",
            "gridcolor": "white",
            "gridwidth": 2,
            "linecolor": "white",
            "showbackground": true,
            "ticks": "",
            "zerolinecolor": "white"
           }
          },
          "shapedefaults": {
           "line": {
            "color": "#2a3f5f"
           }
          },
          "ternary": {
           "aaxis": {
            "gridcolor": "white",
            "linecolor": "white",
            "ticks": ""
           },
           "baxis": {
            "gridcolor": "white",
            "linecolor": "white",
            "ticks": ""
           },
           "bgcolor": "#E5ECF6",
           "caxis": {
            "gridcolor": "white",
            "linecolor": "white",
            "ticks": ""
           }
          },
          "title": {
           "x": 0.05
          },
          "xaxis": {
           "automargin": true,
           "gridcolor": "white",
           "linecolor": "white",
           "ticks": "",
           "title": {
            "standoff": 15
           },
           "zerolinecolor": "white",
           "zerolinewidth": 2
          },
          "yaxis": {
           "automargin": true,
           "gridcolor": "white",
           "linecolor": "white",
           "ticks": "",
           "title": {
            "standoff": 15
           },
           "zerolinecolor": "white",
           "zerolinewidth": 2
          }
         }
        },
        "title": {
         "text": "bp.2s Distribution"
        },
        "xaxis": {
         "anchor": "y",
         "domain": [
          0,
          1
         ],
         "title": {
          "text": "bp.2s"
         }
        },
        "xaxis2": {
         "anchor": "y2",
         "domain": [
          0,
          1
         ],
         "matches": "x",
         "showgrid": true,
         "showticklabels": false
        },
        "yaxis": {
         "anchor": "x",
         "domain": [
          0,
          0.8316
         ],
         "title": {
          "text": "count"
         }
        },
        "yaxis2": {
         "anchor": "x2",
         "domain": [
          0.8416,
          1
         ],
         "matches": "y2",
         "showgrid": false,
         "showline": false,
         "showticklabels": false,
         "ticks": ""
        }
       }
      }
     },
     "metadata": {},
     "output_type": "display_data"
    }
   ],
   "source": [
    "#First we do visualizations of different features to assess their distributions before and after we impute the missing values\n",
    "#This is important as it will help in choosing the best features to fit the models.\n",
    "\n",
    "#Here is a visualization of bp.2s - which has 262 missing values before imputation. \n",
    "fig = px.histogram(df_raw, x='bp.2s', marginal='box', nbins=47, title='bp.2s Distribution')\n",
    "fig.update_layout(bargap=0.1)\n",
    "fig.show()"
   ]
  },
  {
   "cell_type": "code",
   "execution_count": 70,
   "metadata": {},
   "outputs": [
    {
     "data": {
      "application/vnd.plotly.v1+json": {
       "config": {
        "plotlyServerURL": "https://plot.ly"
       },
       "data": [
        {
         "alignmentgroup": "True",
         "bingroup": "x",
         "hovertemplate": "bp.2d=%{x}<br>count=%{y}<extra></extra>",
         "legendgroup": "",
         "marker": {
          "color": "#636efa"
         },
         "name": "",
         "nbinsx": 47,
         "offsetgroup": "",
         "orientation": "v",
         "showlegend": false,
         "type": "histogram",
         "x": [
          null,
          null,
          92,
          null,
          null,
          null,
          112,
          null,
          86,
          null,
          90,
          null,
          null,
          null,
          null,
          96,
          null,
          null,
          null,
          null,
          84,
          110,
          null,
          88,
          70,
          null,
          null,
          null,
          null,
          112,
          89,
          null,
          80,
          90,
          null,
          null,
          null,
          null,
          null,
          96,
          null,
          null,
          88,
          null,
          null,
          null,
          null,
          null,
          null,
          78,
          84,
          null,
          96,
          null,
          null,
          100,
          null,
          null,
          null,
          null,
          103,
          null,
          88,
          null,
          null,
          null,
          null,
          80,
          60,
          null,
          80,
          null,
          null,
          92,
          null,
          76,
          null,
          110,
          null,
          null,
          null,
          null,
          null,
          null,
          null,
          null,
          null,
          null,
          null,
          null,
          null,
          79,
          null,
          null,
          null,
          68,
          null,
          106,
          98,
          80,
          null,
          94,
          null,
          84,
          null,
          null,
          null,
          88,
          100,
          null,
          null,
          108,
          null,
          96,
          null,
          null,
          null,
          null,
          89,
          null,
          100,
          100,
          null,
          74,
          null,
          null,
          null,
          null,
          null,
          null,
          110,
          null,
          null,
          null,
          null,
          null,
          null,
          null,
          null,
          82,
          null,
          null,
          null,
          98,
          null,
          null,
          null,
          null,
          null,
          null,
          null,
          null,
          91,
          86,
          null,
          null,
          null,
          null,
          79,
          null,
          null,
          null,
          null,
          116,
          null,
          null,
          111,
          null,
          null,
          120,
          null,
          84,
          null,
          null,
          null,
          78,
          null,
          null,
          110,
          null,
          90,
          null,
          null,
          96,
          null,
          86,
          98,
          98,
          94,
          null,
          102,
          86,
          null,
          null,
          null,
          null,
          null,
          null,
          90,
          null,
          105,
          null,
          84,
          90,
          100,
          99,
          null,
          null,
          null,
          86,
          null,
          null,
          82,
          null,
          null,
          null,
          null,
          null,
          null,
          null,
          null,
          null,
          null,
          100,
          100,
          null,
          80,
          90,
          96,
          110,
          null,
          null,
          84,
          102,
          76,
          96,
          null,
          null,
          null,
          80,
          null,
          null,
          null,
          null,
          null,
          null,
          null,
          null,
          null,
          null,
          null,
          null,
          null,
          null,
          null,
          null,
          102,
          null,
          null,
          80,
          90,
          null,
          null,
          null,
          null,
          null,
          null,
          null,
          85,
          null,
          90,
          96,
          null,
          null,
          null,
          null,
          null,
          null,
          96,
          null,
          null,
          null,
          null,
          null,
          80,
          74,
          null,
          null,
          null,
          98,
          114,
          null,
          112,
          null,
          80,
          null,
          null,
          null,
          90,
          84,
          null,
          null,
          null,
          null,
          124,
          null,
          null,
          null,
          null,
          null,
          null,
          null,
          null,
          null,
          86,
          null,
          null,
          null,
          null,
          null,
          null,
          95,
          null,
          70,
          null,
          null,
          80,
          89,
          null,
          null,
          null,
          96,
          80,
          null,
          null,
          null,
          null,
          92,
          null,
          null,
          null,
          null,
          null,
          98,
          null,
          null,
          110,
          null,
          null,
          108,
          88,
          92,
          114,
          102,
          96,
          90,
          null,
          74,
          98,
          null,
          90,
          null,
          null,
          null,
          82,
          null,
          86,
          100,
          100,
          null,
          null,
          100,
          92,
          82,
          null,
          94,
          80,
          null,
          108,
          null,
          100,
          null,
          84,
          88,
          null,
          null,
          100,
          84,
          null,
          94,
          92,
          null,
          null,
          118,
          94,
          100,
          80,
          90,
          94,
          102,
          null,
          null,
          null
         ],
         "xaxis": "x",
         "yaxis": "y"
        },
        {
         "alignmentgroup": "True",
         "hovertemplate": "bp.2d=%{x}<extra></extra>",
         "legendgroup": "",
         "marker": {
          "color": "#636efa"
         },
         "name": "",
         "notched": true,
         "offsetgroup": "",
         "showlegend": false,
         "type": "box",
         "x": [
          null,
          null,
          92,
          null,
          null,
          null,
          112,
          null,
          86,
          null,
          90,
          null,
          null,
          null,
          null,
          96,
          null,
          null,
          null,
          null,
          84,
          110,
          null,
          88,
          70,
          null,
          null,
          null,
          null,
          112,
          89,
          null,
          80,
          90,
          null,
          null,
          null,
          null,
          null,
          96,
          null,
          null,
          88,
          null,
          null,
          null,
          null,
          null,
          null,
          78,
          84,
          null,
          96,
          null,
          null,
          100,
          null,
          null,
          null,
          null,
          103,
          null,
          88,
          null,
          null,
          null,
          null,
          80,
          60,
          null,
          80,
          null,
          null,
          92,
          null,
          76,
          null,
          110,
          null,
          null,
          null,
          null,
          null,
          null,
          null,
          null,
          null,
          null,
          null,
          null,
          null,
          79,
          null,
          null,
          null,
          68,
          null,
          106,
          98,
          80,
          null,
          94,
          null,
          84,
          null,
          null,
          null,
          88,
          100,
          null,
          null,
          108,
          null,
          96,
          null,
          null,
          null,
          null,
          89,
          null,
          100,
          100,
          null,
          74,
          null,
          null,
          null,
          null,
          null,
          null,
          110,
          null,
          null,
          null,
          null,
          null,
          null,
          null,
          null,
          82,
          null,
          null,
          null,
          98,
          null,
          null,
          null,
          null,
          null,
          null,
          null,
          null,
          91,
          86,
          null,
          null,
          null,
          null,
          79,
          null,
          null,
          null,
          null,
          116,
          null,
          null,
          111,
          null,
          null,
          120,
          null,
          84,
          null,
          null,
          null,
          78,
          null,
          null,
          110,
          null,
          90,
          null,
          null,
          96,
          null,
          86,
          98,
          98,
          94,
          null,
          102,
          86,
          null,
          null,
          null,
          null,
          null,
          null,
          90,
          null,
          105,
          null,
          84,
          90,
          100,
          99,
          null,
          null,
          null,
          86,
          null,
          null,
          82,
          null,
          null,
          null,
          null,
          null,
          null,
          null,
          null,
          null,
          null,
          100,
          100,
          null,
          80,
          90,
          96,
          110,
          null,
          null,
          84,
          102,
          76,
          96,
          null,
          null,
          null,
          80,
          null,
          null,
          null,
          null,
          null,
          null,
          null,
          null,
          null,
          null,
          null,
          null,
          null,
          null,
          null,
          null,
          102,
          null,
          null,
          80,
          90,
          null,
          null,
          null,
          null,
          null,
          null,
          null,
          85,
          null,
          90,
          96,
          null,
          null,
          null,
          null,
          null,
          null,
          96,
          null,
          null,
          null,
          null,
          null,
          80,
          74,
          null,
          null,
          null,
          98,
          114,
          null,
          112,
          null,
          80,
          null,
          null,
          null,
          90,
          84,
          null,
          null,
          null,
          null,
          124,
          null,
          null,
          null,
          null,
          null,
          null,
          null,
          null,
          null,
          86,
          null,
          null,
          null,
          null,
          null,
          null,
          95,
          null,
          70,
          null,
          null,
          80,
          89,
          null,
          null,
          null,
          96,
          80,
          null,
          null,
          null,
          null,
          92,
          null,
          null,
          null,
          null,
          null,
          98,
          null,
          null,
          110,
          null,
          null,
          108,
          88,
          92,
          114,
          102,
          96,
          90,
          null,
          74,
          98,
          null,
          90,
          null,
          null,
          null,
          82,
          null,
          86,
          100,
          100,
          null,
          null,
          100,
          92,
          82,
          null,
          94,
          80,
          null,
          108,
          null,
          100,
          null,
          84,
          88,
          null,
          null,
          100,
          84,
          null,
          94,
          92,
          null,
          null,
          118,
          94,
          100,
          80,
          90,
          94,
          102,
          null,
          null,
          null
         ],
         "xaxis": "x2",
         "yaxis": "y2"
        }
       ],
       "layout": {
        "bargap": 0.1,
        "barmode": "relative",
        "legend": {
         "tracegroupgap": 0
        },
        "template": {
         "data": {
          "bar": [
           {
            "error_x": {
             "color": "#2a3f5f"
            },
            "error_y": {
             "color": "#2a3f5f"
            },
            "marker": {
             "line": {
              "color": "#E5ECF6",
              "width": 0.5
             }
            },
            "type": "bar"
           }
          ],
          "barpolar": [
           {
            "marker": {
             "line": {
              "color": "#E5ECF6",
              "width": 0.5
             }
            },
            "type": "barpolar"
           }
          ],
          "carpet": [
           {
            "aaxis": {
             "endlinecolor": "#2a3f5f",
             "gridcolor": "white",
             "linecolor": "white",
             "minorgridcolor": "white",
             "startlinecolor": "#2a3f5f"
            },
            "baxis": {
             "endlinecolor": "#2a3f5f",
             "gridcolor": "white",
             "linecolor": "white",
             "minorgridcolor": "white",
             "startlinecolor": "#2a3f5f"
            },
            "type": "carpet"
           }
          ],
          "choropleth": [
           {
            "colorbar": {
             "outlinewidth": 0,
             "ticks": ""
            },
            "type": "choropleth"
           }
          ],
          "contour": [
           {
            "colorbar": {
             "outlinewidth": 0,
             "ticks": ""
            },
            "colorscale": [
             [
              0,
              "#0d0887"
             ],
             [
              0.1111111111111111,
              "#46039f"
             ],
             [
              0.2222222222222222,
              "#7201a8"
             ],
             [
              0.3333333333333333,
              "#9c179e"
             ],
             [
              0.4444444444444444,
              "#bd3786"
             ],
             [
              0.5555555555555556,
              "#d8576b"
             ],
             [
              0.6666666666666666,
              "#ed7953"
             ],
             [
              0.7777777777777778,
              "#fb9f3a"
             ],
             [
              0.8888888888888888,
              "#fdca26"
             ],
             [
              1,
              "#f0f921"
             ]
            ],
            "type": "contour"
           }
          ],
          "contourcarpet": [
           {
            "colorbar": {
             "outlinewidth": 0,
             "ticks": ""
            },
            "type": "contourcarpet"
           }
          ],
          "heatmap": [
           {
            "colorbar": {
             "outlinewidth": 0,
             "ticks": ""
            },
            "colorscale": [
             [
              0,
              "#0d0887"
             ],
             [
              0.1111111111111111,
              "#46039f"
             ],
             [
              0.2222222222222222,
              "#7201a8"
             ],
             [
              0.3333333333333333,
              "#9c179e"
             ],
             [
              0.4444444444444444,
              "#bd3786"
             ],
             [
              0.5555555555555556,
              "#d8576b"
             ],
             [
              0.6666666666666666,
              "#ed7953"
             ],
             [
              0.7777777777777778,
              "#fb9f3a"
             ],
             [
              0.8888888888888888,
              "#fdca26"
             ],
             [
              1,
              "#f0f921"
             ]
            ],
            "type": "heatmap"
           }
          ],
          "heatmapgl": [
           {
            "colorbar": {
             "outlinewidth": 0,
             "ticks": ""
            },
            "colorscale": [
             [
              0,
              "#0d0887"
             ],
             [
              0.1111111111111111,
              "#46039f"
             ],
             [
              0.2222222222222222,
              "#7201a8"
             ],
             [
              0.3333333333333333,
              "#9c179e"
             ],
             [
              0.4444444444444444,
              "#bd3786"
             ],
             [
              0.5555555555555556,
              "#d8576b"
             ],
             [
              0.6666666666666666,
              "#ed7953"
             ],
             [
              0.7777777777777778,
              "#fb9f3a"
             ],
             [
              0.8888888888888888,
              "#fdca26"
             ],
             [
              1,
              "#f0f921"
             ]
            ],
            "type": "heatmapgl"
           }
          ],
          "histogram": [
           {
            "marker": {
             "colorbar": {
              "outlinewidth": 0,
              "ticks": ""
             }
            },
            "type": "histogram"
           }
          ],
          "histogram2d": [
           {
            "colorbar": {
             "outlinewidth": 0,
             "ticks": ""
            },
            "colorscale": [
             [
              0,
              "#0d0887"
             ],
             [
              0.1111111111111111,
              "#46039f"
             ],
             [
              0.2222222222222222,
              "#7201a8"
             ],
             [
              0.3333333333333333,
              "#9c179e"
             ],
             [
              0.4444444444444444,
              "#bd3786"
             ],
             [
              0.5555555555555556,
              "#d8576b"
             ],
             [
              0.6666666666666666,
              "#ed7953"
             ],
             [
              0.7777777777777778,
              "#fb9f3a"
             ],
             [
              0.8888888888888888,
              "#fdca26"
             ],
             [
              1,
              "#f0f921"
             ]
            ],
            "type": "histogram2d"
           }
          ],
          "histogram2dcontour": [
           {
            "colorbar": {
             "outlinewidth": 0,
             "ticks": ""
            },
            "colorscale": [
             [
              0,
              "#0d0887"
             ],
             [
              0.1111111111111111,
              "#46039f"
             ],
             [
              0.2222222222222222,
              "#7201a8"
             ],
             [
              0.3333333333333333,
              "#9c179e"
             ],
             [
              0.4444444444444444,
              "#bd3786"
             ],
             [
              0.5555555555555556,
              "#d8576b"
             ],
             [
              0.6666666666666666,
              "#ed7953"
             ],
             [
              0.7777777777777778,
              "#fb9f3a"
             ],
             [
              0.8888888888888888,
              "#fdca26"
             ],
             [
              1,
              "#f0f921"
             ]
            ],
            "type": "histogram2dcontour"
           }
          ],
          "mesh3d": [
           {
            "colorbar": {
             "outlinewidth": 0,
             "ticks": ""
            },
            "type": "mesh3d"
           }
          ],
          "parcoords": [
           {
            "line": {
             "colorbar": {
              "outlinewidth": 0,
              "ticks": ""
             }
            },
            "type": "parcoords"
           }
          ],
          "pie": [
           {
            "automargin": true,
            "type": "pie"
           }
          ],
          "scatter": [
           {
            "marker": {
             "colorbar": {
              "outlinewidth": 0,
              "ticks": ""
             }
            },
            "type": "scatter"
           }
          ],
          "scatter3d": [
           {
            "line": {
             "colorbar": {
              "outlinewidth": 0,
              "ticks": ""
             }
            },
            "marker": {
             "colorbar": {
              "outlinewidth": 0,
              "ticks": ""
             }
            },
            "type": "scatter3d"
           }
          ],
          "scattercarpet": [
           {
            "marker": {
             "colorbar": {
              "outlinewidth": 0,
              "ticks": ""
             }
            },
            "type": "scattercarpet"
           }
          ],
          "scattergeo": [
           {
            "marker": {
             "colorbar": {
              "outlinewidth": 0,
              "ticks": ""
             }
            },
            "type": "scattergeo"
           }
          ],
          "scattergl": [
           {
            "marker": {
             "colorbar": {
              "outlinewidth": 0,
              "ticks": ""
             }
            },
            "type": "scattergl"
           }
          ],
          "scattermapbox": [
           {
            "marker": {
             "colorbar": {
              "outlinewidth": 0,
              "ticks": ""
             }
            },
            "type": "scattermapbox"
           }
          ],
          "scatterpolar": [
           {
            "marker": {
             "colorbar": {
              "outlinewidth": 0,
              "ticks": ""
             }
            },
            "type": "scatterpolar"
           }
          ],
          "scatterpolargl": [
           {
            "marker": {
             "colorbar": {
              "outlinewidth": 0,
              "ticks": ""
             }
            },
            "type": "scatterpolargl"
           }
          ],
          "scatterternary": [
           {
            "marker": {
             "colorbar": {
              "outlinewidth": 0,
              "ticks": ""
             }
            },
            "type": "scatterternary"
           }
          ],
          "surface": [
           {
            "colorbar": {
             "outlinewidth": 0,
             "ticks": ""
            },
            "colorscale": [
             [
              0,
              "#0d0887"
             ],
             [
              0.1111111111111111,
              "#46039f"
             ],
             [
              0.2222222222222222,
              "#7201a8"
             ],
             [
              0.3333333333333333,
              "#9c179e"
             ],
             [
              0.4444444444444444,
              "#bd3786"
             ],
             [
              0.5555555555555556,
              "#d8576b"
             ],
             [
              0.6666666666666666,
              "#ed7953"
             ],
             [
              0.7777777777777778,
              "#fb9f3a"
             ],
             [
              0.8888888888888888,
              "#fdca26"
             ],
             [
              1,
              "#f0f921"
             ]
            ],
            "type": "surface"
           }
          ],
          "table": [
           {
            "cells": {
             "fill": {
              "color": "#EBF0F8"
             },
             "line": {
              "color": "white"
             }
            },
            "header": {
             "fill": {
              "color": "#C8D4E3"
             },
             "line": {
              "color": "white"
             }
            },
            "type": "table"
           }
          ]
         },
         "layout": {
          "annotationdefaults": {
           "arrowcolor": "#2a3f5f",
           "arrowhead": 0,
           "arrowwidth": 1
          },
          "autotypenumbers": "strict",
          "coloraxis": {
           "colorbar": {
            "outlinewidth": 0,
            "ticks": ""
           }
          },
          "colorscale": {
           "diverging": [
            [
             0,
             "#8e0152"
            ],
            [
             0.1,
             "#c51b7d"
            ],
            [
             0.2,
             "#de77ae"
            ],
            [
             0.3,
             "#f1b6da"
            ],
            [
             0.4,
             "#fde0ef"
            ],
            [
             0.5,
             "#f7f7f7"
            ],
            [
             0.6,
             "#e6f5d0"
            ],
            [
             0.7,
             "#b8e186"
            ],
            [
             0.8,
             "#7fbc41"
            ],
            [
             0.9,
             "#4d9221"
            ],
            [
             1,
             "#276419"
            ]
           ],
           "sequential": [
            [
             0,
             "#0d0887"
            ],
            [
             0.1111111111111111,
             "#46039f"
            ],
            [
             0.2222222222222222,
             "#7201a8"
            ],
            [
             0.3333333333333333,
             "#9c179e"
            ],
            [
             0.4444444444444444,
             "#bd3786"
            ],
            [
             0.5555555555555556,
             "#d8576b"
            ],
            [
             0.6666666666666666,
             "#ed7953"
            ],
            [
             0.7777777777777778,
             "#fb9f3a"
            ],
            [
             0.8888888888888888,
             "#fdca26"
            ],
            [
             1,
             "#f0f921"
            ]
           ],
           "sequentialminus": [
            [
             0,
             "#0d0887"
            ],
            [
             0.1111111111111111,
             "#46039f"
            ],
            [
             0.2222222222222222,
             "#7201a8"
            ],
            [
             0.3333333333333333,
             "#9c179e"
            ],
            [
             0.4444444444444444,
             "#bd3786"
            ],
            [
             0.5555555555555556,
             "#d8576b"
            ],
            [
             0.6666666666666666,
             "#ed7953"
            ],
            [
             0.7777777777777778,
             "#fb9f3a"
            ],
            [
             0.8888888888888888,
             "#fdca26"
            ],
            [
             1,
             "#f0f921"
            ]
           ]
          },
          "colorway": [
           "#636efa",
           "#EF553B",
           "#00cc96",
           "#ab63fa",
           "#FFA15A",
           "#19d3f3",
           "#FF6692",
           "#B6E880",
           "#FF97FF",
           "#FECB52"
          ],
          "font": {
           "color": "#2a3f5f"
          },
          "geo": {
           "bgcolor": "white",
           "lakecolor": "white",
           "landcolor": "#E5ECF6",
           "showlakes": true,
           "showland": true,
           "subunitcolor": "white"
          },
          "hoverlabel": {
           "align": "left"
          },
          "hovermode": "closest",
          "mapbox": {
           "style": "light"
          },
          "paper_bgcolor": "white",
          "plot_bgcolor": "#E5ECF6",
          "polar": {
           "angularaxis": {
            "gridcolor": "white",
            "linecolor": "white",
            "ticks": ""
           },
           "bgcolor": "#E5ECF6",
           "radialaxis": {
            "gridcolor": "white",
            "linecolor": "white",
            "ticks": ""
           }
          },
          "scene": {
           "xaxis": {
            "backgroundcolor": "#E5ECF6",
            "gridcolor": "white",
            "gridwidth": 2,
            "linecolor": "white",
            "showbackground": true,
            "ticks": "",
            "zerolinecolor": "white"
           },
           "yaxis": {
            "backgroundcolor": "#E5ECF6",
            "gridcolor": "white",
            "gridwidth": 2,
            "linecolor": "white",
            "showbackground": true,
            "ticks": "",
            "zerolinecolor": "white"
           },
           "zaxis": {
            "backgroundcolor": "#E5ECF6",
            "gridcolor": "white",
            "gridwidth": 2,
            "linecolor": "white",
            "showbackground": true,
            "ticks": "",
            "zerolinecolor": "white"
           }
          },
          "shapedefaults": {
           "line": {
            "color": "#2a3f5f"
           }
          },
          "ternary": {
           "aaxis": {
            "gridcolor": "white",
            "linecolor": "white",
            "ticks": ""
           },
           "baxis": {
            "gridcolor": "white",
            "linecolor": "white",
            "ticks": ""
           },
           "bgcolor": "#E5ECF6",
           "caxis": {
            "gridcolor": "white",
            "linecolor": "white",
            "ticks": ""
           }
          },
          "title": {
           "x": 0.05
          },
          "xaxis": {
           "automargin": true,
           "gridcolor": "white",
           "linecolor": "white",
           "ticks": "",
           "title": {
            "standoff": 15
           },
           "zerolinecolor": "white",
           "zerolinewidth": 2
          },
          "yaxis": {
           "automargin": true,
           "gridcolor": "white",
           "linecolor": "white",
           "ticks": "",
           "title": {
            "standoff": 15
           },
           "zerolinecolor": "white",
           "zerolinewidth": 2
          }
         }
        },
        "title": {
         "text": "bp.2d Distribution"
        },
        "xaxis": {
         "anchor": "y",
         "domain": [
          0,
          1
         ],
         "title": {
          "text": "bp.2d"
         }
        },
        "xaxis2": {
         "anchor": "y2",
         "domain": [
          0,
          1
         ],
         "matches": "x",
         "showgrid": true,
         "showticklabels": false
        },
        "yaxis": {
         "anchor": "x",
         "domain": [
          0,
          0.8316
         ],
         "title": {
          "text": "count"
         }
        },
        "yaxis2": {
         "anchor": "x2",
         "domain": [
          0.8416,
          1
         ],
         "matches": "y2",
         "showgrid": false,
         "showline": false,
         "showticklabels": false,
         "ticks": ""
        }
       }
      }
     },
     "metadata": {},
     "output_type": "display_data"
    }
   ],
   "source": [
    "fig = px.histogram(df_raw, x='bp.2d', marginal='box', nbins=47, title='bp.2d Distribution')\n",
    "fig.update_layout(bargap=0.1)\n",
    "fig.show()"
   ]
  },
  {
   "cell_type": "code",
   "execution_count": 71,
   "metadata": {},
   "outputs": [],
   "source": [
    "df_dropped = df_raw.copy()"
   ]
  },
  {
   "cell_type": "code",
   "execution_count": 72,
   "metadata": {},
   "outputs": [
    {
     "data": {
      "text/plain": [
       "Index(['id', 'chol', 'stab.glu', 'hdl', 'ratio', 'glyhb', 'location', 'age',\n",
       "       'gender', 'height', 'weight', 'frame', 'bp.1s', 'bp.1d', 'bp.2s',\n",
       "       'bp.2d', 'waist', 'hip', 'time.ppn', 'height_meters', 'BMI',\n",
       "       'hip_waist_ratio', 'diabetic'],\n",
       "      dtype='object')"
      ]
     },
     "execution_count": 72,
     "metadata": {},
     "output_type": "execute_result"
    }
   ],
   "source": [
    "#we drop (delete) columns that do not show significant distributions and ones that are repeated\n",
    "df_dropped.drop(columns='height')\n",
    "df_dropped.drop(columns='id')\n",
    "df_dropped.columns"
   ]
  },
  {
   "cell_type": "code",
   "execution_count": 73,
   "metadata": {},
   "outputs": [
    {
     "data": {
      "text/html": [
       "<div>\n",
       "<style scoped>\n",
       "    .dataframe tbody tr th:only-of-type {\n",
       "        vertical-align: middle;\n",
       "    }\n",
       "\n",
       "    .dataframe tbody tr th {\n",
       "        vertical-align: top;\n",
       "    }\n",
       "\n",
       "    .dataframe thead th {\n",
       "        text-align: right;\n",
       "    }\n",
       "</style>\n",
       "<table border=\"1\" class=\"dataframe\">\n",
       "  <thead>\n",
       "    <tr style=\"text-align: right;\">\n",
       "      <th></th>\n",
       "      <th>id</th>\n",
       "      <th>chol</th>\n",
       "      <th>stab.glu</th>\n",
       "      <th>hdl</th>\n",
       "      <th>ratio</th>\n",
       "      <th>glyhb</th>\n",
       "      <th>location</th>\n",
       "      <th>age</th>\n",
       "      <th>gender</th>\n",
       "      <th>height</th>\n",
       "      <th>...</th>\n",
       "      <th>bp.1d</th>\n",
       "      <th>bp.2s</th>\n",
       "      <th>bp.2d</th>\n",
       "      <th>waist</th>\n",
       "      <th>hip</th>\n",
       "      <th>time.ppn</th>\n",
       "      <th>height_meters</th>\n",
       "      <th>BMI</th>\n",
       "      <th>hip_waist_ratio</th>\n",
       "      <th>diabetic</th>\n",
       "    </tr>\n",
       "  </thead>\n",
       "  <tbody>\n",
       "    <tr>\n",
       "      <th>0</th>\n",
       "      <td>0</td>\n",
       "      <td>203.0</td>\n",
       "      <td>27</td>\n",
       "      <td>56.0</td>\n",
       "      <td>3.6</td>\n",
       "      <td>4.310000</td>\n",
       "      <td>0</td>\n",
       "      <td>27</td>\n",
       "      <td>0</td>\n",
       "      <td>62.0</td>\n",
       "      <td>...</td>\n",
       "      <td>59.0</td>\n",
       "      <td>NaN</td>\n",
       "      <td>NaN</td>\n",
       "      <td>29.0</td>\n",
       "      <td>38.0</td>\n",
       "      <td>720.0</td>\n",
       "      <td>1.5748</td>\n",
       "      <td>48.790420</td>\n",
       "      <td>0.763158</td>\n",
       "      <td>0</td>\n",
       "    </tr>\n",
       "    <tr>\n",
       "      <th>1</th>\n",
       "      <td>1</td>\n",
       "      <td>165.0</td>\n",
       "      <td>42</td>\n",
       "      <td>24.0</td>\n",
       "      <td>6.9</td>\n",
       "      <td>4.440000</td>\n",
       "      <td>0</td>\n",
       "      <td>10</td>\n",
       "      <td>0</td>\n",
       "      <td>64.0</td>\n",
       "      <td>...</td>\n",
       "      <td>68.0</td>\n",
       "      <td>NaN</td>\n",
       "      <td>NaN</td>\n",
       "      <td>46.0</td>\n",
       "      <td>48.0</td>\n",
       "      <td>360.0</td>\n",
       "      <td>1.6256</td>\n",
       "      <td>82.495282</td>\n",
       "      <td>0.958333</td>\n",
       "      <td>0</td>\n",
       "    </tr>\n",
       "    <tr>\n",
       "      <th>2</th>\n",
       "      <td>2</td>\n",
       "      <td>228.0</td>\n",
       "      <td>37</td>\n",
       "      <td>37.0</td>\n",
       "      <td>6.2</td>\n",
       "      <td>4.640000</td>\n",
       "      <td>0</td>\n",
       "      <td>39</td>\n",
       "      <td>0</td>\n",
       "      <td>61.0</td>\n",
       "      <td>...</td>\n",
       "      <td>92.0</td>\n",
       "      <td>185.0</td>\n",
       "      <td>92.0</td>\n",
       "      <td>49.0</td>\n",
       "      <td>57.0</td>\n",
       "      <td>180.0</td>\n",
       "      <td>1.5494</td>\n",
       "      <td>106.638214</td>\n",
       "      <td>0.859649</td>\n",
       "      <td>0</td>\n",
       "    </tr>\n",
       "    <tr>\n",
       "      <th>3</th>\n",
       "      <td>3</td>\n",
       "      <td>78.0</td>\n",
       "      <td>38</td>\n",
       "      <td>12.0</td>\n",
       "      <td>6.5</td>\n",
       "      <td>4.630000</td>\n",
       "      <td>0</td>\n",
       "      <td>48</td>\n",
       "      <td>1</td>\n",
       "      <td>67.0</td>\n",
       "      <td>...</td>\n",
       "      <td>50.0</td>\n",
       "      <td>NaN</td>\n",
       "      <td>NaN</td>\n",
       "      <td>33.0</td>\n",
       "      <td>38.0</td>\n",
       "      <td>480.0</td>\n",
       "      <td>1.7018</td>\n",
       "      <td>41.089412</td>\n",
       "      <td>0.868421</td>\n",
       "      <td>0</td>\n",
       "    </tr>\n",
       "    <tr>\n",
       "      <th>4</th>\n",
       "      <td>4</td>\n",
       "      <td>249.0</td>\n",
       "      <td>35</td>\n",
       "      <td>28.0</td>\n",
       "      <td>8.9</td>\n",
       "      <td>7.720000</td>\n",
       "      <td>0</td>\n",
       "      <td>45</td>\n",
       "      <td>1</td>\n",
       "      <td>68.0</td>\n",
       "      <td>...</td>\n",
       "      <td>80.0</td>\n",
       "      <td>NaN</td>\n",
       "      <td>NaN</td>\n",
       "      <td>44.0</td>\n",
       "      <td>41.0</td>\n",
       "      <td>300.0</td>\n",
       "      <td>1.7272</td>\n",
       "      <td>61.343116</td>\n",
       "      <td>1.073171</td>\n",
       "      <td>1</td>\n",
       "    </tr>\n",
       "    <tr>\n",
       "      <th>...</th>\n",
       "      <td>...</td>\n",
       "      <td>...</td>\n",
       "      <td>...</td>\n",
       "      <td>...</td>\n",
       "      <td>...</td>\n",
       "      <td>...</td>\n",
       "      <td>...</td>\n",
       "      <td>...</td>\n",
       "      <td>...</td>\n",
       "      <td>...</td>\n",
       "      <td>...</td>\n",
       "      <td>...</td>\n",
       "      <td>...</td>\n",
       "      <td>...</td>\n",
       "      <td>...</td>\n",
       "      <td>...</td>\n",
       "      <td>...</td>\n",
       "      <td>...</td>\n",
       "      <td>...</td>\n",
       "      <td>...</td>\n",
       "      <td>...</td>\n",
       "    </tr>\n",
       "    <tr>\n",
       "      <th>398</th>\n",
       "      <td>398</td>\n",
       "      <td>296.0</td>\n",
       "      <td>113</td>\n",
       "      <td>46.0</td>\n",
       "      <td>6.4</td>\n",
       "      <td>16.110001</td>\n",
       "      <td>1</td>\n",
       "      <td>34</td>\n",
       "      <td>1</td>\n",
       "      <td>69.0</td>\n",
       "      <td>...</td>\n",
       "      <td>94.0</td>\n",
       "      <td>130.0</td>\n",
       "      <td>94.0</td>\n",
       "      <td>35.0</td>\n",
       "      <td>39.0</td>\n",
       "      <td>210.0</td>\n",
       "      <td>1.7526</td>\n",
       "      <td>56.322314</td>\n",
       "      <td>0.897436</td>\n",
       "      <td>1</td>\n",
       "    </tr>\n",
       "    <tr>\n",
       "      <th>399</th>\n",
       "      <td>399</td>\n",
       "      <td>284.0</td>\n",
       "      <td>34</td>\n",
       "      <td>54.0</td>\n",
       "      <td>5.3</td>\n",
       "      <td>4.390000</td>\n",
       "      <td>1</td>\n",
       "      <td>32</td>\n",
       "      <td>0</td>\n",
       "      <td>63.0</td>\n",
       "      <td>...</td>\n",
       "      <td>100.0</td>\n",
       "      <td>146.0</td>\n",
       "      <td>102.0</td>\n",
       "      <td>32.0</td>\n",
       "      <td>43.0</td>\n",
       "      <td>180.0</td>\n",
       "      <td>1.6002</td>\n",
       "      <td>60.141214</td>\n",
       "      <td>0.744186</td>\n",
       "      <td>0</td>\n",
       "    </tr>\n",
       "    <tr>\n",
       "      <th>400</th>\n",
       "      <td>400</td>\n",
       "      <td>194.0</td>\n",
       "      <td>105</td>\n",
       "      <td>38.0</td>\n",
       "      <td>5.1</td>\n",
       "      <td>13.630000</td>\n",
       "      <td>1</td>\n",
       "      <td>10</td>\n",
       "      <td>0</td>\n",
       "      <td>69.0</td>\n",
       "      <td>...</td>\n",
       "      <td>70.0</td>\n",
       "      <td>NaN</td>\n",
       "      <td>NaN</td>\n",
       "      <td>33.0</td>\n",
       "      <td>40.0</td>\n",
       "      <td>20.0</td>\n",
       "      <td>1.7526</td>\n",
       "      <td>54.368939</td>\n",
       "      <td>0.825000</td>\n",
       "      <td>1</td>\n",
       "    </tr>\n",
       "    <tr>\n",
       "      <th>401</th>\n",
       "      <td>401</td>\n",
       "      <td>199.0</td>\n",
       "      <td>21</td>\n",
       "      <td>52.0</td>\n",
       "      <td>3.8</td>\n",
       "      <td>4.490000</td>\n",
       "      <td>1</td>\n",
       "      <td>22</td>\n",
       "      <td>0</td>\n",
       "      <td>63.0</td>\n",
       "      <td>...</td>\n",
       "      <td>78.0</td>\n",
       "      <td>NaN</td>\n",
       "      <td>NaN</td>\n",
       "      <td>41.0</td>\n",
       "      <td>48.0</td>\n",
       "      <td>255.0</td>\n",
       "      <td>1.6002</td>\n",
       "      <td>76.933890</td>\n",
       "      <td>0.854167</td>\n",
       "      <td>0</td>\n",
       "    </tr>\n",
       "    <tr>\n",
       "      <th>402</th>\n",
       "      <td>402</td>\n",
       "      <td>159.0</td>\n",
       "      <td>33</td>\n",
       "      <td>79.0</td>\n",
       "      <td>2.0</td>\n",
       "      <td>NaN</td>\n",
       "      <td>1</td>\n",
       "      <td>49</td>\n",
       "      <td>0</td>\n",
       "      <td>64.0</td>\n",
       "      <td>...</td>\n",
       "      <td>72.0</td>\n",
       "      <td>NaN</td>\n",
       "      <td>NaN</td>\n",
       "      <td>49.0</td>\n",
       "      <td>58.0</td>\n",
       "      <td>900.0</td>\n",
       "      <td>1.6256</td>\n",
       "      <td>83.252120</td>\n",
       "      <td>0.844828</td>\n",
       "      <td>1</td>\n",
       "    </tr>\n",
       "  </tbody>\n",
       "</table>\n",
       "<p>403 rows × 23 columns</p>\n",
       "</div>"
      ],
      "text/plain": [
       "      id   chol  stab.glu   hdl  ratio      glyhb  location  age  gender  \\\n",
       "0      0  203.0        27  56.0    3.6   4.310000         0   27       0   \n",
       "1      1  165.0        42  24.0    6.9   4.440000         0   10       0   \n",
       "2      2  228.0        37  37.0    6.2   4.640000         0   39       0   \n",
       "3      3   78.0        38  12.0    6.5   4.630000         0   48       1   \n",
       "4      4  249.0        35  28.0    8.9   7.720000         0   45       1   \n",
       "..   ...    ...       ...   ...    ...        ...       ...  ...     ...   \n",
       "398  398  296.0       113  46.0    6.4  16.110001         1   34       1   \n",
       "399  399  284.0        34  54.0    5.3   4.390000         1   32       0   \n",
       "400  400  194.0       105  38.0    5.1  13.630000         1   10       0   \n",
       "401  401  199.0        21  52.0    3.8   4.490000         1   22       0   \n",
       "402  402  159.0        33  79.0    2.0        NaN         1   49       0   \n",
       "\n",
       "     height  ...  bp.1d  bp.2s  bp.2d  waist   hip  time.ppn  height_meters  \\\n",
       "0      62.0  ...   59.0    NaN    NaN   29.0  38.0     720.0         1.5748   \n",
       "1      64.0  ...   68.0    NaN    NaN   46.0  48.0     360.0         1.6256   \n",
       "2      61.0  ...   92.0  185.0   92.0   49.0  57.0     180.0         1.5494   \n",
       "3      67.0  ...   50.0    NaN    NaN   33.0  38.0     480.0         1.7018   \n",
       "4      68.0  ...   80.0    NaN    NaN   44.0  41.0     300.0         1.7272   \n",
       "..      ...  ...    ...    ...    ...    ...   ...       ...            ...   \n",
       "398    69.0  ...   94.0  130.0   94.0   35.0  39.0     210.0         1.7526   \n",
       "399    63.0  ...  100.0  146.0  102.0   32.0  43.0     180.0         1.6002   \n",
       "400    69.0  ...   70.0    NaN    NaN   33.0  40.0      20.0         1.7526   \n",
       "401    63.0  ...   78.0    NaN    NaN   41.0  48.0     255.0         1.6002   \n",
       "402    64.0  ...   72.0    NaN    NaN   49.0  58.0     900.0         1.6256   \n",
       "\n",
       "            BMI  hip_waist_ratio  diabetic  \n",
       "0     48.790420         0.763158         0  \n",
       "1     82.495282         0.958333         0  \n",
       "2    106.638214         0.859649         0  \n",
       "3     41.089412         0.868421         0  \n",
       "4     61.343116         1.073171         1  \n",
       "..          ...              ...       ...  \n",
       "398   56.322314         0.897436         1  \n",
       "399   60.141214         0.744186         0  \n",
       "400   54.368939         0.825000         1  \n",
       "401   76.933890         0.854167         0  \n",
       "402   83.252120         0.844828         1  \n",
       "\n",
       "[403 rows x 23 columns]"
      ]
     },
     "execution_count": 73,
     "metadata": {},
     "output_type": "execute_result"
    }
   ],
   "source": [
    "df_dropped"
   ]
  },
  {
   "cell_type": "code",
   "execution_count": 74,
   "metadata": {},
   "outputs": [],
   "source": [
    "#safe the dataset after deleting unwanted columns\n",
    "df_dropped.to_csv('diabetes_missing_un_dropped_unfilled.csv', index=None)"
   ]
  },
  {
   "cell_type": "code",
   "execution_count": 75,
   "metadata": {},
   "outputs": [],
   "source": [
    "#filling up missing values using the mean. \n",
    "df_raw.fillna(df_raw.mean(), inplace=True)"
   ]
  },
  {
   "cell_type": "code",
   "execution_count": 76,
   "metadata": {},
   "outputs": [],
   "source": [
    "#save a copy of the dataset\n",
    "df_raw.to_csv('diabetes_undropped_filled.csv', index=None)"
   ]
  },
  {
   "cell_type": "code",
   "execution_count": 77,
   "metadata": {},
   "outputs": [
    {
     "data": {
      "text/plain": [
       "id                 0\n",
       "chol               0\n",
       "stab.glu           0\n",
       "hdl                0\n",
       "ratio              0\n",
       "glyhb              0\n",
       "location           0\n",
       "age                0\n",
       "gender             0\n",
       "height             0\n",
       "weight             0\n",
       "frame              0\n",
       "bp.1s              0\n",
       "bp.1d              0\n",
       "bp.2s              0\n",
       "bp.2d              0\n",
       "waist              0\n",
       "hip                0\n",
       "time.ppn           0\n",
       "height_meters      0\n",
       "BMI                0\n",
       "hip_waist_ratio    0\n",
       "diabetic           0\n",
       "dtype: int64"
      ]
     },
     "execution_count": 77,
     "metadata": {},
     "output_type": "execute_result"
    }
   ],
   "source": [
    "#checking for missing values in the updated dataset - indication - None!\n",
    "df_raw.isnull().sum()"
   ]
  },
  {
   "cell_type": "code",
   "execution_count": 78,
   "metadata": {},
   "outputs": [
    {
     "data": {
      "text/html": [
       "<div>\n",
       "<style scoped>\n",
       "    .dataframe tbody tr th:only-of-type {\n",
       "        vertical-align: middle;\n",
       "    }\n",
       "\n",
       "    .dataframe tbody tr th {\n",
       "        vertical-align: top;\n",
       "    }\n",
       "\n",
       "    .dataframe thead th {\n",
       "        text-align: right;\n",
       "    }\n",
       "</style>\n",
       "<table border=\"1\" class=\"dataframe\">\n",
       "  <thead>\n",
       "    <tr style=\"text-align: right;\">\n",
       "      <th></th>\n",
       "      <th>id</th>\n",
       "      <th>chol</th>\n",
       "      <th>stab.glu</th>\n",
       "      <th>hdl</th>\n",
       "      <th>ratio</th>\n",
       "      <th>glyhb</th>\n",
       "      <th>location</th>\n",
       "      <th>age</th>\n",
       "      <th>gender</th>\n",
       "      <th>height</th>\n",
       "      <th>...</th>\n",
       "      <th>bp.1d</th>\n",
       "      <th>bp.2s</th>\n",
       "      <th>bp.2d</th>\n",
       "      <th>waist</th>\n",
       "      <th>hip</th>\n",
       "      <th>time.ppn</th>\n",
       "      <th>height_meters</th>\n",
       "      <th>BMI</th>\n",
       "      <th>hip_waist_ratio</th>\n",
       "      <th>diabetic</th>\n",
       "    </tr>\n",
       "  </thead>\n",
       "  <tbody>\n",
       "    <tr>\n",
       "      <th>0</th>\n",
       "      <td>0</td>\n",
       "      <td>203.0</td>\n",
       "      <td>27</td>\n",
       "      <td>56.0</td>\n",
       "      <td>3.6</td>\n",
       "      <td>4.310000</td>\n",
       "      <td>0</td>\n",
       "      <td>27</td>\n",
       "      <td>0</td>\n",
       "      <td>62.0</td>\n",
       "      <td>...</td>\n",
       "      <td>59.0</td>\n",
       "      <td>152.382979</td>\n",
       "      <td>92.524823</td>\n",
       "      <td>29.0</td>\n",
       "      <td>38.0</td>\n",
       "      <td>720.0</td>\n",
       "      <td>1.5748</td>\n",
       "      <td>48.790420</td>\n",
       "      <td>0.763158</td>\n",
       "      <td>0</td>\n",
       "    </tr>\n",
       "    <tr>\n",
       "      <th>1</th>\n",
       "      <td>1</td>\n",
       "      <td>165.0</td>\n",
       "      <td>42</td>\n",
       "      <td>24.0</td>\n",
       "      <td>6.9</td>\n",
       "      <td>4.440000</td>\n",
       "      <td>0</td>\n",
       "      <td>10</td>\n",
       "      <td>0</td>\n",
       "      <td>64.0</td>\n",
       "      <td>...</td>\n",
       "      <td>68.0</td>\n",
       "      <td>152.382979</td>\n",
       "      <td>92.524823</td>\n",
       "      <td>46.0</td>\n",
       "      <td>48.0</td>\n",
       "      <td>360.0</td>\n",
       "      <td>1.6256</td>\n",
       "      <td>82.495282</td>\n",
       "      <td>0.958333</td>\n",
       "      <td>0</td>\n",
       "    </tr>\n",
       "    <tr>\n",
       "      <th>2</th>\n",
       "      <td>2</td>\n",
       "      <td>228.0</td>\n",
       "      <td>37</td>\n",
       "      <td>37.0</td>\n",
       "      <td>6.2</td>\n",
       "      <td>4.640000</td>\n",
       "      <td>0</td>\n",
       "      <td>39</td>\n",
       "      <td>0</td>\n",
       "      <td>61.0</td>\n",
       "      <td>...</td>\n",
       "      <td>92.0</td>\n",
       "      <td>185.000000</td>\n",
       "      <td>92.000000</td>\n",
       "      <td>49.0</td>\n",
       "      <td>57.0</td>\n",
       "      <td>180.0</td>\n",
       "      <td>1.5494</td>\n",
       "      <td>106.638214</td>\n",
       "      <td>0.859649</td>\n",
       "      <td>0</td>\n",
       "    </tr>\n",
       "    <tr>\n",
       "      <th>3</th>\n",
       "      <td>3</td>\n",
       "      <td>78.0</td>\n",
       "      <td>38</td>\n",
       "      <td>12.0</td>\n",
       "      <td>6.5</td>\n",
       "      <td>4.630000</td>\n",
       "      <td>0</td>\n",
       "      <td>48</td>\n",
       "      <td>1</td>\n",
       "      <td>67.0</td>\n",
       "      <td>...</td>\n",
       "      <td>50.0</td>\n",
       "      <td>152.382979</td>\n",
       "      <td>92.524823</td>\n",
       "      <td>33.0</td>\n",
       "      <td>38.0</td>\n",
       "      <td>480.0</td>\n",
       "      <td>1.7018</td>\n",
       "      <td>41.089412</td>\n",
       "      <td>0.868421</td>\n",
       "      <td>0</td>\n",
       "    </tr>\n",
       "    <tr>\n",
       "      <th>4</th>\n",
       "      <td>4</td>\n",
       "      <td>249.0</td>\n",
       "      <td>35</td>\n",
       "      <td>28.0</td>\n",
       "      <td>8.9</td>\n",
       "      <td>7.720000</td>\n",
       "      <td>0</td>\n",
       "      <td>45</td>\n",
       "      <td>1</td>\n",
       "      <td>68.0</td>\n",
       "      <td>...</td>\n",
       "      <td>80.0</td>\n",
       "      <td>152.382979</td>\n",
       "      <td>92.524823</td>\n",
       "      <td>44.0</td>\n",
       "      <td>41.0</td>\n",
       "      <td>300.0</td>\n",
       "      <td>1.7272</td>\n",
       "      <td>61.343116</td>\n",
       "      <td>1.073171</td>\n",
       "      <td>1</td>\n",
       "    </tr>\n",
       "    <tr>\n",
       "      <th>...</th>\n",
       "      <td>...</td>\n",
       "      <td>...</td>\n",
       "      <td>...</td>\n",
       "      <td>...</td>\n",
       "      <td>...</td>\n",
       "      <td>...</td>\n",
       "      <td>...</td>\n",
       "      <td>...</td>\n",
       "      <td>...</td>\n",
       "      <td>...</td>\n",
       "      <td>...</td>\n",
       "      <td>...</td>\n",
       "      <td>...</td>\n",
       "      <td>...</td>\n",
       "      <td>...</td>\n",
       "      <td>...</td>\n",
       "      <td>...</td>\n",
       "      <td>...</td>\n",
       "      <td>...</td>\n",
       "      <td>...</td>\n",
       "      <td>...</td>\n",
       "    </tr>\n",
       "    <tr>\n",
       "      <th>398</th>\n",
       "      <td>398</td>\n",
       "      <td>296.0</td>\n",
       "      <td>113</td>\n",
       "      <td>46.0</td>\n",
       "      <td>6.4</td>\n",
       "      <td>16.110001</td>\n",
       "      <td>1</td>\n",
       "      <td>34</td>\n",
       "      <td>1</td>\n",
       "      <td>69.0</td>\n",
       "      <td>...</td>\n",
       "      <td>94.0</td>\n",
       "      <td>130.000000</td>\n",
       "      <td>94.000000</td>\n",
       "      <td>35.0</td>\n",
       "      <td>39.0</td>\n",
       "      <td>210.0</td>\n",
       "      <td>1.7526</td>\n",
       "      <td>56.322314</td>\n",
       "      <td>0.897436</td>\n",
       "      <td>1</td>\n",
       "    </tr>\n",
       "    <tr>\n",
       "      <th>399</th>\n",
       "      <td>399</td>\n",
       "      <td>284.0</td>\n",
       "      <td>34</td>\n",
       "      <td>54.0</td>\n",
       "      <td>5.3</td>\n",
       "      <td>4.390000</td>\n",
       "      <td>1</td>\n",
       "      <td>32</td>\n",
       "      <td>0</td>\n",
       "      <td>63.0</td>\n",
       "      <td>...</td>\n",
       "      <td>100.0</td>\n",
       "      <td>146.000000</td>\n",
       "      <td>102.000000</td>\n",
       "      <td>32.0</td>\n",
       "      <td>43.0</td>\n",
       "      <td>180.0</td>\n",
       "      <td>1.6002</td>\n",
       "      <td>60.141214</td>\n",
       "      <td>0.744186</td>\n",
       "      <td>0</td>\n",
       "    </tr>\n",
       "    <tr>\n",
       "      <th>400</th>\n",
       "      <td>400</td>\n",
       "      <td>194.0</td>\n",
       "      <td>105</td>\n",
       "      <td>38.0</td>\n",
       "      <td>5.1</td>\n",
       "      <td>13.630000</td>\n",
       "      <td>1</td>\n",
       "      <td>10</td>\n",
       "      <td>0</td>\n",
       "      <td>69.0</td>\n",
       "      <td>...</td>\n",
       "      <td>70.0</td>\n",
       "      <td>152.382979</td>\n",
       "      <td>92.524823</td>\n",
       "      <td>33.0</td>\n",
       "      <td>40.0</td>\n",
       "      <td>20.0</td>\n",
       "      <td>1.7526</td>\n",
       "      <td>54.368939</td>\n",
       "      <td>0.825000</td>\n",
       "      <td>1</td>\n",
       "    </tr>\n",
       "    <tr>\n",
       "      <th>401</th>\n",
       "      <td>401</td>\n",
       "      <td>199.0</td>\n",
       "      <td>21</td>\n",
       "      <td>52.0</td>\n",
       "      <td>3.8</td>\n",
       "      <td>4.490000</td>\n",
       "      <td>1</td>\n",
       "      <td>22</td>\n",
       "      <td>0</td>\n",
       "      <td>63.0</td>\n",
       "      <td>...</td>\n",
       "      <td>78.0</td>\n",
       "      <td>152.382979</td>\n",
       "      <td>92.524823</td>\n",
       "      <td>41.0</td>\n",
       "      <td>48.0</td>\n",
       "      <td>255.0</td>\n",
       "      <td>1.6002</td>\n",
       "      <td>76.933890</td>\n",
       "      <td>0.854167</td>\n",
       "      <td>0</td>\n",
       "    </tr>\n",
       "    <tr>\n",
       "      <th>402</th>\n",
       "      <td>402</td>\n",
       "      <td>159.0</td>\n",
       "      <td>33</td>\n",
       "      <td>79.0</td>\n",
       "      <td>2.0</td>\n",
       "      <td>5.589769</td>\n",
       "      <td>1</td>\n",
       "      <td>49</td>\n",
       "      <td>0</td>\n",
       "      <td>64.0</td>\n",
       "      <td>...</td>\n",
       "      <td>72.0</td>\n",
       "      <td>152.382979</td>\n",
       "      <td>92.524823</td>\n",
       "      <td>49.0</td>\n",
       "      <td>58.0</td>\n",
       "      <td>900.0</td>\n",
       "      <td>1.6256</td>\n",
       "      <td>83.252120</td>\n",
       "      <td>0.844828</td>\n",
       "      <td>1</td>\n",
       "    </tr>\n",
       "  </tbody>\n",
       "</table>\n",
       "<p>403 rows × 23 columns</p>\n",
       "</div>"
      ],
      "text/plain": [
       "      id   chol  stab.glu   hdl  ratio      glyhb  location  age  gender  \\\n",
       "0      0  203.0        27  56.0    3.6   4.310000         0   27       0   \n",
       "1      1  165.0        42  24.0    6.9   4.440000         0   10       0   \n",
       "2      2  228.0        37  37.0    6.2   4.640000         0   39       0   \n",
       "3      3   78.0        38  12.0    6.5   4.630000         0   48       1   \n",
       "4      4  249.0        35  28.0    8.9   7.720000         0   45       1   \n",
       "..   ...    ...       ...   ...    ...        ...       ...  ...     ...   \n",
       "398  398  296.0       113  46.0    6.4  16.110001         1   34       1   \n",
       "399  399  284.0        34  54.0    5.3   4.390000         1   32       0   \n",
       "400  400  194.0       105  38.0    5.1  13.630000         1   10       0   \n",
       "401  401  199.0        21  52.0    3.8   4.490000         1   22       0   \n",
       "402  402  159.0        33  79.0    2.0   5.589769         1   49       0   \n",
       "\n",
       "     height  ...  bp.1d       bp.2s       bp.2d  waist   hip  time.ppn  \\\n",
       "0      62.0  ...   59.0  152.382979   92.524823   29.0  38.0     720.0   \n",
       "1      64.0  ...   68.0  152.382979   92.524823   46.0  48.0     360.0   \n",
       "2      61.0  ...   92.0  185.000000   92.000000   49.0  57.0     180.0   \n",
       "3      67.0  ...   50.0  152.382979   92.524823   33.0  38.0     480.0   \n",
       "4      68.0  ...   80.0  152.382979   92.524823   44.0  41.0     300.0   \n",
       "..      ...  ...    ...         ...         ...    ...   ...       ...   \n",
       "398    69.0  ...   94.0  130.000000   94.000000   35.0  39.0     210.0   \n",
       "399    63.0  ...  100.0  146.000000  102.000000   32.0  43.0     180.0   \n",
       "400    69.0  ...   70.0  152.382979   92.524823   33.0  40.0      20.0   \n",
       "401    63.0  ...   78.0  152.382979   92.524823   41.0  48.0     255.0   \n",
       "402    64.0  ...   72.0  152.382979   92.524823   49.0  58.0     900.0   \n",
       "\n",
       "     height_meters         BMI  hip_waist_ratio  diabetic  \n",
       "0           1.5748   48.790420         0.763158         0  \n",
       "1           1.6256   82.495282         0.958333         0  \n",
       "2           1.5494  106.638214         0.859649         0  \n",
       "3           1.7018   41.089412         0.868421         0  \n",
       "4           1.7272   61.343116         1.073171         1  \n",
       "..             ...         ...              ...       ...  \n",
       "398         1.7526   56.322314         0.897436         1  \n",
       "399         1.6002   60.141214         0.744186         0  \n",
       "400         1.7526   54.368939         0.825000         1  \n",
       "401         1.6002   76.933890         0.854167         0  \n",
       "402         1.6256   83.252120         0.844828         1  \n",
       "\n",
       "[403 rows x 23 columns]"
      ]
     },
     "execution_count": 78,
     "metadata": {},
     "output_type": "execute_result"
    }
   ],
   "source": [
    "df_raw"
   ]
  },
  {
   "cell_type": "markdown",
   "metadata": {},
   "source": [
    "DATA VISUALIZATION\n",
    "\n",
    "THIS STEP HELPS IN THE FEATURE SELECTION PROCESS. FEATURES THAT HAVE GOOD STATISTICAL DISTRIBUTIONS WILL BE MOST PREFERREF\n",
    "OVER ONES THAT DO NOT TAKE ANY PARTICULAR DISTRIBUTION OR TREND"
   ]
  },
  {
   "cell_type": "code",
   "execution_count": 79,
   "metadata": {},
   "outputs": [
    {
     "data": {
      "application/vnd.plotly.v1+json": {
       "config": {
        "plotlyServerURL": "https://plot.ly"
       },
       "data": [
        {
         "alignmentgroup": "True",
         "bingroup": "x",
         "hovertemplate": "bp.2d=%{x}<br>count=%{y}<extra></extra>",
         "legendgroup": "",
         "marker": {
          "color": "#636efa"
         },
         "name": "",
         "nbinsx": 47,
         "offsetgroup": "",
         "orientation": "v",
         "showlegend": false,
         "type": "histogram",
         "x": [
          92.52482269503547,
          92.52482269503547,
          92,
          92.52482269503547,
          92.52482269503547,
          92.52482269503547,
          112,
          92.52482269503547,
          86,
          92.52482269503547,
          90,
          92.52482269503547,
          92.52482269503547,
          92.52482269503547,
          92.52482269503547,
          96,
          92.52482269503547,
          92.52482269503547,
          92.52482269503547,
          92.52482269503547,
          84,
          110,
          92.52482269503547,
          88,
          70,
          92.52482269503547,
          92.52482269503547,
          92.52482269503547,
          92.52482269503547,
          112,
          89,
          92.52482269503547,
          80,
          90,
          92.52482269503547,
          92.52482269503547,
          92.52482269503547,
          92.52482269503547,
          92.52482269503547,
          96,
          92.52482269503547,
          92.52482269503547,
          88,
          92.52482269503547,
          92.52482269503547,
          92.52482269503547,
          92.52482269503547,
          92.52482269503547,
          92.52482269503547,
          78,
          84,
          92.52482269503547,
          96,
          92.52482269503547,
          92.52482269503547,
          100,
          92.52482269503547,
          92.52482269503547,
          92.52482269503547,
          92.52482269503547,
          103,
          92.52482269503547,
          88,
          92.52482269503547,
          92.52482269503547,
          92.52482269503547,
          92.52482269503547,
          80,
          60,
          92.52482269503547,
          80,
          92.52482269503547,
          92.52482269503547,
          92,
          92.52482269503547,
          76,
          92.52482269503547,
          110,
          92.52482269503547,
          92.52482269503547,
          92.52482269503547,
          92.52482269503547,
          92.52482269503547,
          92.52482269503547,
          92.52482269503547,
          92.52482269503547,
          92.52482269503547,
          92.52482269503547,
          92.52482269503547,
          92.52482269503547,
          92.52482269503547,
          79,
          92.52482269503547,
          92.52482269503547,
          92.52482269503547,
          68,
          92.52482269503547,
          106,
          98,
          80,
          92.52482269503547,
          94,
          92.52482269503547,
          84,
          92.52482269503547,
          92.52482269503547,
          92.52482269503547,
          88,
          100,
          92.52482269503547,
          92.52482269503547,
          108,
          92.52482269503547,
          96,
          92.52482269503547,
          92.52482269503547,
          92.52482269503547,
          92.52482269503547,
          89,
          92.52482269503547,
          100,
          100,
          92.52482269503547,
          74,
          92.52482269503547,
          92.52482269503547,
          92.52482269503547,
          92.52482269503547,
          92.52482269503547,
          92.52482269503547,
          110,
          92.52482269503547,
          92.52482269503547,
          92.52482269503547,
          92.52482269503547,
          92.52482269503547,
          92.52482269503547,
          92.52482269503547,
          92.52482269503547,
          82,
          92.52482269503547,
          92.52482269503547,
          92.52482269503547,
          98,
          92.52482269503547,
          92.52482269503547,
          92.52482269503547,
          92.52482269503547,
          92.52482269503547,
          92.52482269503547,
          92.52482269503547,
          92.52482269503547,
          91,
          86,
          92.52482269503547,
          92.52482269503547,
          92.52482269503547,
          92.52482269503547,
          79,
          92.52482269503547,
          92.52482269503547,
          92.52482269503547,
          92.52482269503547,
          116,
          92.52482269503547,
          92.52482269503547,
          111,
          92.52482269503547,
          92.52482269503547,
          120,
          92.52482269503547,
          84,
          92.52482269503547,
          92.52482269503547,
          92.52482269503547,
          78,
          92.52482269503547,
          92.52482269503547,
          110,
          92.52482269503547,
          90,
          92.52482269503547,
          92.52482269503547,
          96,
          92.52482269503547,
          86,
          98,
          98,
          94,
          92.52482269503547,
          102,
          86,
          92.52482269503547,
          92.52482269503547,
          92.52482269503547,
          92.52482269503547,
          92.52482269503547,
          92.52482269503547,
          90,
          92.52482269503547,
          105,
          92.52482269503547,
          84,
          90,
          100,
          99,
          92.52482269503547,
          92.52482269503547,
          92.52482269503547,
          86,
          92.52482269503547,
          92.52482269503547,
          82,
          92.52482269503547,
          92.52482269503547,
          92.52482269503547,
          92.52482269503547,
          92.52482269503547,
          92.52482269503547,
          92.52482269503547,
          92.52482269503547,
          92.52482269503547,
          92.52482269503547,
          100,
          100,
          92.52482269503547,
          80,
          90,
          96,
          110,
          92.52482269503547,
          92.52482269503547,
          84,
          102,
          76,
          96,
          92.52482269503547,
          92.52482269503547,
          92.52482269503547,
          80,
          92.52482269503547,
          92.52482269503547,
          92.52482269503547,
          92.52482269503547,
          92.52482269503547,
          92.52482269503547,
          92.52482269503547,
          92.52482269503547,
          92.52482269503547,
          92.52482269503547,
          92.52482269503547,
          92.52482269503547,
          92.52482269503547,
          92.52482269503547,
          92.52482269503547,
          92.52482269503547,
          102,
          92.52482269503547,
          92.52482269503547,
          80,
          90,
          92.52482269503547,
          92.52482269503547,
          92.52482269503547,
          92.52482269503547,
          92.52482269503547,
          92.52482269503547,
          92.52482269503547,
          85,
          92.52482269503547,
          90,
          96,
          92.52482269503547,
          92.52482269503547,
          92.52482269503547,
          92.52482269503547,
          92.52482269503547,
          92.52482269503547,
          96,
          92.52482269503547,
          92.52482269503547,
          92.52482269503547,
          92.52482269503547,
          92.52482269503547,
          80,
          74,
          92.52482269503547,
          92.52482269503547,
          92.52482269503547,
          98,
          114,
          92.52482269503547,
          112,
          92.52482269503547,
          80,
          92.52482269503547,
          92.52482269503547,
          92.52482269503547,
          90,
          84,
          92.52482269503547,
          92.52482269503547,
          92.52482269503547,
          92.52482269503547,
          124,
          92.52482269503547,
          92.52482269503547,
          92.52482269503547,
          92.52482269503547,
          92.52482269503547,
          92.52482269503547,
          92.52482269503547,
          92.52482269503547,
          92.52482269503547,
          86,
          92.52482269503547,
          92.52482269503547,
          92.52482269503547,
          92.52482269503547,
          92.52482269503547,
          92.52482269503547,
          95,
          92.52482269503547,
          70,
          92.52482269503547,
          92.52482269503547,
          80,
          89,
          92.52482269503547,
          92.52482269503547,
          92.52482269503547,
          96,
          80,
          92.52482269503547,
          92.52482269503547,
          92.52482269503547,
          92.52482269503547,
          92,
          92.52482269503547,
          92.52482269503547,
          92.52482269503547,
          92.52482269503547,
          92.52482269503547,
          98,
          92.52482269503547,
          92.52482269503547,
          110,
          92.52482269503547,
          92.52482269503547,
          108,
          88,
          92,
          114,
          102,
          96,
          90,
          92.52482269503547,
          74,
          98,
          92.52482269503547,
          90,
          92.52482269503547,
          92.52482269503547,
          92.52482269503547,
          82,
          92.52482269503547,
          86,
          100,
          100,
          92.52482269503547,
          92.52482269503547,
          100,
          92,
          82,
          92.52482269503547,
          94,
          80,
          92.52482269503547,
          108,
          92.52482269503547,
          100,
          92.52482269503547,
          84,
          88,
          92.52482269503547,
          92.52482269503547,
          100,
          84,
          92.52482269503547,
          94,
          92,
          92.52482269503547,
          92.52482269503547,
          118,
          94,
          100,
          80,
          90,
          94,
          102,
          92.52482269503547,
          92.52482269503547,
          92.52482269503547
         ],
         "xaxis": "x",
         "yaxis": "y"
        },
        {
         "alignmentgroup": "True",
         "hovertemplate": "bp.2d=%{x}<extra></extra>",
         "legendgroup": "",
         "marker": {
          "color": "#636efa"
         },
         "name": "",
         "notched": true,
         "offsetgroup": "",
         "showlegend": false,
         "type": "box",
         "x": [
          92.52482269503547,
          92.52482269503547,
          92,
          92.52482269503547,
          92.52482269503547,
          92.52482269503547,
          112,
          92.52482269503547,
          86,
          92.52482269503547,
          90,
          92.52482269503547,
          92.52482269503547,
          92.52482269503547,
          92.52482269503547,
          96,
          92.52482269503547,
          92.52482269503547,
          92.52482269503547,
          92.52482269503547,
          84,
          110,
          92.52482269503547,
          88,
          70,
          92.52482269503547,
          92.52482269503547,
          92.52482269503547,
          92.52482269503547,
          112,
          89,
          92.52482269503547,
          80,
          90,
          92.52482269503547,
          92.52482269503547,
          92.52482269503547,
          92.52482269503547,
          92.52482269503547,
          96,
          92.52482269503547,
          92.52482269503547,
          88,
          92.52482269503547,
          92.52482269503547,
          92.52482269503547,
          92.52482269503547,
          92.52482269503547,
          92.52482269503547,
          78,
          84,
          92.52482269503547,
          96,
          92.52482269503547,
          92.52482269503547,
          100,
          92.52482269503547,
          92.52482269503547,
          92.52482269503547,
          92.52482269503547,
          103,
          92.52482269503547,
          88,
          92.52482269503547,
          92.52482269503547,
          92.52482269503547,
          92.52482269503547,
          80,
          60,
          92.52482269503547,
          80,
          92.52482269503547,
          92.52482269503547,
          92,
          92.52482269503547,
          76,
          92.52482269503547,
          110,
          92.52482269503547,
          92.52482269503547,
          92.52482269503547,
          92.52482269503547,
          92.52482269503547,
          92.52482269503547,
          92.52482269503547,
          92.52482269503547,
          92.52482269503547,
          92.52482269503547,
          92.52482269503547,
          92.52482269503547,
          92.52482269503547,
          79,
          92.52482269503547,
          92.52482269503547,
          92.52482269503547,
          68,
          92.52482269503547,
          106,
          98,
          80,
          92.52482269503547,
          94,
          92.52482269503547,
          84,
          92.52482269503547,
          92.52482269503547,
          92.52482269503547,
          88,
          100,
          92.52482269503547,
          92.52482269503547,
          108,
          92.52482269503547,
          96,
          92.52482269503547,
          92.52482269503547,
          92.52482269503547,
          92.52482269503547,
          89,
          92.52482269503547,
          100,
          100,
          92.52482269503547,
          74,
          92.52482269503547,
          92.52482269503547,
          92.52482269503547,
          92.52482269503547,
          92.52482269503547,
          92.52482269503547,
          110,
          92.52482269503547,
          92.52482269503547,
          92.52482269503547,
          92.52482269503547,
          92.52482269503547,
          92.52482269503547,
          92.52482269503547,
          92.52482269503547,
          82,
          92.52482269503547,
          92.52482269503547,
          92.52482269503547,
          98,
          92.52482269503547,
          92.52482269503547,
          92.52482269503547,
          92.52482269503547,
          92.52482269503547,
          92.52482269503547,
          92.52482269503547,
          92.52482269503547,
          91,
          86,
          92.52482269503547,
          92.52482269503547,
          92.52482269503547,
          92.52482269503547,
          79,
          92.52482269503547,
          92.52482269503547,
          92.52482269503547,
          92.52482269503547,
          116,
          92.52482269503547,
          92.52482269503547,
          111,
          92.52482269503547,
          92.52482269503547,
          120,
          92.52482269503547,
          84,
          92.52482269503547,
          92.52482269503547,
          92.52482269503547,
          78,
          92.52482269503547,
          92.52482269503547,
          110,
          92.52482269503547,
          90,
          92.52482269503547,
          92.52482269503547,
          96,
          92.52482269503547,
          86,
          98,
          98,
          94,
          92.52482269503547,
          102,
          86,
          92.52482269503547,
          92.52482269503547,
          92.52482269503547,
          92.52482269503547,
          92.52482269503547,
          92.52482269503547,
          90,
          92.52482269503547,
          105,
          92.52482269503547,
          84,
          90,
          100,
          99,
          92.52482269503547,
          92.52482269503547,
          92.52482269503547,
          86,
          92.52482269503547,
          92.52482269503547,
          82,
          92.52482269503547,
          92.52482269503547,
          92.52482269503547,
          92.52482269503547,
          92.52482269503547,
          92.52482269503547,
          92.52482269503547,
          92.52482269503547,
          92.52482269503547,
          92.52482269503547,
          100,
          100,
          92.52482269503547,
          80,
          90,
          96,
          110,
          92.52482269503547,
          92.52482269503547,
          84,
          102,
          76,
          96,
          92.52482269503547,
          92.52482269503547,
          92.52482269503547,
          80,
          92.52482269503547,
          92.52482269503547,
          92.52482269503547,
          92.52482269503547,
          92.52482269503547,
          92.52482269503547,
          92.52482269503547,
          92.52482269503547,
          92.52482269503547,
          92.52482269503547,
          92.52482269503547,
          92.52482269503547,
          92.52482269503547,
          92.52482269503547,
          92.52482269503547,
          92.52482269503547,
          102,
          92.52482269503547,
          92.52482269503547,
          80,
          90,
          92.52482269503547,
          92.52482269503547,
          92.52482269503547,
          92.52482269503547,
          92.52482269503547,
          92.52482269503547,
          92.52482269503547,
          85,
          92.52482269503547,
          90,
          96,
          92.52482269503547,
          92.52482269503547,
          92.52482269503547,
          92.52482269503547,
          92.52482269503547,
          92.52482269503547,
          96,
          92.52482269503547,
          92.52482269503547,
          92.52482269503547,
          92.52482269503547,
          92.52482269503547,
          80,
          74,
          92.52482269503547,
          92.52482269503547,
          92.52482269503547,
          98,
          114,
          92.52482269503547,
          112,
          92.52482269503547,
          80,
          92.52482269503547,
          92.52482269503547,
          92.52482269503547,
          90,
          84,
          92.52482269503547,
          92.52482269503547,
          92.52482269503547,
          92.52482269503547,
          124,
          92.52482269503547,
          92.52482269503547,
          92.52482269503547,
          92.52482269503547,
          92.52482269503547,
          92.52482269503547,
          92.52482269503547,
          92.52482269503547,
          92.52482269503547,
          86,
          92.52482269503547,
          92.52482269503547,
          92.52482269503547,
          92.52482269503547,
          92.52482269503547,
          92.52482269503547,
          95,
          92.52482269503547,
          70,
          92.52482269503547,
          92.52482269503547,
          80,
          89,
          92.52482269503547,
          92.52482269503547,
          92.52482269503547,
          96,
          80,
          92.52482269503547,
          92.52482269503547,
          92.52482269503547,
          92.52482269503547,
          92,
          92.52482269503547,
          92.52482269503547,
          92.52482269503547,
          92.52482269503547,
          92.52482269503547,
          98,
          92.52482269503547,
          92.52482269503547,
          110,
          92.52482269503547,
          92.52482269503547,
          108,
          88,
          92,
          114,
          102,
          96,
          90,
          92.52482269503547,
          74,
          98,
          92.52482269503547,
          90,
          92.52482269503547,
          92.52482269503547,
          92.52482269503547,
          82,
          92.52482269503547,
          86,
          100,
          100,
          92.52482269503547,
          92.52482269503547,
          100,
          92,
          82,
          92.52482269503547,
          94,
          80,
          92.52482269503547,
          108,
          92.52482269503547,
          100,
          92.52482269503547,
          84,
          88,
          92.52482269503547,
          92.52482269503547,
          100,
          84,
          92.52482269503547,
          94,
          92,
          92.52482269503547,
          92.52482269503547,
          118,
          94,
          100,
          80,
          90,
          94,
          102,
          92.52482269503547,
          92.52482269503547,
          92.52482269503547
         ],
         "xaxis": "x2",
         "yaxis": "y2"
        }
       ],
       "layout": {
        "bargap": 0.1,
        "barmode": "relative",
        "legend": {
         "tracegroupgap": 0
        },
        "template": {
         "data": {
          "bar": [
           {
            "error_x": {
             "color": "#2a3f5f"
            },
            "error_y": {
             "color": "#2a3f5f"
            },
            "marker": {
             "line": {
              "color": "#E5ECF6",
              "width": 0.5
             }
            },
            "type": "bar"
           }
          ],
          "barpolar": [
           {
            "marker": {
             "line": {
              "color": "#E5ECF6",
              "width": 0.5
             }
            },
            "type": "barpolar"
           }
          ],
          "carpet": [
           {
            "aaxis": {
             "endlinecolor": "#2a3f5f",
             "gridcolor": "white",
             "linecolor": "white",
             "minorgridcolor": "white",
             "startlinecolor": "#2a3f5f"
            },
            "baxis": {
             "endlinecolor": "#2a3f5f",
             "gridcolor": "white",
             "linecolor": "white",
             "minorgridcolor": "white",
             "startlinecolor": "#2a3f5f"
            },
            "type": "carpet"
           }
          ],
          "choropleth": [
           {
            "colorbar": {
             "outlinewidth": 0,
             "ticks": ""
            },
            "type": "choropleth"
           }
          ],
          "contour": [
           {
            "colorbar": {
             "outlinewidth": 0,
             "ticks": ""
            },
            "colorscale": [
             [
              0,
              "#0d0887"
             ],
             [
              0.1111111111111111,
              "#46039f"
             ],
             [
              0.2222222222222222,
              "#7201a8"
             ],
             [
              0.3333333333333333,
              "#9c179e"
             ],
             [
              0.4444444444444444,
              "#bd3786"
             ],
             [
              0.5555555555555556,
              "#d8576b"
             ],
             [
              0.6666666666666666,
              "#ed7953"
             ],
             [
              0.7777777777777778,
              "#fb9f3a"
             ],
             [
              0.8888888888888888,
              "#fdca26"
             ],
             [
              1,
              "#f0f921"
             ]
            ],
            "type": "contour"
           }
          ],
          "contourcarpet": [
           {
            "colorbar": {
             "outlinewidth": 0,
             "ticks": ""
            },
            "type": "contourcarpet"
           }
          ],
          "heatmap": [
           {
            "colorbar": {
             "outlinewidth": 0,
             "ticks": ""
            },
            "colorscale": [
             [
              0,
              "#0d0887"
             ],
             [
              0.1111111111111111,
              "#46039f"
             ],
             [
              0.2222222222222222,
              "#7201a8"
             ],
             [
              0.3333333333333333,
              "#9c179e"
             ],
             [
              0.4444444444444444,
              "#bd3786"
             ],
             [
              0.5555555555555556,
              "#d8576b"
             ],
             [
              0.6666666666666666,
              "#ed7953"
             ],
             [
              0.7777777777777778,
              "#fb9f3a"
             ],
             [
              0.8888888888888888,
              "#fdca26"
             ],
             [
              1,
              "#f0f921"
             ]
            ],
            "type": "heatmap"
           }
          ],
          "heatmapgl": [
           {
            "colorbar": {
             "outlinewidth": 0,
             "ticks": ""
            },
            "colorscale": [
             [
              0,
              "#0d0887"
             ],
             [
              0.1111111111111111,
              "#46039f"
             ],
             [
              0.2222222222222222,
              "#7201a8"
             ],
             [
              0.3333333333333333,
              "#9c179e"
             ],
             [
              0.4444444444444444,
              "#bd3786"
             ],
             [
              0.5555555555555556,
              "#d8576b"
             ],
             [
              0.6666666666666666,
              "#ed7953"
             ],
             [
              0.7777777777777778,
              "#fb9f3a"
             ],
             [
              0.8888888888888888,
              "#fdca26"
             ],
             [
              1,
              "#f0f921"
             ]
            ],
            "type": "heatmapgl"
           }
          ],
          "histogram": [
           {
            "marker": {
             "colorbar": {
              "outlinewidth": 0,
              "ticks": ""
             }
            },
            "type": "histogram"
           }
          ],
          "histogram2d": [
           {
            "colorbar": {
             "outlinewidth": 0,
             "ticks": ""
            },
            "colorscale": [
             [
              0,
              "#0d0887"
             ],
             [
              0.1111111111111111,
              "#46039f"
             ],
             [
              0.2222222222222222,
              "#7201a8"
             ],
             [
              0.3333333333333333,
              "#9c179e"
             ],
             [
              0.4444444444444444,
              "#bd3786"
             ],
             [
              0.5555555555555556,
              "#d8576b"
             ],
             [
              0.6666666666666666,
              "#ed7953"
             ],
             [
              0.7777777777777778,
              "#fb9f3a"
             ],
             [
              0.8888888888888888,
              "#fdca26"
             ],
             [
              1,
              "#f0f921"
             ]
            ],
            "type": "histogram2d"
           }
          ],
          "histogram2dcontour": [
           {
            "colorbar": {
             "outlinewidth": 0,
             "ticks": ""
            },
            "colorscale": [
             [
              0,
              "#0d0887"
             ],
             [
              0.1111111111111111,
              "#46039f"
             ],
             [
              0.2222222222222222,
              "#7201a8"
             ],
             [
              0.3333333333333333,
              "#9c179e"
             ],
             [
              0.4444444444444444,
              "#bd3786"
             ],
             [
              0.5555555555555556,
              "#d8576b"
             ],
             [
              0.6666666666666666,
              "#ed7953"
             ],
             [
              0.7777777777777778,
              "#fb9f3a"
             ],
             [
              0.8888888888888888,
              "#fdca26"
             ],
             [
              1,
              "#f0f921"
             ]
            ],
            "type": "histogram2dcontour"
           }
          ],
          "mesh3d": [
           {
            "colorbar": {
             "outlinewidth": 0,
             "ticks": ""
            },
            "type": "mesh3d"
           }
          ],
          "parcoords": [
           {
            "line": {
             "colorbar": {
              "outlinewidth": 0,
              "ticks": ""
             }
            },
            "type": "parcoords"
           }
          ],
          "pie": [
           {
            "automargin": true,
            "type": "pie"
           }
          ],
          "scatter": [
           {
            "marker": {
             "colorbar": {
              "outlinewidth": 0,
              "ticks": ""
             }
            },
            "type": "scatter"
           }
          ],
          "scatter3d": [
           {
            "line": {
             "colorbar": {
              "outlinewidth": 0,
              "ticks": ""
             }
            },
            "marker": {
             "colorbar": {
              "outlinewidth": 0,
              "ticks": ""
             }
            },
            "type": "scatter3d"
           }
          ],
          "scattercarpet": [
           {
            "marker": {
             "colorbar": {
              "outlinewidth": 0,
              "ticks": ""
             }
            },
            "type": "scattercarpet"
           }
          ],
          "scattergeo": [
           {
            "marker": {
             "colorbar": {
              "outlinewidth": 0,
              "ticks": ""
             }
            },
            "type": "scattergeo"
           }
          ],
          "scattergl": [
           {
            "marker": {
             "colorbar": {
              "outlinewidth": 0,
              "ticks": ""
             }
            },
            "type": "scattergl"
           }
          ],
          "scattermapbox": [
           {
            "marker": {
             "colorbar": {
              "outlinewidth": 0,
              "ticks": ""
             }
            },
            "type": "scattermapbox"
           }
          ],
          "scatterpolar": [
           {
            "marker": {
             "colorbar": {
              "outlinewidth": 0,
              "ticks": ""
             }
            },
            "type": "scatterpolar"
           }
          ],
          "scatterpolargl": [
           {
            "marker": {
             "colorbar": {
              "outlinewidth": 0,
              "ticks": ""
             }
            },
            "type": "scatterpolargl"
           }
          ],
          "scatterternary": [
           {
            "marker": {
             "colorbar": {
              "outlinewidth": 0,
              "ticks": ""
             }
            },
            "type": "scatterternary"
           }
          ],
          "surface": [
           {
            "colorbar": {
             "outlinewidth": 0,
             "ticks": ""
            },
            "colorscale": [
             [
              0,
              "#0d0887"
             ],
             [
              0.1111111111111111,
              "#46039f"
             ],
             [
              0.2222222222222222,
              "#7201a8"
             ],
             [
              0.3333333333333333,
              "#9c179e"
             ],
             [
              0.4444444444444444,
              "#bd3786"
             ],
             [
              0.5555555555555556,
              "#d8576b"
             ],
             [
              0.6666666666666666,
              "#ed7953"
             ],
             [
              0.7777777777777778,
              "#fb9f3a"
             ],
             [
              0.8888888888888888,
              "#fdca26"
             ],
             [
              1,
              "#f0f921"
             ]
            ],
            "type": "surface"
           }
          ],
          "table": [
           {
            "cells": {
             "fill": {
              "color": "#EBF0F8"
             },
             "line": {
              "color": "white"
             }
            },
            "header": {
             "fill": {
              "color": "#C8D4E3"
             },
             "line": {
              "color": "white"
             }
            },
            "type": "table"
           }
          ]
         },
         "layout": {
          "annotationdefaults": {
           "arrowcolor": "#2a3f5f",
           "arrowhead": 0,
           "arrowwidth": 1
          },
          "autotypenumbers": "strict",
          "coloraxis": {
           "colorbar": {
            "outlinewidth": 0,
            "ticks": ""
           }
          },
          "colorscale": {
           "diverging": [
            [
             0,
             "#8e0152"
            ],
            [
             0.1,
             "#c51b7d"
            ],
            [
             0.2,
             "#de77ae"
            ],
            [
             0.3,
             "#f1b6da"
            ],
            [
             0.4,
             "#fde0ef"
            ],
            [
             0.5,
             "#f7f7f7"
            ],
            [
             0.6,
             "#e6f5d0"
            ],
            [
             0.7,
             "#b8e186"
            ],
            [
             0.8,
             "#7fbc41"
            ],
            [
             0.9,
             "#4d9221"
            ],
            [
             1,
             "#276419"
            ]
           ],
           "sequential": [
            [
             0,
             "#0d0887"
            ],
            [
             0.1111111111111111,
             "#46039f"
            ],
            [
             0.2222222222222222,
             "#7201a8"
            ],
            [
             0.3333333333333333,
             "#9c179e"
            ],
            [
             0.4444444444444444,
             "#bd3786"
            ],
            [
             0.5555555555555556,
             "#d8576b"
            ],
            [
             0.6666666666666666,
             "#ed7953"
            ],
            [
             0.7777777777777778,
             "#fb9f3a"
            ],
            [
             0.8888888888888888,
             "#fdca26"
            ],
            [
             1,
             "#f0f921"
            ]
           ],
           "sequentialminus": [
            [
             0,
             "#0d0887"
            ],
            [
             0.1111111111111111,
             "#46039f"
            ],
            [
             0.2222222222222222,
             "#7201a8"
            ],
            [
             0.3333333333333333,
             "#9c179e"
            ],
            [
             0.4444444444444444,
             "#bd3786"
            ],
            [
             0.5555555555555556,
             "#d8576b"
            ],
            [
             0.6666666666666666,
             "#ed7953"
            ],
            [
             0.7777777777777778,
             "#fb9f3a"
            ],
            [
             0.8888888888888888,
             "#fdca26"
            ],
            [
             1,
             "#f0f921"
            ]
           ]
          },
          "colorway": [
           "#636efa",
           "#EF553B",
           "#00cc96",
           "#ab63fa",
           "#FFA15A",
           "#19d3f3",
           "#FF6692",
           "#B6E880",
           "#FF97FF",
           "#FECB52"
          ],
          "font": {
           "color": "#2a3f5f"
          },
          "geo": {
           "bgcolor": "white",
           "lakecolor": "white",
           "landcolor": "#E5ECF6",
           "showlakes": true,
           "showland": true,
           "subunitcolor": "white"
          },
          "hoverlabel": {
           "align": "left"
          },
          "hovermode": "closest",
          "mapbox": {
           "style": "light"
          },
          "paper_bgcolor": "white",
          "plot_bgcolor": "#E5ECF6",
          "polar": {
           "angularaxis": {
            "gridcolor": "white",
            "linecolor": "white",
            "ticks": ""
           },
           "bgcolor": "#E5ECF6",
           "radialaxis": {
            "gridcolor": "white",
            "linecolor": "white",
            "ticks": ""
           }
          },
          "scene": {
           "xaxis": {
            "backgroundcolor": "#E5ECF6",
            "gridcolor": "white",
            "gridwidth": 2,
            "linecolor": "white",
            "showbackground": true,
            "ticks": "",
            "zerolinecolor": "white"
           },
           "yaxis": {
            "backgroundcolor": "#E5ECF6",
            "gridcolor": "white",
            "gridwidth": 2,
            "linecolor": "white",
            "showbackground": true,
            "ticks": "",
            "zerolinecolor": "white"
           },
           "zaxis": {
            "backgroundcolor": "#E5ECF6",
            "gridcolor": "white",
            "gridwidth": 2,
            "linecolor": "white",
            "showbackground": true,
            "ticks": "",
            "zerolinecolor": "white"
           }
          },
          "shapedefaults": {
           "line": {
            "color": "#2a3f5f"
           }
          },
          "ternary": {
           "aaxis": {
            "gridcolor": "white",
            "linecolor": "white",
            "ticks": ""
           },
           "baxis": {
            "gridcolor": "white",
            "linecolor": "white",
            "ticks": ""
           },
           "bgcolor": "#E5ECF6",
           "caxis": {
            "gridcolor": "white",
            "linecolor": "white",
            "ticks": ""
           }
          },
          "title": {
           "x": 0.05
          },
          "xaxis": {
           "automargin": true,
           "gridcolor": "white",
           "linecolor": "white",
           "ticks": "",
           "title": {
            "standoff": 15
           },
           "zerolinecolor": "white",
           "zerolinewidth": 2
          },
          "yaxis": {
           "automargin": true,
           "gridcolor": "white",
           "linecolor": "white",
           "ticks": "",
           "title": {
            "standoff": 15
           },
           "zerolinecolor": "white",
           "zerolinewidth": 2
          }
         }
        },
        "title": {
         "text": "bp.2d Distribution"
        },
        "xaxis": {
         "anchor": "y",
         "domain": [
          0,
          1
         ],
         "title": {
          "text": "bp.2d"
         }
        },
        "xaxis2": {
         "anchor": "y2",
         "domain": [
          0,
          1
         ],
         "matches": "x",
         "showgrid": true,
         "showticklabels": false
        },
        "yaxis": {
         "anchor": "x",
         "domain": [
          0,
          0.8316
         ],
         "title": {
          "text": "count"
         }
        },
        "yaxis2": {
         "anchor": "x2",
         "domain": [
          0.8416,
          1
         ],
         "matches": "y2",
         "showgrid": false,
         "showline": false,
         "showticklabels": false,
         "ticks": ""
        }
       }
      }
     },
     "metadata": {},
     "output_type": "display_data"
    }
   ],
   "source": [
    "#visualization of 'bp.2d' after imputing the 262 missing data points. The feature takes no particular distribution as\n",
    "# a majority of the values are centered at the mean\n",
    "fig = px.histogram(df_raw, x='bp.2d', marginal='box', nbins=47, title='bp.2d Distribution')\n",
    "fig.update_layout(bargap=0.1)\n",
    "fig.show()"
   ]
  },
  {
   "cell_type": "code",
   "execution_count": 80,
   "metadata": {},
   "outputs": [
    {
     "data": {
      "application/vnd.plotly.v1+json": {
       "config": {
        "plotlyServerURL": "https://plot.ly"
       },
       "data": [
        {
         "alignmentgroup": "True",
         "bingroup": "x",
         "hovertemplate": "bp.2s=%{x}<br>count=%{y}<extra></extra>",
         "legendgroup": "",
         "marker": {
          "color": "#636efa"
         },
         "name": "",
         "nbinsx": 47,
         "offsetgroup": "",
         "orientation": "v",
         "showlegend": false,
         "type": "histogram",
         "x": [
          152.38297872340425,
          152.38297872340425,
          185,
          152.38297872340425,
          152.38297872340425,
          152.38297872340425,
          161,
          152.38297872340425,
          128,
          152.38297872340425,
          130,
          152.38297872340425,
          152.38297872340425,
          152.38297872340425,
          152.38297872340425,
          120,
          152.38297872340425,
          152.38297872340425,
          152.38297872340425,
          152.38297872340425,
          148,
          149,
          152.38297872340425,
          160,
          110,
          152.38297872340425,
          152.38297872340425,
          152.38297872340425,
          152.38297872340425,
          170,
          139,
          152.38297872340425,
          168,
          180,
          152.38297872340425,
          152.38297872340425,
          152.38297872340425,
          152.38297872340425,
          152.38297872340425,
          160,
          152.38297872340425,
          152.38297872340425,
          136,
          152.38297872340425,
          152.38297872340425,
          152.38297872340425,
          152.38297872340425,
          152.38297872340425,
          152.38297872340425,
          142,
          140,
          152.38297872340425,
          149,
          152.38297872340425,
          152.38297872340425,
          153,
          152.38297872340425,
          152.38297872340425,
          152.38297872340425,
          152.38297872340425,
          160,
          152.38297872340425,
          148,
          152.38297872340425,
          152.38297872340425,
          152.38297872340425,
          152.38297872340425,
          145,
          160,
          152.38297872340425,
          140,
          152.38297872340425,
          152.38297872340425,
          130,
          152.38297872340425,
          144,
          152.38297872340425,
          182,
          152.38297872340425,
          152.38297872340425,
          152.38297872340425,
          152.38297872340425,
          152.38297872340425,
          152.38297872340425,
          152.38297872340425,
          152.38297872340425,
          152.38297872340425,
          152.38297872340425,
          152.38297872340425,
          152.38297872340425,
          152.38297872340425,
          148,
          152.38297872340425,
          152.38297872340425,
          152.38297872340425,
          117,
          152.38297872340425,
          156,
          150,
          158,
          152.38297872340425,
          130,
          152.38297872340425,
          126,
          152.38297872340425,
          152.38297872340425,
          152.38297872340425,
          156,
          170,
          152.38297872340425,
          152.38297872340425,
          158,
          152.38297872340425,
          162,
          152.38297872340425,
          152.38297872340425,
          152.38297872340425,
          152.38297872340425,
          150,
          152.38297872340425,
          150,
          150,
          152.38297872340425,
          158,
          152.38297872340425,
          152.38297872340425,
          152.38297872340425,
          152.38297872340425,
          152.38297872340425,
          152.38297872340425,
          210,
          152.38297872340425,
          152.38297872340425,
          152.38297872340425,
          152.38297872340425,
          152.38297872340425,
          152.38297872340425,
          152.38297872340425,
          152.38297872340425,
          156,
          152.38297872340425,
          152.38297872340425,
          152.38297872340425,
          168,
          152.38297872340425,
          152.38297872340425,
          152.38297872340425,
          152.38297872340425,
          152.38297872340425,
          152.38297872340425,
          152.38297872340425,
          152.38297872340425,
          172,
          136,
          152.38297872340425,
          152.38297872340425,
          152.38297872340425,
          152.38297872340425,
          137,
          152.38297872340425,
          152.38297872340425,
          152.38297872340425,
          152.38297872340425,
          160,
          152.38297872340425,
          152.38297872340425,
          151,
          152.38297872340425,
          152.38297872340425,
          235,
          152.38297872340425,
          136,
          152.38297872340425,
          152.38297872340425,
          152.38297872340425,
          148,
          152.38297872340425,
          152.38297872340425,
          190,
          152.38297872340425,
          208,
          152.38297872340425,
          152.38297872340425,
          136,
          152.38297872340425,
          136,
          148,
          130,
          176,
          152.38297872340425,
          148,
          140,
          152.38297872340425,
          152.38297872340425,
          152.38297872340425,
          152.38297872340425,
          152.38297872340425,
          152.38297872340425,
          170,
          152.38297872340425,
          165,
          152.38297872340425,
          158,
          142,
          180,
          190,
          152.38297872340425,
          152.38297872340425,
          152.38297872340425,
          170,
          152.38297872340425,
          152.38297872340425,
          160,
          152.38297872340425,
          152.38297872340425,
          152.38297872340425,
          152.38297872340425,
          152.38297872340425,
          152.38297872340425,
          152.38297872340425,
          152.38297872340425,
          152.38297872340425,
          152.38297872340425,
          140,
          150,
          152.38297872340425,
          150,
          150,
          160,
          144,
          152.38297872340425,
          152.38297872340425,
          180,
          150,
          146,
          178,
          152.38297872340425,
          152.38297872340425,
          152.38297872340425,
          159,
          152.38297872340425,
          152.38297872340425,
          152.38297872340425,
          152.38297872340425,
          152.38297872340425,
          152.38297872340425,
          152.38297872340425,
          152.38297872340425,
          152.38297872340425,
          152.38297872340425,
          152.38297872340425,
          152.38297872340425,
          152.38297872340425,
          152.38297872340425,
          152.38297872340425,
          152.38297872340425,
          152,
          152.38297872340425,
          152.38297872340425,
          130,
          142,
          152.38297872340425,
          152.38297872340425,
          152.38297872340425,
          152.38297872340425,
          152.38297872340425,
          152.38297872340425,
          152.38297872340425,
          150,
          152.38297872340425,
          130,
          126,
          152.38297872340425,
          152.38297872340425,
          152.38297872340425,
          152.38297872340425,
          152.38297872340425,
          152.38297872340425,
          142,
          152.38297872340425,
          152.38297872340425,
          152.38297872340425,
          152.38297872340425,
          152.38297872340425,
          158,
          128,
          152.38297872340425,
          152.38297872340425,
          152.38297872340425,
          202,
          190,
          152.38297872340425,
          210,
          152.38297872340425,
          150,
          152.38297872340425,
          152.38297872340425,
          152.38297872340425,
          138,
          138,
          152.38297872340425,
          152.38297872340425,
          152.38297872340425,
          152.38297872340425,
          176,
          152.38297872340425,
          152.38297872340425,
          152.38297872340425,
          152.38297872340425,
          152.38297872340425,
          152.38297872340425,
          152.38297872340425,
          152.38297872340425,
          152.38297872340425,
          130,
          152.38297872340425,
          152.38297872340425,
          152.38297872340425,
          152.38297872340425,
          152.38297872340425,
          152.38297872340425,
          130,
          152.38297872340425,
          142,
          152.38297872340425,
          152.38297872340425,
          130,
          138,
          152.38297872340425,
          152.38297872340425,
          152.38297872340425,
          124,
          141,
          152.38297872340425,
          152.38297872340425,
          152.38297872340425,
          152.38297872340425,
          162,
          152.38297872340425,
          152.38297872340425,
          152.38297872340425,
          152.38297872340425,
          152.38297872340425,
          170,
          152.38297872340425,
          152.38297872340425,
          158,
          152.38297872340425,
          152.38297872340425,
          168,
          135,
          142,
          170,
          142,
          170,
          152,
          152.38297872340425,
          110,
          142,
          152.38297872340425,
          140,
          152.38297872340425,
          152.38297872340425,
          152.38297872340425,
          146,
          152.38297872340425,
          158,
          130,
          160,
          152.38297872340425,
          152.38297872340425,
          136,
          136,
          138,
          152.38297872340425,
          160,
          144,
          152.38297872340425,
          166,
          152.38297872340425,
          122,
          152.38297872340425,
          138,
          130,
          152.38297872340425,
          152.38297872340425,
          148,
          174,
          152.38297872340425,
          149,
          142,
          152.38297872340425,
          152.38297872340425,
          170,
          130,
          172,
          126,
          238,
          130,
          146,
          152.38297872340425,
          152.38297872340425,
          152.38297872340425
         ],
         "xaxis": "x",
         "yaxis": "y"
        },
        {
         "alignmentgroup": "True",
         "hovertemplate": "bp.2s=%{x}<extra></extra>",
         "legendgroup": "",
         "marker": {
          "color": "#636efa"
         },
         "name": "",
         "notched": true,
         "offsetgroup": "",
         "showlegend": false,
         "type": "box",
         "x": [
          152.38297872340425,
          152.38297872340425,
          185,
          152.38297872340425,
          152.38297872340425,
          152.38297872340425,
          161,
          152.38297872340425,
          128,
          152.38297872340425,
          130,
          152.38297872340425,
          152.38297872340425,
          152.38297872340425,
          152.38297872340425,
          120,
          152.38297872340425,
          152.38297872340425,
          152.38297872340425,
          152.38297872340425,
          148,
          149,
          152.38297872340425,
          160,
          110,
          152.38297872340425,
          152.38297872340425,
          152.38297872340425,
          152.38297872340425,
          170,
          139,
          152.38297872340425,
          168,
          180,
          152.38297872340425,
          152.38297872340425,
          152.38297872340425,
          152.38297872340425,
          152.38297872340425,
          160,
          152.38297872340425,
          152.38297872340425,
          136,
          152.38297872340425,
          152.38297872340425,
          152.38297872340425,
          152.38297872340425,
          152.38297872340425,
          152.38297872340425,
          142,
          140,
          152.38297872340425,
          149,
          152.38297872340425,
          152.38297872340425,
          153,
          152.38297872340425,
          152.38297872340425,
          152.38297872340425,
          152.38297872340425,
          160,
          152.38297872340425,
          148,
          152.38297872340425,
          152.38297872340425,
          152.38297872340425,
          152.38297872340425,
          145,
          160,
          152.38297872340425,
          140,
          152.38297872340425,
          152.38297872340425,
          130,
          152.38297872340425,
          144,
          152.38297872340425,
          182,
          152.38297872340425,
          152.38297872340425,
          152.38297872340425,
          152.38297872340425,
          152.38297872340425,
          152.38297872340425,
          152.38297872340425,
          152.38297872340425,
          152.38297872340425,
          152.38297872340425,
          152.38297872340425,
          152.38297872340425,
          152.38297872340425,
          148,
          152.38297872340425,
          152.38297872340425,
          152.38297872340425,
          117,
          152.38297872340425,
          156,
          150,
          158,
          152.38297872340425,
          130,
          152.38297872340425,
          126,
          152.38297872340425,
          152.38297872340425,
          152.38297872340425,
          156,
          170,
          152.38297872340425,
          152.38297872340425,
          158,
          152.38297872340425,
          162,
          152.38297872340425,
          152.38297872340425,
          152.38297872340425,
          152.38297872340425,
          150,
          152.38297872340425,
          150,
          150,
          152.38297872340425,
          158,
          152.38297872340425,
          152.38297872340425,
          152.38297872340425,
          152.38297872340425,
          152.38297872340425,
          152.38297872340425,
          210,
          152.38297872340425,
          152.38297872340425,
          152.38297872340425,
          152.38297872340425,
          152.38297872340425,
          152.38297872340425,
          152.38297872340425,
          152.38297872340425,
          156,
          152.38297872340425,
          152.38297872340425,
          152.38297872340425,
          168,
          152.38297872340425,
          152.38297872340425,
          152.38297872340425,
          152.38297872340425,
          152.38297872340425,
          152.38297872340425,
          152.38297872340425,
          152.38297872340425,
          172,
          136,
          152.38297872340425,
          152.38297872340425,
          152.38297872340425,
          152.38297872340425,
          137,
          152.38297872340425,
          152.38297872340425,
          152.38297872340425,
          152.38297872340425,
          160,
          152.38297872340425,
          152.38297872340425,
          151,
          152.38297872340425,
          152.38297872340425,
          235,
          152.38297872340425,
          136,
          152.38297872340425,
          152.38297872340425,
          152.38297872340425,
          148,
          152.38297872340425,
          152.38297872340425,
          190,
          152.38297872340425,
          208,
          152.38297872340425,
          152.38297872340425,
          136,
          152.38297872340425,
          136,
          148,
          130,
          176,
          152.38297872340425,
          148,
          140,
          152.38297872340425,
          152.38297872340425,
          152.38297872340425,
          152.38297872340425,
          152.38297872340425,
          152.38297872340425,
          170,
          152.38297872340425,
          165,
          152.38297872340425,
          158,
          142,
          180,
          190,
          152.38297872340425,
          152.38297872340425,
          152.38297872340425,
          170,
          152.38297872340425,
          152.38297872340425,
          160,
          152.38297872340425,
          152.38297872340425,
          152.38297872340425,
          152.38297872340425,
          152.38297872340425,
          152.38297872340425,
          152.38297872340425,
          152.38297872340425,
          152.38297872340425,
          152.38297872340425,
          140,
          150,
          152.38297872340425,
          150,
          150,
          160,
          144,
          152.38297872340425,
          152.38297872340425,
          180,
          150,
          146,
          178,
          152.38297872340425,
          152.38297872340425,
          152.38297872340425,
          159,
          152.38297872340425,
          152.38297872340425,
          152.38297872340425,
          152.38297872340425,
          152.38297872340425,
          152.38297872340425,
          152.38297872340425,
          152.38297872340425,
          152.38297872340425,
          152.38297872340425,
          152.38297872340425,
          152.38297872340425,
          152.38297872340425,
          152.38297872340425,
          152.38297872340425,
          152.38297872340425,
          152,
          152.38297872340425,
          152.38297872340425,
          130,
          142,
          152.38297872340425,
          152.38297872340425,
          152.38297872340425,
          152.38297872340425,
          152.38297872340425,
          152.38297872340425,
          152.38297872340425,
          150,
          152.38297872340425,
          130,
          126,
          152.38297872340425,
          152.38297872340425,
          152.38297872340425,
          152.38297872340425,
          152.38297872340425,
          152.38297872340425,
          142,
          152.38297872340425,
          152.38297872340425,
          152.38297872340425,
          152.38297872340425,
          152.38297872340425,
          158,
          128,
          152.38297872340425,
          152.38297872340425,
          152.38297872340425,
          202,
          190,
          152.38297872340425,
          210,
          152.38297872340425,
          150,
          152.38297872340425,
          152.38297872340425,
          152.38297872340425,
          138,
          138,
          152.38297872340425,
          152.38297872340425,
          152.38297872340425,
          152.38297872340425,
          176,
          152.38297872340425,
          152.38297872340425,
          152.38297872340425,
          152.38297872340425,
          152.38297872340425,
          152.38297872340425,
          152.38297872340425,
          152.38297872340425,
          152.38297872340425,
          130,
          152.38297872340425,
          152.38297872340425,
          152.38297872340425,
          152.38297872340425,
          152.38297872340425,
          152.38297872340425,
          130,
          152.38297872340425,
          142,
          152.38297872340425,
          152.38297872340425,
          130,
          138,
          152.38297872340425,
          152.38297872340425,
          152.38297872340425,
          124,
          141,
          152.38297872340425,
          152.38297872340425,
          152.38297872340425,
          152.38297872340425,
          162,
          152.38297872340425,
          152.38297872340425,
          152.38297872340425,
          152.38297872340425,
          152.38297872340425,
          170,
          152.38297872340425,
          152.38297872340425,
          158,
          152.38297872340425,
          152.38297872340425,
          168,
          135,
          142,
          170,
          142,
          170,
          152,
          152.38297872340425,
          110,
          142,
          152.38297872340425,
          140,
          152.38297872340425,
          152.38297872340425,
          152.38297872340425,
          146,
          152.38297872340425,
          158,
          130,
          160,
          152.38297872340425,
          152.38297872340425,
          136,
          136,
          138,
          152.38297872340425,
          160,
          144,
          152.38297872340425,
          166,
          152.38297872340425,
          122,
          152.38297872340425,
          138,
          130,
          152.38297872340425,
          152.38297872340425,
          148,
          174,
          152.38297872340425,
          149,
          142,
          152.38297872340425,
          152.38297872340425,
          170,
          130,
          172,
          126,
          238,
          130,
          146,
          152.38297872340425,
          152.38297872340425,
          152.38297872340425
         ],
         "xaxis": "x2",
         "yaxis": "y2"
        }
       ],
       "layout": {
        "bargap": 0.1,
        "barmode": "relative",
        "legend": {
         "tracegroupgap": 0
        },
        "template": {
         "data": {
          "bar": [
           {
            "error_x": {
             "color": "#2a3f5f"
            },
            "error_y": {
             "color": "#2a3f5f"
            },
            "marker": {
             "line": {
              "color": "#E5ECF6",
              "width": 0.5
             }
            },
            "type": "bar"
           }
          ],
          "barpolar": [
           {
            "marker": {
             "line": {
              "color": "#E5ECF6",
              "width": 0.5
             }
            },
            "type": "barpolar"
           }
          ],
          "carpet": [
           {
            "aaxis": {
             "endlinecolor": "#2a3f5f",
             "gridcolor": "white",
             "linecolor": "white",
             "minorgridcolor": "white",
             "startlinecolor": "#2a3f5f"
            },
            "baxis": {
             "endlinecolor": "#2a3f5f",
             "gridcolor": "white",
             "linecolor": "white",
             "minorgridcolor": "white",
             "startlinecolor": "#2a3f5f"
            },
            "type": "carpet"
           }
          ],
          "choropleth": [
           {
            "colorbar": {
             "outlinewidth": 0,
             "ticks": ""
            },
            "type": "choropleth"
           }
          ],
          "contour": [
           {
            "colorbar": {
             "outlinewidth": 0,
             "ticks": ""
            },
            "colorscale": [
             [
              0,
              "#0d0887"
             ],
             [
              0.1111111111111111,
              "#46039f"
             ],
             [
              0.2222222222222222,
              "#7201a8"
             ],
             [
              0.3333333333333333,
              "#9c179e"
             ],
             [
              0.4444444444444444,
              "#bd3786"
             ],
             [
              0.5555555555555556,
              "#d8576b"
             ],
             [
              0.6666666666666666,
              "#ed7953"
             ],
             [
              0.7777777777777778,
              "#fb9f3a"
             ],
             [
              0.8888888888888888,
              "#fdca26"
             ],
             [
              1,
              "#f0f921"
             ]
            ],
            "type": "contour"
           }
          ],
          "contourcarpet": [
           {
            "colorbar": {
             "outlinewidth": 0,
             "ticks": ""
            },
            "type": "contourcarpet"
           }
          ],
          "heatmap": [
           {
            "colorbar": {
             "outlinewidth": 0,
             "ticks": ""
            },
            "colorscale": [
             [
              0,
              "#0d0887"
             ],
             [
              0.1111111111111111,
              "#46039f"
             ],
             [
              0.2222222222222222,
              "#7201a8"
             ],
             [
              0.3333333333333333,
              "#9c179e"
             ],
             [
              0.4444444444444444,
              "#bd3786"
             ],
             [
              0.5555555555555556,
              "#d8576b"
             ],
             [
              0.6666666666666666,
              "#ed7953"
             ],
             [
              0.7777777777777778,
              "#fb9f3a"
             ],
             [
              0.8888888888888888,
              "#fdca26"
             ],
             [
              1,
              "#f0f921"
             ]
            ],
            "type": "heatmap"
           }
          ],
          "heatmapgl": [
           {
            "colorbar": {
             "outlinewidth": 0,
             "ticks": ""
            },
            "colorscale": [
             [
              0,
              "#0d0887"
             ],
             [
              0.1111111111111111,
              "#46039f"
             ],
             [
              0.2222222222222222,
              "#7201a8"
             ],
             [
              0.3333333333333333,
              "#9c179e"
             ],
             [
              0.4444444444444444,
              "#bd3786"
             ],
             [
              0.5555555555555556,
              "#d8576b"
             ],
             [
              0.6666666666666666,
              "#ed7953"
             ],
             [
              0.7777777777777778,
              "#fb9f3a"
             ],
             [
              0.8888888888888888,
              "#fdca26"
             ],
             [
              1,
              "#f0f921"
             ]
            ],
            "type": "heatmapgl"
           }
          ],
          "histogram": [
           {
            "marker": {
             "colorbar": {
              "outlinewidth": 0,
              "ticks": ""
             }
            },
            "type": "histogram"
           }
          ],
          "histogram2d": [
           {
            "colorbar": {
             "outlinewidth": 0,
             "ticks": ""
            },
            "colorscale": [
             [
              0,
              "#0d0887"
             ],
             [
              0.1111111111111111,
              "#46039f"
             ],
             [
              0.2222222222222222,
              "#7201a8"
             ],
             [
              0.3333333333333333,
              "#9c179e"
             ],
             [
              0.4444444444444444,
              "#bd3786"
             ],
             [
              0.5555555555555556,
              "#d8576b"
             ],
             [
              0.6666666666666666,
              "#ed7953"
             ],
             [
              0.7777777777777778,
              "#fb9f3a"
             ],
             [
              0.8888888888888888,
              "#fdca26"
             ],
             [
              1,
              "#f0f921"
             ]
            ],
            "type": "histogram2d"
           }
          ],
          "histogram2dcontour": [
           {
            "colorbar": {
             "outlinewidth": 0,
             "ticks": ""
            },
            "colorscale": [
             [
              0,
              "#0d0887"
             ],
             [
              0.1111111111111111,
              "#46039f"
             ],
             [
              0.2222222222222222,
              "#7201a8"
             ],
             [
              0.3333333333333333,
              "#9c179e"
             ],
             [
              0.4444444444444444,
              "#bd3786"
             ],
             [
              0.5555555555555556,
              "#d8576b"
             ],
             [
              0.6666666666666666,
              "#ed7953"
             ],
             [
              0.7777777777777778,
              "#fb9f3a"
             ],
             [
              0.8888888888888888,
              "#fdca26"
             ],
             [
              1,
              "#f0f921"
             ]
            ],
            "type": "histogram2dcontour"
           }
          ],
          "mesh3d": [
           {
            "colorbar": {
             "outlinewidth": 0,
             "ticks": ""
            },
            "type": "mesh3d"
           }
          ],
          "parcoords": [
           {
            "line": {
             "colorbar": {
              "outlinewidth": 0,
              "ticks": ""
             }
            },
            "type": "parcoords"
           }
          ],
          "pie": [
           {
            "automargin": true,
            "type": "pie"
           }
          ],
          "scatter": [
           {
            "marker": {
             "colorbar": {
              "outlinewidth": 0,
              "ticks": ""
             }
            },
            "type": "scatter"
           }
          ],
          "scatter3d": [
           {
            "line": {
             "colorbar": {
              "outlinewidth": 0,
              "ticks": ""
             }
            },
            "marker": {
             "colorbar": {
              "outlinewidth": 0,
              "ticks": ""
             }
            },
            "type": "scatter3d"
           }
          ],
          "scattercarpet": [
           {
            "marker": {
             "colorbar": {
              "outlinewidth": 0,
              "ticks": ""
             }
            },
            "type": "scattercarpet"
           }
          ],
          "scattergeo": [
           {
            "marker": {
             "colorbar": {
              "outlinewidth": 0,
              "ticks": ""
             }
            },
            "type": "scattergeo"
           }
          ],
          "scattergl": [
           {
            "marker": {
             "colorbar": {
              "outlinewidth": 0,
              "ticks": ""
             }
            },
            "type": "scattergl"
           }
          ],
          "scattermapbox": [
           {
            "marker": {
             "colorbar": {
              "outlinewidth": 0,
              "ticks": ""
             }
            },
            "type": "scattermapbox"
           }
          ],
          "scatterpolar": [
           {
            "marker": {
             "colorbar": {
              "outlinewidth": 0,
              "ticks": ""
             }
            },
            "type": "scatterpolar"
           }
          ],
          "scatterpolargl": [
           {
            "marker": {
             "colorbar": {
              "outlinewidth": 0,
              "ticks": ""
             }
            },
            "type": "scatterpolargl"
           }
          ],
          "scatterternary": [
           {
            "marker": {
             "colorbar": {
              "outlinewidth": 0,
              "ticks": ""
             }
            },
            "type": "scatterternary"
           }
          ],
          "surface": [
           {
            "colorbar": {
             "outlinewidth": 0,
             "ticks": ""
            },
            "colorscale": [
             [
              0,
              "#0d0887"
             ],
             [
              0.1111111111111111,
              "#46039f"
             ],
             [
              0.2222222222222222,
              "#7201a8"
             ],
             [
              0.3333333333333333,
              "#9c179e"
             ],
             [
              0.4444444444444444,
              "#bd3786"
             ],
             [
              0.5555555555555556,
              "#d8576b"
             ],
             [
              0.6666666666666666,
              "#ed7953"
             ],
             [
              0.7777777777777778,
              "#fb9f3a"
             ],
             [
              0.8888888888888888,
              "#fdca26"
             ],
             [
              1,
              "#f0f921"
             ]
            ],
            "type": "surface"
           }
          ],
          "table": [
           {
            "cells": {
             "fill": {
              "color": "#EBF0F8"
             },
             "line": {
              "color": "white"
             }
            },
            "header": {
             "fill": {
              "color": "#C8D4E3"
             },
             "line": {
              "color": "white"
             }
            },
            "type": "table"
           }
          ]
         },
         "layout": {
          "annotationdefaults": {
           "arrowcolor": "#2a3f5f",
           "arrowhead": 0,
           "arrowwidth": 1
          },
          "autotypenumbers": "strict",
          "coloraxis": {
           "colorbar": {
            "outlinewidth": 0,
            "ticks": ""
           }
          },
          "colorscale": {
           "diverging": [
            [
             0,
             "#8e0152"
            ],
            [
             0.1,
             "#c51b7d"
            ],
            [
             0.2,
             "#de77ae"
            ],
            [
             0.3,
             "#f1b6da"
            ],
            [
             0.4,
             "#fde0ef"
            ],
            [
             0.5,
             "#f7f7f7"
            ],
            [
             0.6,
             "#e6f5d0"
            ],
            [
             0.7,
             "#b8e186"
            ],
            [
             0.8,
             "#7fbc41"
            ],
            [
             0.9,
             "#4d9221"
            ],
            [
             1,
             "#276419"
            ]
           ],
           "sequential": [
            [
             0,
             "#0d0887"
            ],
            [
             0.1111111111111111,
             "#46039f"
            ],
            [
             0.2222222222222222,
             "#7201a8"
            ],
            [
             0.3333333333333333,
             "#9c179e"
            ],
            [
             0.4444444444444444,
             "#bd3786"
            ],
            [
             0.5555555555555556,
             "#d8576b"
            ],
            [
             0.6666666666666666,
             "#ed7953"
            ],
            [
             0.7777777777777778,
             "#fb9f3a"
            ],
            [
             0.8888888888888888,
             "#fdca26"
            ],
            [
             1,
             "#f0f921"
            ]
           ],
           "sequentialminus": [
            [
             0,
             "#0d0887"
            ],
            [
             0.1111111111111111,
             "#46039f"
            ],
            [
             0.2222222222222222,
             "#7201a8"
            ],
            [
             0.3333333333333333,
             "#9c179e"
            ],
            [
             0.4444444444444444,
             "#bd3786"
            ],
            [
             0.5555555555555556,
             "#d8576b"
            ],
            [
             0.6666666666666666,
             "#ed7953"
            ],
            [
             0.7777777777777778,
             "#fb9f3a"
            ],
            [
             0.8888888888888888,
             "#fdca26"
            ],
            [
             1,
             "#f0f921"
            ]
           ]
          },
          "colorway": [
           "#636efa",
           "#EF553B",
           "#00cc96",
           "#ab63fa",
           "#FFA15A",
           "#19d3f3",
           "#FF6692",
           "#B6E880",
           "#FF97FF",
           "#FECB52"
          ],
          "font": {
           "color": "#2a3f5f"
          },
          "geo": {
           "bgcolor": "white",
           "lakecolor": "white",
           "landcolor": "#E5ECF6",
           "showlakes": true,
           "showland": true,
           "subunitcolor": "white"
          },
          "hoverlabel": {
           "align": "left"
          },
          "hovermode": "closest",
          "mapbox": {
           "style": "light"
          },
          "paper_bgcolor": "white",
          "plot_bgcolor": "#E5ECF6",
          "polar": {
           "angularaxis": {
            "gridcolor": "white",
            "linecolor": "white",
            "ticks": ""
           },
           "bgcolor": "#E5ECF6",
           "radialaxis": {
            "gridcolor": "white",
            "linecolor": "white",
            "ticks": ""
           }
          },
          "scene": {
           "xaxis": {
            "backgroundcolor": "#E5ECF6",
            "gridcolor": "white",
            "gridwidth": 2,
            "linecolor": "white",
            "showbackground": true,
            "ticks": "",
            "zerolinecolor": "white"
           },
           "yaxis": {
            "backgroundcolor": "#E5ECF6",
            "gridcolor": "white",
            "gridwidth": 2,
            "linecolor": "white",
            "showbackground": true,
            "ticks": "",
            "zerolinecolor": "white"
           },
           "zaxis": {
            "backgroundcolor": "#E5ECF6",
            "gridcolor": "white",
            "gridwidth": 2,
            "linecolor": "white",
            "showbackground": true,
            "ticks": "",
            "zerolinecolor": "white"
           }
          },
          "shapedefaults": {
           "line": {
            "color": "#2a3f5f"
           }
          },
          "ternary": {
           "aaxis": {
            "gridcolor": "white",
            "linecolor": "white",
            "ticks": ""
           },
           "baxis": {
            "gridcolor": "white",
            "linecolor": "white",
            "ticks": ""
           },
           "bgcolor": "#E5ECF6",
           "caxis": {
            "gridcolor": "white",
            "linecolor": "white",
            "ticks": ""
           }
          },
          "title": {
           "x": 0.05
          },
          "xaxis": {
           "automargin": true,
           "gridcolor": "white",
           "linecolor": "white",
           "ticks": "",
           "title": {
            "standoff": 15
           },
           "zerolinecolor": "white",
           "zerolinewidth": 2
          },
          "yaxis": {
           "automargin": true,
           "gridcolor": "white",
           "linecolor": "white",
           "ticks": "",
           "title": {
            "standoff": 15
           },
           "zerolinecolor": "white",
           "zerolinewidth": 2
          }
         }
        },
        "title": {
         "text": "bp.2d Distribution"
        },
        "xaxis": {
         "anchor": "y",
         "domain": [
          0,
          1
         ],
         "title": {
          "text": "bp.2s"
         }
        },
        "xaxis2": {
         "anchor": "y2",
         "domain": [
          0,
          1
         ],
         "matches": "x",
         "showgrid": true,
         "showticklabels": false
        },
        "yaxis": {
         "anchor": "x",
         "domain": [
          0,
          0.8316
         ],
         "title": {
          "text": "count"
         }
        },
        "yaxis2": {
         "anchor": "x2",
         "domain": [
          0.8416,
          1
         ],
         "matches": "y2",
         "showgrid": false,
         "showline": false,
         "showticklabels": false,
         "ticks": ""
        }
       }
      }
     },
     "metadata": {},
     "output_type": "display_data"
    }
   ],
   "source": [
    "#similar case for the 'bp.2s' feature - most values are centered on the mean\n",
    "#this two features are a possible source of bias hence they will eliminated on feature selection in future steps\n",
    "fig = px.histogram(df_raw, x='bp.2s', marginal='box', nbins=47, title='bp.2d Distribution')\n",
    "fig.update_layout(bargap=0.1)\n",
    "fig.show()"
   ]
  },
  {
   "cell_type": "code",
   "execution_count": 81,
   "metadata": {},
   "outputs": [
    {
     "data": {
      "application/vnd.plotly.v1+json": {
       "config": {
        "plotlyServerURL": "https://plot.ly"
       },
       "data": [
        {
         "alignmentgroup": "True",
         "bingroup": "x",
         "hovertemplate": "id=%{x}<br>count=%{y}<extra></extra>",
         "legendgroup": "",
         "marker": {
          "color": "#636efa"
         },
         "name": "",
         "nbinsx": 47,
         "offsetgroup": "",
         "orientation": "v",
         "showlegend": false,
         "type": "histogram",
         "x": [
          0,
          1,
          2,
          3,
          4,
          5,
          6,
          7,
          8,
          9,
          10,
          11,
          12,
          13,
          14,
          15,
          16,
          17,
          18,
          19,
          20,
          21,
          22,
          23,
          24,
          25,
          26,
          27,
          28,
          29,
          30,
          31,
          32,
          33,
          34,
          35,
          36,
          37,
          38,
          39,
          40,
          41,
          42,
          43,
          44,
          45,
          46,
          47,
          48,
          49,
          50,
          51,
          52,
          53,
          54,
          55,
          56,
          57,
          58,
          59,
          60,
          61,
          62,
          63,
          64,
          65,
          66,
          67,
          68,
          69,
          70,
          71,
          72,
          73,
          74,
          75,
          76,
          77,
          78,
          79,
          80,
          81,
          82,
          83,
          84,
          85,
          86,
          87,
          88,
          89,
          90,
          91,
          92,
          93,
          94,
          95,
          96,
          97,
          98,
          99,
          100,
          101,
          102,
          103,
          104,
          105,
          106,
          107,
          108,
          109,
          110,
          111,
          112,
          113,
          114,
          115,
          116,
          117,
          118,
          119,
          120,
          121,
          122,
          123,
          124,
          125,
          126,
          127,
          128,
          129,
          130,
          131,
          132,
          133,
          134,
          135,
          136,
          137,
          138,
          139,
          140,
          141,
          142,
          143,
          144,
          145,
          146,
          147,
          148,
          149,
          150,
          151,
          152,
          153,
          154,
          155,
          156,
          157,
          158,
          159,
          160,
          161,
          162,
          163,
          164,
          165,
          166,
          167,
          168,
          169,
          170,
          171,
          172,
          173,
          174,
          175,
          176,
          177,
          178,
          179,
          180,
          181,
          182,
          183,
          184,
          185,
          186,
          187,
          188,
          189,
          190,
          191,
          192,
          193,
          194,
          195,
          196,
          197,
          198,
          199,
          200,
          201,
          202,
          203,
          204,
          205,
          206,
          207,
          208,
          209,
          210,
          211,
          212,
          213,
          214,
          215,
          216,
          217,
          218,
          219,
          220,
          221,
          222,
          223,
          224,
          225,
          226,
          227,
          228,
          229,
          230,
          231,
          232,
          233,
          234,
          235,
          236,
          237,
          238,
          239,
          240,
          241,
          242,
          243,
          244,
          245,
          246,
          247,
          248,
          249,
          250,
          251,
          252,
          253,
          254,
          255,
          256,
          257,
          258,
          259,
          260,
          261,
          262,
          263,
          264,
          265,
          266,
          267,
          268,
          269,
          270,
          271,
          272,
          273,
          274,
          275,
          276,
          277,
          278,
          279,
          280,
          281,
          282,
          283,
          284,
          285,
          286,
          287,
          288,
          289,
          290,
          291,
          292,
          293,
          294,
          295,
          296,
          297,
          298,
          299,
          300,
          301,
          302,
          303,
          304,
          305,
          306,
          307,
          308,
          309,
          310,
          311,
          312,
          313,
          314,
          315,
          316,
          317,
          318,
          319,
          320,
          321,
          322,
          323,
          324,
          325,
          326,
          327,
          328,
          329,
          330,
          331,
          332,
          333,
          334,
          335,
          336,
          337,
          338,
          339,
          340,
          341,
          342,
          343,
          344,
          345,
          346,
          347,
          348,
          349,
          350,
          351,
          352,
          353,
          354,
          355,
          356,
          357,
          358,
          359,
          360,
          361,
          362,
          363,
          364,
          365,
          366,
          367,
          368,
          369,
          370,
          371,
          372,
          373,
          374,
          375,
          376,
          377,
          378,
          379,
          380,
          381,
          382,
          383,
          384,
          385,
          386,
          387,
          388,
          389,
          390,
          391,
          392,
          393,
          394,
          395,
          396,
          397,
          398,
          399,
          400,
          401,
          402
         ],
         "xaxis": "x",
         "yaxis": "y"
        },
        {
         "alignmentgroup": "True",
         "hovertemplate": "id=%{x}<extra></extra>",
         "legendgroup": "",
         "marker": {
          "color": "#636efa"
         },
         "name": "",
         "notched": true,
         "offsetgroup": "",
         "showlegend": false,
         "type": "box",
         "x": [
          0,
          1,
          2,
          3,
          4,
          5,
          6,
          7,
          8,
          9,
          10,
          11,
          12,
          13,
          14,
          15,
          16,
          17,
          18,
          19,
          20,
          21,
          22,
          23,
          24,
          25,
          26,
          27,
          28,
          29,
          30,
          31,
          32,
          33,
          34,
          35,
          36,
          37,
          38,
          39,
          40,
          41,
          42,
          43,
          44,
          45,
          46,
          47,
          48,
          49,
          50,
          51,
          52,
          53,
          54,
          55,
          56,
          57,
          58,
          59,
          60,
          61,
          62,
          63,
          64,
          65,
          66,
          67,
          68,
          69,
          70,
          71,
          72,
          73,
          74,
          75,
          76,
          77,
          78,
          79,
          80,
          81,
          82,
          83,
          84,
          85,
          86,
          87,
          88,
          89,
          90,
          91,
          92,
          93,
          94,
          95,
          96,
          97,
          98,
          99,
          100,
          101,
          102,
          103,
          104,
          105,
          106,
          107,
          108,
          109,
          110,
          111,
          112,
          113,
          114,
          115,
          116,
          117,
          118,
          119,
          120,
          121,
          122,
          123,
          124,
          125,
          126,
          127,
          128,
          129,
          130,
          131,
          132,
          133,
          134,
          135,
          136,
          137,
          138,
          139,
          140,
          141,
          142,
          143,
          144,
          145,
          146,
          147,
          148,
          149,
          150,
          151,
          152,
          153,
          154,
          155,
          156,
          157,
          158,
          159,
          160,
          161,
          162,
          163,
          164,
          165,
          166,
          167,
          168,
          169,
          170,
          171,
          172,
          173,
          174,
          175,
          176,
          177,
          178,
          179,
          180,
          181,
          182,
          183,
          184,
          185,
          186,
          187,
          188,
          189,
          190,
          191,
          192,
          193,
          194,
          195,
          196,
          197,
          198,
          199,
          200,
          201,
          202,
          203,
          204,
          205,
          206,
          207,
          208,
          209,
          210,
          211,
          212,
          213,
          214,
          215,
          216,
          217,
          218,
          219,
          220,
          221,
          222,
          223,
          224,
          225,
          226,
          227,
          228,
          229,
          230,
          231,
          232,
          233,
          234,
          235,
          236,
          237,
          238,
          239,
          240,
          241,
          242,
          243,
          244,
          245,
          246,
          247,
          248,
          249,
          250,
          251,
          252,
          253,
          254,
          255,
          256,
          257,
          258,
          259,
          260,
          261,
          262,
          263,
          264,
          265,
          266,
          267,
          268,
          269,
          270,
          271,
          272,
          273,
          274,
          275,
          276,
          277,
          278,
          279,
          280,
          281,
          282,
          283,
          284,
          285,
          286,
          287,
          288,
          289,
          290,
          291,
          292,
          293,
          294,
          295,
          296,
          297,
          298,
          299,
          300,
          301,
          302,
          303,
          304,
          305,
          306,
          307,
          308,
          309,
          310,
          311,
          312,
          313,
          314,
          315,
          316,
          317,
          318,
          319,
          320,
          321,
          322,
          323,
          324,
          325,
          326,
          327,
          328,
          329,
          330,
          331,
          332,
          333,
          334,
          335,
          336,
          337,
          338,
          339,
          340,
          341,
          342,
          343,
          344,
          345,
          346,
          347,
          348,
          349,
          350,
          351,
          352,
          353,
          354,
          355,
          356,
          357,
          358,
          359,
          360,
          361,
          362,
          363,
          364,
          365,
          366,
          367,
          368,
          369,
          370,
          371,
          372,
          373,
          374,
          375,
          376,
          377,
          378,
          379,
          380,
          381,
          382,
          383,
          384,
          385,
          386,
          387,
          388,
          389,
          390,
          391,
          392,
          393,
          394,
          395,
          396,
          397,
          398,
          399,
          400,
          401,
          402
         ],
         "xaxis": "x2",
         "yaxis": "y2"
        }
       ],
       "layout": {
        "bargap": 0.1,
        "barmode": "relative",
        "legend": {
         "tracegroupgap": 0
        },
        "template": {
         "data": {
          "bar": [
           {
            "error_x": {
             "color": "#2a3f5f"
            },
            "error_y": {
             "color": "#2a3f5f"
            },
            "marker": {
             "line": {
              "color": "#E5ECF6",
              "width": 0.5
             }
            },
            "type": "bar"
           }
          ],
          "barpolar": [
           {
            "marker": {
             "line": {
              "color": "#E5ECF6",
              "width": 0.5
             }
            },
            "type": "barpolar"
           }
          ],
          "carpet": [
           {
            "aaxis": {
             "endlinecolor": "#2a3f5f",
             "gridcolor": "white",
             "linecolor": "white",
             "minorgridcolor": "white",
             "startlinecolor": "#2a3f5f"
            },
            "baxis": {
             "endlinecolor": "#2a3f5f",
             "gridcolor": "white",
             "linecolor": "white",
             "minorgridcolor": "white",
             "startlinecolor": "#2a3f5f"
            },
            "type": "carpet"
           }
          ],
          "choropleth": [
           {
            "colorbar": {
             "outlinewidth": 0,
             "ticks": ""
            },
            "type": "choropleth"
           }
          ],
          "contour": [
           {
            "colorbar": {
             "outlinewidth": 0,
             "ticks": ""
            },
            "colorscale": [
             [
              0,
              "#0d0887"
             ],
             [
              0.1111111111111111,
              "#46039f"
             ],
             [
              0.2222222222222222,
              "#7201a8"
             ],
             [
              0.3333333333333333,
              "#9c179e"
             ],
             [
              0.4444444444444444,
              "#bd3786"
             ],
             [
              0.5555555555555556,
              "#d8576b"
             ],
             [
              0.6666666666666666,
              "#ed7953"
             ],
             [
              0.7777777777777778,
              "#fb9f3a"
             ],
             [
              0.8888888888888888,
              "#fdca26"
             ],
             [
              1,
              "#f0f921"
             ]
            ],
            "type": "contour"
           }
          ],
          "contourcarpet": [
           {
            "colorbar": {
             "outlinewidth": 0,
             "ticks": ""
            },
            "type": "contourcarpet"
           }
          ],
          "heatmap": [
           {
            "colorbar": {
             "outlinewidth": 0,
             "ticks": ""
            },
            "colorscale": [
             [
              0,
              "#0d0887"
             ],
             [
              0.1111111111111111,
              "#46039f"
             ],
             [
              0.2222222222222222,
              "#7201a8"
             ],
             [
              0.3333333333333333,
              "#9c179e"
             ],
             [
              0.4444444444444444,
              "#bd3786"
             ],
             [
              0.5555555555555556,
              "#d8576b"
             ],
             [
              0.6666666666666666,
              "#ed7953"
             ],
             [
              0.7777777777777778,
              "#fb9f3a"
             ],
             [
              0.8888888888888888,
              "#fdca26"
             ],
             [
              1,
              "#f0f921"
             ]
            ],
            "type": "heatmap"
           }
          ],
          "heatmapgl": [
           {
            "colorbar": {
             "outlinewidth": 0,
             "ticks": ""
            },
            "colorscale": [
             [
              0,
              "#0d0887"
             ],
             [
              0.1111111111111111,
              "#46039f"
             ],
             [
              0.2222222222222222,
              "#7201a8"
             ],
             [
              0.3333333333333333,
              "#9c179e"
             ],
             [
              0.4444444444444444,
              "#bd3786"
             ],
             [
              0.5555555555555556,
              "#d8576b"
             ],
             [
              0.6666666666666666,
              "#ed7953"
             ],
             [
              0.7777777777777778,
              "#fb9f3a"
             ],
             [
              0.8888888888888888,
              "#fdca26"
             ],
             [
              1,
              "#f0f921"
             ]
            ],
            "type": "heatmapgl"
           }
          ],
          "histogram": [
           {
            "marker": {
             "colorbar": {
              "outlinewidth": 0,
              "ticks": ""
             }
            },
            "type": "histogram"
           }
          ],
          "histogram2d": [
           {
            "colorbar": {
             "outlinewidth": 0,
             "ticks": ""
            },
            "colorscale": [
             [
              0,
              "#0d0887"
             ],
             [
              0.1111111111111111,
              "#46039f"
             ],
             [
              0.2222222222222222,
              "#7201a8"
             ],
             [
              0.3333333333333333,
              "#9c179e"
             ],
             [
              0.4444444444444444,
              "#bd3786"
             ],
             [
              0.5555555555555556,
              "#d8576b"
             ],
             [
              0.6666666666666666,
              "#ed7953"
             ],
             [
              0.7777777777777778,
              "#fb9f3a"
             ],
             [
              0.8888888888888888,
              "#fdca26"
             ],
             [
              1,
              "#f0f921"
             ]
            ],
            "type": "histogram2d"
           }
          ],
          "histogram2dcontour": [
           {
            "colorbar": {
             "outlinewidth": 0,
             "ticks": ""
            },
            "colorscale": [
             [
              0,
              "#0d0887"
             ],
             [
              0.1111111111111111,
              "#46039f"
             ],
             [
              0.2222222222222222,
              "#7201a8"
             ],
             [
              0.3333333333333333,
              "#9c179e"
             ],
             [
              0.4444444444444444,
              "#bd3786"
             ],
             [
              0.5555555555555556,
              "#d8576b"
             ],
             [
              0.6666666666666666,
              "#ed7953"
             ],
             [
              0.7777777777777778,
              "#fb9f3a"
             ],
             [
              0.8888888888888888,
              "#fdca26"
             ],
             [
              1,
              "#f0f921"
             ]
            ],
            "type": "histogram2dcontour"
           }
          ],
          "mesh3d": [
           {
            "colorbar": {
             "outlinewidth": 0,
             "ticks": ""
            },
            "type": "mesh3d"
           }
          ],
          "parcoords": [
           {
            "line": {
             "colorbar": {
              "outlinewidth": 0,
              "ticks": ""
             }
            },
            "type": "parcoords"
           }
          ],
          "pie": [
           {
            "automargin": true,
            "type": "pie"
           }
          ],
          "scatter": [
           {
            "marker": {
             "colorbar": {
              "outlinewidth": 0,
              "ticks": ""
             }
            },
            "type": "scatter"
           }
          ],
          "scatter3d": [
           {
            "line": {
             "colorbar": {
              "outlinewidth": 0,
              "ticks": ""
             }
            },
            "marker": {
             "colorbar": {
              "outlinewidth": 0,
              "ticks": ""
             }
            },
            "type": "scatter3d"
           }
          ],
          "scattercarpet": [
           {
            "marker": {
             "colorbar": {
              "outlinewidth": 0,
              "ticks": ""
             }
            },
            "type": "scattercarpet"
           }
          ],
          "scattergeo": [
           {
            "marker": {
             "colorbar": {
              "outlinewidth": 0,
              "ticks": ""
             }
            },
            "type": "scattergeo"
           }
          ],
          "scattergl": [
           {
            "marker": {
             "colorbar": {
              "outlinewidth": 0,
              "ticks": ""
             }
            },
            "type": "scattergl"
           }
          ],
          "scattermapbox": [
           {
            "marker": {
             "colorbar": {
              "outlinewidth": 0,
              "ticks": ""
             }
            },
            "type": "scattermapbox"
           }
          ],
          "scatterpolar": [
           {
            "marker": {
             "colorbar": {
              "outlinewidth": 0,
              "ticks": ""
             }
            },
            "type": "scatterpolar"
           }
          ],
          "scatterpolargl": [
           {
            "marker": {
             "colorbar": {
              "outlinewidth": 0,
              "ticks": ""
             }
            },
            "type": "scatterpolargl"
           }
          ],
          "scatterternary": [
           {
            "marker": {
             "colorbar": {
              "outlinewidth": 0,
              "ticks": ""
             }
            },
            "type": "scatterternary"
           }
          ],
          "surface": [
           {
            "colorbar": {
             "outlinewidth": 0,
             "ticks": ""
            },
            "colorscale": [
             [
              0,
              "#0d0887"
             ],
             [
              0.1111111111111111,
              "#46039f"
             ],
             [
              0.2222222222222222,
              "#7201a8"
             ],
             [
              0.3333333333333333,
              "#9c179e"
             ],
             [
              0.4444444444444444,
              "#bd3786"
             ],
             [
              0.5555555555555556,
              "#d8576b"
             ],
             [
              0.6666666666666666,
              "#ed7953"
             ],
             [
              0.7777777777777778,
              "#fb9f3a"
             ],
             [
              0.8888888888888888,
              "#fdca26"
             ],
             [
              1,
              "#f0f921"
             ]
            ],
            "type": "surface"
           }
          ],
          "table": [
           {
            "cells": {
             "fill": {
              "color": "#EBF0F8"
             },
             "line": {
              "color": "white"
             }
            },
            "header": {
             "fill": {
              "color": "#C8D4E3"
             },
             "line": {
              "color": "white"
             }
            },
            "type": "table"
           }
          ]
         },
         "layout": {
          "annotationdefaults": {
           "arrowcolor": "#2a3f5f",
           "arrowhead": 0,
           "arrowwidth": 1
          },
          "autotypenumbers": "strict",
          "coloraxis": {
           "colorbar": {
            "outlinewidth": 0,
            "ticks": ""
           }
          },
          "colorscale": {
           "diverging": [
            [
             0,
             "#8e0152"
            ],
            [
             0.1,
             "#c51b7d"
            ],
            [
             0.2,
             "#de77ae"
            ],
            [
             0.3,
             "#f1b6da"
            ],
            [
             0.4,
             "#fde0ef"
            ],
            [
             0.5,
             "#f7f7f7"
            ],
            [
             0.6,
             "#e6f5d0"
            ],
            [
             0.7,
             "#b8e186"
            ],
            [
             0.8,
             "#7fbc41"
            ],
            [
             0.9,
             "#4d9221"
            ],
            [
             1,
             "#276419"
            ]
           ],
           "sequential": [
            [
             0,
             "#0d0887"
            ],
            [
             0.1111111111111111,
             "#46039f"
            ],
            [
             0.2222222222222222,
             "#7201a8"
            ],
            [
             0.3333333333333333,
             "#9c179e"
            ],
            [
             0.4444444444444444,
             "#bd3786"
            ],
            [
             0.5555555555555556,
             "#d8576b"
            ],
            [
             0.6666666666666666,
             "#ed7953"
            ],
            [
             0.7777777777777778,
             "#fb9f3a"
            ],
            [
             0.8888888888888888,
             "#fdca26"
            ],
            [
             1,
             "#f0f921"
            ]
           ],
           "sequentialminus": [
            [
             0,
             "#0d0887"
            ],
            [
             0.1111111111111111,
             "#46039f"
            ],
            [
             0.2222222222222222,
             "#7201a8"
            ],
            [
             0.3333333333333333,
             "#9c179e"
            ],
            [
             0.4444444444444444,
             "#bd3786"
            ],
            [
             0.5555555555555556,
             "#d8576b"
            ],
            [
             0.6666666666666666,
             "#ed7953"
            ],
            [
             0.7777777777777778,
             "#fb9f3a"
            ],
            [
             0.8888888888888888,
             "#fdca26"
            ],
            [
             1,
             "#f0f921"
            ]
           ]
          },
          "colorway": [
           "#636efa",
           "#EF553B",
           "#00cc96",
           "#ab63fa",
           "#FFA15A",
           "#19d3f3",
           "#FF6692",
           "#B6E880",
           "#FF97FF",
           "#FECB52"
          ],
          "font": {
           "color": "#2a3f5f"
          },
          "geo": {
           "bgcolor": "white",
           "lakecolor": "white",
           "landcolor": "#E5ECF6",
           "showlakes": true,
           "showland": true,
           "subunitcolor": "white"
          },
          "hoverlabel": {
           "align": "left"
          },
          "hovermode": "closest",
          "mapbox": {
           "style": "light"
          },
          "paper_bgcolor": "white",
          "plot_bgcolor": "#E5ECF6",
          "polar": {
           "angularaxis": {
            "gridcolor": "white",
            "linecolor": "white",
            "ticks": ""
           },
           "bgcolor": "#E5ECF6",
           "radialaxis": {
            "gridcolor": "white",
            "linecolor": "white",
            "ticks": ""
           }
          },
          "scene": {
           "xaxis": {
            "backgroundcolor": "#E5ECF6",
            "gridcolor": "white",
            "gridwidth": 2,
            "linecolor": "white",
            "showbackground": true,
            "ticks": "",
            "zerolinecolor": "white"
           },
           "yaxis": {
            "backgroundcolor": "#E5ECF6",
            "gridcolor": "white",
            "gridwidth": 2,
            "linecolor": "white",
            "showbackground": true,
            "ticks": "",
            "zerolinecolor": "white"
           },
           "zaxis": {
            "backgroundcolor": "#E5ECF6",
            "gridcolor": "white",
            "gridwidth": 2,
            "linecolor": "white",
            "showbackground": true,
            "ticks": "",
            "zerolinecolor": "white"
           }
          },
          "shapedefaults": {
           "line": {
            "color": "#2a3f5f"
           }
          },
          "ternary": {
           "aaxis": {
            "gridcolor": "white",
            "linecolor": "white",
            "ticks": ""
           },
           "baxis": {
            "gridcolor": "white",
            "linecolor": "white",
            "ticks": ""
           },
           "bgcolor": "#E5ECF6",
           "caxis": {
            "gridcolor": "white",
            "linecolor": "white",
            "ticks": ""
           }
          },
          "title": {
           "x": 0.05
          },
          "xaxis": {
           "automargin": true,
           "gridcolor": "white",
           "linecolor": "white",
           "ticks": "",
           "title": {
            "standoff": 15
           },
           "zerolinecolor": "white",
           "zerolinewidth": 2
          },
          "yaxis": {
           "automargin": true,
           "gridcolor": "white",
           "linecolor": "white",
           "ticks": "",
           "title": {
            "standoff": 15
           },
           "zerolinecolor": "white",
           "zerolinewidth": 2
          }
         }
        },
        "title": {
         "text": "ID Distribution"
        },
        "xaxis": {
         "anchor": "y",
         "domain": [
          0,
          1
         ],
         "title": {
          "text": "id"
         }
        },
        "xaxis2": {
         "anchor": "y2",
         "domain": [
          0,
          1
         ],
         "matches": "x",
         "showgrid": true,
         "showticklabels": false
        },
        "yaxis": {
         "anchor": "x",
         "domain": [
          0,
          0.8316
         ],
         "title": {
          "text": "count"
         }
        },
        "yaxis2": {
         "anchor": "x2",
         "domain": [
          0.8416,
          1
         ],
         "matches": "y2",
         "showgrid": false,
         "showline": false,
         "showticklabels": false,
         "ticks": ""
        }
       }
      }
     },
     "metadata": {},
     "output_type": "display_data"
    }
   ],
   "source": [
    "#the id takes no distribution hence not a suitable feature \n",
    "fig = px.histogram(df_raw, x='id', marginal='box', nbins=47, title='ID Distribution')\n",
    "fig.update_layout(bargap=0.1)\n",
    "fig.show()"
   ]
  },
  {
   "cell_type": "code",
   "execution_count": 82,
   "metadata": {},
   "outputs": [
    {
     "data": {
      "application/vnd.plotly.v1+json": {
       "config": {
        "plotlyServerURL": "https://plot.ly"
       },
       "data": [
        {
         "alignmentgroup": "True",
         "bingroup": "x",
         "hovertemplate": "frame=%{x}<br>count=%{y}<extra></extra>",
         "legendgroup": "",
         "marker": {
          "color": "#636efa"
         },
         "name": "",
         "nbinsx": 4,
         "offsetgroup": "",
         "orientation": "v",
         "showlegend": false,
         "type": "histogram",
         "x": [
          1,
          0,
          0,
          0,
          1,
          0,
          1,
          1,
          0,
          2,
          1,
          1,
          1,
          1,
          1,
          1,
          1,
          1,
          1,
          0,
          0,
          0,
          0,
          0,
          1,
          2,
          0,
          2,
          1,
          1,
          1,
          0,
          1,
          1,
          1,
          1,
          1,
          1,
          1,
          0,
          0,
          1,
          0,
          0,
          0,
          1,
          1,
          1,
          1,
          1,
          3,
          1,
          0,
          0,
          1,
          2,
          0,
          0,
          0,
          0,
          0,
          1,
          1,
          3,
          1,
          2,
          1,
          1,
          1,
          3,
          1,
          0,
          1,
          1,
          2,
          0,
          1,
          0,
          1,
          0,
          1,
          2,
          2,
          1,
          1,
          0,
          0,
          1,
          1,
          0,
          0,
          1,
          2,
          0,
          1,
          1,
          1,
          1,
          0,
          1,
          0,
          0,
          0,
          1,
          2,
          1,
          1,
          1,
          3,
          0,
          3,
          0,
          2,
          1,
          2,
          1,
          0,
          1,
          0,
          2,
          2,
          2,
          1,
          1,
          2,
          0,
          1,
          1,
          0,
          0,
          2,
          1,
          2,
          1,
          0,
          2,
          2,
          1,
          0,
          1,
          1,
          2,
          2,
          1,
          2,
          2,
          1,
          0,
          1,
          2,
          0,
          0,
          3,
          1,
          0,
          0,
          0,
          2,
          0,
          1,
          0,
          1,
          1,
          1,
          2,
          2,
          0,
          1,
          2,
          2,
          2,
          1,
          0,
          0,
          2,
          1,
          1,
          2,
          0,
          0,
          1,
          2,
          2,
          1,
          0,
          0,
          1,
          1,
          1,
          1,
          1,
          2,
          1,
          2,
          2,
          2,
          2,
          0,
          1,
          1,
          2,
          1,
          0,
          1,
          2,
          2,
          1,
          1,
          2,
          1,
          2,
          1,
          1,
          1,
          2,
          2,
          2,
          2,
          1,
          1,
          2,
          2,
          0,
          1,
          3,
          1,
          0,
          2,
          0,
          1,
          1,
          0,
          0,
          1,
          0,
          1,
          1,
          2,
          0,
          0,
          0,
          1,
          1,
          0,
          1,
          1,
          2,
          2,
          0,
          1,
          1,
          2,
          1,
          0,
          2,
          1,
          0,
          1,
          0,
          1,
          1,
          1,
          0,
          1,
          0,
          0,
          1,
          0,
          0,
          1,
          2,
          1,
          2,
          2,
          1,
          2,
          0,
          2,
          0,
          1,
          0,
          1,
          3,
          1,
          1,
          2,
          2,
          1,
          2,
          1,
          1,
          0,
          1,
          1,
          1,
          2,
          2,
          2,
          1,
          1,
          2,
          2,
          2,
          1,
          1,
          1,
          2,
          2,
          1,
          2,
          2,
          1,
          1,
          1,
          0,
          1,
          2,
          2,
          1,
          2,
          2,
          2,
          2,
          2,
          0,
          2,
          1,
          3,
          0,
          2,
          1,
          2,
          3,
          2,
          1,
          1,
          1,
          1,
          2,
          1,
          0,
          0,
          2,
          1,
          2,
          1,
          1,
          0,
          3,
          0,
          1,
          1,
          0,
          2,
          0,
          1,
          0,
          2,
          0,
          2,
          2,
          2,
          1,
          2,
          2,
          1,
          1,
          1,
          2,
          2,
          2,
          1,
          1,
          1,
          2,
          2,
          0,
          1,
          1,
          1,
          3,
          0,
          2,
          1,
          1,
          1,
          1,
          0,
          2,
          0,
          1,
          1,
          0,
          0,
          1,
          1,
          1,
          1,
          1,
          1,
          2,
          1,
          1
         ],
         "xaxis": "x",
         "yaxis": "y"
        },
        {
         "alignmentgroup": "True",
         "hovertemplate": "frame=%{x}<extra></extra>",
         "legendgroup": "",
         "marker": {
          "color": "#636efa"
         },
         "name": "",
         "notched": true,
         "offsetgroup": "",
         "showlegend": false,
         "type": "box",
         "x": [
          1,
          0,
          0,
          0,
          1,
          0,
          1,
          1,
          0,
          2,
          1,
          1,
          1,
          1,
          1,
          1,
          1,
          1,
          1,
          0,
          0,
          0,
          0,
          0,
          1,
          2,
          0,
          2,
          1,
          1,
          1,
          0,
          1,
          1,
          1,
          1,
          1,
          1,
          1,
          0,
          0,
          1,
          0,
          0,
          0,
          1,
          1,
          1,
          1,
          1,
          3,
          1,
          0,
          0,
          1,
          2,
          0,
          0,
          0,
          0,
          0,
          1,
          1,
          3,
          1,
          2,
          1,
          1,
          1,
          3,
          1,
          0,
          1,
          1,
          2,
          0,
          1,
          0,
          1,
          0,
          1,
          2,
          2,
          1,
          1,
          0,
          0,
          1,
          1,
          0,
          0,
          1,
          2,
          0,
          1,
          1,
          1,
          1,
          0,
          1,
          0,
          0,
          0,
          1,
          2,
          1,
          1,
          1,
          3,
          0,
          3,
          0,
          2,
          1,
          2,
          1,
          0,
          1,
          0,
          2,
          2,
          2,
          1,
          1,
          2,
          0,
          1,
          1,
          0,
          0,
          2,
          1,
          2,
          1,
          0,
          2,
          2,
          1,
          0,
          1,
          1,
          2,
          2,
          1,
          2,
          2,
          1,
          0,
          1,
          2,
          0,
          0,
          3,
          1,
          0,
          0,
          0,
          2,
          0,
          1,
          0,
          1,
          1,
          1,
          2,
          2,
          0,
          1,
          2,
          2,
          2,
          1,
          0,
          0,
          2,
          1,
          1,
          2,
          0,
          0,
          1,
          2,
          2,
          1,
          0,
          0,
          1,
          1,
          1,
          1,
          1,
          2,
          1,
          2,
          2,
          2,
          2,
          0,
          1,
          1,
          2,
          1,
          0,
          1,
          2,
          2,
          1,
          1,
          2,
          1,
          2,
          1,
          1,
          1,
          2,
          2,
          2,
          2,
          1,
          1,
          2,
          2,
          0,
          1,
          3,
          1,
          0,
          2,
          0,
          1,
          1,
          0,
          0,
          1,
          0,
          1,
          1,
          2,
          0,
          0,
          0,
          1,
          1,
          0,
          1,
          1,
          2,
          2,
          0,
          1,
          1,
          2,
          1,
          0,
          2,
          1,
          0,
          1,
          0,
          1,
          1,
          1,
          0,
          1,
          0,
          0,
          1,
          0,
          0,
          1,
          2,
          1,
          2,
          2,
          1,
          2,
          0,
          2,
          0,
          1,
          0,
          1,
          3,
          1,
          1,
          2,
          2,
          1,
          2,
          1,
          1,
          0,
          1,
          1,
          1,
          2,
          2,
          2,
          1,
          1,
          2,
          2,
          2,
          1,
          1,
          1,
          2,
          2,
          1,
          2,
          2,
          1,
          1,
          1,
          0,
          1,
          2,
          2,
          1,
          2,
          2,
          2,
          2,
          2,
          0,
          2,
          1,
          3,
          0,
          2,
          1,
          2,
          3,
          2,
          1,
          1,
          1,
          1,
          2,
          1,
          0,
          0,
          2,
          1,
          2,
          1,
          1,
          0,
          3,
          0,
          1,
          1,
          0,
          2,
          0,
          1,
          0,
          2,
          0,
          2,
          2,
          2,
          1,
          2,
          2,
          1,
          1,
          1,
          2,
          2,
          2,
          1,
          1,
          1,
          2,
          2,
          0,
          1,
          1,
          1,
          3,
          0,
          2,
          1,
          1,
          1,
          1,
          0,
          2,
          0,
          1,
          1,
          0,
          0,
          1,
          1,
          1,
          1,
          1,
          1,
          2,
          1,
          1
         ],
         "xaxis": "x2",
         "yaxis": "y2"
        }
       ],
       "layout": {
        "bargap": 0.1,
        "barmode": "relative",
        "legend": {
         "tracegroupgap": 0
        },
        "template": {
         "data": {
          "bar": [
           {
            "error_x": {
             "color": "#2a3f5f"
            },
            "error_y": {
             "color": "#2a3f5f"
            },
            "marker": {
             "line": {
              "color": "#E5ECF6",
              "width": 0.5
             }
            },
            "type": "bar"
           }
          ],
          "barpolar": [
           {
            "marker": {
             "line": {
              "color": "#E5ECF6",
              "width": 0.5
             }
            },
            "type": "barpolar"
           }
          ],
          "carpet": [
           {
            "aaxis": {
             "endlinecolor": "#2a3f5f",
             "gridcolor": "white",
             "linecolor": "white",
             "minorgridcolor": "white",
             "startlinecolor": "#2a3f5f"
            },
            "baxis": {
             "endlinecolor": "#2a3f5f",
             "gridcolor": "white",
             "linecolor": "white",
             "minorgridcolor": "white",
             "startlinecolor": "#2a3f5f"
            },
            "type": "carpet"
           }
          ],
          "choropleth": [
           {
            "colorbar": {
             "outlinewidth": 0,
             "ticks": ""
            },
            "type": "choropleth"
           }
          ],
          "contour": [
           {
            "colorbar": {
             "outlinewidth": 0,
             "ticks": ""
            },
            "colorscale": [
             [
              0,
              "#0d0887"
             ],
             [
              0.1111111111111111,
              "#46039f"
             ],
             [
              0.2222222222222222,
              "#7201a8"
             ],
             [
              0.3333333333333333,
              "#9c179e"
             ],
             [
              0.4444444444444444,
              "#bd3786"
             ],
             [
              0.5555555555555556,
              "#d8576b"
             ],
             [
              0.6666666666666666,
              "#ed7953"
             ],
             [
              0.7777777777777778,
              "#fb9f3a"
             ],
             [
              0.8888888888888888,
              "#fdca26"
             ],
             [
              1,
              "#f0f921"
             ]
            ],
            "type": "contour"
           }
          ],
          "contourcarpet": [
           {
            "colorbar": {
             "outlinewidth": 0,
             "ticks": ""
            },
            "type": "contourcarpet"
           }
          ],
          "heatmap": [
           {
            "colorbar": {
             "outlinewidth": 0,
             "ticks": ""
            },
            "colorscale": [
             [
              0,
              "#0d0887"
             ],
             [
              0.1111111111111111,
              "#46039f"
             ],
             [
              0.2222222222222222,
              "#7201a8"
             ],
             [
              0.3333333333333333,
              "#9c179e"
             ],
             [
              0.4444444444444444,
              "#bd3786"
             ],
             [
              0.5555555555555556,
              "#d8576b"
             ],
             [
              0.6666666666666666,
              "#ed7953"
             ],
             [
              0.7777777777777778,
              "#fb9f3a"
             ],
             [
              0.8888888888888888,
              "#fdca26"
             ],
             [
              1,
              "#f0f921"
             ]
            ],
            "type": "heatmap"
           }
          ],
          "heatmapgl": [
           {
            "colorbar": {
             "outlinewidth": 0,
             "ticks": ""
            },
            "colorscale": [
             [
              0,
              "#0d0887"
             ],
             [
              0.1111111111111111,
              "#46039f"
             ],
             [
              0.2222222222222222,
              "#7201a8"
             ],
             [
              0.3333333333333333,
              "#9c179e"
             ],
             [
              0.4444444444444444,
              "#bd3786"
             ],
             [
              0.5555555555555556,
              "#d8576b"
             ],
             [
              0.6666666666666666,
              "#ed7953"
             ],
             [
              0.7777777777777778,
              "#fb9f3a"
             ],
             [
              0.8888888888888888,
              "#fdca26"
             ],
             [
              1,
              "#f0f921"
             ]
            ],
            "type": "heatmapgl"
           }
          ],
          "histogram": [
           {
            "marker": {
             "colorbar": {
              "outlinewidth": 0,
              "ticks": ""
             }
            },
            "type": "histogram"
           }
          ],
          "histogram2d": [
           {
            "colorbar": {
             "outlinewidth": 0,
             "ticks": ""
            },
            "colorscale": [
             [
              0,
              "#0d0887"
             ],
             [
              0.1111111111111111,
              "#46039f"
             ],
             [
              0.2222222222222222,
              "#7201a8"
             ],
             [
              0.3333333333333333,
              "#9c179e"
             ],
             [
              0.4444444444444444,
              "#bd3786"
             ],
             [
              0.5555555555555556,
              "#d8576b"
             ],
             [
              0.6666666666666666,
              "#ed7953"
             ],
             [
              0.7777777777777778,
              "#fb9f3a"
             ],
             [
              0.8888888888888888,
              "#fdca26"
             ],
             [
              1,
              "#f0f921"
             ]
            ],
            "type": "histogram2d"
           }
          ],
          "histogram2dcontour": [
           {
            "colorbar": {
             "outlinewidth": 0,
             "ticks": ""
            },
            "colorscale": [
             [
              0,
              "#0d0887"
             ],
             [
              0.1111111111111111,
              "#46039f"
             ],
             [
              0.2222222222222222,
              "#7201a8"
             ],
             [
              0.3333333333333333,
              "#9c179e"
             ],
             [
              0.4444444444444444,
              "#bd3786"
             ],
             [
              0.5555555555555556,
              "#d8576b"
             ],
             [
              0.6666666666666666,
              "#ed7953"
             ],
             [
              0.7777777777777778,
              "#fb9f3a"
             ],
             [
              0.8888888888888888,
              "#fdca26"
             ],
             [
              1,
              "#f0f921"
             ]
            ],
            "type": "histogram2dcontour"
           }
          ],
          "mesh3d": [
           {
            "colorbar": {
             "outlinewidth": 0,
             "ticks": ""
            },
            "type": "mesh3d"
           }
          ],
          "parcoords": [
           {
            "line": {
             "colorbar": {
              "outlinewidth": 0,
              "ticks": ""
             }
            },
            "type": "parcoords"
           }
          ],
          "pie": [
           {
            "automargin": true,
            "type": "pie"
           }
          ],
          "scatter": [
           {
            "marker": {
             "colorbar": {
              "outlinewidth": 0,
              "ticks": ""
             }
            },
            "type": "scatter"
           }
          ],
          "scatter3d": [
           {
            "line": {
             "colorbar": {
              "outlinewidth": 0,
              "ticks": ""
             }
            },
            "marker": {
             "colorbar": {
              "outlinewidth": 0,
              "ticks": ""
             }
            },
            "type": "scatter3d"
           }
          ],
          "scattercarpet": [
           {
            "marker": {
             "colorbar": {
              "outlinewidth": 0,
              "ticks": ""
             }
            },
            "type": "scattercarpet"
           }
          ],
          "scattergeo": [
           {
            "marker": {
             "colorbar": {
              "outlinewidth": 0,
              "ticks": ""
             }
            },
            "type": "scattergeo"
           }
          ],
          "scattergl": [
           {
            "marker": {
             "colorbar": {
              "outlinewidth": 0,
              "ticks": ""
             }
            },
            "type": "scattergl"
           }
          ],
          "scattermapbox": [
           {
            "marker": {
             "colorbar": {
              "outlinewidth": 0,
              "ticks": ""
             }
            },
            "type": "scattermapbox"
           }
          ],
          "scatterpolar": [
           {
            "marker": {
             "colorbar": {
              "outlinewidth": 0,
              "ticks": ""
             }
            },
            "type": "scatterpolar"
           }
          ],
          "scatterpolargl": [
           {
            "marker": {
             "colorbar": {
              "outlinewidth": 0,
              "ticks": ""
             }
            },
            "type": "scatterpolargl"
           }
          ],
          "scatterternary": [
           {
            "marker": {
             "colorbar": {
              "outlinewidth": 0,
              "ticks": ""
             }
            },
            "type": "scatterternary"
           }
          ],
          "surface": [
           {
            "colorbar": {
             "outlinewidth": 0,
             "ticks": ""
            },
            "colorscale": [
             [
              0,
              "#0d0887"
             ],
             [
              0.1111111111111111,
              "#46039f"
             ],
             [
              0.2222222222222222,
              "#7201a8"
             ],
             [
              0.3333333333333333,
              "#9c179e"
             ],
             [
              0.4444444444444444,
              "#bd3786"
             ],
             [
              0.5555555555555556,
              "#d8576b"
             ],
             [
              0.6666666666666666,
              "#ed7953"
             ],
             [
              0.7777777777777778,
              "#fb9f3a"
             ],
             [
              0.8888888888888888,
              "#fdca26"
             ],
             [
              1,
              "#f0f921"
             ]
            ],
            "type": "surface"
           }
          ],
          "table": [
           {
            "cells": {
             "fill": {
              "color": "#EBF0F8"
             },
             "line": {
              "color": "white"
             }
            },
            "header": {
             "fill": {
              "color": "#C8D4E3"
             },
             "line": {
              "color": "white"
             }
            },
            "type": "table"
           }
          ]
         },
         "layout": {
          "annotationdefaults": {
           "arrowcolor": "#2a3f5f",
           "arrowhead": 0,
           "arrowwidth": 1
          },
          "autotypenumbers": "strict",
          "coloraxis": {
           "colorbar": {
            "outlinewidth": 0,
            "ticks": ""
           }
          },
          "colorscale": {
           "diverging": [
            [
             0,
             "#8e0152"
            ],
            [
             0.1,
             "#c51b7d"
            ],
            [
             0.2,
             "#de77ae"
            ],
            [
             0.3,
             "#f1b6da"
            ],
            [
             0.4,
             "#fde0ef"
            ],
            [
             0.5,
             "#f7f7f7"
            ],
            [
             0.6,
             "#e6f5d0"
            ],
            [
             0.7,
             "#b8e186"
            ],
            [
             0.8,
             "#7fbc41"
            ],
            [
             0.9,
             "#4d9221"
            ],
            [
             1,
             "#276419"
            ]
           ],
           "sequential": [
            [
             0,
             "#0d0887"
            ],
            [
             0.1111111111111111,
             "#46039f"
            ],
            [
             0.2222222222222222,
             "#7201a8"
            ],
            [
             0.3333333333333333,
             "#9c179e"
            ],
            [
             0.4444444444444444,
             "#bd3786"
            ],
            [
             0.5555555555555556,
             "#d8576b"
            ],
            [
             0.6666666666666666,
             "#ed7953"
            ],
            [
             0.7777777777777778,
             "#fb9f3a"
            ],
            [
             0.8888888888888888,
             "#fdca26"
            ],
            [
             1,
             "#f0f921"
            ]
           ],
           "sequentialminus": [
            [
             0,
             "#0d0887"
            ],
            [
             0.1111111111111111,
             "#46039f"
            ],
            [
             0.2222222222222222,
             "#7201a8"
            ],
            [
             0.3333333333333333,
             "#9c179e"
            ],
            [
             0.4444444444444444,
             "#bd3786"
            ],
            [
             0.5555555555555556,
             "#d8576b"
            ],
            [
             0.6666666666666666,
             "#ed7953"
            ],
            [
             0.7777777777777778,
             "#fb9f3a"
            ],
            [
             0.8888888888888888,
             "#fdca26"
            ],
            [
             1,
             "#f0f921"
            ]
           ]
          },
          "colorway": [
           "#636efa",
           "#EF553B",
           "#00cc96",
           "#ab63fa",
           "#FFA15A",
           "#19d3f3",
           "#FF6692",
           "#B6E880",
           "#FF97FF",
           "#FECB52"
          ],
          "font": {
           "color": "#2a3f5f"
          },
          "geo": {
           "bgcolor": "white",
           "lakecolor": "white",
           "landcolor": "#E5ECF6",
           "showlakes": true,
           "showland": true,
           "subunitcolor": "white"
          },
          "hoverlabel": {
           "align": "left"
          },
          "hovermode": "closest",
          "mapbox": {
           "style": "light"
          },
          "paper_bgcolor": "white",
          "plot_bgcolor": "#E5ECF6",
          "polar": {
           "angularaxis": {
            "gridcolor": "white",
            "linecolor": "white",
            "ticks": ""
           },
           "bgcolor": "#E5ECF6",
           "radialaxis": {
            "gridcolor": "white",
            "linecolor": "white",
            "ticks": ""
           }
          },
          "scene": {
           "xaxis": {
            "backgroundcolor": "#E5ECF6",
            "gridcolor": "white",
            "gridwidth": 2,
            "linecolor": "white",
            "showbackground": true,
            "ticks": "",
            "zerolinecolor": "white"
           },
           "yaxis": {
            "backgroundcolor": "#E5ECF6",
            "gridcolor": "white",
            "gridwidth": 2,
            "linecolor": "white",
            "showbackground": true,
            "ticks": "",
            "zerolinecolor": "white"
           },
           "zaxis": {
            "backgroundcolor": "#E5ECF6",
            "gridcolor": "white",
            "gridwidth": 2,
            "linecolor": "white",
            "showbackground": true,
            "ticks": "",
            "zerolinecolor": "white"
           }
          },
          "shapedefaults": {
           "line": {
            "color": "#2a3f5f"
           }
          },
          "ternary": {
           "aaxis": {
            "gridcolor": "white",
            "linecolor": "white",
            "ticks": ""
           },
           "baxis": {
            "gridcolor": "white",
            "linecolor": "white",
            "ticks": ""
           },
           "bgcolor": "#E5ECF6",
           "caxis": {
            "gridcolor": "white",
            "linecolor": "white",
            "ticks": ""
           }
          },
          "title": {
           "x": 0.05
          },
          "xaxis": {
           "automargin": true,
           "gridcolor": "white",
           "linecolor": "white",
           "ticks": "",
           "title": {
            "standoff": 15
           },
           "zerolinecolor": "white",
           "zerolinewidth": 2
          },
          "yaxis": {
           "automargin": true,
           "gridcolor": "white",
           "linecolor": "white",
           "ticks": "",
           "title": {
            "standoff": 15
           },
           "zerolinecolor": "white",
           "zerolinewidth": 2
          }
         }
        },
        "title": {
         "text": "frame Distribution"
        },
        "xaxis": {
         "anchor": "y",
         "domain": [
          0,
          1
         ],
         "title": {
          "text": "frame"
         }
        },
        "xaxis2": {
         "anchor": "y2",
         "domain": [
          0,
          1
         ],
         "matches": "x",
         "showgrid": true,
         "showticklabels": false
        },
        "yaxis": {
         "anchor": "x",
         "domain": [
          0,
          0.8316
         ],
         "title": {
          "text": "count"
         }
        },
        "yaxis2": {
         "anchor": "x2",
         "domain": [
          0.8416,
          1
         ],
         "matches": "y2",
         "showgrid": false,
         "showline": false,
         "showticklabels": false,
         "ticks": ""
        }
       }
      }
     },
     "metadata": {},
     "output_type": "display_data"
    }
   ],
   "source": [
    "#a normal distribution for the frame - body type\n",
    "fig = px.histogram(df_raw, x='frame', marginal='box', nbins=4, title='frame Distribution')\n",
    "fig.update_layout(bargap=0.1)\n",
    "fig.show()"
   ]
  },
  {
   "cell_type": "code",
   "execution_count": 83,
   "metadata": {},
   "outputs": [
    {
     "data": {
      "application/vnd.plotly.v1+json": {
       "config": {
        "plotlyServerURL": "https://plot.ly"
       },
       "data": [
        {
         "alignmentgroup": "True",
         "bingroup": "x",
         "hovertemplate": "ratio=%{x}<br>count=%{y}<extra></extra>",
         "legendgroup": "",
         "marker": {
          "color": "#636efa"
         },
         "name": "",
         "nbinsx": 47,
         "offsetgroup": "",
         "orientation": "v",
         "showlegend": false,
         "type": "histogram",
         "x": [
          3.5999999046,
          6.9000000954,
          6.1999998093,
          6.5,
          8.8999996185,
          3.5999999046,
          4.8000001907,
          5.1999998093,
          3.5999999046,
          6.5999999046,
          4.5,
          6.3000001907,
          6.5999999046,
          4,
          6.4000000954,
          4.5,
          6.6999998093,
          3.5999999046,
          5.4000000954,
          4.8000001907,
          3.7000000477,
          3.0999999046,
          4.6999998093,
          6.9000000954,
          5.0999999046,
          1.8999999762,
          7.6999998093,
          4.521641791457214,
          4.9000000954,
          5.0999999046,
          4.9000000954,
          4.1999998093,
          7.8000001907,
          4.9000000954,
          3.2000000477,
          3.0999999046,
          2.9000000954,
          5.9000000954,
          3,
          4.1999998093,
          2.7000000477,
          4.6999998093,
          5.4000000954,
          6.9000000954,
          5.3000001907,
          4.0999999046,
          10.6000003815,
          5.3000001907,
          3.2999999523,
          3.2999999523,
          3.4000000954,
          5.8000001907,
          4.6999998093,
          6,
          5.8000001907,
          3.0999999046,
          3.2999999523,
          2.4000000954,
          4.0999999046,
          5.5999999046,
          4.9000000954,
          3,
          19.2999992371,
          5,
          3.7000000477,
          2.4000000954,
          2.5999999046,
          2.7999999523,
          2.5,
          2,
          3.2000000477,
          4.0999999046,
          2.7000000477,
          2.5999999046,
          2.7999999523,
          3.2000000477,
          4.5999999046,
          3.2000000477,
          3.5999999046,
          7,
          5.4000000954,
          6.8000001907,
          5.6999998093,
          4,
          3.5999999046,
          4.5,
          4,
          2.5999999046,
          3.0999999046,
          4.3000001907,
          3.7000000477,
          5.6999998093,
          4,
          4,
          2.9000000954,
          2.7000000477,
          3.7999999523,
          6.3000001907,
          3.9000000954,
          6.8000001907,
          3.7000000477,
          4.6999998093,
          4.0999999046,
          3.2999999523,
          3.7999999523,
          3.5999999046,
          3.0999999046,
          5.1999998093,
          5.3000001907,
          3.0999999046,
          6.8000001907,
          3.7999999523,
          2.4000000954,
          5.5999999046,
          3.9000000954,
          5.6999998093,
          3.7999999523,
          4.5,
          5.0999999046,
          2.7000000477,
          5.3000001907,
          4.1999998093,
          3.4000000954,
          3.9000000954,
          3.2000000477,
          3.9000000954,
          4.1999998093,
          5.0999999046,
          3.7000000477,
          7.5,
          4.4000000954,
          4.1999998093,
          2.7999999523,
          2.9000000954,
          4.4000000954,
          6.0999999046,
          3.0999999046,
          3.9000000954,
          4.8000001907,
          6.1999998093,
          6.0999999046,
          2.2999999523,
          2.9000000954,
          3,
          2.2000000477,
          2.5,
          3,
          8.3000001907,
          7.9000000954,
          2.5999999046,
          7,
          4.3000001907,
          7.5,
          6.8000001907,
          4.5999999046,
          6.9000000954,
          6.5999999046,
          3.2000000477,
          5.0999999046,
          4.0999999046,
          3.0999999046,
          3.2000000477,
          6.8000001907,
          4.3000001907,
          3,
          3.7999999523,
          6.5,
          4.3000001907,
          2.9000000954,
          4.3000001907,
          2.7999999523,
          6,
          3.4000000954,
          4.5,
          4.6999998093,
          5.8000001907,
          8,
          7.9000000954,
          3.7999999523,
          4.5999999046,
          4,
          5.3000001907,
          3.7000000477,
          5.3000001907,
          6.4000000954,
          4.4000000954,
          4.8000001907,
          6.4000000954,
          4.6999998093,
          3.5999999046,
          2.5,
          2.9000000954,
          5,
          6.1999998093,
          3.0999999046,
          4.6999998093,
          6.4000000954,
          5.8000001907,
          7.3000001907,
          2.2999999523,
          3,
          3.2999999523,
          7.8000001907,
          2.4000000954,
          2.2000000477,
          4.5,
          2.5,
          3.7000000477,
          5.3000001907,
          7.3000001907,
          3.2000000477,
          2.7999999523,
          7.0999999046,
          2.7999999523,
          2.2000000477,
          4.3000001907,
          3.9000000954,
          4.5999999046,
          4.3000001907,
          4.9000000954,
          4.5999999046,
          2.7000000477,
          4.0999999046,
          4.1999998093,
          4.9000000954,
          4.9000000954,
          3.7000000477,
          2.5999999046,
          5.6999998093,
          5.5999999046,
          1.5,
          6.0999999046,
          3.4000000954,
          3.2000000477,
          4.5,
          3.5999999046,
          4.0999999046,
          3.5999999046,
          2.9000000954,
          4.3000001907,
          6.1999998093,
          4.4000000954,
          3.4000000954,
          4.0999999046,
          6.5,
          4.9000000954,
          2.9000000954,
          4.4000000954,
          5.3000001907,
          5.1999998093,
          3.5999999046,
          2.0999999046,
          6,
          6.9000000954,
          3,
          3.5999999046,
          4,
          6.3000001907,
          2.5999999046,
          7.5,
          5.5999999046,
          5.5999999046,
          4.5999999046,
          3.0999999046,
          5.1999998093,
          4.6999998093,
          4.5999999046,
          6.6999998093,
          6.1999998093,
          5.4000000954,
          4.3000001907,
          4.3000001907,
          4,
          2.7000000477,
          5,
          3.4000000954,
          5.8000001907,
          3.5,
          5.0999999046,
          4.0999999046,
          5.0999999046,
          5.4000000954,
          3.5,
          3.2000000477,
          4.8000001907,
          4.5,
          3.5,
          4.0999999046,
          2.9000000954,
          6.1999998093,
          3.0999999046,
          4.0999999046,
          4.8000001907,
          7.5,
          12.1999998093,
          4.3000001907,
          3.7999999523,
          3.5999999046,
          5.8000001907,
          3,
          3.4000000954,
          3.2999999523,
          3.2000000477,
          3.2999999523,
          3.9000000954,
          5.5,
          2.4000000954,
          2.2000000477,
          6.5999999046,
          3,
          3,
          5.3000001907,
          5,
          2.7000000477,
          9.3999996185,
          3.5999999046,
          2.7000000477,
          5.0999999046,
          3,
          3.0999999046,
          2.5999999046,
          5.6999998093,
          2.4000000954,
          5.3000001907,
          5.6999998093,
          4.6999998093,
          6,
          5.5999999046,
          3.2999999523,
          2.5,
          4.4000000954,
          2.7999999523,
          3.7000000477,
          3.2999999523,
          3.9000000954,
          7.1999998093,
          2.5,
          3.0999999046,
          4.8000001907,
          8.8999996185,
          4.6999998093,
          6.3000001907,
          3.9000000954,
          3.2999999523,
          4.5999999046,
          5.3000001907,
          3.9000000954,
          5.5,
          2.7999999523,
          5,
          3.9000000954,
          3.0999999046,
          3.5,
          3,
          5.5,
          3.7999999523,
          6.4000000954,
          5.0999999046,
          7.0999999046,
          5.3000001907,
          3.7999999523,
          5.9000000954,
          4,
          7.0999999046,
          4.3000001907,
          4,
          3.2999999523,
          5.5999999046,
          2.9000000954,
          3.7000000477,
          4.0999999046,
          5.4000000954,
          2.5999999046,
          3,
          6.0999999046,
          3,
          8.6999998093,
          5.4000000954,
          2.7999999523,
          3.5,
          3.5,
          7.5999999046,
          5.4000000954,
          5.8000001907,
          4.5,
          5.3000001907,
          3.4000000954,
          7,
          5.0999999046,
          6.8000001907,
          2.9000000954,
          4.5999999046,
          2.5999999046,
          2.7999999523,
          2.9000000954,
          3.5999999046,
          3.4000000954,
          2.5999999046,
          6.4000000954,
          5.3000001907,
          5.0999999046,
          3.7999999523,
          2
         ],
         "xaxis": "x",
         "yaxis": "y"
        },
        {
         "alignmentgroup": "True",
         "hovertemplate": "ratio=%{x}<extra></extra>",
         "legendgroup": "",
         "marker": {
          "color": "#636efa"
         },
         "name": "",
         "notched": true,
         "offsetgroup": "",
         "showlegend": false,
         "type": "box",
         "x": [
          3.5999999046,
          6.9000000954,
          6.1999998093,
          6.5,
          8.8999996185,
          3.5999999046,
          4.8000001907,
          5.1999998093,
          3.5999999046,
          6.5999999046,
          4.5,
          6.3000001907,
          6.5999999046,
          4,
          6.4000000954,
          4.5,
          6.6999998093,
          3.5999999046,
          5.4000000954,
          4.8000001907,
          3.7000000477,
          3.0999999046,
          4.6999998093,
          6.9000000954,
          5.0999999046,
          1.8999999762,
          7.6999998093,
          4.521641791457214,
          4.9000000954,
          5.0999999046,
          4.9000000954,
          4.1999998093,
          7.8000001907,
          4.9000000954,
          3.2000000477,
          3.0999999046,
          2.9000000954,
          5.9000000954,
          3,
          4.1999998093,
          2.7000000477,
          4.6999998093,
          5.4000000954,
          6.9000000954,
          5.3000001907,
          4.0999999046,
          10.6000003815,
          5.3000001907,
          3.2999999523,
          3.2999999523,
          3.4000000954,
          5.8000001907,
          4.6999998093,
          6,
          5.8000001907,
          3.0999999046,
          3.2999999523,
          2.4000000954,
          4.0999999046,
          5.5999999046,
          4.9000000954,
          3,
          19.2999992371,
          5,
          3.7000000477,
          2.4000000954,
          2.5999999046,
          2.7999999523,
          2.5,
          2,
          3.2000000477,
          4.0999999046,
          2.7000000477,
          2.5999999046,
          2.7999999523,
          3.2000000477,
          4.5999999046,
          3.2000000477,
          3.5999999046,
          7,
          5.4000000954,
          6.8000001907,
          5.6999998093,
          4,
          3.5999999046,
          4.5,
          4,
          2.5999999046,
          3.0999999046,
          4.3000001907,
          3.7000000477,
          5.6999998093,
          4,
          4,
          2.9000000954,
          2.7000000477,
          3.7999999523,
          6.3000001907,
          3.9000000954,
          6.8000001907,
          3.7000000477,
          4.6999998093,
          4.0999999046,
          3.2999999523,
          3.7999999523,
          3.5999999046,
          3.0999999046,
          5.1999998093,
          5.3000001907,
          3.0999999046,
          6.8000001907,
          3.7999999523,
          2.4000000954,
          5.5999999046,
          3.9000000954,
          5.6999998093,
          3.7999999523,
          4.5,
          5.0999999046,
          2.7000000477,
          5.3000001907,
          4.1999998093,
          3.4000000954,
          3.9000000954,
          3.2000000477,
          3.9000000954,
          4.1999998093,
          5.0999999046,
          3.7000000477,
          7.5,
          4.4000000954,
          4.1999998093,
          2.7999999523,
          2.9000000954,
          4.4000000954,
          6.0999999046,
          3.0999999046,
          3.9000000954,
          4.8000001907,
          6.1999998093,
          6.0999999046,
          2.2999999523,
          2.9000000954,
          3,
          2.2000000477,
          2.5,
          3,
          8.3000001907,
          7.9000000954,
          2.5999999046,
          7,
          4.3000001907,
          7.5,
          6.8000001907,
          4.5999999046,
          6.9000000954,
          6.5999999046,
          3.2000000477,
          5.0999999046,
          4.0999999046,
          3.0999999046,
          3.2000000477,
          6.8000001907,
          4.3000001907,
          3,
          3.7999999523,
          6.5,
          4.3000001907,
          2.9000000954,
          4.3000001907,
          2.7999999523,
          6,
          3.4000000954,
          4.5,
          4.6999998093,
          5.8000001907,
          8,
          7.9000000954,
          3.7999999523,
          4.5999999046,
          4,
          5.3000001907,
          3.7000000477,
          5.3000001907,
          6.4000000954,
          4.4000000954,
          4.8000001907,
          6.4000000954,
          4.6999998093,
          3.5999999046,
          2.5,
          2.9000000954,
          5,
          6.1999998093,
          3.0999999046,
          4.6999998093,
          6.4000000954,
          5.8000001907,
          7.3000001907,
          2.2999999523,
          3,
          3.2999999523,
          7.8000001907,
          2.4000000954,
          2.2000000477,
          4.5,
          2.5,
          3.7000000477,
          5.3000001907,
          7.3000001907,
          3.2000000477,
          2.7999999523,
          7.0999999046,
          2.7999999523,
          2.2000000477,
          4.3000001907,
          3.9000000954,
          4.5999999046,
          4.3000001907,
          4.9000000954,
          4.5999999046,
          2.7000000477,
          4.0999999046,
          4.1999998093,
          4.9000000954,
          4.9000000954,
          3.7000000477,
          2.5999999046,
          5.6999998093,
          5.5999999046,
          1.5,
          6.0999999046,
          3.4000000954,
          3.2000000477,
          4.5,
          3.5999999046,
          4.0999999046,
          3.5999999046,
          2.9000000954,
          4.3000001907,
          6.1999998093,
          4.4000000954,
          3.4000000954,
          4.0999999046,
          6.5,
          4.9000000954,
          2.9000000954,
          4.4000000954,
          5.3000001907,
          5.1999998093,
          3.5999999046,
          2.0999999046,
          6,
          6.9000000954,
          3,
          3.5999999046,
          4,
          6.3000001907,
          2.5999999046,
          7.5,
          5.5999999046,
          5.5999999046,
          4.5999999046,
          3.0999999046,
          5.1999998093,
          4.6999998093,
          4.5999999046,
          6.6999998093,
          6.1999998093,
          5.4000000954,
          4.3000001907,
          4.3000001907,
          4,
          2.7000000477,
          5,
          3.4000000954,
          5.8000001907,
          3.5,
          5.0999999046,
          4.0999999046,
          5.0999999046,
          5.4000000954,
          3.5,
          3.2000000477,
          4.8000001907,
          4.5,
          3.5,
          4.0999999046,
          2.9000000954,
          6.1999998093,
          3.0999999046,
          4.0999999046,
          4.8000001907,
          7.5,
          12.1999998093,
          4.3000001907,
          3.7999999523,
          3.5999999046,
          5.8000001907,
          3,
          3.4000000954,
          3.2999999523,
          3.2000000477,
          3.2999999523,
          3.9000000954,
          5.5,
          2.4000000954,
          2.2000000477,
          6.5999999046,
          3,
          3,
          5.3000001907,
          5,
          2.7000000477,
          9.3999996185,
          3.5999999046,
          2.7000000477,
          5.0999999046,
          3,
          3.0999999046,
          2.5999999046,
          5.6999998093,
          2.4000000954,
          5.3000001907,
          5.6999998093,
          4.6999998093,
          6,
          5.5999999046,
          3.2999999523,
          2.5,
          4.4000000954,
          2.7999999523,
          3.7000000477,
          3.2999999523,
          3.9000000954,
          7.1999998093,
          2.5,
          3.0999999046,
          4.8000001907,
          8.8999996185,
          4.6999998093,
          6.3000001907,
          3.9000000954,
          3.2999999523,
          4.5999999046,
          5.3000001907,
          3.9000000954,
          5.5,
          2.7999999523,
          5,
          3.9000000954,
          3.0999999046,
          3.5,
          3,
          5.5,
          3.7999999523,
          6.4000000954,
          5.0999999046,
          7.0999999046,
          5.3000001907,
          3.7999999523,
          5.9000000954,
          4,
          7.0999999046,
          4.3000001907,
          4,
          3.2999999523,
          5.5999999046,
          2.9000000954,
          3.7000000477,
          4.0999999046,
          5.4000000954,
          2.5999999046,
          3,
          6.0999999046,
          3,
          8.6999998093,
          5.4000000954,
          2.7999999523,
          3.5,
          3.5,
          7.5999999046,
          5.4000000954,
          5.8000001907,
          4.5,
          5.3000001907,
          3.4000000954,
          7,
          5.0999999046,
          6.8000001907,
          2.9000000954,
          4.5999999046,
          2.5999999046,
          2.7999999523,
          2.9000000954,
          3.5999999046,
          3.4000000954,
          2.5999999046,
          6.4000000954,
          5.3000001907,
          5.0999999046,
          3.7999999523,
          2
         ],
         "xaxis": "x2",
         "yaxis": "y2"
        }
       ],
       "layout": {
        "bargap": 0.1,
        "barmode": "relative",
        "legend": {
         "tracegroupgap": 0
        },
        "template": {
         "data": {
          "bar": [
           {
            "error_x": {
             "color": "#2a3f5f"
            },
            "error_y": {
             "color": "#2a3f5f"
            },
            "marker": {
             "line": {
              "color": "#E5ECF6",
              "width": 0.5
             }
            },
            "type": "bar"
           }
          ],
          "barpolar": [
           {
            "marker": {
             "line": {
              "color": "#E5ECF6",
              "width": 0.5
             }
            },
            "type": "barpolar"
           }
          ],
          "carpet": [
           {
            "aaxis": {
             "endlinecolor": "#2a3f5f",
             "gridcolor": "white",
             "linecolor": "white",
             "minorgridcolor": "white",
             "startlinecolor": "#2a3f5f"
            },
            "baxis": {
             "endlinecolor": "#2a3f5f",
             "gridcolor": "white",
             "linecolor": "white",
             "minorgridcolor": "white",
             "startlinecolor": "#2a3f5f"
            },
            "type": "carpet"
           }
          ],
          "choropleth": [
           {
            "colorbar": {
             "outlinewidth": 0,
             "ticks": ""
            },
            "type": "choropleth"
           }
          ],
          "contour": [
           {
            "colorbar": {
             "outlinewidth": 0,
             "ticks": ""
            },
            "colorscale": [
             [
              0,
              "#0d0887"
             ],
             [
              0.1111111111111111,
              "#46039f"
             ],
             [
              0.2222222222222222,
              "#7201a8"
             ],
             [
              0.3333333333333333,
              "#9c179e"
             ],
             [
              0.4444444444444444,
              "#bd3786"
             ],
             [
              0.5555555555555556,
              "#d8576b"
             ],
             [
              0.6666666666666666,
              "#ed7953"
             ],
             [
              0.7777777777777778,
              "#fb9f3a"
             ],
             [
              0.8888888888888888,
              "#fdca26"
             ],
             [
              1,
              "#f0f921"
             ]
            ],
            "type": "contour"
           }
          ],
          "contourcarpet": [
           {
            "colorbar": {
             "outlinewidth": 0,
             "ticks": ""
            },
            "type": "contourcarpet"
           }
          ],
          "heatmap": [
           {
            "colorbar": {
             "outlinewidth": 0,
             "ticks": ""
            },
            "colorscale": [
             [
              0,
              "#0d0887"
             ],
             [
              0.1111111111111111,
              "#46039f"
             ],
             [
              0.2222222222222222,
              "#7201a8"
             ],
             [
              0.3333333333333333,
              "#9c179e"
             ],
             [
              0.4444444444444444,
              "#bd3786"
             ],
             [
              0.5555555555555556,
              "#d8576b"
             ],
             [
              0.6666666666666666,
              "#ed7953"
             ],
             [
              0.7777777777777778,
              "#fb9f3a"
             ],
             [
              0.8888888888888888,
              "#fdca26"
             ],
             [
              1,
              "#f0f921"
             ]
            ],
            "type": "heatmap"
           }
          ],
          "heatmapgl": [
           {
            "colorbar": {
             "outlinewidth": 0,
             "ticks": ""
            },
            "colorscale": [
             [
              0,
              "#0d0887"
             ],
             [
              0.1111111111111111,
              "#46039f"
             ],
             [
              0.2222222222222222,
              "#7201a8"
             ],
             [
              0.3333333333333333,
              "#9c179e"
             ],
             [
              0.4444444444444444,
              "#bd3786"
             ],
             [
              0.5555555555555556,
              "#d8576b"
             ],
             [
              0.6666666666666666,
              "#ed7953"
             ],
             [
              0.7777777777777778,
              "#fb9f3a"
             ],
             [
              0.8888888888888888,
              "#fdca26"
             ],
             [
              1,
              "#f0f921"
             ]
            ],
            "type": "heatmapgl"
           }
          ],
          "histogram": [
           {
            "marker": {
             "colorbar": {
              "outlinewidth": 0,
              "ticks": ""
             }
            },
            "type": "histogram"
           }
          ],
          "histogram2d": [
           {
            "colorbar": {
             "outlinewidth": 0,
             "ticks": ""
            },
            "colorscale": [
             [
              0,
              "#0d0887"
             ],
             [
              0.1111111111111111,
              "#46039f"
             ],
             [
              0.2222222222222222,
              "#7201a8"
             ],
             [
              0.3333333333333333,
              "#9c179e"
             ],
             [
              0.4444444444444444,
              "#bd3786"
             ],
             [
              0.5555555555555556,
              "#d8576b"
             ],
             [
              0.6666666666666666,
              "#ed7953"
             ],
             [
              0.7777777777777778,
              "#fb9f3a"
             ],
             [
              0.8888888888888888,
              "#fdca26"
             ],
             [
              1,
              "#f0f921"
             ]
            ],
            "type": "histogram2d"
           }
          ],
          "histogram2dcontour": [
           {
            "colorbar": {
             "outlinewidth": 0,
             "ticks": ""
            },
            "colorscale": [
             [
              0,
              "#0d0887"
             ],
             [
              0.1111111111111111,
              "#46039f"
             ],
             [
              0.2222222222222222,
              "#7201a8"
             ],
             [
              0.3333333333333333,
              "#9c179e"
             ],
             [
              0.4444444444444444,
              "#bd3786"
             ],
             [
              0.5555555555555556,
              "#d8576b"
             ],
             [
              0.6666666666666666,
              "#ed7953"
             ],
             [
              0.7777777777777778,
              "#fb9f3a"
             ],
             [
              0.8888888888888888,
              "#fdca26"
             ],
             [
              1,
              "#f0f921"
             ]
            ],
            "type": "histogram2dcontour"
           }
          ],
          "mesh3d": [
           {
            "colorbar": {
             "outlinewidth": 0,
             "ticks": ""
            },
            "type": "mesh3d"
           }
          ],
          "parcoords": [
           {
            "line": {
             "colorbar": {
              "outlinewidth": 0,
              "ticks": ""
             }
            },
            "type": "parcoords"
           }
          ],
          "pie": [
           {
            "automargin": true,
            "type": "pie"
           }
          ],
          "scatter": [
           {
            "marker": {
             "colorbar": {
              "outlinewidth": 0,
              "ticks": ""
             }
            },
            "type": "scatter"
           }
          ],
          "scatter3d": [
           {
            "line": {
             "colorbar": {
              "outlinewidth": 0,
              "ticks": ""
             }
            },
            "marker": {
             "colorbar": {
              "outlinewidth": 0,
              "ticks": ""
             }
            },
            "type": "scatter3d"
           }
          ],
          "scattercarpet": [
           {
            "marker": {
             "colorbar": {
              "outlinewidth": 0,
              "ticks": ""
             }
            },
            "type": "scattercarpet"
           }
          ],
          "scattergeo": [
           {
            "marker": {
             "colorbar": {
              "outlinewidth": 0,
              "ticks": ""
             }
            },
            "type": "scattergeo"
           }
          ],
          "scattergl": [
           {
            "marker": {
             "colorbar": {
              "outlinewidth": 0,
              "ticks": ""
             }
            },
            "type": "scattergl"
           }
          ],
          "scattermapbox": [
           {
            "marker": {
             "colorbar": {
              "outlinewidth": 0,
              "ticks": ""
             }
            },
            "type": "scattermapbox"
           }
          ],
          "scatterpolar": [
           {
            "marker": {
             "colorbar": {
              "outlinewidth": 0,
              "ticks": ""
             }
            },
            "type": "scatterpolar"
           }
          ],
          "scatterpolargl": [
           {
            "marker": {
             "colorbar": {
              "outlinewidth": 0,
              "ticks": ""
             }
            },
            "type": "scatterpolargl"
           }
          ],
          "scatterternary": [
           {
            "marker": {
             "colorbar": {
              "outlinewidth": 0,
              "ticks": ""
             }
            },
            "type": "scatterternary"
           }
          ],
          "surface": [
           {
            "colorbar": {
             "outlinewidth": 0,
             "ticks": ""
            },
            "colorscale": [
             [
              0,
              "#0d0887"
             ],
             [
              0.1111111111111111,
              "#46039f"
             ],
             [
              0.2222222222222222,
              "#7201a8"
             ],
             [
              0.3333333333333333,
              "#9c179e"
             ],
             [
              0.4444444444444444,
              "#bd3786"
             ],
             [
              0.5555555555555556,
              "#d8576b"
             ],
             [
              0.6666666666666666,
              "#ed7953"
             ],
             [
              0.7777777777777778,
              "#fb9f3a"
             ],
             [
              0.8888888888888888,
              "#fdca26"
             ],
             [
              1,
              "#f0f921"
             ]
            ],
            "type": "surface"
           }
          ],
          "table": [
           {
            "cells": {
             "fill": {
              "color": "#EBF0F8"
             },
             "line": {
              "color": "white"
             }
            },
            "header": {
             "fill": {
              "color": "#C8D4E3"
             },
             "line": {
              "color": "white"
             }
            },
            "type": "table"
           }
          ]
         },
         "layout": {
          "annotationdefaults": {
           "arrowcolor": "#2a3f5f",
           "arrowhead": 0,
           "arrowwidth": 1
          },
          "autotypenumbers": "strict",
          "coloraxis": {
           "colorbar": {
            "outlinewidth": 0,
            "ticks": ""
           }
          },
          "colorscale": {
           "diverging": [
            [
             0,
             "#8e0152"
            ],
            [
             0.1,
             "#c51b7d"
            ],
            [
             0.2,
             "#de77ae"
            ],
            [
             0.3,
             "#f1b6da"
            ],
            [
             0.4,
             "#fde0ef"
            ],
            [
             0.5,
             "#f7f7f7"
            ],
            [
             0.6,
             "#e6f5d0"
            ],
            [
             0.7,
             "#b8e186"
            ],
            [
             0.8,
             "#7fbc41"
            ],
            [
             0.9,
             "#4d9221"
            ],
            [
             1,
             "#276419"
            ]
           ],
           "sequential": [
            [
             0,
             "#0d0887"
            ],
            [
             0.1111111111111111,
             "#46039f"
            ],
            [
             0.2222222222222222,
             "#7201a8"
            ],
            [
             0.3333333333333333,
             "#9c179e"
            ],
            [
             0.4444444444444444,
             "#bd3786"
            ],
            [
             0.5555555555555556,
             "#d8576b"
            ],
            [
             0.6666666666666666,
             "#ed7953"
            ],
            [
             0.7777777777777778,
             "#fb9f3a"
            ],
            [
             0.8888888888888888,
             "#fdca26"
            ],
            [
             1,
             "#f0f921"
            ]
           ],
           "sequentialminus": [
            [
             0,
             "#0d0887"
            ],
            [
             0.1111111111111111,
             "#46039f"
            ],
            [
             0.2222222222222222,
             "#7201a8"
            ],
            [
             0.3333333333333333,
             "#9c179e"
            ],
            [
             0.4444444444444444,
             "#bd3786"
            ],
            [
             0.5555555555555556,
             "#d8576b"
            ],
            [
             0.6666666666666666,
             "#ed7953"
            ],
            [
             0.7777777777777778,
             "#fb9f3a"
            ],
            [
             0.8888888888888888,
             "#fdca26"
            ],
            [
             1,
             "#f0f921"
            ]
           ]
          },
          "colorway": [
           "#636efa",
           "#EF553B",
           "#00cc96",
           "#ab63fa",
           "#FFA15A",
           "#19d3f3",
           "#FF6692",
           "#B6E880",
           "#FF97FF",
           "#FECB52"
          ],
          "font": {
           "color": "#2a3f5f"
          },
          "geo": {
           "bgcolor": "white",
           "lakecolor": "white",
           "landcolor": "#E5ECF6",
           "showlakes": true,
           "showland": true,
           "subunitcolor": "white"
          },
          "hoverlabel": {
           "align": "left"
          },
          "hovermode": "closest",
          "mapbox": {
           "style": "light"
          },
          "paper_bgcolor": "white",
          "plot_bgcolor": "#E5ECF6",
          "polar": {
           "angularaxis": {
            "gridcolor": "white",
            "linecolor": "white",
            "ticks": ""
           },
           "bgcolor": "#E5ECF6",
           "radialaxis": {
            "gridcolor": "white",
            "linecolor": "white",
            "ticks": ""
           }
          },
          "scene": {
           "xaxis": {
            "backgroundcolor": "#E5ECF6",
            "gridcolor": "white",
            "gridwidth": 2,
            "linecolor": "white",
            "showbackground": true,
            "ticks": "",
            "zerolinecolor": "white"
           },
           "yaxis": {
            "backgroundcolor": "#E5ECF6",
            "gridcolor": "white",
            "gridwidth": 2,
            "linecolor": "white",
            "showbackground": true,
            "ticks": "",
            "zerolinecolor": "white"
           },
           "zaxis": {
            "backgroundcolor": "#E5ECF6",
            "gridcolor": "white",
            "gridwidth": 2,
            "linecolor": "white",
            "showbackground": true,
            "ticks": "",
            "zerolinecolor": "white"
           }
          },
          "shapedefaults": {
           "line": {
            "color": "#2a3f5f"
           }
          },
          "ternary": {
           "aaxis": {
            "gridcolor": "white",
            "linecolor": "white",
            "ticks": ""
           },
           "baxis": {
            "gridcolor": "white",
            "linecolor": "white",
            "ticks": ""
           },
           "bgcolor": "#E5ECF6",
           "caxis": {
            "gridcolor": "white",
            "linecolor": "white",
            "ticks": ""
           }
          },
          "title": {
           "x": 0.05
          },
          "xaxis": {
           "automargin": true,
           "gridcolor": "white",
           "linecolor": "white",
           "ticks": "",
           "title": {
            "standoff": 15
           },
           "zerolinecolor": "white",
           "zerolinewidth": 2
          },
          "yaxis": {
           "automargin": true,
           "gridcolor": "white",
           "linecolor": "white",
           "ticks": "",
           "title": {
            "standoff": 15
           },
           "zerolinecolor": "white",
           "zerolinewidth": 2
          }
         }
        },
        "title": {
         "text": "ratio Distribution"
        },
        "xaxis": {
         "anchor": "y",
         "domain": [
          0,
          1
         ],
         "title": {
          "text": "ratio"
         }
        },
        "xaxis2": {
         "anchor": "y2",
         "domain": [
          0,
          1
         ],
         "matches": "x",
         "showgrid": true,
         "showticklabels": false
        },
        "yaxis": {
         "anchor": "x",
         "domain": [
          0,
          0.8316
         ],
         "title": {
          "text": "count"
         }
        },
        "yaxis2": {
         "anchor": "x2",
         "domain": [
          0.8416,
          1
         ],
         "matches": "y2",
         "showgrid": false,
         "showline": false,
         "showticklabels": false,
         "ticks": ""
        }
       }
      }
     },
     "metadata": {},
     "output_type": "display_data"
    }
   ],
   "source": [
    "fig = px.histogram(df_raw, x='ratio', marginal='box', nbins=47, title='ratio Distribution')\n",
    "fig.update_layout(bargap=0.1)\n",
    "fig.show()"
   ]
  },
  {
   "cell_type": "code",
   "execution_count": 84,
   "metadata": {},
   "outputs": [
    {
     "data": {
      "application/vnd.plotly.v1+json": {
       "config": {
        "plotlyServerURL": "https://plot.ly"
       },
       "data": [
        {
         "alignmentgroup": "True",
         "bingroup": "x",
         "hovertemplate": "time.ppn=%{x}<br>count=%{y}<extra></extra>",
         "legendgroup": "",
         "marker": {
          "color": "#636efa"
         },
         "name": "",
         "nbinsx": 47,
         "offsetgroup": "",
         "orientation": "v",
         "showlegend": false,
         "type": "histogram",
         "x": [
          720,
          360,
          180,
          480,
          300,
          195,
          720,
          1020,
          300,
          240,
          300,
          90,
          720,
          60,
          225,
          240,
          180,
          1440,
          120,
          540,
          1020,
          480,
          240,
          285,
          210,
          780,
          420,
          510,
          720,
          450,
          540,
          780,
          225,
          330,
          720,
          780,
          720,
          240,
          30,
          840,
          720,
          720,
          30,
          300,
          90,
          90,
          150,
          450,
          780,
          360,
          120,
          240,
          360,
          270,
          780,
          60,
          540,
          180,
          195,
          720,
          300,
          720,
          420,
          120,
          720,
          180,
          960,
          960,
          1020,
          120,
          240,
          420,
          120,
          240,
          300,
          1200,
          180,
          240,
          210,
          180,
          270,
          10,
          210,
          60,
          420,
          780,
          720,
          840,
          660,
          420,
          690,
          1140,
          120,
          60,
          10,
          900,
          1560,
          120,
          20,
          390,
          780,
          600,
          10,
          45,
          780,
          60,
          240,
          300,
          240,
          720,
          341.25,
          330,
          60,
          30,
          300,
          30,
          30,
          720,
          210,
          120,
          120,
          300,
          1170,
          240,
          720,
          180,
          10,
          240,
          660,
          180,
          225,
          140,
          60,
          30,
          60,
          855,
          90,
          960,
          90,
          315,
          210,
          600,
          30,
          120,
          1320,
          750,
          60,
          900,
          390,
          1080,
          30,
          720,
          60,
          720,
          900,
          15,
          270,
          720,
          720,
          210,
          300,
          10,
          10,
          60,
          300,
          150,
          60,
          60,
          180,
          60,
          270,
          420,
          240,
          210,
          990,
          90,
          90,
          780,
          360,
          480,
          195,
          60,
          150,
          30,
          120,
          45,
          90,
          630,
          720,
          300,
          80,
          135,
          210,
          10,
          90,
          360,
          240,
          720,
          720,
          120,
          15,
          780,
          60,
          30,
          435,
          120,
          150,
          120,
          60,
          120,
          720,
          60,
          180,
          180,
          180,
          341.25,
          720,
          720,
          60,
          720,
          90,
          720,
          240,
          60,
          240,
          120,
          720,
          270,
          720,
          210,
          210,
          720,
          60,
          60,
          30,
          90,
          15,
          300,
          180,
          180,
          720,
          180,
          900,
          720,
          20,
          240,
          240,
          60,
          300,
          180,
          240,
          900,
          720,
          540,
          720,
          720,
          300,
          720,
          360,
          360,
          60,
          120,
          420,
          240,
          270,
          60,
          90,
          60,
          840,
          90,
          480,
          341.25,
          240,
          720,
          720,
          720,
          150,
          330,
          690,
          720,
          300,
          120,
          600,
          795,
          135,
          240,
          10,
          480,
          10,
          375,
          30,
          30,
          150,
          270,
          570,
          720,
          30,
          120,
          330,
          10,
          5,
          60,
          90,
          105,
          30,
          1260,
          390,
          420,
          15,
          420,
          270,
          60,
          45,
          180,
          390,
          150,
          15,
          300,
          720,
          240,
          15,
          330,
          120,
          30,
          480,
          180,
          300,
          30,
          240,
          150,
          180,
          270,
          10,
          300,
          240,
          20,
          330,
          20,
          240,
          150,
          300,
          540,
          240,
          150,
          150,
          30,
          60,
          195,
          90,
          180,
          450,
          225,
          75,
          195,
          210,
          180,
          195,
          330,
          285,
          240,
          150,
          15,
          60,
          210,
          210,
          1440,
          390,
          900,
          1440,
          90,
          260,
          240,
          270,
          270,
          180,
          15,
          480,
          240,
          780,
          300,
          60,
          900,
          40,
          450,
          1020,
          210,
          60,
          180,
          180,
          30,
          480,
          60,
          540,
          60,
          60,
          480,
          330,
          210,
          210,
          180,
          20,
          255,
          900
         ],
         "xaxis": "x",
         "yaxis": "y"
        },
        {
         "alignmentgroup": "True",
         "hovertemplate": "time.ppn=%{x}<extra></extra>",
         "legendgroup": "",
         "marker": {
          "color": "#636efa"
         },
         "name": "",
         "notched": true,
         "offsetgroup": "",
         "showlegend": false,
         "type": "box",
         "x": [
          720,
          360,
          180,
          480,
          300,
          195,
          720,
          1020,
          300,
          240,
          300,
          90,
          720,
          60,
          225,
          240,
          180,
          1440,
          120,
          540,
          1020,
          480,
          240,
          285,
          210,
          780,
          420,
          510,
          720,
          450,
          540,
          780,
          225,
          330,
          720,
          780,
          720,
          240,
          30,
          840,
          720,
          720,
          30,
          300,
          90,
          90,
          150,
          450,
          780,
          360,
          120,
          240,
          360,
          270,
          780,
          60,
          540,
          180,
          195,
          720,
          300,
          720,
          420,
          120,
          720,
          180,
          960,
          960,
          1020,
          120,
          240,
          420,
          120,
          240,
          300,
          1200,
          180,
          240,
          210,
          180,
          270,
          10,
          210,
          60,
          420,
          780,
          720,
          840,
          660,
          420,
          690,
          1140,
          120,
          60,
          10,
          900,
          1560,
          120,
          20,
          390,
          780,
          600,
          10,
          45,
          780,
          60,
          240,
          300,
          240,
          720,
          341.25,
          330,
          60,
          30,
          300,
          30,
          30,
          720,
          210,
          120,
          120,
          300,
          1170,
          240,
          720,
          180,
          10,
          240,
          660,
          180,
          225,
          140,
          60,
          30,
          60,
          855,
          90,
          960,
          90,
          315,
          210,
          600,
          30,
          120,
          1320,
          750,
          60,
          900,
          390,
          1080,
          30,
          720,
          60,
          720,
          900,
          15,
          270,
          720,
          720,
          210,
          300,
          10,
          10,
          60,
          300,
          150,
          60,
          60,
          180,
          60,
          270,
          420,
          240,
          210,
          990,
          90,
          90,
          780,
          360,
          480,
          195,
          60,
          150,
          30,
          120,
          45,
          90,
          630,
          720,
          300,
          80,
          135,
          210,
          10,
          90,
          360,
          240,
          720,
          720,
          120,
          15,
          780,
          60,
          30,
          435,
          120,
          150,
          120,
          60,
          120,
          720,
          60,
          180,
          180,
          180,
          341.25,
          720,
          720,
          60,
          720,
          90,
          720,
          240,
          60,
          240,
          120,
          720,
          270,
          720,
          210,
          210,
          720,
          60,
          60,
          30,
          90,
          15,
          300,
          180,
          180,
          720,
          180,
          900,
          720,
          20,
          240,
          240,
          60,
          300,
          180,
          240,
          900,
          720,
          540,
          720,
          720,
          300,
          720,
          360,
          360,
          60,
          120,
          420,
          240,
          270,
          60,
          90,
          60,
          840,
          90,
          480,
          341.25,
          240,
          720,
          720,
          720,
          150,
          330,
          690,
          720,
          300,
          120,
          600,
          795,
          135,
          240,
          10,
          480,
          10,
          375,
          30,
          30,
          150,
          270,
          570,
          720,
          30,
          120,
          330,
          10,
          5,
          60,
          90,
          105,
          30,
          1260,
          390,
          420,
          15,
          420,
          270,
          60,
          45,
          180,
          390,
          150,
          15,
          300,
          720,
          240,
          15,
          330,
          120,
          30,
          480,
          180,
          300,
          30,
          240,
          150,
          180,
          270,
          10,
          300,
          240,
          20,
          330,
          20,
          240,
          150,
          300,
          540,
          240,
          150,
          150,
          30,
          60,
          195,
          90,
          180,
          450,
          225,
          75,
          195,
          210,
          180,
          195,
          330,
          285,
          240,
          150,
          15,
          60,
          210,
          210,
          1440,
          390,
          900,
          1440,
          90,
          260,
          240,
          270,
          270,
          180,
          15,
          480,
          240,
          780,
          300,
          60,
          900,
          40,
          450,
          1020,
          210,
          60,
          180,
          180,
          30,
          480,
          60,
          540,
          60,
          60,
          480,
          330,
          210,
          210,
          180,
          20,
          255,
          900
         ],
         "xaxis": "x2",
         "yaxis": "y2"
        }
       ],
       "layout": {
        "bargap": 0.1,
        "barmode": "relative",
        "legend": {
         "tracegroupgap": 0
        },
        "template": {
         "data": {
          "bar": [
           {
            "error_x": {
             "color": "#2a3f5f"
            },
            "error_y": {
             "color": "#2a3f5f"
            },
            "marker": {
             "line": {
              "color": "#E5ECF6",
              "width": 0.5
             }
            },
            "type": "bar"
           }
          ],
          "barpolar": [
           {
            "marker": {
             "line": {
              "color": "#E5ECF6",
              "width": 0.5
             }
            },
            "type": "barpolar"
           }
          ],
          "carpet": [
           {
            "aaxis": {
             "endlinecolor": "#2a3f5f",
             "gridcolor": "white",
             "linecolor": "white",
             "minorgridcolor": "white",
             "startlinecolor": "#2a3f5f"
            },
            "baxis": {
             "endlinecolor": "#2a3f5f",
             "gridcolor": "white",
             "linecolor": "white",
             "minorgridcolor": "white",
             "startlinecolor": "#2a3f5f"
            },
            "type": "carpet"
           }
          ],
          "choropleth": [
           {
            "colorbar": {
             "outlinewidth": 0,
             "ticks": ""
            },
            "type": "choropleth"
           }
          ],
          "contour": [
           {
            "colorbar": {
             "outlinewidth": 0,
             "ticks": ""
            },
            "colorscale": [
             [
              0,
              "#0d0887"
             ],
             [
              0.1111111111111111,
              "#46039f"
             ],
             [
              0.2222222222222222,
              "#7201a8"
             ],
             [
              0.3333333333333333,
              "#9c179e"
             ],
             [
              0.4444444444444444,
              "#bd3786"
             ],
             [
              0.5555555555555556,
              "#d8576b"
             ],
             [
              0.6666666666666666,
              "#ed7953"
             ],
             [
              0.7777777777777778,
              "#fb9f3a"
             ],
             [
              0.8888888888888888,
              "#fdca26"
             ],
             [
              1,
              "#f0f921"
             ]
            ],
            "type": "contour"
           }
          ],
          "contourcarpet": [
           {
            "colorbar": {
             "outlinewidth": 0,
             "ticks": ""
            },
            "type": "contourcarpet"
           }
          ],
          "heatmap": [
           {
            "colorbar": {
             "outlinewidth": 0,
             "ticks": ""
            },
            "colorscale": [
             [
              0,
              "#0d0887"
             ],
             [
              0.1111111111111111,
              "#46039f"
             ],
             [
              0.2222222222222222,
              "#7201a8"
             ],
             [
              0.3333333333333333,
              "#9c179e"
             ],
             [
              0.4444444444444444,
              "#bd3786"
             ],
             [
              0.5555555555555556,
              "#d8576b"
             ],
             [
              0.6666666666666666,
              "#ed7953"
             ],
             [
              0.7777777777777778,
              "#fb9f3a"
             ],
             [
              0.8888888888888888,
              "#fdca26"
             ],
             [
              1,
              "#f0f921"
             ]
            ],
            "type": "heatmap"
           }
          ],
          "heatmapgl": [
           {
            "colorbar": {
             "outlinewidth": 0,
             "ticks": ""
            },
            "colorscale": [
             [
              0,
              "#0d0887"
             ],
             [
              0.1111111111111111,
              "#46039f"
             ],
             [
              0.2222222222222222,
              "#7201a8"
             ],
             [
              0.3333333333333333,
              "#9c179e"
             ],
             [
              0.4444444444444444,
              "#bd3786"
             ],
             [
              0.5555555555555556,
              "#d8576b"
             ],
             [
              0.6666666666666666,
              "#ed7953"
             ],
             [
              0.7777777777777778,
              "#fb9f3a"
             ],
             [
              0.8888888888888888,
              "#fdca26"
             ],
             [
              1,
              "#f0f921"
             ]
            ],
            "type": "heatmapgl"
           }
          ],
          "histogram": [
           {
            "marker": {
             "colorbar": {
              "outlinewidth": 0,
              "ticks": ""
             }
            },
            "type": "histogram"
           }
          ],
          "histogram2d": [
           {
            "colorbar": {
             "outlinewidth": 0,
             "ticks": ""
            },
            "colorscale": [
             [
              0,
              "#0d0887"
             ],
             [
              0.1111111111111111,
              "#46039f"
             ],
             [
              0.2222222222222222,
              "#7201a8"
             ],
             [
              0.3333333333333333,
              "#9c179e"
             ],
             [
              0.4444444444444444,
              "#bd3786"
             ],
             [
              0.5555555555555556,
              "#d8576b"
             ],
             [
              0.6666666666666666,
              "#ed7953"
             ],
             [
              0.7777777777777778,
              "#fb9f3a"
             ],
             [
              0.8888888888888888,
              "#fdca26"
             ],
             [
              1,
              "#f0f921"
             ]
            ],
            "type": "histogram2d"
           }
          ],
          "histogram2dcontour": [
           {
            "colorbar": {
             "outlinewidth": 0,
             "ticks": ""
            },
            "colorscale": [
             [
              0,
              "#0d0887"
             ],
             [
              0.1111111111111111,
              "#46039f"
             ],
             [
              0.2222222222222222,
              "#7201a8"
             ],
             [
              0.3333333333333333,
              "#9c179e"
             ],
             [
              0.4444444444444444,
              "#bd3786"
             ],
             [
              0.5555555555555556,
              "#d8576b"
             ],
             [
              0.6666666666666666,
              "#ed7953"
             ],
             [
              0.7777777777777778,
              "#fb9f3a"
             ],
             [
              0.8888888888888888,
              "#fdca26"
             ],
             [
              1,
              "#f0f921"
             ]
            ],
            "type": "histogram2dcontour"
           }
          ],
          "mesh3d": [
           {
            "colorbar": {
             "outlinewidth": 0,
             "ticks": ""
            },
            "type": "mesh3d"
           }
          ],
          "parcoords": [
           {
            "line": {
             "colorbar": {
              "outlinewidth": 0,
              "ticks": ""
             }
            },
            "type": "parcoords"
           }
          ],
          "pie": [
           {
            "automargin": true,
            "type": "pie"
           }
          ],
          "scatter": [
           {
            "marker": {
             "colorbar": {
              "outlinewidth": 0,
              "ticks": ""
             }
            },
            "type": "scatter"
           }
          ],
          "scatter3d": [
           {
            "line": {
             "colorbar": {
              "outlinewidth": 0,
              "ticks": ""
             }
            },
            "marker": {
             "colorbar": {
              "outlinewidth": 0,
              "ticks": ""
             }
            },
            "type": "scatter3d"
           }
          ],
          "scattercarpet": [
           {
            "marker": {
             "colorbar": {
              "outlinewidth": 0,
              "ticks": ""
             }
            },
            "type": "scattercarpet"
           }
          ],
          "scattergeo": [
           {
            "marker": {
             "colorbar": {
              "outlinewidth": 0,
              "ticks": ""
             }
            },
            "type": "scattergeo"
           }
          ],
          "scattergl": [
           {
            "marker": {
             "colorbar": {
              "outlinewidth": 0,
              "ticks": ""
             }
            },
            "type": "scattergl"
           }
          ],
          "scattermapbox": [
           {
            "marker": {
             "colorbar": {
              "outlinewidth": 0,
              "ticks": ""
             }
            },
            "type": "scattermapbox"
           }
          ],
          "scatterpolar": [
           {
            "marker": {
             "colorbar": {
              "outlinewidth": 0,
              "ticks": ""
             }
            },
            "type": "scatterpolar"
           }
          ],
          "scatterpolargl": [
           {
            "marker": {
             "colorbar": {
              "outlinewidth": 0,
              "ticks": ""
             }
            },
            "type": "scatterpolargl"
           }
          ],
          "scatterternary": [
           {
            "marker": {
             "colorbar": {
              "outlinewidth": 0,
              "ticks": ""
             }
            },
            "type": "scatterternary"
           }
          ],
          "surface": [
           {
            "colorbar": {
             "outlinewidth": 0,
             "ticks": ""
            },
            "colorscale": [
             [
              0,
              "#0d0887"
             ],
             [
              0.1111111111111111,
              "#46039f"
             ],
             [
              0.2222222222222222,
              "#7201a8"
             ],
             [
              0.3333333333333333,
              "#9c179e"
             ],
             [
              0.4444444444444444,
              "#bd3786"
             ],
             [
              0.5555555555555556,
              "#d8576b"
             ],
             [
              0.6666666666666666,
              "#ed7953"
             ],
             [
              0.7777777777777778,
              "#fb9f3a"
             ],
             [
              0.8888888888888888,
              "#fdca26"
             ],
             [
              1,
              "#f0f921"
             ]
            ],
            "type": "surface"
           }
          ],
          "table": [
           {
            "cells": {
             "fill": {
              "color": "#EBF0F8"
             },
             "line": {
              "color": "white"
             }
            },
            "header": {
             "fill": {
              "color": "#C8D4E3"
             },
             "line": {
              "color": "white"
             }
            },
            "type": "table"
           }
          ]
         },
         "layout": {
          "annotationdefaults": {
           "arrowcolor": "#2a3f5f",
           "arrowhead": 0,
           "arrowwidth": 1
          },
          "autotypenumbers": "strict",
          "coloraxis": {
           "colorbar": {
            "outlinewidth": 0,
            "ticks": ""
           }
          },
          "colorscale": {
           "diverging": [
            [
             0,
             "#8e0152"
            ],
            [
             0.1,
             "#c51b7d"
            ],
            [
             0.2,
             "#de77ae"
            ],
            [
             0.3,
             "#f1b6da"
            ],
            [
             0.4,
             "#fde0ef"
            ],
            [
             0.5,
             "#f7f7f7"
            ],
            [
             0.6,
             "#e6f5d0"
            ],
            [
             0.7,
             "#b8e186"
            ],
            [
             0.8,
             "#7fbc41"
            ],
            [
             0.9,
             "#4d9221"
            ],
            [
             1,
             "#276419"
            ]
           ],
           "sequential": [
            [
             0,
             "#0d0887"
            ],
            [
             0.1111111111111111,
             "#46039f"
            ],
            [
             0.2222222222222222,
             "#7201a8"
            ],
            [
             0.3333333333333333,
             "#9c179e"
            ],
            [
             0.4444444444444444,
             "#bd3786"
            ],
            [
             0.5555555555555556,
             "#d8576b"
            ],
            [
             0.6666666666666666,
             "#ed7953"
            ],
            [
             0.7777777777777778,
             "#fb9f3a"
            ],
            [
             0.8888888888888888,
             "#fdca26"
            ],
            [
             1,
             "#f0f921"
            ]
           ],
           "sequentialminus": [
            [
             0,
             "#0d0887"
            ],
            [
             0.1111111111111111,
             "#46039f"
            ],
            [
             0.2222222222222222,
             "#7201a8"
            ],
            [
             0.3333333333333333,
             "#9c179e"
            ],
            [
             0.4444444444444444,
             "#bd3786"
            ],
            [
             0.5555555555555556,
             "#d8576b"
            ],
            [
             0.6666666666666666,
             "#ed7953"
            ],
            [
             0.7777777777777778,
             "#fb9f3a"
            ],
            [
             0.8888888888888888,
             "#fdca26"
            ],
            [
             1,
             "#f0f921"
            ]
           ]
          },
          "colorway": [
           "#636efa",
           "#EF553B",
           "#00cc96",
           "#ab63fa",
           "#FFA15A",
           "#19d3f3",
           "#FF6692",
           "#B6E880",
           "#FF97FF",
           "#FECB52"
          ],
          "font": {
           "color": "#2a3f5f"
          },
          "geo": {
           "bgcolor": "white",
           "lakecolor": "white",
           "landcolor": "#E5ECF6",
           "showlakes": true,
           "showland": true,
           "subunitcolor": "white"
          },
          "hoverlabel": {
           "align": "left"
          },
          "hovermode": "closest",
          "mapbox": {
           "style": "light"
          },
          "paper_bgcolor": "white",
          "plot_bgcolor": "#E5ECF6",
          "polar": {
           "angularaxis": {
            "gridcolor": "white",
            "linecolor": "white",
            "ticks": ""
           },
           "bgcolor": "#E5ECF6",
           "radialaxis": {
            "gridcolor": "white",
            "linecolor": "white",
            "ticks": ""
           }
          },
          "scene": {
           "xaxis": {
            "backgroundcolor": "#E5ECF6",
            "gridcolor": "white",
            "gridwidth": 2,
            "linecolor": "white",
            "showbackground": true,
            "ticks": "",
            "zerolinecolor": "white"
           },
           "yaxis": {
            "backgroundcolor": "#E5ECF6",
            "gridcolor": "white",
            "gridwidth": 2,
            "linecolor": "white",
            "showbackground": true,
            "ticks": "",
            "zerolinecolor": "white"
           },
           "zaxis": {
            "backgroundcolor": "#E5ECF6",
            "gridcolor": "white",
            "gridwidth": 2,
            "linecolor": "white",
            "showbackground": true,
            "ticks": "",
            "zerolinecolor": "white"
           }
          },
          "shapedefaults": {
           "line": {
            "color": "#2a3f5f"
           }
          },
          "ternary": {
           "aaxis": {
            "gridcolor": "white",
            "linecolor": "white",
            "ticks": ""
           },
           "baxis": {
            "gridcolor": "white",
            "linecolor": "white",
            "ticks": ""
           },
           "bgcolor": "#E5ECF6",
           "caxis": {
            "gridcolor": "white",
            "linecolor": "white",
            "ticks": ""
           }
          },
          "title": {
           "x": 0.05
          },
          "xaxis": {
           "automargin": true,
           "gridcolor": "white",
           "linecolor": "white",
           "ticks": "",
           "title": {
            "standoff": 15
           },
           "zerolinecolor": "white",
           "zerolinewidth": 2
          },
          "yaxis": {
           "automargin": true,
           "gridcolor": "white",
           "linecolor": "white",
           "ticks": "",
           "title": {
            "standoff": 15
           },
           "zerolinecolor": "white",
           "zerolinewidth": 2
          }
         }
        },
        "title": {
         "text": "time.ppn Distribution"
        },
        "xaxis": {
         "anchor": "y",
         "domain": [
          0,
          1
         ],
         "title": {
          "text": "time.ppn"
         }
        },
        "xaxis2": {
         "anchor": "y2",
         "domain": [
          0,
          1
         ],
         "matches": "x",
         "showgrid": true,
         "showticklabels": false
        },
        "yaxis": {
         "anchor": "x",
         "domain": [
          0,
          0.8316
         ],
         "title": {
          "text": "count"
         }
        },
        "yaxis2": {
         "anchor": "x2",
         "domain": [
          0.8416,
          1
         ],
         "matches": "y2",
         "showgrid": false,
         "showline": false,
         "showticklabels": false,
         "ticks": ""
        }
       }
      }
     },
     "metadata": {},
     "output_type": "display_data"
    }
   ],
   "source": [
    "#few visible outliers on this feature - checking for correlation will help determine its suitability for modelling\n",
    "fig = px.histogram(df_raw, x='time.ppn', marginal='box', nbins=47, title='time.ppn Distribution')\n",
    "fig.update_layout(bargap=0.1)\n",
    "fig.show()"
   ]
  },
  {
   "cell_type": "code",
   "execution_count": 85,
   "metadata": {},
   "outputs": [
    {
     "data": {
      "application/vnd.plotly.v1+json": {
       "config": {
        "plotlyServerURL": "https://plot.ly"
       },
       "data": [
        {
         "alignmentgroup": "True",
         "bingroup": "x",
         "hovertemplate": "hip_waist_ratio=%{x}<br>count=%{y}<extra></extra>",
         "legendgroup": "",
         "marker": {
          "color": "#636efa"
         },
         "name": "",
         "nbinsx": 47,
         "offsetgroup": "",
         "orientation": "v",
         "showlegend": false,
         "type": "histogram",
         "x": [
          0.7631578947368421,
          0.9583333333333334,
          0.8596491228070176,
          0.868421052631579,
          1.0731707317073171,
          0.8571428571428571,
          0.9387755102040817,
          0.8717948717948718,
          0.85,
          0.9,
          0.8666666666666667,
          0.84,
          0.8536585365853658,
          0.8604651162790697,
          0.9,
          0.9024390243902439,
          0.8604651162790697,
          0.7948717948717948,
          0.8823529411764706,
          0.9019607843137255,
          1.024390243902439,
          0.9782608695652174,
          0.8727272727272727,
          1.0909090909090908,
          0.868421052631579,
          0.7777777777777778,
          0.9148936170212766,
          0.8181818181818182,
          0.8157894736842105,
          0.9487179487179487,
          0.925,
          0.8285714285714286,
          0.9512195121951219,
          1.1395348837209303,
          0.9411764705882353,
          0.8863636363636364,
          0.8857142857142857,
          0.9387755102040817,
          0.8611111111111112,
          0.9375,
          0.875,
          0.9302325581395349,
          0.9523809523809523,
          0.8775510204081632,
          1,
          0.8596491228070176,
          1,
          0.9767441860465116,
          0.9090909090909091,
          0.8269230769230769,
          0.9024390243902439,
          0.782608695652174,
          0.9148936170212766,
          0.8863636363636364,
          0.9444444444444444,
          0.8448275862068966,
          0.926829268292683,
          1,
          0.9148936170212766,
          0.8888888888888888,
          0.875,
          0.85,
          0.8958333333333334,
          0.8857142857142857,
          0.8974358974358975,
          0.875,
          0.8,
          0.8095238095238095,
          0.9393939393939394,
          0.9210526315789473,
          1.0512820512820513,
          0.9361702127659575,
          0.925,
          0.7962962962962963,
          0.8857142857142857,
          0.875,
          0.8222222222222222,
          0.9,
          0.92,
          0.926829268292683,
          0.9761904761904762,
          0.9090909090909091,
          0.926829268292683,
          0.8444444444444444,
          0.925,
          0.9024390243902439,
          0.7924528301886793,
          0.8163265306122449,
          0.8809523809523809,
          0.8780487804878049,
          0.85,
          0.8048780487804879,
          0.9666666666666667,
          0.8372093023255814,
          0.7954545454545454,
          0.717948717948718,
          0.7435897435897436,
          0.8974358974358975,
          0.8,
          0.9767441860465116,
          0.9130434782608695,
          0.8717948717948718,
          0.8235294117647058,
          0.9,
          0.9230769230769231,
          0.975609756097561,
          0.9761904761904762,
          0.875,
          0.9512195121951219,
          0.8809523809523809,
          0.8863636363636364,
          0.9318181818181818,
          0.8157894736842105,
          0.7906976744186046,
          0.8421052631578947,
          0.8717948717948718,
          0.8125,
          0.825,
          0.796875,
          0.775,
          0.9142857142857143,
          0.8837209302325582,
          0.7948717948717948,
          0.8095238095238095,
          0.8,
          0.9069767441860465,
          0.88,
          0.9166666666666666,
          0.9411764705882353,
          0.9361702127659575,
          0.925,
          0.8867924528301887,
          0.9302325581395349,
          0.8636363636363636,
          0.8548387096774194,
          0.8421052631578947,
          0.8947368421052632,
          0.8958333333333334,
          1.0888888888888888,
          0.8837209302325582,
          0.717391304347826,
          0.7804878048780488,
          0.9393939393939394,
          0.925,
          0.868421052631579,
          0.8461538461538461,
          0.8787878787878788,
          1.0408163265306123,
          0.9512195121951219,
          0.8055555555555556,
          1.1428571428571428,
          0.8888888888888888,
          0.8604651162790697,
          0.9512195121951219,
          0.8518518518518519,
          0.9777777777777777,
          0.8974358974358975,
          0.8571428571428571,
          0.8888888888888888,
          0.8518518518518519,
          0.896551724137931,
          0.8108108108108109,
          0.8372093023255814,
          0.8297872340425532,
          0.8333333333333334,
          0.8285714285714286,
          0.9230769230769231,
          0.8043478260869565,
          0.9069767441860465,
          0.9047619047619048,
          0.7567567567567568,
          0.8813559322033898,
          0.95,
          0.9024390243902439,
          0.8461538461538461,
          1.027027027027027,
          0.8444444444444444,
          0.851063829787234,
          1.0454545454545454,
          0.9782608695652174,
          0.9782608695652174,
          0.8292682926829268,
          0.7333333333333333,
          0.8409090909090909,
          1.0476190476190477,
          0.7547169811320755,
          0.8604651162790697,
          0.8372093023255814,
          0.8723404255319149,
          0.8666666666666667,
          0.8421052631578947,
          0.7837837837837838,
          0.925,
          0.8863636363636364,
          0.8604651162790697,
          0.9736842105263158,
          0.8947368421052632,
          1.0638297872340425,
          0.9166666666666666,
          0.9696969696969697,
          0.8108108108108109,
          0.7906976744186046,
          0.9375,
          1.0444444444444445,
          0.9705882352941176,
          0.8787878787878788,
          0.868421052631579,
          0.9361702127659575,
          0.8604651162790697,
          0.9523809523809523,
          0.8285714285714286,
          0.7906976744186046,
          0.9782608695652174,
          1,
          0.8571428571428571,
          0.8648648648648649,
          0.7878787878787878,
          0.9428571428571428,
          0.8421052631578947,
          0.8913043478260869,
          0.775,
          0.7857142857142857,
          0.926829268292683,
          0.8604651162790697,
          0.8297872340425532,
          0.8974358974358975,
          0.8292682926829268,
          0.7567567567567568,
          0.9302325581395349,
          0.8260869565217391,
          0.9024390243902439,
          0.8636363636363636,
          0.8809523809523809,
          0.9459459459459459,
          0.9387755102040817,
          0.9047619047619048,
          0.8,
          0.9743589743589743,
          0.975609756097561,
          0.9375,
          0.9795918367346939,
          0.8723404255319149,
          0.8974358974358975,
          0.825,
          0.9230769230769231,
          0.6818181818181818,
          0.725,
          0.9142857142857143,
          0.8636363636363636,
          0.7758620689655172,
          0.825,
          0.8048780487804879,
          0.9523809523809523,
          0.8888888888888888,
          0.8378378378378378,
          0.8723404255319149,
          0.8870967741935484,
          0.9230769230769231,
          0.9038461538461539,
          0.9024390243902439,
          0.8936170212765957,
          0.8431372549019608,
          1.0263157894736843,
          0.8333333333333334,
          1.0769230769230769,
          0.7727272727272727,
          0.8095238095238095,
          1,
          1.0204081632653061,
          0.7659574468085106,
          0.9512195121951219,
          0.95,
          0.7027027027027027,
          0.8611111111111112,
          0.9555555555555556,
          0.8333333333333334,
          0.9183673469387755,
          0.7948717948717948,
          0.8333333333333334,
          0.9047619047619048,
          0.8,
          0.8717948717948718,
          0.9148936170212766,
          0.9,
          0.7755102040816326,
          0.8461538461538461,
          0.8181818181818182,
          0.7948717948717948,
          0.7948717948717948,
          0.8333333333333334,
          0.925,
          0.9318181818181818,
          0.8260869565217391,
          0.9361702127659575,
          0.9743589743589743,
          0.8421052631578947,
          0.8421052631578947,
          0.8,
          0.9056603773584906,
          0.8260869565217391,
          0.7608695652173914,
          0.8163265306122449,
          0.7948717948717948,
          0.7884615384615384,
          0.825,
          0.75,
          0.8205128205128205,
          0.825,
          0.8448275862068966,
          0.868421052631579,
          0.8,
          0.8913043478260869,
          0.975,
          0.8717948717948718,
          0.8809523809523809,
          0.8571428571428571,
          0.8157894736842105,
          0.851063829787234,
          0.9361702127659575,
          0.8378378378378378,
          0.8823529411764706,
          0.8372093023255814,
          0.868421052631579,
          0.8974358974358975,
          0.8775510204081632,
          0.8536585365853658,
          0.9130434782608695,
          0.8809523809523809,
          0.9464285714285714,
          0.9210526315789473,
          0.975609756097561,
          0.9069767441860465,
          0.8103448275862069,
          0.8461538461538461,
          0.8604651162790697,
          0.918918918918919,
          0.8809319644311439,
          0.8571428571428571,
          0.9210526315789473,
          0.9347826086956522,
          0.8863636363636364,
          0.8260869565217391,
          0.7692307692307693,
          0.8297872340425532,
          0.9411764705882353,
          0.7391304347826086,
          0.8545454545454545,
          0.9512195121951219,
          0.9111111111111111,
          0.9111111111111111,
          0.8648648648648649,
          0.7777777777777778,
          0.9411764705882353,
          0.9,
          0.9038461538461539,
          0.7857142857142857,
          0.9347826086956522,
          0.9210526315789473,
          0.9555555555555556,
          0.9761904761904762,
          0.9148936170212766,
          0.8222222222222222,
          0.8780487804878049,
          0.82,
          0.8541666666666666,
          0.8888888888888888,
          0.9791666666666666,
          0.9523809523809523,
          1.0731707317073171,
          0.868421052631579,
          0.9024390243902439,
          0.8301886792452831,
          0.7619047619047619,
          0.7391304347826086,
          0.8918918918918919,
          0.8108108108108109,
          0.8837209302325582,
          0.8181818181818182,
          0.9090909090909091,
          0.9411764705882353,
          0.7804878048780488,
          0.9473684210526315,
          0.9130434782608695,
          0.875,
          0.9090909090909091,
          0.803921568627451,
          0.7872340425531915,
          0.96,
          0.8157894736842105,
          0.9512195121951219,
          0.8095238095238095,
          0.8666666666666667,
          0.9743589743589743,
          0.8809319644311439,
          0.9523809523809523,
          0.8461538461538461,
          0.9047619047619048,
          0.7560975609756098,
          0.8974358974358975,
          0.7441860465116279,
          0.825,
          0.8541666666666666,
          0.8448275862068966
         ],
         "xaxis": "x",
         "yaxis": "y"
        },
        {
         "alignmentgroup": "True",
         "hovertemplate": "hip_waist_ratio=%{x}<extra></extra>",
         "legendgroup": "",
         "marker": {
          "color": "#636efa"
         },
         "name": "",
         "notched": true,
         "offsetgroup": "",
         "showlegend": false,
         "type": "box",
         "x": [
          0.7631578947368421,
          0.9583333333333334,
          0.8596491228070176,
          0.868421052631579,
          1.0731707317073171,
          0.8571428571428571,
          0.9387755102040817,
          0.8717948717948718,
          0.85,
          0.9,
          0.8666666666666667,
          0.84,
          0.8536585365853658,
          0.8604651162790697,
          0.9,
          0.9024390243902439,
          0.8604651162790697,
          0.7948717948717948,
          0.8823529411764706,
          0.9019607843137255,
          1.024390243902439,
          0.9782608695652174,
          0.8727272727272727,
          1.0909090909090908,
          0.868421052631579,
          0.7777777777777778,
          0.9148936170212766,
          0.8181818181818182,
          0.8157894736842105,
          0.9487179487179487,
          0.925,
          0.8285714285714286,
          0.9512195121951219,
          1.1395348837209303,
          0.9411764705882353,
          0.8863636363636364,
          0.8857142857142857,
          0.9387755102040817,
          0.8611111111111112,
          0.9375,
          0.875,
          0.9302325581395349,
          0.9523809523809523,
          0.8775510204081632,
          1,
          0.8596491228070176,
          1,
          0.9767441860465116,
          0.9090909090909091,
          0.8269230769230769,
          0.9024390243902439,
          0.782608695652174,
          0.9148936170212766,
          0.8863636363636364,
          0.9444444444444444,
          0.8448275862068966,
          0.926829268292683,
          1,
          0.9148936170212766,
          0.8888888888888888,
          0.875,
          0.85,
          0.8958333333333334,
          0.8857142857142857,
          0.8974358974358975,
          0.875,
          0.8,
          0.8095238095238095,
          0.9393939393939394,
          0.9210526315789473,
          1.0512820512820513,
          0.9361702127659575,
          0.925,
          0.7962962962962963,
          0.8857142857142857,
          0.875,
          0.8222222222222222,
          0.9,
          0.92,
          0.926829268292683,
          0.9761904761904762,
          0.9090909090909091,
          0.926829268292683,
          0.8444444444444444,
          0.925,
          0.9024390243902439,
          0.7924528301886793,
          0.8163265306122449,
          0.8809523809523809,
          0.8780487804878049,
          0.85,
          0.8048780487804879,
          0.9666666666666667,
          0.8372093023255814,
          0.7954545454545454,
          0.717948717948718,
          0.7435897435897436,
          0.8974358974358975,
          0.8,
          0.9767441860465116,
          0.9130434782608695,
          0.8717948717948718,
          0.8235294117647058,
          0.9,
          0.9230769230769231,
          0.975609756097561,
          0.9761904761904762,
          0.875,
          0.9512195121951219,
          0.8809523809523809,
          0.8863636363636364,
          0.9318181818181818,
          0.8157894736842105,
          0.7906976744186046,
          0.8421052631578947,
          0.8717948717948718,
          0.8125,
          0.825,
          0.796875,
          0.775,
          0.9142857142857143,
          0.8837209302325582,
          0.7948717948717948,
          0.8095238095238095,
          0.8,
          0.9069767441860465,
          0.88,
          0.9166666666666666,
          0.9411764705882353,
          0.9361702127659575,
          0.925,
          0.8867924528301887,
          0.9302325581395349,
          0.8636363636363636,
          0.8548387096774194,
          0.8421052631578947,
          0.8947368421052632,
          0.8958333333333334,
          1.0888888888888888,
          0.8837209302325582,
          0.717391304347826,
          0.7804878048780488,
          0.9393939393939394,
          0.925,
          0.868421052631579,
          0.8461538461538461,
          0.8787878787878788,
          1.0408163265306123,
          0.9512195121951219,
          0.8055555555555556,
          1.1428571428571428,
          0.8888888888888888,
          0.8604651162790697,
          0.9512195121951219,
          0.8518518518518519,
          0.9777777777777777,
          0.8974358974358975,
          0.8571428571428571,
          0.8888888888888888,
          0.8518518518518519,
          0.896551724137931,
          0.8108108108108109,
          0.8372093023255814,
          0.8297872340425532,
          0.8333333333333334,
          0.8285714285714286,
          0.9230769230769231,
          0.8043478260869565,
          0.9069767441860465,
          0.9047619047619048,
          0.7567567567567568,
          0.8813559322033898,
          0.95,
          0.9024390243902439,
          0.8461538461538461,
          1.027027027027027,
          0.8444444444444444,
          0.851063829787234,
          1.0454545454545454,
          0.9782608695652174,
          0.9782608695652174,
          0.8292682926829268,
          0.7333333333333333,
          0.8409090909090909,
          1.0476190476190477,
          0.7547169811320755,
          0.8604651162790697,
          0.8372093023255814,
          0.8723404255319149,
          0.8666666666666667,
          0.8421052631578947,
          0.7837837837837838,
          0.925,
          0.8863636363636364,
          0.8604651162790697,
          0.9736842105263158,
          0.8947368421052632,
          1.0638297872340425,
          0.9166666666666666,
          0.9696969696969697,
          0.8108108108108109,
          0.7906976744186046,
          0.9375,
          1.0444444444444445,
          0.9705882352941176,
          0.8787878787878788,
          0.868421052631579,
          0.9361702127659575,
          0.8604651162790697,
          0.9523809523809523,
          0.8285714285714286,
          0.7906976744186046,
          0.9782608695652174,
          1,
          0.8571428571428571,
          0.8648648648648649,
          0.7878787878787878,
          0.9428571428571428,
          0.8421052631578947,
          0.8913043478260869,
          0.775,
          0.7857142857142857,
          0.926829268292683,
          0.8604651162790697,
          0.8297872340425532,
          0.8974358974358975,
          0.8292682926829268,
          0.7567567567567568,
          0.9302325581395349,
          0.8260869565217391,
          0.9024390243902439,
          0.8636363636363636,
          0.8809523809523809,
          0.9459459459459459,
          0.9387755102040817,
          0.9047619047619048,
          0.8,
          0.9743589743589743,
          0.975609756097561,
          0.9375,
          0.9795918367346939,
          0.8723404255319149,
          0.8974358974358975,
          0.825,
          0.9230769230769231,
          0.6818181818181818,
          0.725,
          0.9142857142857143,
          0.8636363636363636,
          0.7758620689655172,
          0.825,
          0.8048780487804879,
          0.9523809523809523,
          0.8888888888888888,
          0.8378378378378378,
          0.8723404255319149,
          0.8870967741935484,
          0.9230769230769231,
          0.9038461538461539,
          0.9024390243902439,
          0.8936170212765957,
          0.8431372549019608,
          1.0263157894736843,
          0.8333333333333334,
          1.0769230769230769,
          0.7727272727272727,
          0.8095238095238095,
          1,
          1.0204081632653061,
          0.7659574468085106,
          0.9512195121951219,
          0.95,
          0.7027027027027027,
          0.8611111111111112,
          0.9555555555555556,
          0.8333333333333334,
          0.9183673469387755,
          0.7948717948717948,
          0.8333333333333334,
          0.9047619047619048,
          0.8,
          0.8717948717948718,
          0.9148936170212766,
          0.9,
          0.7755102040816326,
          0.8461538461538461,
          0.8181818181818182,
          0.7948717948717948,
          0.7948717948717948,
          0.8333333333333334,
          0.925,
          0.9318181818181818,
          0.8260869565217391,
          0.9361702127659575,
          0.9743589743589743,
          0.8421052631578947,
          0.8421052631578947,
          0.8,
          0.9056603773584906,
          0.8260869565217391,
          0.7608695652173914,
          0.8163265306122449,
          0.7948717948717948,
          0.7884615384615384,
          0.825,
          0.75,
          0.8205128205128205,
          0.825,
          0.8448275862068966,
          0.868421052631579,
          0.8,
          0.8913043478260869,
          0.975,
          0.8717948717948718,
          0.8809523809523809,
          0.8571428571428571,
          0.8157894736842105,
          0.851063829787234,
          0.9361702127659575,
          0.8378378378378378,
          0.8823529411764706,
          0.8372093023255814,
          0.868421052631579,
          0.8974358974358975,
          0.8775510204081632,
          0.8536585365853658,
          0.9130434782608695,
          0.8809523809523809,
          0.9464285714285714,
          0.9210526315789473,
          0.975609756097561,
          0.9069767441860465,
          0.8103448275862069,
          0.8461538461538461,
          0.8604651162790697,
          0.918918918918919,
          0.8809319644311439,
          0.8571428571428571,
          0.9210526315789473,
          0.9347826086956522,
          0.8863636363636364,
          0.8260869565217391,
          0.7692307692307693,
          0.8297872340425532,
          0.9411764705882353,
          0.7391304347826086,
          0.8545454545454545,
          0.9512195121951219,
          0.9111111111111111,
          0.9111111111111111,
          0.8648648648648649,
          0.7777777777777778,
          0.9411764705882353,
          0.9,
          0.9038461538461539,
          0.7857142857142857,
          0.9347826086956522,
          0.9210526315789473,
          0.9555555555555556,
          0.9761904761904762,
          0.9148936170212766,
          0.8222222222222222,
          0.8780487804878049,
          0.82,
          0.8541666666666666,
          0.8888888888888888,
          0.9791666666666666,
          0.9523809523809523,
          1.0731707317073171,
          0.868421052631579,
          0.9024390243902439,
          0.8301886792452831,
          0.7619047619047619,
          0.7391304347826086,
          0.8918918918918919,
          0.8108108108108109,
          0.8837209302325582,
          0.8181818181818182,
          0.9090909090909091,
          0.9411764705882353,
          0.7804878048780488,
          0.9473684210526315,
          0.9130434782608695,
          0.875,
          0.9090909090909091,
          0.803921568627451,
          0.7872340425531915,
          0.96,
          0.8157894736842105,
          0.9512195121951219,
          0.8095238095238095,
          0.8666666666666667,
          0.9743589743589743,
          0.8809319644311439,
          0.9523809523809523,
          0.8461538461538461,
          0.9047619047619048,
          0.7560975609756098,
          0.8974358974358975,
          0.7441860465116279,
          0.825,
          0.8541666666666666,
          0.8448275862068966
         ],
         "xaxis": "x2",
         "yaxis": "y2"
        }
       ],
       "layout": {
        "bargap": 0.1,
        "barmode": "relative",
        "legend": {
         "tracegroupgap": 0
        },
        "template": {
         "data": {
          "bar": [
           {
            "error_x": {
             "color": "#2a3f5f"
            },
            "error_y": {
             "color": "#2a3f5f"
            },
            "marker": {
             "line": {
              "color": "#E5ECF6",
              "width": 0.5
             }
            },
            "type": "bar"
           }
          ],
          "barpolar": [
           {
            "marker": {
             "line": {
              "color": "#E5ECF6",
              "width": 0.5
             }
            },
            "type": "barpolar"
           }
          ],
          "carpet": [
           {
            "aaxis": {
             "endlinecolor": "#2a3f5f",
             "gridcolor": "white",
             "linecolor": "white",
             "minorgridcolor": "white",
             "startlinecolor": "#2a3f5f"
            },
            "baxis": {
             "endlinecolor": "#2a3f5f",
             "gridcolor": "white",
             "linecolor": "white",
             "minorgridcolor": "white",
             "startlinecolor": "#2a3f5f"
            },
            "type": "carpet"
           }
          ],
          "choropleth": [
           {
            "colorbar": {
             "outlinewidth": 0,
             "ticks": ""
            },
            "type": "choropleth"
           }
          ],
          "contour": [
           {
            "colorbar": {
             "outlinewidth": 0,
             "ticks": ""
            },
            "colorscale": [
             [
              0,
              "#0d0887"
             ],
             [
              0.1111111111111111,
              "#46039f"
             ],
             [
              0.2222222222222222,
              "#7201a8"
             ],
             [
              0.3333333333333333,
              "#9c179e"
             ],
             [
              0.4444444444444444,
              "#bd3786"
             ],
             [
              0.5555555555555556,
              "#d8576b"
             ],
             [
              0.6666666666666666,
              "#ed7953"
             ],
             [
              0.7777777777777778,
              "#fb9f3a"
             ],
             [
              0.8888888888888888,
              "#fdca26"
             ],
             [
              1,
              "#f0f921"
             ]
            ],
            "type": "contour"
           }
          ],
          "contourcarpet": [
           {
            "colorbar": {
             "outlinewidth": 0,
             "ticks": ""
            },
            "type": "contourcarpet"
           }
          ],
          "heatmap": [
           {
            "colorbar": {
             "outlinewidth": 0,
             "ticks": ""
            },
            "colorscale": [
             [
              0,
              "#0d0887"
             ],
             [
              0.1111111111111111,
              "#46039f"
             ],
             [
              0.2222222222222222,
              "#7201a8"
             ],
             [
              0.3333333333333333,
              "#9c179e"
             ],
             [
              0.4444444444444444,
              "#bd3786"
             ],
             [
              0.5555555555555556,
              "#d8576b"
             ],
             [
              0.6666666666666666,
              "#ed7953"
             ],
             [
              0.7777777777777778,
              "#fb9f3a"
             ],
             [
              0.8888888888888888,
              "#fdca26"
             ],
             [
              1,
              "#f0f921"
             ]
            ],
            "type": "heatmap"
           }
          ],
          "heatmapgl": [
           {
            "colorbar": {
             "outlinewidth": 0,
             "ticks": ""
            },
            "colorscale": [
             [
              0,
              "#0d0887"
             ],
             [
              0.1111111111111111,
              "#46039f"
             ],
             [
              0.2222222222222222,
              "#7201a8"
             ],
             [
              0.3333333333333333,
              "#9c179e"
             ],
             [
              0.4444444444444444,
              "#bd3786"
             ],
             [
              0.5555555555555556,
              "#d8576b"
             ],
             [
              0.6666666666666666,
              "#ed7953"
             ],
             [
              0.7777777777777778,
              "#fb9f3a"
             ],
             [
              0.8888888888888888,
              "#fdca26"
             ],
             [
              1,
              "#f0f921"
             ]
            ],
            "type": "heatmapgl"
           }
          ],
          "histogram": [
           {
            "marker": {
             "colorbar": {
              "outlinewidth": 0,
              "ticks": ""
             }
            },
            "type": "histogram"
           }
          ],
          "histogram2d": [
           {
            "colorbar": {
             "outlinewidth": 0,
             "ticks": ""
            },
            "colorscale": [
             [
              0,
              "#0d0887"
             ],
             [
              0.1111111111111111,
              "#46039f"
             ],
             [
              0.2222222222222222,
              "#7201a8"
             ],
             [
              0.3333333333333333,
              "#9c179e"
             ],
             [
              0.4444444444444444,
              "#bd3786"
             ],
             [
              0.5555555555555556,
              "#d8576b"
             ],
             [
              0.6666666666666666,
              "#ed7953"
             ],
             [
              0.7777777777777778,
              "#fb9f3a"
             ],
             [
              0.8888888888888888,
              "#fdca26"
             ],
             [
              1,
              "#f0f921"
             ]
            ],
            "type": "histogram2d"
           }
          ],
          "histogram2dcontour": [
           {
            "colorbar": {
             "outlinewidth": 0,
             "ticks": ""
            },
            "colorscale": [
             [
              0,
              "#0d0887"
             ],
             [
              0.1111111111111111,
              "#46039f"
             ],
             [
              0.2222222222222222,
              "#7201a8"
             ],
             [
              0.3333333333333333,
              "#9c179e"
             ],
             [
              0.4444444444444444,
              "#bd3786"
             ],
             [
              0.5555555555555556,
              "#d8576b"
             ],
             [
              0.6666666666666666,
              "#ed7953"
             ],
             [
              0.7777777777777778,
              "#fb9f3a"
             ],
             [
              0.8888888888888888,
              "#fdca26"
             ],
             [
              1,
              "#f0f921"
             ]
            ],
            "type": "histogram2dcontour"
           }
          ],
          "mesh3d": [
           {
            "colorbar": {
             "outlinewidth": 0,
             "ticks": ""
            },
            "type": "mesh3d"
           }
          ],
          "parcoords": [
           {
            "line": {
             "colorbar": {
              "outlinewidth": 0,
              "ticks": ""
             }
            },
            "type": "parcoords"
           }
          ],
          "pie": [
           {
            "automargin": true,
            "type": "pie"
           }
          ],
          "scatter": [
           {
            "marker": {
             "colorbar": {
              "outlinewidth": 0,
              "ticks": ""
             }
            },
            "type": "scatter"
           }
          ],
          "scatter3d": [
           {
            "line": {
             "colorbar": {
              "outlinewidth": 0,
              "ticks": ""
             }
            },
            "marker": {
             "colorbar": {
              "outlinewidth": 0,
              "ticks": ""
             }
            },
            "type": "scatter3d"
           }
          ],
          "scattercarpet": [
           {
            "marker": {
             "colorbar": {
              "outlinewidth": 0,
              "ticks": ""
             }
            },
            "type": "scattercarpet"
           }
          ],
          "scattergeo": [
           {
            "marker": {
             "colorbar": {
              "outlinewidth": 0,
              "ticks": ""
             }
            },
            "type": "scattergeo"
           }
          ],
          "scattergl": [
           {
            "marker": {
             "colorbar": {
              "outlinewidth": 0,
              "ticks": ""
             }
            },
            "type": "scattergl"
           }
          ],
          "scattermapbox": [
           {
            "marker": {
             "colorbar": {
              "outlinewidth": 0,
              "ticks": ""
             }
            },
            "type": "scattermapbox"
           }
          ],
          "scatterpolar": [
           {
            "marker": {
             "colorbar": {
              "outlinewidth": 0,
              "ticks": ""
             }
            },
            "type": "scatterpolar"
           }
          ],
          "scatterpolargl": [
           {
            "marker": {
             "colorbar": {
              "outlinewidth": 0,
              "ticks": ""
             }
            },
            "type": "scatterpolargl"
           }
          ],
          "scatterternary": [
           {
            "marker": {
             "colorbar": {
              "outlinewidth": 0,
              "ticks": ""
             }
            },
            "type": "scatterternary"
           }
          ],
          "surface": [
           {
            "colorbar": {
             "outlinewidth": 0,
             "ticks": ""
            },
            "colorscale": [
             [
              0,
              "#0d0887"
             ],
             [
              0.1111111111111111,
              "#46039f"
             ],
             [
              0.2222222222222222,
              "#7201a8"
             ],
             [
              0.3333333333333333,
              "#9c179e"
             ],
             [
              0.4444444444444444,
              "#bd3786"
             ],
             [
              0.5555555555555556,
              "#d8576b"
             ],
             [
              0.6666666666666666,
              "#ed7953"
             ],
             [
              0.7777777777777778,
              "#fb9f3a"
             ],
             [
              0.8888888888888888,
              "#fdca26"
             ],
             [
              1,
              "#f0f921"
             ]
            ],
            "type": "surface"
           }
          ],
          "table": [
           {
            "cells": {
             "fill": {
              "color": "#EBF0F8"
             },
             "line": {
              "color": "white"
             }
            },
            "header": {
             "fill": {
              "color": "#C8D4E3"
             },
             "line": {
              "color": "white"
             }
            },
            "type": "table"
           }
          ]
         },
         "layout": {
          "annotationdefaults": {
           "arrowcolor": "#2a3f5f",
           "arrowhead": 0,
           "arrowwidth": 1
          },
          "autotypenumbers": "strict",
          "coloraxis": {
           "colorbar": {
            "outlinewidth": 0,
            "ticks": ""
           }
          },
          "colorscale": {
           "diverging": [
            [
             0,
             "#8e0152"
            ],
            [
             0.1,
             "#c51b7d"
            ],
            [
             0.2,
             "#de77ae"
            ],
            [
             0.3,
             "#f1b6da"
            ],
            [
             0.4,
             "#fde0ef"
            ],
            [
             0.5,
             "#f7f7f7"
            ],
            [
             0.6,
             "#e6f5d0"
            ],
            [
             0.7,
             "#b8e186"
            ],
            [
             0.8,
             "#7fbc41"
            ],
            [
             0.9,
             "#4d9221"
            ],
            [
             1,
             "#276419"
            ]
           ],
           "sequential": [
            [
             0,
             "#0d0887"
            ],
            [
             0.1111111111111111,
             "#46039f"
            ],
            [
             0.2222222222222222,
             "#7201a8"
            ],
            [
             0.3333333333333333,
             "#9c179e"
            ],
            [
             0.4444444444444444,
             "#bd3786"
            ],
            [
             0.5555555555555556,
             "#d8576b"
            ],
            [
             0.6666666666666666,
             "#ed7953"
            ],
            [
             0.7777777777777778,
             "#fb9f3a"
            ],
            [
             0.8888888888888888,
             "#fdca26"
            ],
            [
             1,
             "#f0f921"
            ]
           ],
           "sequentialminus": [
            [
             0,
             "#0d0887"
            ],
            [
             0.1111111111111111,
             "#46039f"
            ],
            [
             0.2222222222222222,
             "#7201a8"
            ],
            [
             0.3333333333333333,
             "#9c179e"
            ],
            [
             0.4444444444444444,
             "#bd3786"
            ],
            [
             0.5555555555555556,
             "#d8576b"
            ],
            [
             0.6666666666666666,
             "#ed7953"
            ],
            [
             0.7777777777777778,
             "#fb9f3a"
            ],
            [
             0.8888888888888888,
             "#fdca26"
            ],
            [
             1,
             "#f0f921"
            ]
           ]
          },
          "colorway": [
           "#636efa",
           "#EF553B",
           "#00cc96",
           "#ab63fa",
           "#FFA15A",
           "#19d3f3",
           "#FF6692",
           "#B6E880",
           "#FF97FF",
           "#FECB52"
          ],
          "font": {
           "color": "#2a3f5f"
          },
          "geo": {
           "bgcolor": "white",
           "lakecolor": "white",
           "landcolor": "#E5ECF6",
           "showlakes": true,
           "showland": true,
           "subunitcolor": "white"
          },
          "hoverlabel": {
           "align": "left"
          },
          "hovermode": "closest",
          "mapbox": {
           "style": "light"
          },
          "paper_bgcolor": "white",
          "plot_bgcolor": "#E5ECF6",
          "polar": {
           "angularaxis": {
            "gridcolor": "white",
            "linecolor": "white",
            "ticks": ""
           },
           "bgcolor": "#E5ECF6",
           "radialaxis": {
            "gridcolor": "white",
            "linecolor": "white",
            "ticks": ""
           }
          },
          "scene": {
           "xaxis": {
            "backgroundcolor": "#E5ECF6",
            "gridcolor": "white",
            "gridwidth": 2,
            "linecolor": "white",
            "showbackground": true,
            "ticks": "",
            "zerolinecolor": "white"
           },
           "yaxis": {
            "backgroundcolor": "#E5ECF6",
            "gridcolor": "white",
            "gridwidth": 2,
            "linecolor": "white",
            "showbackground": true,
            "ticks": "",
            "zerolinecolor": "white"
           },
           "zaxis": {
            "backgroundcolor": "#E5ECF6",
            "gridcolor": "white",
            "gridwidth": 2,
            "linecolor": "white",
            "showbackground": true,
            "ticks": "",
            "zerolinecolor": "white"
           }
          },
          "shapedefaults": {
           "line": {
            "color": "#2a3f5f"
           }
          },
          "ternary": {
           "aaxis": {
            "gridcolor": "white",
            "linecolor": "white",
            "ticks": ""
           },
           "baxis": {
            "gridcolor": "white",
            "linecolor": "white",
            "ticks": ""
           },
           "bgcolor": "#E5ECF6",
           "caxis": {
            "gridcolor": "white",
            "linecolor": "white",
            "ticks": ""
           }
          },
          "title": {
           "x": 0.05
          },
          "xaxis": {
           "automargin": true,
           "gridcolor": "white",
           "linecolor": "white",
           "ticks": "",
           "title": {
            "standoff": 15
           },
           "zerolinecolor": "white",
           "zerolinewidth": 2
          },
          "yaxis": {
           "automargin": true,
           "gridcolor": "white",
           "linecolor": "white",
           "ticks": "",
           "title": {
            "standoff": 15
           },
           "zerolinecolor": "white",
           "zerolinewidth": 2
          }
         }
        },
        "title": {
         "text": "hip_waist_ratio Distribution"
        },
        "xaxis": {
         "anchor": "y",
         "domain": [
          0,
          1
         ],
         "title": {
          "text": "hip_waist_ratio"
         }
        },
        "xaxis2": {
         "anchor": "y2",
         "domain": [
          0,
          1
         ],
         "matches": "x",
         "showgrid": true,
         "showticklabels": false
        },
        "yaxis": {
         "anchor": "x",
         "domain": [
          0,
          0.8316
         ],
         "title": {
          "text": "count"
         }
        },
        "yaxis2": {
         "anchor": "x2",
         "domain": [
          0.8416,
          1
         ],
         "matches": "y2",
         "showgrid": false,
         "showline": false,
         "showticklabels": false,
         "ticks": ""
        }
       }
      }
     },
     "metadata": {},
     "output_type": "display_data"
    }
   ],
   "source": [
    "fig = px.histogram(df_raw, x='hip_waist_ratio', marginal='box', nbins=47, title='hip_waist_ratio Distribution')\n",
    "fig.update_layout(bargap=0.1)\n",
    "fig.show()"
   ]
  },
  {
   "cell_type": "code",
   "execution_count": 86,
   "metadata": {},
   "outputs": [
    {
     "data": {
      "application/vnd.plotly.v1+json": {
       "config": {
        "plotlyServerURL": "https://plot.ly"
       },
       "data": [
        {
         "alignmentgroup": "True",
         "bingroup": "x",
         "hovertemplate": "location=%{x}<br>count=%{y}<extra></extra>",
         "legendgroup": "",
         "marker": {
          "color": "#636efa"
         },
         "name": "",
         "nbinsx": 2,
         "offsetgroup": "",
         "orientation": "v",
         "showlegend": false,
         "type": "histogram",
         "x": [
          0,
          0,
          0,
          0,
          0,
          0,
          0,
          0,
          0,
          0,
          1,
          1,
          1,
          1,
          1,
          1,
          1,
          1,
          1,
          0,
          0,
          0,
          0,
          0,
          0,
          0,
          0,
          0,
          0,
          1,
          0,
          0,
          0,
          0,
          0,
          0,
          0,
          0,
          0,
          0,
          0,
          0,
          0,
          0,
          0,
          0,
          0,
          0,
          0,
          0,
          0,
          0,
          0,
          0,
          0,
          0,
          0,
          0,
          0,
          0,
          0,
          0,
          0,
          0,
          0,
          0,
          0,
          0,
          0,
          0,
          0,
          0,
          0,
          0,
          0,
          0,
          0,
          0,
          0,
          0,
          0,
          1,
          1,
          1,
          1,
          1,
          1,
          1,
          1,
          1,
          1,
          1,
          1,
          1,
          1,
          1,
          1,
          1,
          1,
          1,
          1,
          1,
          1,
          1,
          1,
          1,
          1,
          1,
          0,
          0,
          0,
          1,
          1,
          1,
          1,
          0,
          0,
          0,
          0,
          0,
          1,
          1,
          1,
          1,
          0,
          0,
          1,
          0,
          0,
          0,
          1,
          1,
          1,
          1,
          0,
          0,
          0,
          0,
          0,
          1,
          1,
          0,
          0,
          0,
          0,
          0,
          0,
          0,
          0,
          0,
          0,
          0,
          1,
          1,
          0,
          0,
          0,
          0,
          1,
          1,
          1,
          1,
          1,
          1,
          1,
          0,
          0,
          0,
          0,
          0,
          0,
          1,
          1,
          1,
          1,
          0,
          0,
          1,
          1,
          1,
          1,
          1,
          1,
          1,
          1,
          1,
          1,
          1,
          1,
          1,
          1,
          1,
          1,
          1,
          1,
          0,
          0,
          0,
          0,
          0,
          0,
          0,
          1,
          1,
          1,
          0,
          0,
          0,
          0,
          0,
          0,
          0,
          0,
          0,
          0,
          0,
          0,
          0,
          0,
          0,
          0,
          0,
          0,
          0,
          0,
          0,
          0,
          0,
          0,
          0,
          0,
          0,
          1,
          1,
          1,
          1,
          1,
          0,
          0,
          0,
          0,
          0,
          0,
          0,
          0,
          0,
          0,
          0,
          0,
          0,
          0,
          0,
          0,
          0,
          0,
          0,
          0,
          0,
          0,
          0,
          0,
          0,
          0,
          0,
          0,
          0,
          0,
          0,
          0,
          0,
          0,
          0,
          0,
          0,
          0,
          0,
          1,
          1,
          1,
          1,
          1,
          0,
          0,
          1,
          1,
          1,
          1,
          1,
          1,
          1,
          1,
          1,
          1,
          1,
          1,
          1,
          1,
          1,
          1,
          1,
          1,
          1,
          1,
          1,
          1,
          1,
          1,
          1,
          1,
          1,
          1,
          1,
          1,
          1,
          1,
          1,
          1,
          1,
          0,
          0,
          1,
          1,
          1,
          0,
          0,
          0,
          0,
          0,
          0,
          0,
          0,
          0,
          0,
          0,
          1,
          1,
          1,
          1,
          1,
          1,
          1,
          1,
          1,
          1,
          1,
          1,
          1,
          1,
          1,
          1,
          1,
          1,
          1,
          1,
          1,
          1,
          1,
          1,
          1,
          1,
          1,
          1,
          1,
          1,
          1,
          1,
          1,
          1,
          1,
          1,
          1,
          1,
          1,
          1,
          1,
          1,
          1,
          1,
          1,
          1,
          1,
          1,
          1,
          1,
          1,
          1,
          1,
          1,
          1,
          1,
          1,
          1,
          1,
          1,
          1,
          1,
          1,
          1,
          1,
          1,
          1,
          1,
          1
         ],
         "xaxis": "x",
         "yaxis": "y"
        },
        {
         "alignmentgroup": "True",
         "hovertemplate": "location=%{x}<extra></extra>",
         "legendgroup": "",
         "marker": {
          "color": "#636efa"
         },
         "name": "",
         "notched": true,
         "offsetgroup": "",
         "showlegend": false,
         "type": "box",
         "x": [
          0,
          0,
          0,
          0,
          0,
          0,
          0,
          0,
          0,
          0,
          1,
          1,
          1,
          1,
          1,
          1,
          1,
          1,
          1,
          0,
          0,
          0,
          0,
          0,
          0,
          0,
          0,
          0,
          0,
          1,
          0,
          0,
          0,
          0,
          0,
          0,
          0,
          0,
          0,
          0,
          0,
          0,
          0,
          0,
          0,
          0,
          0,
          0,
          0,
          0,
          0,
          0,
          0,
          0,
          0,
          0,
          0,
          0,
          0,
          0,
          0,
          0,
          0,
          0,
          0,
          0,
          0,
          0,
          0,
          0,
          0,
          0,
          0,
          0,
          0,
          0,
          0,
          0,
          0,
          0,
          0,
          1,
          1,
          1,
          1,
          1,
          1,
          1,
          1,
          1,
          1,
          1,
          1,
          1,
          1,
          1,
          1,
          1,
          1,
          1,
          1,
          1,
          1,
          1,
          1,
          1,
          1,
          1,
          0,
          0,
          0,
          1,
          1,
          1,
          1,
          0,
          0,
          0,
          0,
          0,
          1,
          1,
          1,
          1,
          0,
          0,
          1,
          0,
          0,
          0,
          1,
          1,
          1,
          1,
          0,
          0,
          0,
          0,
          0,
          1,
          1,
          0,
          0,
          0,
          0,
          0,
          0,
          0,
          0,
          0,
          0,
          0,
          1,
          1,
          0,
          0,
          0,
          0,
          1,
          1,
          1,
          1,
          1,
          1,
          1,
          0,
          0,
          0,
          0,
          0,
          0,
          1,
          1,
          1,
          1,
          0,
          0,
          1,
          1,
          1,
          1,
          1,
          1,
          1,
          1,
          1,
          1,
          1,
          1,
          1,
          1,
          1,
          1,
          1,
          1,
          0,
          0,
          0,
          0,
          0,
          0,
          0,
          1,
          1,
          1,
          0,
          0,
          0,
          0,
          0,
          0,
          0,
          0,
          0,
          0,
          0,
          0,
          0,
          0,
          0,
          0,
          0,
          0,
          0,
          0,
          0,
          0,
          0,
          0,
          0,
          0,
          0,
          1,
          1,
          1,
          1,
          1,
          0,
          0,
          0,
          0,
          0,
          0,
          0,
          0,
          0,
          0,
          0,
          0,
          0,
          0,
          0,
          0,
          0,
          0,
          0,
          0,
          0,
          0,
          0,
          0,
          0,
          0,
          0,
          0,
          0,
          0,
          0,
          0,
          0,
          0,
          0,
          0,
          0,
          0,
          0,
          1,
          1,
          1,
          1,
          1,
          0,
          0,
          1,
          1,
          1,
          1,
          1,
          1,
          1,
          1,
          1,
          1,
          1,
          1,
          1,
          1,
          1,
          1,
          1,
          1,
          1,
          1,
          1,
          1,
          1,
          1,
          1,
          1,
          1,
          1,
          1,
          1,
          1,
          1,
          1,
          1,
          1,
          0,
          0,
          1,
          1,
          1,
          0,
          0,
          0,
          0,
          0,
          0,
          0,
          0,
          0,
          0,
          0,
          1,
          1,
          1,
          1,
          1,
          1,
          1,
          1,
          1,
          1,
          1,
          1,
          1,
          1,
          1,
          1,
          1,
          1,
          1,
          1,
          1,
          1,
          1,
          1,
          1,
          1,
          1,
          1,
          1,
          1,
          1,
          1,
          1,
          1,
          1,
          1,
          1,
          1,
          1,
          1,
          1,
          1,
          1,
          1,
          1,
          1,
          1,
          1,
          1,
          1,
          1,
          1,
          1,
          1,
          1,
          1,
          1,
          1,
          1,
          1,
          1,
          1,
          1,
          1,
          1,
          1,
          1,
          1,
          1
         ],
         "xaxis": "x2",
         "yaxis": "y2"
        }
       ],
       "layout": {
        "bargap": 0.1,
        "barmode": "relative",
        "legend": {
         "tracegroupgap": 0
        },
        "template": {
         "data": {
          "bar": [
           {
            "error_x": {
             "color": "#2a3f5f"
            },
            "error_y": {
             "color": "#2a3f5f"
            },
            "marker": {
             "line": {
              "color": "#E5ECF6",
              "width": 0.5
             }
            },
            "type": "bar"
           }
          ],
          "barpolar": [
           {
            "marker": {
             "line": {
              "color": "#E5ECF6",
              "width": 0.5
             }
            },
            "type": "barpolar"
           }
          ],
          "carpet": [
           {
            "aaxis": {
             "endlinecolor": "#2a3f5f",
             "gridcolor": "white",
             "linecolor": "white",
             "minorgridcolor": "white",
             "startlinecolor": "#2a3f5f"
            },
            "baxis": {
             "endlinecolor": "#2a3f5f",
             "gridcolor": "white",
             "linecolor": "white",
             "minorgridcolor": "white",
             "startlinecolor": "#2a3f5f"
            },
            "type": "carpet"
           }
          ],
          "choropleth": [
           {
            "colorbar": {
             "outlinewidth": 0,
             "ticks": ""
            },
            "type": "choropleth"
           }
          ],
          "contour": [
           {
            "colorbar": {
             "outlinewidth": 0,
             "ticks": ""
            },
            "colorscale": [
             [
              0,
              "#0d0887"
             ],
             [
              0.1111111111111111,
              "#46039f"
             ],
             [
              0.2222222222222222,
              "#7201a8"
             ],
             [
              0.3333333333333333,
              "#9c179e"
             ],
             [
              0.4444444444444444,
              "#bd3786"
             ],
             [
              0.5555555555555556,
              "#d8576b"
             ],
             [
              0.6666666666666666,
              "#ed7953"
             ],
             [
              0.7777777777777778,
              "#fb9f3a"
             ],
             [
              0.8888888888888888,
              "#fdca26"
             ],
             [
              1,
              "#f0f921"
             ]
            ],
            "type": "contour"
           }
          ],
          "contourcarpet": [
           {
            "colorbar": {
             "outlinewidth": 0,
             "ticks": ""
            },
            "type": "contourcarpet"
           }
          ],
          "heatmap": [
           {
            "colorbar": {
             "outlinewidth": 0,
             "ticks": ""
            },
            "colorscale": [
             [
              0,
              "#0d0887"
             ],
             [
              0.1111111111111111,
              "#46039f"
             ],
             [
              0.2222222222222222,
              "#7201a8"
             ],
             [
              0.3333333333333333,
              "#9c179e"
             ],
             [
              0.4444444444444444,
              "#bd3786"
             ],
             [
              0.5555555555555556,
              "#d8576b"
             ],
             [
              0.6666666666666666,
              "#ed7953"
             ],
             [
              0.7777777777777778,
              "#fb9f3a"
             ],
             [
              0.8888888888888888,
              "#fdca26"
             ],
             [
              1,
              "#f0f921"
             ]
            ],
            "type": "heatmap"
           }
          ],
          "heatmapgl": [
           {
            "colorbar": {
             "outlinewidth": 0,
             "ticks": ""
            },
            "colorscale": [
             [
              0,
              "#0d0887"
             ],
             [
              0.1111111111111111,
              "#46039f"
             ],
             [
              0.2222222222222222,
              "#7201a8"
             ],
             [
              0.3333333333333333,
              "#9c179e"
             ],
             [
              0.4444444444444444,
              "#bd3786"
             ],
             [
              0.5555555555555556,
              "#d8576b"
             ],
             [
              0.6666666666666666,
              "#ed7953"
             ],
             [
              0.7777777777777778,
              "#fb9f3a"
             ],
             [
              0.8888888888888888,
              "#fdca26"
             ],
             [
              1,
              "#f0f921"
             ]
            ],
            "type": "heatmapgl"
           }
          ],
          "histogram": [
           {
            "marker": {
             "colorbar": {
              "outlinewidth": 0,
              "ticks": ""
             }
            },
            "type": "histogram"
           }
          ],
          "histogram2d": [
           {
            "colorbar": {
             "outlinewidth": 0,
             "ticks": ""
            },
            "colorscale": [
             [
              0,
              "#0d0887"
             ],
             [
              0.1111111111111111,
              "#46039f"
             ],
             [
              0.2222222222222222,
              "#7201a8"
             ],
             [
              0.3333333333333333,
              "#9c179e"
             ],
             [
              0.4444444444444444,
              "#bd3786"
             ],
             [
              0.5555555555555556,
              "#d8576b"
             ],
             [
              0.6666666666666666,
              "#ed7953"
             ],
             [
              0.7777777777777778,
              "#fb9f3a"
             ],
             [
              0.8888888888888888,
              "#fdca26"
             ],
             [
              1,
              "#f0f921"
             ]
            ],
            "type": "histogram2d"
           }
          ],
          "histogram2dcontour": [
           {
            "colorbar": {
             "outlinewidth": 0,
             "ticks": ""
            },
            "colorscale": [
             [
              0,
              "#0d0887"
             ],
             [
              0.1111111111111111,
              "#46039f"
             ],
             [
              0.2222222222222222,
              "#7201a8"
             ],
             [
              0.3333333333333333,
              "#9c179e"
             ],
             [
              0.4444444444444444,
              "#bd3786"
             ],
             [
              0.5555555555555556,
              "#d8576b"
             ],
             [
              0.6666666666666666,
              "#ed7953"
             ],
             [
              0.7777777777777778,
              "#fb9f3a"
             ],
             [
              0.8888888888888888,
              "#fdca26"
             ],
             [
              1,
              "#f0f921"
             ]
            ],
            "type": "histogram2dcontour"
           }
          ],
          "mesh3d": [
           {
            "colorbar": {
             "outlinewidth": 0,
             "ticks": ""
            },
            "type": "mesh3d"
           }
          ],
          "parcoords": [
           {
            "line": {
             "colorbar": {
              "outlinewidth": 0,
              "ticks": ""
             }
            },
            "type": "parcoords"
           }
          ],
          "pie": [
           {
            "automargin": true,
            "type": "pie"
           }
          ],
          "scatter": [
           {
            "marker": {
             "colorbar": {
              "outlinewidth": 0,
              "ticks": ""
             }
            },
            "type": "scatter"
           }
          ],
          "scatter3d": [
           {
            "line": {
             "colorbar": {
              "outlinewidth": 0,
              "ticks": ""
             }
            },
            "marker": {
             "colorbar": {
              "outlinewidth": 0,
              "ticks": ""
             }
            },
            "type": "scatter3d"
           }
          ],
          "scattercarpet": [
           {
            "marker": {
             "colorbar": {
              "outlinewidth": 0,
              "ticks": ""
             }
            },
            "type": "scattercarpet"
           }
          ],
          "scattergeo": [
           {
            "marker": {
             "colorbar": {
              "outlinewidth": 0,
              "ticks": ""
             }
            },
            "type": "scattergeo"
           }
          ],
          "scattergl": [
           {
            "marker": {
             "colorbar": {
              "outlinewidth": 0,
              "ticks": ""
             }
            },
            "type": "scattergl"
           }
          ],
          "scattermapbox": [
           {
            "marker": {
             "colorbar": {
              "outlinewidth": 0,
              "ticks": ""
             }
            },
            "type": "scattermapbox"
           }
          ],
          "scatterpolar": [
           {
            "marker": {
             "colorbar": {
              "outlinewidth": 0,
              "ticks": ""
             }
            },
            "type": "scatterpolar"
           }
          ],
          "scatterpolargl": [
           {
            "marker": {
             "colorbar": {
              "outlinewidth": 0,
              "ticks": ""
             }
            },
            "type": "scatterpolargl"
           }
          ],
          "scatterternary": [
           {
            "marker": {
             "colorbar": {
              "outlinewidth": 0,
              "ticks": ""
             }
            },
            "type": "scatterternary"
           }
          ],
          "surface": [
           {
            "colorbar": {
             "outlinewidth": 0,
             "ticks": ""
            },
            "colorscale": [
             [
              0,
              "#0d0887"
             ],
             [
              0.1111111111111111,
              "#46039f"
             ],
             [
              0.2222222222222222,
              "#7201a8"
             ],
             [
              0.3333333333333333,
              "#9c179e"
             ],
             [
              0.4444444444444444,
              "#bd3786"
             ],
             [
              0.5555555555555556,
              "#d8576b"
             ],
             [
              0.6666666666666666,
              "#ed7953"
             ],
             [
              0.7777777777777778,
              "#fb9f3a"
             ],
             [
              0.8888888888888888,
              "#fdca26"
             ],
             [
              1,
              "#f0f921"
             ]
            ],
            "type": "surface"
           }
          ],
          "table": [
           {
            "cells": {
             "fill": {
              "color": "#EBF0F8"
             },
             "line": {
              "color": "white"
             }
            },
            "header": {
             "fill": {
              "color": "#C8D4E3"
             },
             "line": {
              "color": "white"
             }
            },
            "type": "table"
           }
          ]
         },
         "layout": {
          "annotationdefaults": {
           "arrowcolor": "#2a3f5f",
           "arrowhead": 0,
           "arrowwidth": 1
          },
          "autotypenumbers": "strict",
          "coloraxis": {
           "colorbar": {
            "outlinewidth": 0,
            "ticks": ""
           }
          },
          "colorscale": {
           "diverging": [
            [
             0,
             "#8e0152"
            ],
            [
             0.1,
             "#c51b7d"
            ],
            [
             0.2,
             "#de77ae"
            ],
            [
             0.3,
             "#f1b6da"
            ],
            [
             0.4,
             "#fde0ef"
            ],
            [
             0.5,
             "#f7f7f7"
            ],
            [
             0.6,
             "#e6f5d0"
            ],
            [
             0.7,
             "#b8e186"
            ],
            [
             0.8,
             "#7fbc41"
            ],
            [
             0.9,
             "#4d9221"
            ],
            [
             1,
             "#276419"
            ]
           ],
           "sequential": [
            [
             0,
             "#0d0887"
            ],
            [
             0.1111111111111111,
             "#46039f"
            ],
            [
             0.2222222222222222,
             "#7201a8"
            ],
            [
             0.3333333333333333,
             "#9c179e"
            ],
            [
             0.4444444444444444,
             "#bd3786"
            ],
            [
             0.5555555555555556,
             "#d8576b"
            ],
            [
             0.6666666666666666,
             "#ed7953"
            ],
            [
             0.7777777777777778,
             "#fb9f3a"
            ],
            [
             0.8888888888888888,
             "#fdca26"
            ],
            [
             1,
             "#f0f921"
            ]
           ],
           "sequentialminus": [
            [
             0,
             "#0d0887"
            ],
            [
             0.1111111111111111,
             "#46039f"
            ],
            [
             0.2222222222222222,
             "#7201a8"
            ],
            [
             0.3333333333333333,
             "#9c179e"
            ],
            [
             0.4444444444444444,
             "#bd3786"
            ],
            [
             0.5555555555555556,
             "#d8576b"
            ],
            [
             0.6666666666666666,
             "#ed7953"
            ],
            [
             0.7777777777777778,
             "#fb9f3a"
            ],
            [
             0.8888888888888888,
             "#fdca26"
            ],
            [
             1,
             "#f0f921"
            ]
           ]
          },
          "colorway": [
           "#636efa",
           "#EF553B",
           "#00cc96",
           "#ab63fa",
           "#FFA15A",
           "#19d3f3",
           "#FF6692",
           "#B6E880",
           "#FF97FF",
           "#FECB52"
          ],
          "font": {
           "color": "#2a3f5f"
          },
          "geo": {
           "bgcolor": "white",
           "lakecolor": "white",
           "landcolor": "#E5ECF6",
           "showlakes": true,
           "showland": true,
           "subunitcolor": "white"
          },
          "hoverlabel": {
           "align": "left"
          },
          "hovermode": "closest",
          "mapbox": {
           "style": "light"
          },
          "paper_bgcolor": "white",
          "plot_bgcolor": "#E5ECF6",
          "polar": {
           "angularaxis": {
            "gridcolor": "white",
            "linecolor": "white",
            "ticks": ""
           },
           "bgcolor": "#E5ECF6",
           "radialaxis": {
            "gridcolor": "white",
            "linecolor": "white",
            "ticks": ""
           }
          },
          "scene": {
           "xaxis": {
            "backgroundcolor": "#E5ECF6",
            "gridcolor": "white",
            "gridwidth": 2,
            "linecolor": "white",
            "showbackground": true,
            "ticks": "",
            "zerolinecolor": "white"
           },
           "yaxis": {
            "backgroundcolor": "#E5ECF6",
            "gridcolor": "white",
            "gridwidth": 2,
            "linecolor": "white",
            "showbackground": true,
            "ticks": "",
            "zerolinecolor": "white"
           },
           "zaxis": {
            "backgroundcolor": "#E5ECF6",
            "gridcolor": "white",
            "gridwidth": 2,
            "linecolor": "white",
            "showbackground": true,
            "ticks": "",
            "zerolinecolor": "white"
           }
          },
          "shapedefaults": {
           "line": {
            "color": "#2a3f5f"
           }
          },
          "ternary": {
           "aaxis": {
            "gridcolor": "white",
            "linecolor": "white",
            "ticks": ""
           },
           "baxis": {
            "gridcolor": "white",
            "linecolor": "white",
            "ticks": ""
           },
           "bgcolor": "#E5ECF6",
           "caxis": {
            "gridcolor": "white",
            "linecolor": "white",
            "ticks": ""
           }
          },
          "title": {
           "x": 0.05
          },
          "xaxis": {
           "automargin": true,
           "gridcolor": "white",
           "linecolor": "white",
           "ticks": "",
           "title": {
            "standoff": 15
           },
           "zerolinecolor": "white",
           "zerolinewidth": 2
          },
          "yaxis": {
           "automargin": true,
           "gridcolor": "white",
           "linecolor": "white",
           "ticks": "",
           "title": {
            "standoff": 15
           },
           "zerolinecolor": "white",
           "zerolinewidth": 2
          }
         }
        },
        "title": {
         "text": "location Distribution"
        },
        "xaxis": {
         "anchor": "y",
         "domain": [
          0,
          1
         ],
         "title": {
          "text": "location"
         }
        },
        "xaxis2": {
         "anchor": "y2",
         "domain": [
          0,
          1
         ],
         "matches": "x",
         "showgrid": true,
         "showticklabels": false
        },
        "yaxis": {
         "anchor": "x",
         "domain": [
          0,
          0.8316
         ],
         "title": {
          "text": "count"
         }
        },
        "yaxis2": {
         "anchor": "x2",
         "domain": [
          0.8416,
          1
         ],
         "matches": "y2",
         "showgrid": false,
         "showline": false,
         "showticklabels": false,
         "ticks": ""
        }
       }
      }
     },
     "metadata": {},
     "output_type": "display_data"
    }
   ],
   "source": [
    "#location may not be a significant feature there is an equal number of patients from the two locations used in the study\n",
    "fig = px.histogram(df_raw, x='location', marginal='box', nbins=2, title='location Distribution')\n",
    "fig.update_layout(bargap=0.1)\n",
    "fig.show()"
   ]
  },
  {
   "cell_type": "code",
   "execution_count": 87,
   "metadata": {},
   "outputs": [
    {
     "data": {
      "application/vnd.plotly.v1+json": {
       "config": {
        "plotlyServerURL": "https://plot.ly"
       },
       "data": [
        {
         "alignmentgroup": "True",
         "bingroup": "x",
         "hovertemplate": "age=%{x}<br>count=%{y}<extra></extra>",
         "legendgroup": "",
         "marker": {
          "color": "#636efa"
         },
         "name": "",
         "nbinsx": 47,
         "offsetgroup": "",
         "orientation": "v",
         "showlegend": false,
         "type": "histogram",
         "x": [
          27,
          10,
          39,
          48,
          45,
          15,
          11,
          18,
          26,
          36,
          41,
          19,
          8,
          21,
          17,
          14,
          31,
          1,
          17,
          43,
          51,
          28,
          19,
          47,
          5,
          22,
          18,
          29,
          24,
          21,
          23,
          33,
          42,
          42,
          6,
          28,
          16,
          27,
          38,
          51,
          3,
          33,
          17,
          24,
          53,
          18,
          35,
          41,
          21,
          36,
          57,
          24,
          46,
          26,
          51,
          1,
          43,
          67,
          30,
          25,
          55,
          17,
          32,
          19,
          12,
          9,
          3,
          52,
          57,
          66,
          21,
          4,
          1,
          21,
          33,
          57,
          27,
          29,
          3,
          39,
          15,
          42,
          21,
          9,
          34,
          48,
          32,
          30,
          46,
          35,
          19,
          45,
          22,
          48,
          8,
          2,
          22,
          28,
          42,
          46,
          9,
          22,
          18,
          31,
          38,
          9,
          12,
          63,
          59,
          49,
          13,
          7,
          17,
          34,
          0,
          44,
          39,
          34,
          31,
          22,
          29,
          40,
          15,
          44,
          4,
          2,
          4,
          17,
          52,
          45,
          24,
          12,
          25,
          41,
          24,
          29,
          37,
          36,
          30,
          39,
          14,
          29,
          47,
          40,
          26,
          33,
          57,
          17,
          22,
          1,
          31,
          24,
          62,
          16,
          28,
          56,
          43,
          12,
          31,
          20,
          14,
          39,
          61,
          8,
          28,
          14,
          48,
          23,
          2,
          32,
          8,
          32,
          52,
          31,
          35,
          40,
          40,
          21,
          39,
          53,
          47,
          4,
          23,
          24,
          56,
          46,
          15,
          18,
          42,
          17,
          26,
          49,
          38,
          22,
          49,
          21,
          59,
          43,
          44,
          36,
          36,
          8,
          47,
          44,
          58,
          49,
          12,
          45,
          21,
          42,
          9,
          15,
          44,
          36,
          7,
          17,
          21,
          26,
          49,
          62,
          41,
          11,
          22,
          35,
          53,
          28,
          31,
          32,
          26,
          19,
          1,
          25,
          44,
          31,
          25,
          29,
          22,
          10,
          57,
          50,
          7,
          51,
          6,
          23,
          37,
          12,
          12,
          8,
          54,
          13,
          0,
          52,
          8,
          12,
          1,
          12,
          43,
          25,
          17,
          17,
          28,
          11,
          44,
          29,
          46,
          40,
          18,
          58,
          4,
          19,
          19,
          22,
          10,
          30,
          4,
          10,
          21,
          19,
          21,
          10,
          58,
          31,
          4,
          41,
          21,
          41,
          21,
          11,
          2,
          44,
          44,
          24,
          27,
          45,
          37,
          16,
          40,
          3,
          24,
          7,
          22,
          24,
          1,
          9,
          11,
          47,
          1,
          13,
          19,
          42,
          7,
          55,
          53,
          2,
          17,
          23,
          47,
          15,
          24,
          38,
          26,
          25,
          8,
          44,
          46,
          11,
          9,
          22,
          12,
          14,
          47,
          9,
          6,
          7,
          21,
          19,
          11,
          33,
          3,
          32,
          26,
          34,
          2,
          34,
          18,
          15,
          11,
          55,
          17,
          26,
          16,
          31,
          8,
          33,
          23,
          20,
          54,
          9,
          34,
          30,
          36,
          18,
          41,
          37,
          64,
          1,
          60,
          41,
          60,
          10,
          24,
          44,
          18,
          1,
          25,
          35,
          39,
          16,
          33,
          41,
          24,
          40,
          14,
          18,
          21,
          19,
          13,
          41,
          11,
          23,
          33,
          40,
          58,
          32,
          6,
          18,
          35,
          65,
          34,
          32,
          10,
          22,
          49
         ],
         "xaxis": "x",
         "yaxis": "y"
        },
        {
         "alignmentgroup": "True",
         "hovertemplate": "age=%{x}<extra></extra>",
         "legendgroup": "",
         "marker": {
          "color": "#636efa"
         },
         "name": "",
         "notched": true,
         "offsetgroup": "",
         "showlegend": false,
         "type": "box",
         "x": [
          27,
          10,
          39,
          48,
          45,
          15,
          11,
          18,
          26,
          36,
          41,
          19,
          8,
          21,
          17,
          14,
          31,
          1,
          17,
          43,
          51,
          28,
          19,
          47,
          5,
          22,
          18,
          29,
          24,
          21,
          23,
          33,
          42,
          42,
          6,
          28,
          16,
          27,
          38,
          51,
          3,
          33,
          17,
          24,
          53,
          18,
          35,
          41,
          21,
          36,
          57,
          24,
          46,
          26,
          51,
          1,
          43,
          67,
          30,
          25,
          55,
          17,
          32,
          19,
          12,
          9,
          3,
          52,
          57,
          66,
          21,
          4,
          1,
          21,
          33,
          57,
          27,
          29,
          3,
          39,
          15,
          42,
          21,
          9,
          34,
          48,
          32,
          30,
          46,
          35,
          19,
          45,
          22,
          48,
          8,
          2,
          22,
          28,
          42,
          46,
          9,
          22,
          18,
          31,
          38,
          9,
          12,
          63,
          59,
          49,
          13,
          7,
          17,
          34,
          0,
          44,
          39,
          34,
          31,
          22,
          29,
          40,
          15,
          44,
          4,
          2,
          4,
          17,
          52,
          45,
          24,
          12,
          25,
          41,
          24,
          29,
          37,
          36,
          30,
          39,
          14,
          29,
          47,
          40,
          26,
          33,
          57,
          17,
          22,
          1,
          31,
          24,
          62,
          16,
          28,
          56,
          43,
          12,
          31,
          20,
          14,
          39,
          61,
          8,
          28,
          14,
          48,
          23,
          2,
          32,
          8,
          32,
          52,
          31,
          35,
          40,
          40,
          21,
          39,
          53,
          47,
          4,
          23,
          24,
          56,
          46,
          15,
          18,
          42,
          17,
          26,
          49,
          38,
          22,
          49,
          21,
          59,
          43,
          44,
          36,
          36,
          8,
          47,
          44,
          58,
          49,
          12,
          45,
          21,
          42,
          9,
          15,
          44,
          36,
          7,
          17,
          21,
          26,
          49,
          62,
          41,
          11,
          22,
          35,
          53,
          28,
          31,
          32,
          26,
          19,
          1,
          25,
          44,
          31,
          25,
          29,
          22,
          10,
          57,
          50,
          7,
          51,
          6,
          23,
          37,
          12,
          12,
          8,
          54,
          13,
          0,
          52,
          8,
          12,
          1,
          12,
          43,
          25,
          17,
          17,
          28,
          11,
          44,
          29,
          46,
          40,
          18,
          58,
          4,
          19,
          19,
          22,
          10,
          30,
          4,
          10,
          21,
          19,
          21,
          10,
          58,
          31,
          4,
          41,
          21,
          41,
          21,
          11,
          2,
          44,
          44,
          24,
          27,
          45,
          37,
          16,
          40,
          3,
          24,
          7,
          22,
          24,
          1,
          9,
          11,
          47,
          1,
          13,
          19,
          42,
          7,
          55,
          53,
          2,
          17,
          23,
          47,
          15,
          24,
          38,
          26,
          25,
          8,
          44,
          46,
          11,
          9,
          22,
          12,
          14,
          47,
          9,
          6,
          7,
          21,
          19,
          11,
          33,
          3,
          32,
          26,
          34,
          2,
          34,
          18,
          15,
          11,
          55,
          17,
          26,
          16,
          31,
          8,
          33,
          23,
          20,
          54,
          9,
          34,
          30,
          36,
          18,
          41,
          37,
          64,
          1,
          60,
          41,
          60,
          10,
          24,
          44,
          18,
          1,
          25,
          35,
          39,
          16,
          33,
          41,
          24,
          40,
          14,
          18,
          21,
          19,
          13,
          41,
          11,
          23,
          33,
          40,
          58,
          32,
          6,
          18,
          35,
          65,
          34,
          32,
          10,
          22,
          49
         ],
         "xaxis": "x2",
         "yaxis": "y2"
        }
       ],
       "layout": {
        "bargap": 0.1,
        "barmode": "relative",
        "legend": {
         "tracegroupgap": 0
        },
        "template": {
         "data": {
          "bar": [
           {
            "error_x": {
             "color": "#2a3f5f"
            },
            "error_y": {
             "color": "#2a3f5f"
            },
            "marker": {
             "line": {
              "color": "#E5ECF6",
              "width": 0.5
             }
            },
            "type": "bar"
           }
          ],
          "barpolar": [
           {
            "marker": {
             "line": {
              "color": "#E5ECF6",
              "width": 0.5
             }
            },
            "type": "barpolar"
           }
          ],
          "carpet": [
           {
            "aaxis": {
             "endlinecolor": "#2a3f5f",
             "gridcolor": "white",
             "linecolor": "white",
             "minorgridcolor": "white",
             "startlinecolor": "#2a3f5f"
            },
            "baxis": {
             "endlinecolor": "#2a3f5f",
             "gridcolor": "white",
             "linecolor": "white",
             "minorgridcolor": "white",
             "startlinecolor": "#2a3f5f"
            },
            "type": "carpet"
           }
          ],
          "choropleth": [
           {
            "colorbar": {
             "outlinewidth": 0,
             "ticks": ""
            },
            "type": "choropleth"
           }
          ],
          "contour": [
           {
            "colorbar": {
             "outlinewidth": 0,
             "ticks": ""
            },
            "colorscale": [
             [
              0,
              "#0d0887"
             ],
             [
              0.1111111111111111,
              "#46039f"
             ],
             [
              0.2222222222222222,
              "#7201a8"
             ],
             [
              0.3333333333333333,
              "#9c179e"
             ],
             [
              0.4444444444444444,
              "#bd3786"
             ],
             [
              0.5555555555555556,
              "#d8576b"
             ],
             [
              0.6666666666666666,
              "#ed7953"
             ],
             [
              0.7777777777777778,
              "#fb9f3a"
             ],
             [
              0.8888888888888888,
              "#fdca26"
             ],
             [
              1,
              "#f0f921"
             ]
            ],
            "type": "contour"
           }
          ],
          "contourcarpet": [
           {
            "colorbar": {
             "outlinewidth": 0,
             "ticks": ""
            },
            "type": "contourcarpet"
           }
          ],
          "heatmap": [
           {
            "colorbar": {
             "outlinewidth": 0,
             "ticks": ""
            },
            "colorscale": [
             [
              0,
              "#0d0887"
             ],
             [
              0.1111111111111111,
              "#46039f"
             ],
             [
              0.2222222222222222,
              "#7201a8"
             ],
             [
              0.3333333333333333,
              "#9c179e"
             ],
             [
              0.4444444444444444,
              "#bd3786"
             ],
             [
              0.5555555555555556,
              "#d8576b"
             ],
             [
              0.6666666666666666,
              "#ed7953"
             ],
             [
              0.7777777777777778,
              "#fb9f3a"
             ],
             [
              0.8888888888888888,
              "#fdca26"
             ],
             [
              1,
              "#f0f921"
             ]
            ],
            "type": "heatmap"
           }
          ],
          "heatmapgl": [
           {
            "colorbar": {
             "outlinewidth": 0,
             "ticks": ""
            },
            "colorscale": [
             [
              0,
              "#0d0887"
             ],
             [
              0.1111111111111111,
              "#46039f"
             ],
             [
              0.2222222222222222,
              "#7201a8"
             ],
             [
              0.3333333333333333,
              "#9c179e"
             ],
             [
              0.4444444444444444,
              "#bd3786"
             ],
             [
              0.5555555555555556,
              "#d8576b"
             ],
             [
              0.6666666666666666,
              "#ed7953"
             ],
             [
              0.7777777777777778,
              "#fb9f3a"
             ],
             [
              0.8888888888888888,
              "#fdca26"
             ],
             [
              1,
              "#f0f921"
             ]
            ],
            "type": "heatmapgl"
           }
          ],
          "histogram": [
           {
            "marker": {
             "colorbar": {
              "outlinewidth": 0,
              "ticks": ""
             }
            },
            "type": "histogram"
           }
          ],
          "histogram2d": [
           {
            "colorbar": {
             "outlinewidth": 0,
             "ticks": ""
            },
            "colorscale": [
             [
              0,
              "#0d0887"
             ],
             [
              0.1111111111111111,
              "#46039f"
             ],
             [
              0.2222222222222222,
              "#7201a8"
             ],
             [
              0.3333333333333333,
              "#9c179e"
             ],
             [
              0.4444444444444444,
              "#bd3786"
             ],
             [
              0.5555555555555556,
              "#d8576b"
             ],
             [
              0.6666666666666666,
              "#ed7953"
             ],
             [
              0.7777777777777778,
              "#fb9f3a"
             ],
             [
              0.8888888888888888,
              "#fdca26"
             ],
             [
              1,
              "#f0f921"
             ]
            ],
            "type": "histogram2d"
           }
          ],
          "histogram2dcontour": [
           {
            "colorbar": {
             "outlinewidth": 0,
             "ticks": ""
            },
            "colorscale": [
             [
              0,
              "#0d0887"
             ],
             [
              0.1111111111111111,
              "#46039f"
             ],
             [
              0.2222222222222222,
              "#7201a8"
             ],
             [
              0.3333333333333333,
              "#9c179e"
             ],
             [
              0.4444444444444444,
              "#bd3786"
             ],
             [
              0.5555555555555556,
              "#d8576b"
             ],
             [
              0.6666666666666666,
              "#ed7953"
             ],
             [
              0.7777777777777778,
              "#fb9f3a"
             ],
             [
              0.8888888888888888,
              "#fdca26"
             ],
             [
              1,
              "#f0f921"
             ]
            ],
            "type": "histogram2dcontour"
           }
          ],
          "mesh3d": [
           {
            "colorbar": {
             "outlinewidth": 0,
             "ticks": ""
            },
            "type": "mesh3d"
           }
          ],
          "parcoords": [
           {
            "line": {
             "colorbar": {
              "outlinewidth": 0,
              "ticks": ""
             }
            },
            "type": "parcoords"
           }
          ],
          "pie": [
           {
            "automargin": true,
            "type": "pie"
           }
          ],
          "scatter": [
           {
            "marker": {
             "colorbar": {
              "outlinewidth": 0,
              "ticks": ""
             }
            },
            "type": "scatter"
           }
          ],
          "scatter3d": [
           {
            "line": {
             "colorbar": {
              "outlinewidth": 0,
              "ticks": ""
             }
            },
            "marker": {
             "colorbar": {
              "outlinewidth": 0,
              "ticks": ""
             }
            },
            "type": "scatter3d"
           }
          ],
          "scattercarpet": [
           {
            "marker": {
             "colorbar": {
              "outlinewidth": 0,
              "ticks": ""
             }
            },
            "type": "scattercarpet"
           }
          ],
          "scattergeo": [
           {
            "marker": {
             "colorbar": {
              "outlinewidth": 0,
              "ticks": ""
             }
            },
            "type": "scattergeo"
           }
          ],
          "scattergl": [
           {
            "marker": {
             "colorbar": {
              "outlinewidth": 0,
              "ticks": ""
             }
            },
            "type": "scattergl"
           }
          ],
          "scattermapbox": [
           {
            "marker": {
             "colorbar": {
              "outlinewidth": 0,
              "ticks": ""
             }
            },
            "type": "scattermapbox"
           }
          ],
          "scatterpolar": [
           {
            "marker": {
             "colorbar": {
              "outlinewidth": 0,
              "ticks": ""
             }
            },
            "type": "scatterpolar"
           }
          ],
          "scatterpolargl": [
           {
            "marker": {
             "colorbar": {
              "outlinewidth": 0,
              "ticks": ""
             }
            },
            "type": "scatterpolargl"
           }
          ],
          "scatterternary": [
           {
            "marker": {
             "colorbar": {
              "outlinewidth": 0,
              "ticks": ""
             }
            },
            "type": "scatterternary"
           }
          ],
          "surface": [
           {
            "colorbar": {
             "outlinewidth": 0,
             "ticks": ""
            },
            "colorscale": [
             [
              0,
              "#0d0887"
             ],
             [
              0.1111111111111111,
              "#46039f"
             ],
             [
              0.2222222222222222,
              "#7201a8"
             ],
             [
              0.3333333333333333,
              "#9c179e"
             ],
             [
              0.4444444444444444,
              "#bd3786"
             ],
             [
              0.5555555555555556,
              "#d8576b"
             ],
             [
              0.6666666666666666,
              "#ed7953"
             ],
             [
              0.7777777777777778,
              "#fb9f3a"
             ],
             [
              0.8888888888888888,
              "#fdca26"
             ],
             [
              1,
              "#f0f921"
             ]
            ],
            "type": "surface"
           }
          ],
          "table": [
           {
            "cells": {
             "fill": {
              "color": "#EBF0F8"
             },
             "line": {
              "color": "white"
             }
            },
            "header": {
             "fill": {
              "color": "#C8D4E3"
             },
             "line": {
              "color": "white"
             }
            },
            "type": "table"
           }
          ]
         },
         "layout": {
          "annotationdefaults": {
           "arrowcolor": "#2a3f5f",
           "arrowhead": 0,
           "arrowwidth": 1
          },
          "autotypenumbers": "strict",
          "coloraxis": {
           "colorbar": {
            "outlinewidth": 0,
            "ticks": ""
           }
          },
          "colorscale": {
           "diverging": [
            [
             0,
             "#8e0152"
            ],
            [
             0.1,
             "#c51b7d"
            ],
            [
             0.2,
             "#de77ae"
            ],
            [
             0.3,
             "#f1b6da"
            ],
            [
             0.4,
             "#fde0ef"
            ],
            [
             0.5,
             "#f7f7f7"
            ],
            [
             0.6,
             "#e6f5d0"
            ],
            [
             0.7,
             "#b8e186"
            ],
            [
             0.8,
             "#7fbc41"
            ],
            [
             0.9,
             "#4d9221"
            ],
            [
             1,
             "#276419"
            ]
           ],
           "sequential": [
            [
             0,
             "#0d0887"
            ],
            [
             0.1111111111111111,
             "#46039f"
            ],
            [
             0.2222222222222222,
             "#7201a8"
            ],
            [
             0.3333333333333333,
             "#9c179e"
            ],
            [
             0.4444444444444444,
             "#bd3786"
            ],
            [
             0.5555555555555556,
             "#d8576b"
            ],
            [
             0.6666666666666666,
             "#ed7953"
            ],
            [
             0.7777777777777778,
             "#fb9f3a"
            ],
            [
             0.8888888888888888,
             "#fdca26"
            ],
            [
             1,
             "#f0f921"
            ]
           ],
           "sequentialminus": [
            [
             0,
             "#0d0887"
            ],
            [
             0.1111111111111111,
             "#46039f"
            ],
            [
             0.2222222222222222,
             "#7201a8"
            ],
            [
             0.3333333333333333,
             "#9c179e"
            ],
            [
             0.4444444444444444,
             "#bd3786"
            ],
            [
             0.5555555555555556,
             "#d8576b"
            ],
            [
             0.6666666666666666,
             "#ed7953"
            ],
            [
             0.7777777777777778,
             "#fb9f3a"
            ],
            [
             0.8888888888888888,
             "#fdca26"
            ],
            [
             1,
             "#f0f921"
            ]
           ]
          },
          "colorway": [
           "#636efa",
           "#EF553B",
           "#00cc96",
           "#ab63fa",
           "#FFA15A",
           "#19d3f3",
           "#FF6692",
           "#B6E880",
           "#FF97FF",
           "#FECB52"
          ],
          "font": {
           "color": "#2a3f5f"
          },
          "geo": {
           "bgcolor": "white",
           "lakecolor": "white",
           "landcolor": "#E5ECF6",
           "showlakes": true,
           "showland": true,
           "subunitcolor": "white"
          },
          "hoverlabel": {
           "align": "left"
          },
          "hovermode": "closest",
          "mapbox": {
           "style": "light"
          },
          "paper_bgcolor": "white",
          "plot_bgcolor": "#E5ECF6",
          "polar": {
           "angularaxis": {
            "gridcolor": "white",
            "linecolor": "white",
            "ticks": ""
           },
           "bgcolor": "#E5ECF6",
           "radialaxis": {
            "gridcolor": "white",
            "linecolor": "white",
            "ticks": ""
           }
          },
          "scene": {
           "xaxis": {
            "backgroundcolor": "#E5ECF6",
            "gridcolor": "white",
            "gridwidth": 2,
            "linecolor": "white",
            "showbackground": true,
            "ticks": "",
            "zerolinecolor": "white"
           },
           "yaxis": {
            "backgroundcolor": "#E5ECF6",
            "gridcolor": "white",
            "gridwidth": 2,
            "linecolor": "white",
            "showbackground": true,
            "ticks": "",
            "zerolinecolor": "white"
           },
           "zaxis": {
            "backgroundcolor": "#E5ECF6",
            "gridcolor": "white",
            "gridwidth": 2,
            "linecolor": "white",
            "showbackground": true,
            "ticks": "",
            "zerolinecolor": "white"
           }
          },
          "shapedefaults": {
           "line": {
            "color": "#2a3f5f"
           }
          },
          "ternary": {
           "aaxis": {
            "gridcolor": "white",
            "linecolor": "white",
            "ticks": ""
           },
           "baxis": {
            "gridcolor": "white",
            "linecolor": "white",
            "ticks": ""
           },
           "bgcolor": "#E5ECF6",
           "caxis": {
            "gridcolor": "white",
            "linecolor": "white",
            "ticks": ""
           }
          },
          "title": {
           "x": 0.05
          },
          "xaxis": {
           "automargin": true,
           "gridcolor": "white",
           "linecolor": "white",
           "ticks": "",
           "title": {
            "standoff": 15
           },
           "zerolinecolor": "white",
           "zerolinewidth": 2
          },
          "yaxis": {
           "automargin": true,
           "gridcolor": "white",
           "linecolor": "white",
           "ticks": "",
           "title": {
            "standoff": 15
           },
           "zerolinecolor": "white",
           "zerolinewidth": 2
          }
         }
        },
        "title": {
         "text": "Age Distribution"
        },
        "xaxis": {
         "anchor": "y",
         "domain": [
          0,
          1
         ],
         "title": {
          "text": "age"
         }
        },
        "xaxis2": {
         "anchor": "y2",
         "domain": [
          0,
          1
         ],
         "matches": "x",
         "showgrid": true,
         "showticklabels": false
        },
        "yaxis": {
         "anchor": "x",
         "domain": [
          0,
          0.8316
         ],
         "title": {
          "text": "count"
         }
        },
        "yaxis2": {
         "anchor": "x2",
         "domain": [
          0.8416,
          1
         ],
         "matches": "y2",
         "showgrid": false,
         "showline": false,
         "showticklabels": false,
         "ticks": ""
        }
       }
      }
     },
     "metadata": {},
     "output_type": "display_data"
    }
   ],
   "source": [
    "fig = px.histogram(df_raw, x='age', marginal='box', nbins=47, title='Age Distribution')\n",
    "fig.update_layout(bargap=0.1)\n",
    "fig.show()"
   ]
  },
  {
   "cell_type": "code",
   "execution_count": 88,
   "metadata": {},
   "outputs": [
    {
     "data": {
      "application/vnd.plotly.v1+json": {
       "config": {
        "plotlyServerURL": "https://plot.ly"
       },
       "data": [
        {
         "alignmentgroup": "True",
         "bingroup": "x",
         "hovertemplate": "hdl=%{x}<br>count=%{y}<extra></extra>",
         "legendgroup": "",
         "marker": {
          "color": "#636efa"
         },
         "name": "",
         "nbinsx": 47,
         "offsetgroup": "",
         "orientation": "v",
         "showlegend": false,
         "type": "histogram",
         "x": [
          56,
          24,
          37,
          12,
          28,
          69,
          41,
          44,
          49,
          40,
          54,
          34,
          36,
          46,
          30,
          47,
          38,
          64,
          36,
          41,
          50,
          76,
          43,
          41,
          45,
          92,
          30,
          50.4452736318408,
          52,
          42,
          36,
          43,
          34,
          37,
          63,
          60,
          67,
          32,
          57,
          43,
          51,
          46,
          42,
          38,
          40,
          59,
          14,
          24,
          51,
          47,
          58,
          41,
          45,
          39,
          50,
          63,
          61,
          69,
          58,
          39,
          60,
          59,
          23,
          29,
          63,
          60,
          85,
          75,
          69,
          114,
          54,
          40,
          64,
          69,
          74,
          65,
          53,
          42,
          60,
          36,
          40,
          44,
          38,
          47,
          52,
          46,
          54,
          72,
          74,
          53,
          43,
          44,
          42,
          44,
          70,
          75,
          63,
          39,
          37,
          33,
          45,
          39,
          48,
          48,
          55,
          59,
          94,
          44,
          55,
          71,
          36,
          74,
          76,
          49,
          49,
          34,
          61,
          48,
          34,
          82,
          51,
          46,
          52,
          44,
          58,
          34,
          42,
          35,
          61,
          24,
          36,
          45,
          59,
          108,
          44,
          34,
          42,
          41,
          33,
          34,
          43,
          87,
          92,
          73,
          88,
          69,
          73,
          42,
          34,
          63,
          26,
          44,
          34,
          32,
          48,
          37,
          36,
          55,
          31,
          44,
          48,
          36,
          40,
          44,
          39,
          44,
          39,
          45,
          64,
          49,
          60,
          36,
          59,
          31,
          46,
          35,
          24,
          34,
          53,
          44,
          62,
          43,
          46,
          37,
          32,
          50,
          36,
          30,
          44,
          44,
          86,
          82,
          41,
          33,
          46,
          37,
          37,
          29,
          39,
          77,
          90,
          62,
          24,
          120,
          100,
          46,
          72,
          55,
          40,
          29,
          47,
          61,
          48,
          63,
          69,
          46,
          51,
          52,
          46,
          49,
          42,
          54,
          66,
          57,
          42,
          54,
          51,
          87,
          25,
          48,
          117,
          35,
          57,
          62,
          46,
          56,
          46,
          50,
          54,
          60,
          37,
          55,
          66,
          51,
          32,
          43,
          57,
          46,
          45,
          34,
          41,
          110,
          40,
          44,
          49,
          51,
          59,
          39,
          77,
          30,
          31,
          31,
          34,
          56,
          33,
          46,
          47,
          29,
          37,
          38,
          34,
          54,
          34,
          83,
          36,
          48,
          33,
          40,
          36,
          44,
          44,
          54,
          42,
          62,
          32,
          62,
          63,
          44,
          47,
          45,
          68,
          40,
          43,
          34,
          33,
          55,
          58,
          46,
          42,
          50,
          52,
          57,
          70,
          40,
          41,
          37,
          67,
          70,
          38,
          66,
          60,
          42,
          41,
          92,
          26,
          53,
          83,
          59,
          58,
          45,
          78,
          46,
          68,
          34,
          28,
          44,
          50,
          36,
          58,
          91,
          42,
          58,
          36,
          66,
          46,
          30,
          64,
          83,
          36,
          28,
          40,
          36,
          49,
          67,
          34,
          42,
          46,
          56,
          43,
          44,
          38,
          59,
          65,
          68,
          36,
          63,
          37,
          36,
          34,
          58,
          54,
          36,
          51,
          31,
          52,
          54,
          47,
          42,
          87,
          55,
          46,
          36,
          84,
          60,
          33,
          65,
          26,
          62,
          90,
          46,
          92,
          38,
          40,
          36,
          48,
          57,
          52,
          40,
          28,
          40,
          67,
          48,
          81,
          69,
          58,
          50,
          64,
          118,
          46,
          54,
          38,
          52,
          79
         ],
         "xaxis": "x",
         "yaxis": "y"
        },
        {
         "alignmentgroup": "True",
         "hovertemplate": "hdl=%{x}<extra></extra>",
         "legendgroup": "",
         "marker": {
          "color": "#636efa"
         },
         "name": "",
         "notched": true,
         "offsetgroup": "",
         "showlegend": false,
         "type": "box",
         "x": [
          56,
          24,
          37,
          12,
          28,
          69,
          41,
          44,
          49,
          40,
          54,
          34,
          36,
          46,
          30,
          47,
          38,
          64,
          36,
          41,
          50,
          76,
          43,
          41,
          45,
          92,
          30,
          50.4452736318408,
          52,
          42,
          36,
          43,
          34,
          37,
          63,
          60,
          67,
          32,
          57,
          43,
          51,
          46,
          42,
          38,
          40,
          59,
          14,
          24,
          51,
          47,
          58,
          41,
          45,
          39,
          50,
          63,
          61,
          69,
          58,
          39,
          60,
          59,
          23,
          29,
          63,
          60,
          85,
          75,
          69,
          114,
          54,
          40,
          64,
          69,
          74,
          65,
          53,
          42,
          60,
          36,
          40,
          44,
          38,
          47,
          52,
          46,
          54,
          72,
          74,
          53,
          43,
          44,
          42,
          44,
          70,
          75,
          63,
          39,
          37,
          33,
          45,
          39,
          48,
          48,
          55,
          59,
          94,
          44,
          55,
          71,
          36,
          74,
          76,
          49,
          49,
          34,
          61,
          48,
          34,
          82,
          51,
          46,
          52,
          44,
          58,
          34,
          42,
          35,
          61,
          24,
          36,
          45,
          59,
          108,
          44,
          34,
          42,
          41,
          33,
          34,
          43,
          87,
          92,
          73,
          88,
          69,
          73,
          42,
          34,
          63,
          26,
          44,
          34,
          32,
          48,
          37,
          36,
          55,
          31,
          44,
          48,
          36,
          40,
          44,
          39,
          44,
          39,
          45,
          64,
          49,
          60,
          36,
          59,
          31,
          46,
          35,
          24,
          34,
          53,
          44,
          62,
          43,
          46,
          37,
          32,
          50,
          36,
          30,
          44,
          44,
          86,
          82,
          41,
          33,
          46,
          37,
          37,
          29,
          39,
          77,
          90,
          62,
          24,
          120,
          100,
          46,
          72,
          55,
          40,
          29,
          47,
          61,
          48,
          63,
          69,
          46,
          51,
          52,
          46,
          49,
          42,
          54,
          66,
          57,
          42,
          54,
          51,
          87,
          25,
          48,
          117,
          35,
          57,
          62,
          46,
          56,
          46,
          50,
          54,
          60,
          37,
          55,
          66,
          51,
          32,
          43,
          57,
          46,
          45,
          34,
          41,
          110,
          40,
          44,
          49,
          51,
          59,
          39,
          77,
          30,
          31,
          31,
          34,
          56,
          33,
          46,
          47,
          29,
          37,
          38,
          34,
          54,
          34,
          83,
          36,
          48,
          33,
          40,
          36,
          44,
          44,
          54,
          42,
          62,
          32,
          62,
          63,
          44,
          47,
          45,
          68,
          40,
          43,
          34,
          33,
          55,
          58,
          46,
          42,
          50,
          52,
          57,
          70,
          40,
          41,
          37,
          67,
          70,
          38,
          66,
          60,
          42,
          41,
          92,
          26,
          53,
          83,
          59,
          58,
          45,
          78,
          46,
          68,
          34,
          28,
          44,
          50,
          36,
          58,
          91,
          42,
          58,
          36,
          66,
          46,
          30,
          64,
          83,
          36,
          28,
          40,
          36,
          49,
          67,
          34,
          42,
          46,
          56,
          43,
          44,
          38,
          59,
          65,
          68,
          36,
          63,
          37,
          36,
          34,
          58,
          54,
          36,
          51,
          31,
          52,
          54,
          47,
          42,
          87,
          55,
          46,
          36,
          84,
          60,
          33,
          65,
          26,
          62,
          90,
          46,
          92,
          38,
          40,
          36,
          48,
          57,
          52,
          40,
          28,
          40,
          67,
          48,
          81,
          69,
          58,
          50,
          64,
          118,
          46,
          54,
          38,
          52,
          79
         ],
         "xaxis": "x2",
         "yaxis": "y2"
        }
       ],
       "layout": {
        "bargap": 0.1,
        "barmode": "relative",
        "legend": {
         "tracegroupgap": 0
        },
        "template": {
         "data": {
          "bar": [
           {
            "error_x": {
             "color": "#2a3f5f"
            },
            "error_y": {
             "color": "#2a3f5f"
            },
            "marker": {
             "line": {
              "color": "#E5ECF6",
              "width": 0.5
             }
            },
            "type": "bar"
           }
          ],
          "barpolar": [
           {
            "marker": {
             "line": {
              "color": "#E5ECF6",
              "width": 0.5
             }
            },
            "type": "barpolar"
           }
          ],
          "carpet": [
           {
            "aaxis": {
             "endlinecolor": "#2a3f5f",
             "gridcolor": "white",
             "linecolor": "white",
             "minorgridcolor": "white",
             "startlinecolor": "#2a3f5f"
            },
            "baxis": {
             "endlinecolor": "#2a3f5f",
             "gridcolor": "white",
             "linecolor": "white",
             "minorgridcolor": "white",
             "startlinecolor": "#2a3f5f"
            },
            "type": "carpet"
           }
          ],
          "choropleth": [
           {
            "colorbar": {
             "outlinewidth": 0,
             "ticks": ""
            },
            "type": "choropleth"
           }
          ],
          "contour": [
           {
            "colorbar": {
             "outlinewidth": 0,
             "ticks": ""
            },
            "colorscale": [
             [
              0,
              "#0d0887"
             ],
             [
              0.1111111111111111,
              "#46039f"
             ],
             [
              0.2222222222222222,
              "#7201a8"
             ],
             [
              0.3333333333333333,
              "#9c179e"
             ],
             [
              0.4444444444444444,
              "#bd3786"
             ],
             [
              0.5555555555555556,
              "#d8576b"
             ],
             [
              0.6666666666666666,
              "#ed7953"
             ],
             [
              0.7777777777777778,
              "#fb9f3a"
             ],
             [
              0.8888888888888888,
              "#fdca26"
             ],
             [
              1,
              "#f0f921"
             ]
            ],
            "type": "contour"
           }
          ],
          "contourcarpet": [
           {
            "colorbar": {
             "outlinewidth": 0,
             "ticks": ""
            },
            "type": "contourcarpet"
           }
          ],
          "heatmap": [
           {
            "colorbar": {
             "outlinewidth": 0,
             "ticks": ""
            },
            "colorscale": [
             [
              0,
              "#0d0887"
             ],
             [
              0.1111111111111111,
              "#46039f"
             ],
             [
              0.2222222222222222,
              "#7201a8"
             ],
             [
              0.3333333333333333,
              "#9c179e"
             ],
             [
              0.4444444444444444,
              "#bd3786"
             ],
             [
              0.5555555555555556,
              "#d8576b"
             ],
             [
              0.6666666666666666,
              "#ed7953"
             ],
             [
              0.7777777777777778,
              "#fb9f3a"
             ],
             [
              0.8888888888888888,
              "#fdca26"
             ],
             [
              1,
              "#f0f921"
             ]
            ],
            "type": "heatmap"
           }
          ],
          "heatmapgl": [
           {
            "colorbar": {
             "outlinewidth": 0,
             "ticks": ""
            },
            "colorscale": [
             [
              0,
              "#0d0887"
             ],
             [
              0.1111111111111111,
              "#46039f"
             ],
             [
              0.2222222222222222,
              "#7201a8"
             ],
             [
              0.3333333333333333,
              "#9c179e"
             ],
             [
              0.4444444444444444,
              "#bd3786"
             ],
             [
              0.5555555555555556,
              "#d8576b"
             ],
             [
              0.6666666666666666,
              "#ed7953"
             ],
             [
              0.7777777777777778,
              "#fb9f3a"
             ],
             [
              0.8888888888888888,
              "#fdca26"
             ],
             [
              1,
              "#f0f921"
             ]
            ],
            "type": "heatmapgl"
           }
          ],
          "histogram": [
           {
            "marker": {
             "colorbar": {
              "outlinewidth": 0,
              "ticks": ""
             }
            },
            "type": "histogram"
           }
          ],
          "histogram2d": [
           {
            "colorbar": {
             "outlinewidth": 0,
             "ticks": ""
            },
            "colorscale": [
             [
              0,
              "#0d0887"
             ],
             [
              0.1111111111111111,
              "#46039f"
             ],
             [
              0.2222222222222222,
              "#7201a8"
             ],
             [
              0.3333333333333333,
              "#9c179e"
             ],
             [
              0.4444444444444444,
              "#bd3786"
             ],
             [
              0.5555555555555556,
              "#d8576b"
             ],
             [
              0.6666666666666666,
              "#ed7953"
             ],
             [
              0.7777777777777778,
              "#fb9f3a"
             ],
             [
              0.8888888888888888,
              "#fdca26"
             ],
             [
              1,
              "#f0f921"
             ]
            ],
            "type": "histogram2d"
           }
          ],
          "histogram2dcontour": [
           {
            "colorbar": {
             "outlinewidth": 0,
             "ticks": ""
            },
            "colorscale": [
             [
              0,
              "#0d0887"
             ],
             [
              0.1111111111111111,
              "#46039f"
             ],
             [
              0.2222222222222222,
              "#7201a8"
             ],
             [
              0.3333333333333333,
              "#9c179e"
             ],
             [
              0.4444444444444444,
              "#bd3786"
             ],
             [
              0.5555555555555556,
              "#d8576b"
             ],
             [
              0.6666666666666666,
              "#ed7953"
             ],
             [
              0.7777777777777778,
              "#fb9f3a"
             ],
             [
              0.8888888888888888,
              "#fdca26"
             ],
             [
              1,
              "#f0f921"
             ]
            ],
            "type": "histogram2dcontour"
           }
          ],
          "mesh3d": [
           {
            "colorbar": {
             "outlinewidth": 0,
             "ticks": ""
            },
            "type": "mesh3d"
           }
          ],
          "parcoords": [
           {
            "line": {
             "colorbar": {
              "outlinewidth": 0,
              "ticks": ""
             }
            },
            "type": "parcoords"
           }
          ],
          "pie": [
           {
            "automargin": true,
            "type": "pie"
           }
          ],
          "scatter": [
           {
            "marker": {
             "colorbar": {
              "outlinewidth": 0,
              "ticks": ""
             }
            },
            "type": "scatter"
           }
          ],
          "scatter3d": [
           {
            "line": {
             "colorbar": {
              "outlinewidth": 0,
              "ticks": ""
             }
            },
            "marker": {
             "colorbar": {
              "outlinewidth": 0,
              "ticks": ""
             }
            },
            "type": "scatter3d"
           }
          ],
          "scattercarpet": [
           {
            "marker": {
             "colorbar": {
              "outlinewidth": 0,
              "ticks": ""
             }
            },
            "type": "scattercarpet"
           }
          ],
          "scattergeo": [
           {
            "marker": {
             "colorbar": {
              "outlinewidth": 0,
              "ticks": ""
             }
            },
            "type": "scattergeo"
           }
          ],
          "scattergl": [
           {
            "marker": {
             "colorbar": {
              "outlinewidth": 0,
              "ticks": ""
             }
            },
            "type": "scattergl"
           }
          ],
          "scattermapbox": [
           {
            "marker": {
             "colorbar": {
              "outlinewidth": 0,
              "ticks": ""
             }
            },
            "type": "scattermapbox"
           }
          ],
          "scatterpolar": [
           {
            "marker": {
             "colorbar": {
              "outlinewidth": 0,
              "ticks": ""
             }
            },
            "type": "scatterpolar"
           }
          ],
          "scatterpolargl": [
           {
            "marker": {
             "colorbar": {
              "outlinewidth": 0,
              "ticks": ""
             }
            },
            "type": "scatterpolargl"
           }
          ],
          "scatterternary": [
           {
            "marker": {
             "colorbar": {
              "outlinewidth": 0,
              "ticks": ""
             }
            },
            "type": "scatterternary"
           }
          ],
          "surface": [
           {
            "colorbar": {
             "outlinewidth": 0,
             "ticks": ""
            },
            "colorscale": [
             [
              0,
              "#0d0887"
             ],
             [
              0.1111111111111111,
              "#46039f"
             ],
             [
              0.2222222222222222,
              "#7201a8"
             ],
             [
              0.3333333333333333,
              "#9c179e"
             ],
             [
              0.4444444444444444,
              "#bd3786"
             ],
             [
              0.5555555555555556,
              "#d8576b"
             ],
             [
              0.6666666666666666,
              "#ed7953"
             ],
             [
              0.7777777777777778,
              "#fb9f3a"
             ],
             [
              0.8888888888888888,
              "#fdca26"
             ],
             [
              1,
              "#f0f921"
             ]
            ],
            "type": "surface"
           }
          ],
          "table": [
           {
            "cells": {
             "fill": {
              "color": "#EBF0F8"
             },
             "line": {
              "color": "white"
             }
            },
            "header": {
             "fill": {
              "color": "#C8D4E3"
             },
             "line": {
              "color": "white"
             }
            },
            "type": "table"
           }
          ]
         },
         "layout": {
          "annotationdefaults": {
           "arrowcolor": "#2a3f5f",
           "arrowhead": 0,
           "arrowwidth": 1
          },
          "autotypenumbers": "strict",
          "coloraxis": {
           "colorbar": {
            "outlinewidth": 0,
            "ticks": ""
           }
          },
          "colorscale": {
           "diverging": [
            [
             0,
             "#8e0152"
            ],
            [
             0.1,
             "#c51b7d"
            ],
            [
             0.2,
             "#de77ae"
            ],
            [
             0.3,
             "#f1b6da"
            ],
            [
             0.4,
             "#fde0ef"
            ],
            [
             0.5,
             "#f7f7f7"
            ],
            [
             0.6,
             "#e6f5d0"
            ],
            [
             0.7,
             "#b8e186"
            ],
            [
             0.8,
             "#7fbc41"
            ],
            [
             0.9,
             "#4d9221"
            ],
            [
             1,
             "#276419"
            ]
           ],
           "sequential": [
            [
             0,
             "#0d0887"
            ],
            [
             0.1111111111111111,
             "#46039f"
            ],
            [
             0.2222222222222222,
             "#7201a8"
            ],
            [
             0.3333333333333333,
             "#9c179e"
            ],
            [
             0.4444444444444444,
             "#bd3786"
            ],
            [
             0.5555555555555556,
             "#d8576b"
            ],
            [
             0.6666666666666666,
             "#ed7953"
            ],
            [
             0.7777777777777778,
             "#fb9f3a"
            ],
            [
             0.8888888888888888,
             "#fdca26"
            ],
            [
             1,
             "#f0f921"
            ]
           ],
           "sequentialminus": [
            [
             0,
             "#0d0887"
            ],
            [
             0.1111111111111111,
             "#46039f"
            ],
            [
             0.2222222222222222,
             "#7201a8"
            ],
            [
             0.3333333333333333,
             "#9c179e"
            ],
            [
             0.4444444444444444,
             "#bd3786"
            ],
            [
             0.5555555555555556,
             "#d8576b"
            ],
            [
             0.6666666666666666,
             "#ed7953"
            ],
            [
             0.7777777777777778,
             "#fb9f3a"
            ],
            [
             0.8888888888888888,
             "#fdca26"
            ],
            [
             1,
             "#f0f921"
            ]
           ]
          },
          "colorway": [
           "#636efa",
           "#EF553B",
           "#00cc96",
           "#ab63fa",
           "#FFA15A",
           "#19d3f3",
           "#FF6692",
           "#B6E880",
           "#FF97FF",
           "#FECB52"
          ],
          "font": {
           "color": "#2a3f5f"
          },
          "geo": {
           "bgcolor": "white",
           "lakecolor": "white",
           "landcolor": "#E5ECF6",
           "showlakes": true,
           "showland": true,
           "subunitcolor": "white"
          },
          "hoverlabel": {
           "align": "left"
          },
          "hovermode": "closest",
          "mapbox": {
           "style": "light"
          },
          "paper_bgcolor": "white",
          "plot_bgcolor": "#E5ECF6",
          "polar": {
           "angularaxis": {
            "gridcolor": "white",
            "linecolor": "white",
            "ticks": ""
           },
           "bgcolor": "#E5ECF6",
           "radialaxis": {
            "gridcolor": "white",
            "linecolor": "white",
            "ticks": ""
           }
          },
          "scene": {
           "xaxis": {
            "backgroundcolor": "#E5ECF6",
            "gridcolor": "white",
            "gridwidth": 2,
            "linecolor": "white",
            "showbackground": true,
            "ticks": "",
            "zerolinecolor": "white"
           },
           "yaxis": {
            "backgroundcolor": "#E5ECF6",
            "gridcolor": "white",
            "gridwidth": 2,
            "linecolor": "white",
            "showbackground": true,
            "ticks": "",
            "zerolinecolor": "white"
           },
           "zaxis": {
            "backgroundcolor": "#E5ECF6",
            "gridcolor": "white",
            "gridwidth": 2,
            "linecolor": "white",
            "showbackground": true,
            "ticks": "",
            "zerolinecolor": "white"
           }
          },
          "shapedefaults": {
           "line": {
            "color": "#2a3f5f"
           }
          },
          "ternary": {
           "aaxis": {
            "gridcolor": "white",
            "linecolor": "white",
            "ticks": ""
           },
           "baxis": {
            "gridcolor": "white",
            "linecolor": "white",
            "ticks": ""
           },
           "bgcolor": "#E5ECF6",
           "caxis": {
            "gridcolor": "white",
            "linecolor": "white",
            "ticks": ""
           }
          },
          "title": {
           "x": 0.05
          },
          "xaxis": {
           "automargin": true,
           "gridcolor": "white",
           "linecolor": "white",
           "ticks": "",
           "title": {
            "standoff": 15
           },
           "zerolinecolor": "white",
           "zerolinewidth": 2
          },
          "yaxis": {
           "automargin": true,
           "gridcolor": "white",
           "linecolor": "white",
           "ticks": "",
           "title": {
            "standoff": 15
           },
           "zerolinecolor": "white",
           "zerolinewidth": 2
          }
         }
        },
        "title": {
         "text": "hdl Distribution"
        },
        "xaxis": {
         "anchor": "y",
         "domain": [
          0,
          1
         ],
         "title": {
          "text": "hdl"
         }
        },
        "xaxis2": {
         "anchor": "y2",
         "domain": [
          0,
          1
         ],
         "matches": "x",
         "showgrid": true,
         "showticklabels": false
        },
        "yaxis": {
         "anchor": "x",
         "domain": [
          0,
          0.8316
         ],
         "title": {
          "text": "count"
         }
        },
        "yaxis2": {
         "anchor": "x2",
         "domain": [
          0.8416,
          1
         ],
         "matches": "y2",
         "showgrid": false,
         "showline": false,
         "showticklabels": false,
         "ticks": ""
        }
       }
      }
     },
     "metadata": {},
     "output_type": "display_data"
    }
   ],
   "source": [
    "fig = px.histogram(df_raw, x='hdl', marginal='box', nbins=47, title='hdl Distribution')\n",
    "fig.update_layout(bargap=0.1)\n",
    "fig.show()"
   ]
  },
  {
   "cell_type": "code",
   "execution_count": 89,
   "metadata": {},
   "outputs": [
    {
     "data": {
      "application/vnd.plotly.v1+json": {
       "config": {
        "plotlyServerURL": "https://plot.ly"
       },
       "data": [
        {
         "alignmentgroup": "True",
         "bingroup": "x",
         "hovertemplate": "gender=%{x}<br>count=%{y}<extra></extra>",
         "legendgroup": "",
         "marker": {
          "color": "#636efa"
         },
         "name": "",
         "nbinsx": 2,
         "offsetgroup": "",
         "orientation": "v",
         "showlegend": false,
         "type": "histogram",
         "x": [
          0,
          0,
          0,
          1,
          1,
          1,
          1,
          1,
          1,
          0,
          0,
          0,
          0,
          0,
          1,
          0,
          0,
          1,
          1,
          0,
          1,
          1,
          0,
          0,
          0,
          0,
          1,
          1,
          0,
          1,
          0,
          1,
          1,
          0,
          1,
          0,
          1,
          1,
          1,
          1,
          0,
          0,
          1,
          1,
          0,
          0,
          0,
          1,
          0,
          0,
          1,
          0,
          0,
          0,
          0,
          0,
          1,
          0,
          0,
          0,
          0,
          1,
          0,
          0,
          1,
          0,
          0,
          0,
          0,
          0,
          1,
          0,
          0,
          0,
          1,
          0,
          0,
          1,
          0,
          0,
          1,
          0,
          1,
          0,
          0,
          1,
          0,
          0,
          0,
          1,
          1,
          0,
          0,
          1,
          0,
          0,
          0,
          0,
          0,
          1,
          0,
          1,
          0,
          1,
          0,
          1,
          0,
          0,
          1,
          1,
          1,
          1,
          1,
          0,
          0,
          1,
          0,
          0,
          1,
          1,
          1,
          0,
          1,
          0,
          1,
          0,
          0,
          0,
          0,
          1,
          0,
          0,
          0,
          0,
          0,
          0,
          1,
          0,
          1,
          1,
          0,
          0,
          0,
          1,
          0,
          1,
          1,
          1,
          0,
          1,
          1,
          0,
          1,
          1,
          0,
          1,
          1,
          0,
          1,
          0,
          1,
          1,
          0,
          0,
          0,
          0,
          1,
          0,
          0,
          0,
          0,
          0,
          1,
          1,
          0,
          1,
          0,
          0,
          1,
          1,
          0,
          1,
          0,
          1,
          1,
          0,
          1,
          1,
          0,
          0,
          0,
          0,
          1,
          0,
          1,
          0,
          0,
          1,
          0,
          1,
          0,
          0,
          1,
          0,
          1,
          1,
          1,
          0,
          0,
          0,
          1,
          0,
          0,
          1,
          1,
          0,
          0,
          1,
          0,
          0,
          0,
          0,
          1,
          0,
          0,
          1,
          0,
          0,
          1,
          0,
          1,
          0,
          1,
          1,
          0,
          1,
          0,
          1,
          1,
          0,
          1,
          0,
          1,
          0,
          1,
          0,
          0,
          0,
          0,
          0,
          0,
          0,
          0,
          1,
          0,
          0,
          0,
          1,
          0,
          1,
          1,
          1,
          1,
          0,
          1,
          0,
          0,
          1,
          1,
          0,
          1,
          1,
          0,
          0,
          0,
          0,
          1,
          0,
          0,
          1,
          0,
          1,
          0,
          1,
          0,
          0,
          0,
          0,
          1,
          0,
          1,
          1,
          0,
          1,
          1,
          1,
          0,
          0,
          0,
          0,
          0,
          0,
          0,
          0,
          0,
          1,
          0,
          0,
          0,
          1,
          0,
          0,
          1,
          1,
          1,
          0,
          0,
          0,
          0,
          1,
          1,
          0,
          1,
          1,
          1,
          1,
          1,
          1,
          0,
          1,
          1,
          0,
          0,
          1,
          0,
          1,
          0,
          0,
          0,
          0,
          1,
          0,
          0,
          0,
          0,
          0,
          0,
          1,
          0,
          1,
          1,
          0,
          1,
          1,
          0,
          1,
          1,
          1,
          1,
          1,
          0,
          0,
          0,
          0,
          0,
          0,
          1,
          1,
          0,
          0,
          0,
          0,
          0,
          0,
          1,
          1,
          1,
          1,
          1,
          0,
          0,
          1,
          0,
          1,
          1,
          0,
          0,
          0,
          1,
          1,
          0,
          0,
          1,
          1,
          0,
          1,
          0,
          0,
          1,
          0,
          0,
          0,
          0
         ],
         "xaxis": "x",
         "yaxis": "y"
        },
        {
         "alignmentgroup": "True",
         "hovertemplate": "gender=%{x}<extra></extra>",
         "legendgroup": "",
         "marker": {
          "color": "#636efa"
         },
         "name": "",
         "notched": true,
         "offsetgroup": "",
         "showlegend": false,
         "type": "box",
         "x": [
          0,
          0,
          0,
          1,
          1,
          1,
          1,
          1,
          1,
          0,
          0,
          0,
          0,
          0,
          1,
          0,
          0,
          1,
          1,
          0,
          1,
          1,
          0,
          0,
          0,
          0,
          1,
          1,
          0,
          1,
          0,
          1,
          1,
          0,
          1,
          0,
          1,
          1,
          1,
          1,
          0,
          0,
          1,
          1,
          0,
          0,
          0,
          1,
          0,
          0,
          1,
          0,
          0,
          0,
          0,
          0,
          1,
          0,
          0,
          0,
          0,
          1,
          0,
          0,
          1,
          0,
          0,
          0,
          0,
          0,
          1,
          0,
          0,
          0,
          1,
          0,
          0,
          1,
          0,
          0,
          1,
          0,
          1,
          0,
          0,
          1,
          0,
          0,
          0,
          1,
          1,
          0,
          0,
          1,
          0,
          0,
          0,
          0,
          0,
          1,
          0,
          1,
          0,
          1,
          0,
          1,
          0,
          0,
          1,
          1,
          1,
          1,
          1,
          0,
          0,
          1,
          0,
          0,
          1,
          1,
          1,
          0,
          1,
          0,
          1,
          0,
          0,
          0,
          0,
          1,
          0,
          0,
          0,
          0,
          0,
          0,
          1,
          0,
          1,
          1,
          0,
          0,
          0,
          1,
          0,
          1,
          1,
          1,
          0,
          1,
          1,
          0,
          1,
          1,
          0,
          1,
          1,
          0,
          1,
          0,
          1,
          1,
          0,
          0,
          0,
          0,
          1,
          0,
          0,
          0,
          0,
          0,
          1,
          1,
          0,
          1,
          0,
          0,
          1,
          1,
          0,
          1,
          0,
          1,
          1,
          0,
          1,
          1,
          0,
          0,
          0,
          0,
          1,
          0,
          1,
          0,
          0,
          1,
          0,
          1,
          0,
          0,
          1,
          0,
          1,
          1,
          1,
          0,
          0,
          0,
          1,
          0,
          0,
          1,
          1,
          0,
          0,
          1,
          0,
          0,
          0,
          0,
          1,
          0,
          0,
          1,
          0,
          0,
          1,
          0,
          1,
          0,
          1,
          1,
          0,
          1,
          0,
          1,
          1,
          0,
          1,
          0,
          1,
          0,
          1,
          0,
          0,
          0,
          0,
          0,
          0,
          0,
          0,
          1,
          0,
          0,
          0,
          1,
          0,
          1,
          1,
          1,
          1,
          0,
          1,
          0,
          0,
          1,
          1,
          0,
          1,
          1,
          0,
          0,
          0,
          0,
          1,
          0,
          0,
          1,
          0,
          1,
          0,
          1,
          0,
          0,
          0,
          0,
          1,
          0,
          1,
          1,
          0,
          1,
          1,
          1,
          0,
          0,
          0,
          0,
          0,
          0,
          0,
          0,
          0,
          1,
          0,
          0,
          0,
          1,
          0,
          0,
          1,
          1,
          1,
          0,
          0,
          0,
          0,
          1,
          1,
          0,
          1,
          1,
          1,
          1,
          1,
          1,
          0,
          1,
          1,
          0,
          0,
          1,
          0,
          1,
          0,
          0,
          0,
          0,
          1,
          0,
          0,
          0,
          0,
          0,
          0,
          1,
          0,
          1,
          1,
          0,
          1,
          1,
          0,
          1,
          1,
          1,
          1,
          1,
          0,
          0,
          0,
          0,
          0,
          0,
          1,
          1,
          0,
          0,
          0,
          0,
          0,
          0,
          1,
          1,
          1,
          1,
          1,
          0,
          0,
          1,
          0,
          1,
          1,
          0,
          0,
          0,
          1,
          1,
          0,
          0,
          1,
          1,
          0,
          1,
          0,
          0,
          1,
          0,
          0,
          0,
          0
         ],
         "xaxis": "x2",
         "yaxis": "y2"
        }
       ],
       "layout": {
        "bargap": 0.1,
        "barmode": "relative",
        "legend": {
         "tracegroupgap": 0
        },
        "template": {
         "data": {
          "bar": [
           {
            "error_x": {
             "color": "#2a3f5f"
            },
            "error_y": {
             "color": "#2a3f5f"
            },
            "marker": {
             "line": {
              "color": "#E5ECF6",
              "width": 0.5
             }
            },
            "type": "bar"
           }
          ],
          "barpolar": [
           {
            "marker": {
             "line": {
              "color": "#E5ECF6",
              "width": 0.5
             }
            },
            "type": "barpolar"
           }
          ],
          "carpet": [
           {
            "aaxis": {
             "endlinecolor": "#2a3f5f",
             "gridcolor": "white",
             "linecolor": "white",
             "minorgridcolor": "white",
             "startlinecolor": "#2a3f5f"
            },
            "baxis": {
             "endlinecolor": "#2a3f5f",
             "gridcolor": "white",
             "linecolor": "white",
             "minorgridcolor": "white",
             "startlinecolor": "#2a3f5f"
            },
            "type": "carpet"
           }
          ],
          "choropleth": [
           {
            "colorbar": {
             "outlinewidth": 0,
             "ticks": ""
            },
            "type": "choropleth"
           }
          ],
          "contour": [
           {
            "colorbar": {
             "outlinewidth": 0,
             "ticks": ""
            },
            "colorscale": [
             [
              0,
              "#0d0887"
             ],
             [
              0.1111111111111111,
              "#46039f"
             ],
             [
              0.2222222222222222,
              "#7201a8"
             ],
             [
              0.3333333333333333,
              "#9c179e"
             ],
             [
              0.4444444444444444,
              "#bd3786"
             ],
             [
              0.5555555555555556,
              "#d8576b"
             ],
             [
              0.6666666666666666,
              "#ed7953"
             ],
             [
              0.7777777777777778,
              "#fb9f3a"
             ],
             [
              0.8888888888888888,
              "#fdca26"
             ],
             [
              1,
              "#f0f921"
             ]
            ],
            "type": "contour"
           }
          ],
          "contourcarpet": [
           {
            "colorbar": {
             "outlinewidth": 0,
             "ticks": ""
            },
            "type": "contourcarpet"
           }
          ],
          "heatmap": [
           {
            "colorbar": {
             "outlinewidth": 0,
             "ticks": ""
            },
            "colorscale": [
             [
              0,
              "#0d0887"
             ],
             [
              0.1111111111111111,
              "#46039f"
             ],
             [
              0.2222222222222222,
              "#7201a8"
             ],
             [
              0.3333333333333333,
              "#9c179e"
             ],
             [
              0.4444444444444444,
              "#bd3786"
             ],
             [
              0.5555555555555556,
              "#d8576b"
             ],
             [
              0.6666666666666666,
              "#ed7953"
             ],
             [
              0.7777777777777778,
              "#fb9f3a"
             ],
             [
              0.8888888888888888,
              "#fdca26"
             ],
             [
              1,
              "#f0f921"
             ]
            ],
            "type": "heatmap"
           }
          ],
          "heatmapgl": [
           {
            "colorbar": {
             "outlinewidth": 0,
             "ticks": ""
            },
            "colorscale": [
             [
              0,
              "#0d0887"
             ],
             [
              0.1111111111111111,
              "#46039f"
             ],
             [
              0.2222222222222222,
              "#7201a8"
             ],
             [
              0.3333333333333333,
              "#9c179e"
             ],
             [
              0.4444444444444444,
              "#bd3786"
             ],
             [
              0.5555555555555556,
              "#d8576b"
             ],
             [
              0.6666666666666666,
              "#ed7953"
             ],
             [
              0.7777777777777778,
              "#fb9f3a"
             ],
             [
              0.8888888888888888,
              "#fdca26"
             ],
             [
              1,
              "#f0f921"
             ]
            ],
            "type": "heatmapgl"
           }
          ],
          "histogram": [
           {
            "marker": {
             "colorbar": {
              "outlinewidth": 0,
              "ticks": ""
             }
            },
            "type": "histogram"
           }
          ],
          "histogram2d": [
           {
            "colorbar": {
             "outlinewidth": 0,
             "ticks": ""
            },
            "colorscale": [
             [
              0,
              "#0d0887"
             ],
             [
              0.1111111111111111,
              "#46039f"
             ],
             [
              0.2222222222222222,
              "#7201a8"
             ],
             [
              0.3333333333333333,
              "#9c179e"
             ],
             [
              0.4444444444444444,
              "#bd3786"
             ],
             [
              0.5555555555555556,
              "#d8576b"
             ],
             [
              0.6666666666666666,
              "#ed7953"
             ],
             [
              0.7777777777777778,
              "#fb9f3a"
             ],
             [
              0.8888888888888888,
              "#fdca26"
             ],
             [
              1,
              "#f0f921"
             ]
            ],
            "type": "histogram2d"
           }
          ],
          "histogram2dcontour": [
           {
            "colorbar": {
             "outlinewidth": 0,
             "ticks": ""
            },
            "colorscale": [
             [
              0,
              "#0d0887"
             ],
             [
              0.1111111111111111,
              "#46039f"
             ],
             [
              0.2222222222222222,
              "#7201a8"
             ],
             [
              0.3333333333333333,
              "#9c179e"
             ],
             [
              0.4444444444444444,
              "#bd3786"
             ],
             [
              0.5555555555555556,
              "#d8576b"
             ],
             [
              0.6666666666666666,
              "#ed7953"
             ],
             [
              0.7777777777777778,
              "#fb9f3a"
             ],
             [
              0.8888888888888888,
              "#fdca26"
             ],
             [
              1,
              "#f0f921"
             ]
            ],
            "type": "histogram2dcontour"
           }
          ],
          "mesh3d": [
           {
            "colorbar": {
             "outlinewidth": 0,
             "ticks": ""
            },
            "type": "mesh3d"
           }
          ],
          "parcoords": [
           {
            "line": {
             "colorbar": {
              "outlinewidth": 0,
              "ticks": ""
             }
            },
            "type": "parcoords"
           }
          ],
          "pie": [
           {
            "automargin": true,
            "type": "pie"
           }
          ],
          "scatter": [
           {
            "marker": {
             "colorbar": {
              "outlinewidth": 0,
              "ticks": ""
             }
            },
            "type": "scatter"
           }
          ],
          "scatter3d": [
           {
            "line": {
             "colorbar": {
              "outlinewidth": 0,
              "ticks": ""
             }
            },
            "marker": {
             "colorbar": {
              "outlinewidth": 0,
              "ticks": ""
             }
            },
            "type": "scatter3d"
           }
          ],
          "scattercarpet": [
           {
            "marker": {
             "colorbar": {
              "outlinewidth": 0,
              "ticks": ""
             }
            },
            "type": "scattercarpet"
           }
          ],
          "scattergeo": [
           {
            "marker": {
             "colorbar": {
              "outlinewidth": 0,
              "ticks": ""
             }
            },
            "type": "scattergeo"
           }
          ],
          "scattergl": [
           {
            "marker": {
             "colorbar": {
              "outlinewidth": 0,
              "ticks": ""
             }
            },
            "type": "scattergl"
           }
          ],
          "scattermapbox": [
           {
            "marker": {
             "colorbar": {
              "outlinewidth": 0,
              "ticks": ""
             }
            },
            "type": "scattermapbox"
           }
          ],
          "scatterpolar": [
           {
            "marker": {
             "colorbar": {
              "outlinewidth": 0,
              "ticks": ""
             }
            },
            "type": "scatterpolar"
           }
          ],
          "scatterpolargl": [
           {
            "marker": {
             "colorbar": {
              "outlinewidth": 0,
              "ticks": ""
             }
            },
            "type": "scatterpolargl"
           }
          ],
          "scatterternary": [
           {
            "marker": {
             "colorbar": {
              "outlinewidth": 0,
              "ticks": ""
             }
            },
            "type": "scatterternary"
           }
          ],
          "surface": [
           {
            "colorbar": {
             "outlinewidth": 0,
             "ticks": ""
            },
            "colorscale": [
             [
              0,
              "#0d0887"
             ],
             [
              0.1111111111111111,
              "#46039f"
             ],
             [
              0.2222222222222222,
              "#7201a8"
             ],
             [
              0.3333333333333333,
              "#9c179e"
             ],
             [
              0.4444444444444444,
              "#bd3786"
             ],
             [
              0.5555555555555556,
              "#d8576b"
             ],
             [
              0.6666666666666666,
              "#ed7953"
             ],
             [
              0.7777777777777778,
              "#fb9f3a"
             ],
             [
              0.8888888888888888,
              "#fdca26"
             ],
             [
              1,
              "#f0f921"
             ]
            ],
            "type": "surface"
           }
          ],
          "table": [
           {
            "cells": {
             "fill": {
              "color": "#EBF0F8"
             },
             "line": {
              "color": "white"
             }
            },
            "header": {
             "fill": {
              "color": "#C8D4E3"
             },
             "line": {
              "color": "white"
             }
            },
            "type": "table"
           }
          ]
         },
         "layout": {
          "annotationdefaults": {
           "arrowcolor": "#2a3f5f",
           "arrowhead": 0,
           "arrowwidth": 1
          },
          "autotypenumbers": "strict",
          "coloraxis": {
           "colorbar": {
            "outlinewidth": 0,
            "ticks": ""
           }
          },
          "colorscale": {
           "diverging": [
            [
             0,
             "#8e0152"
            ],
            [
             0.1,
             "#c51b7d"
            ],
            [
             0.2,
             "#de77ae"
            ],
            [
             0.3,
             "#f1b6da"
            ],
            [
             0.4,
             "#fde0ef"
            ],
            [
             0.5,
             "#f7f7f7"
            ],
            [
             0.6,
             "#e6f5d0"
            ],
            [
             0.7,
             "#b8e186"
            ],
            [
             0.8,
             "#7fbc41"
            ],
            [
             0.9,
             "#4d9221"
            ],
            [
             1,
             "#276419"
            ]
           ],
           "sequential": [
            [
             0,
             "#0d0887"
            ],
            [
             0.1111111111111111,
             "#46039f"
            ],
            [
             0.2222222222222222,
             "#7201a8"
            ],
            [
             0.3333333333333333,
             "#9c179e"
            ],
            [
             0.4444444444444444,
             "#bd3786"
            ],
            [
             0.5555555555555556,
             "#d8576b"
            ],
            [
             0.6666666666666666,
             "#ed7953"
            ],
            [
             0.7777777777777778,
             "#fb9f3a"
            ],
            [
             0.8888888888888888,
             "#fdca26"
            ],
            [
             1,
             "#f0f921"
            ]
           ],
           "sequentialminus": [
            [
             0,
             "#0d0887"
            ],
            [
             0.1111111111111111,
             "#46039f"
            ],
            [
             0.2222222222222222,
             "#7201a8"
            ],
            [
             0.3333333333333333,
             "#9c179e"
            ],
            [
             0.4444444444444444,
             "#bd3786"
            ],
            [
             0.5555555555555556,
             "#d8576b"
            ],
            [
             0.6666666666666666,
             "#ed7953"
            ],
            [
             0.7777777777777778,
             "#fb9f3a"
            ],
            [
             0.8888888888888888,
             "#fdca26"
            ],
            [
             1,
             "#f0f921"
            ]
           ]
          },
          "colorway": [
           "#636efa",
           "#EF553B",
           "#00cc96",
           "#ab63fa",
           "#FFA15A",
           "#19d3f3",
           "#FF6692",
           "#B6E880",
           "#FF97FF",
           "#FECB52"
          ],
          "font": {
           "color": "#2a3f5f"
          },
          "geo": {
           "bgcolor": "white",
           "lakecolor": "white",
           "landcolor": "#E5ECF6",
           "showlakes": true,
           "showland": true,
           "subunitcolor": "white"
          },
          "hoverlabel": {
           "align": "left"
          },
          "hovermode": "closest",
          "mapbox": {
           "style": "light"
          },
          "paper_bgcolor": "white",
          "plot_bgcolor": "#E5ECF6",
          "polar": {
           "angularaxis": {
            "gridcolor": "white",
            "linecolor": "white",
            "ticks": ""
           },
           "bgcolor": "#E5ECF6",
           "radialaxis": {
            "gridcolor": "white",
            "linecolor": "white",
            "ticks": ""
           }
          },
          "scene": {
           "xaxis": {
            "backgroundcolor": "#E5ECF6",
            "gridcolor": "white",
            "gridwidth": 2,
            "linecolor": "white",
            "showbackground": true,
            "ticks": "",
            "zerolinecolor": "white"
           },
           "yaxis": {
            "backgroundcolor": "#E5ECF6",
            "gridcolor": "white",
            "gridwidth": 2,
            "linecolor": "white",
            "showbackground": true,
            "ticks": "",
            "zerolinecolor": "white"
           },
           "zaxis": {
            "backgroundcolor": "#E5ECF6",
            "gridcolor": "white",
            "gridwidth": 2,
            "linecolor": "white",
            "showbackground": true,
            "ticks": "",
            "zerolinecolor": "white"
           }
          },
          "shapedefaults": {
           "line": {
            "color": "#2a3f5f"
           }
          },
          "ternary": {
           "aaxis": {
            "gridcolor": "white",
            "linecolor": "white",
            "ticks": ""
           },
           "baxis": {
            "gridcolor": "white",
            "linecolor": "white",
            "ticks": ""
           },
           "bgcolor": "#E5ECF6",
           "caxis": {
            "gridcolor": "white",
            "linecolor": "white",
            "ticks": ""
           }
          },
          "title": {
           "x": 0.05
          },
          "xaxis": {
           "automargin": true,
           "gridcolor": "white",
           "linecolor": "white",
           "ticks": "",
           "title": {
            "standoff": 15
           },
           "zerolinecolor": "white",
           "zerolinewidth": 2
          },
          "yaxis": {
           "automargin": true,
           "gridcolor": "white",
           "linecolor": "white",
           "ticks": "",
           "title": {
            "standoff": 15
           },
           "zerolinecolor": "white",
           "zerolinewidth": 2
          }
         }
        },
        "title": {
         "text": "gender Distribution"
        },
        "xaxis": {
         "anchor": "y",
         "domain": [
          0,
          1
         ],
         "title": {
          "text": "gender"
         }
        },
        "xaxis2": {
         "anchor": "y2",
         "domain": [
          0,
          1
         ],
         "matches": "x",
         "showgrid": true,
         "showticklabels": false
        },
        "yaxis": {
         "anchor": "x",
         "domain": [
          0,
          0.8316
         ],
         "title": {
          "text": "count"
         }
        },
        "yaxis2": {
         "anchor": "x2",
         "domain": [
          0.8416,
          1
         ],
         "matches": "y2",
         "showgrid": false,
         "showline": false,
         "showticklabels": false,
         "ticks": ""
        }
       }
      }
     },
     "metadata": {},
     "output_type": "display_data"
    }
   ],
   "source": [
    "fig = px.histogram(df_raw, x='gender', marginal='box', nbins=2, title='gender Distribution')\n",
    "fig.update_layout(bargap=0.1)\n",
    "fig.show()"
   ]
  },
  {
   "cell_type": "code",
   "execution_count": 90,
   "metadata": {},
   "outputs": [
    {
     "data": {
      "text/plain": [
       "Index(['id', 'chol', 'stab.glu', 'hdl', 'ratio', 'glyhb', 'location', 'age',\n",
       "       'gender', 'height', 'weight', 'frame', 'bp.1s', 'bp.1d', 'bp.2s',\n",
       "       'bp.2d', 'waist', 'hip', 'time.ppn', 'height_meters', 'BMI',\n",
       "       'hip_waist_ratio', 'diabetic'],\n",
       "      dtype='object')"
      ]
     },
     "execution_count": 90,
     "metadata": {},
     "output_type": "execute_result"
    }
   ],
   "source": [
    "df_raw.columns"
   ]
  },
  {
   "cell_type": "code",
   "execution_count": 91,
   "metadata": {},
   "outputs": [
    {
     "data": {
      "text/html": [
       "<div>\n",
       "<style scoped>\n",
       "    .dataframe tbody tr th:only-of-type {\n",
       "        vertical-align: middle;\n",
       "    }\n",
       "\n",
       "    .dataframe tbody tr th {\n",
       "        vertical-align: top;\n",
       "    }\n",
       "\n",
       "    .dataframe thead th {\n",
       "        text-align: right;\n",
       "    }\n",
       "</style>\n",
       "<table border=\"1\" class=\"dataframe\">\n",
       "  <thead>\n",
       "    <tr style=\"text-align: right;\">\n",
       "      <th></th>\n",
       "      <th>chol</th>\n",
       "      <th>stab.glu</th>\n",
       "      <th>hdl</th>\n",
       "      <th>ratio</th>\n",
       "      <th>glyhb</th>\n",
       "      <th>age</th>\n",
       "      <th>gender</th>\n",
       "      <th>weight</th>\n",
       "      <th>frame</th>\n",
       "      <th>bp.2s</th>\n",
       "      <th>bp.2d</th>\n",
       "      <th>waist</th>\n",
       "      <th>hip</th>\n",
       "      <th>time.ppn</th>\n",
       "      <th>height_meters</th>\n",
       "      <th>BMI</th>\n",
       "      <th>hip_waist_ratio</th>\n",
       "      <th>diabetic</th>\n",
       "    </tr>\n",
       "  </thead>\n",
       "  <tbody>\n",
       "    <tr>\n",
       "      <th>0</th>\n",
       "      <td>203.0</td>\n",
       "      <td>27</td>\n",
       "      <td>56.0</td>\n",
       "      <td>3.6</td>\n",
       "      <td>4.310000</td>\n",
       "      <td>27</td>\n",
       "      <td>0</td>\n",
       "      <td>121.0</td>\n",
       "      <td>1</td>\n",
       "      <td>152.382979</td>\n",
       "      <td>92.524823</td>\n",
       "      <td>29.0</td>\n",
       "      <td>38.0</td>\n",
       "      <td>720.0</td>\n",
       "      <td>1.5748</td>\n",
       "      <td>48.790420</td>\n",
       "      <td>0.763158</td>\n",
       "      <td>0</td>\n",
       "    </tr>\n",
       "    <tr>\n",
       "      <th>1</th>\n",
       "      <td>165.0</td>\n",
       "      <td>42</td>\n",
       "      <td>24.0</td>\n",
       "      <td>6.9</td>\n",
       "      <td>4.440000</td>\n",
       "      <td>10</td>\n",
       "      <td>0</td>\n",
       "      <td>218.0</td>\n",
       "      <td>0</td>\n",
       "      <td>152.382979</td>\n",
       "      <td>92.524823</td>\n",
       "      <td>46.0</td>\n",
       "      <td>48.0</td>\n",
       "      <td>360.0</td>\n",
       "      <td>1.6256</td>\n",
       "      <td>82.495282</td>\n",
       "      <td>0.958333</td>\n",
       "      <td>0</td>\n",
       "    </tr>\n",
       "    <tr>\n",
       "      <th>2</th>\n",
       "      <td>228.0</td>\n",
       "      <td>37</td>\n",
       "      <td>37.0</td>\n",
       "      <td>6.2</td>\n",
       "      <td>4.640000</td>\n",
       "      <td>39</td>\n",
       "      <td>0</td>\n",
       "      <td>256.0</td>\n",
       "      <td>0</td>\n",
       "      <td>185.000000</td>\n",
       "      <td>92.000000</td>\n",
       "      <td>49.0</td>\n",
       "      <td>57.0</td>\n",
       "      <td>180.0</td>\n",
       "      <td>1.5494</td>\n",
       "      <td>106.638214</td>\n",
       "      <td>0.859649</td>\n",
       "      <td>0</td>\n",
       "    </tr>\n",
       "    <tr>\n",
       "      <th>3</th>\n",
       "      <td>78.0</td>\n",
       "      <td>38</td>\n",
       "      <td>12.0</td>\n",
       "      <td>6.5</td>\n",
       "      <td>4.630000</td>\n",
       "      <td>48</td>\n",
       "      <td>1</td>\n",
       "      <td>119.0</td>\n",
       "      <td>0</td>\n",
       "      <td>152.382979</td>\n",
       "      <td>92.524823</td>\n",
       "      <td>33.0</td>\n",
       "      <td>38.0</td>\n",
       "      <td>480.0</td>\n",
       "      <td>1.7018</td>\n",
       "      <td>41.089412</td>\n",
       "      <td>0.868421</td>\n",
       "      <td>0</td>\n",
       "    </tr>\n",
       "    <tr>\n",
       "      <th>4</th>\n",
       "      <td>249.0</td>\n",
       "      <td>35</td>\n",
       "      <td>28.0</td>\n",
       "      <td>8.9</td>\n",
       "      <td>7.720000</td>\n",
       "      <td>45</td>\n",
       "      <td>1</td>\n",
       "      <td>183.0</td>\n",
       "      <td>1</td>\n",
       "      <td>152.382979</td>\n",
       "      <td>92.524823</td>\n",
       "      <td>44.0</td>\n",
       "      <td>41.0</td>\n",
       "      <td>300.0</td>\n",
       "      <td>1.7272</td>\n",
       "      <td>61.343116</td>\n",
       "      <td>1.073171</td>\n",
       "      <td>1</td>\n",
       "    </tr>\n",
       "    <tr>\n",
       "      <th>...</th>\n",
       "      <td>...</td>\n",
       "      <td>...</td>\n",
       "      <td>...</td>\n",
       "      <td>...</td>\n",
       "      <td>...</td>\n",
       "      <td>...</td>\n",
       "      <td>...</td>\n",
       "      <td>...</td>\n",
       "      <td>...</td>\n",
       "      <td>...</td>\n",
       "      <td>...</td>\n",
       "      <td>...</td>\n",
       "      <td>...</td>\n",
       "      <td>...</td>\n",
       "      <td>...</td>\n",
       "      <td>...</td>\n",
       "      <td>...</td>\n",
       "      <td>...</td>\n",
       "    </tr>\n",
       "    <tr>\n",
       "      <th>398</th>\n",
       "      <td>296.0</td>\n",
       "      <td>113</td>\n",
       "      <td>46.0</td>\n",
       "      <td>6.4</td>\n",
       "      <td>16.110001</td>\n",
       "      <td>34</td>\n",
       "      <td>1</td>\n",
       "      <td>173.0</td>\n",
       "      <td>1</td>\n",
       "      <td>130.000000</td>\n",
       "      <td>94.000000</td>\n",
       "      <td>35.0</td>\n",
       "      <td>39.0</td>\n",
       "      <td>210.0</td>\n",
       "      <td>1.7526</td>\n",
       "      <td>56.322314</td>\n",
       "      <td>0.897436</td>\n",
       "      <td>1</td>\n",
       "    </tr>\n",
       "    <tr>\n",
       "      <th>399</th>\n",
       "      <td>284.0</td>\n",
       "      <td>34</td>\n",
       "      <td>54.0</td>\n",
       "      <td>5.3</td>\n",
       "      <td>4.390000</td>\n",
       "      <td>32</td>\n",
       "      <td>0</td>\n",
       "      <td>154.0</td>\n",
       "      <td>1</td>\n",
       "      <td>146.000000</td>\n",
       "      <td>102.000000</td>\n",
       "      <td>32.0</td>\n",
       "      <td>43.0</td>\n",
       "      <td>180.0</td>\n",
       "      <td>1.6002</td>\n",
       "      <td>60.141214</td>\n",
       "      <td>0.744186</td>\n",
       "      <td>0</td>\n",
       "    </tr>\n",
       "    <tr>\n",
       "      <th>400</th>\n",
       "      <td>194.0</td>\n",
       "      <td>105</td>\n",
       "      <td>38.0</td>\n",
       "      <td>5.1</td>\n",
       "      <td>13.630000</td>\n",
       "      <td>10</td>\n",
       "      <td>0</td>\n",
       "      <td>167.0</td>\n",
       "      <td>2</td>\n",
       "      <td>152.382979</td>\n",
       "      <td>92.524823</td>\n",
       "      <td>33.0</td>\n",
       "      <td>40.0</td>\n",
       "      <td>20.0</td>\n",
       "      <td>1.7526</td>\n",
       "      <td>54.368939</td>\n",
       "      <td>0.825000</td>\n",
       "      <td>1</td>\n",
       "    </tr>\n",
       "    <tr>\n",
       "      <th>401</th>\n",
       "      <td>199.0</td>\n",
       "      <td>21</td>\n",
       "      <td>52.0</td>\n",
       "      <td>3.8</td>\n",
       "      <td>4.490000</td>\n",
       "      <td>22</td>\n",
       "      <td>0</td>\n",
       "      <td>197.0</td>\n",
       "      <td>1</td>\n",
       "      <td>152.382979</td>\n",
       "      <td>92.524823</td>\n",
       "      <td>41.0</td>\n",
       "      <td>48.0</td>\n",
       "      <td>255.0</td>\n",
       "      <td>1.6002</td>\n",
       "      <td>76.933890</td>\n",
       "      <td>0.854167</td>\n",
       "      <td>0</td>\n",
       "    </tr>\n",
       "    <tr>\n",
       "      <th>402</th>\n",
       "      <td>159.0</td>\n",
       "      <td>33</td>\n",
       "      <td>79.0</td>\n",
       "      <td>2.0</td>\n",
       "      <td>5.589769</td>\n",
       "      <td>49</td>\n",
       "      <td>0</td>\n",
       "      <td>220.0</td>\n",
       "      <td>1</td>\n",
       "      <td>152.382979</td>\n",
       "      <td>92.524823</td>\n",
       "      <td>49.0</td>\n",
       "      <td>58.0</td>\n",
       "      <td>900.0</td>\n",
       "      <td>1.6256</td>\n",
       "      <td>83.252120</td>\n",
       "      <td>0.844828</td>\n",
       "      <td>1</td>\n",
       "    </tr>\n",
       "  </tbody>\n",
       "</table>\n",
       "<p>403 rows × 18 columns</p>\n",
       "</div>"
      ],
      "text/plain": [
       "      chol  stab.glu   hdl  ratio      glyhb  age  gender  weight  frame  \\\n",
       "0    203.0        27  56.0    3.6   4.310000   27       0   121.0      1   \n",
       "1    165.0        42  24.0    6.9   4.440000   10       0   218.0      0   \n",
       "2    228.0        37  37.0    6.2   4.640000   39       0   256.0      0   \n",
       "3     78.0        38  12.0    6.5   4.630000   48       1   119.0      0   \n",
       "4    249.0        35  28.0    8.9   7.720000   45       1   183.0      1   \n",
       "..     ...       ...   ...    ...        ...  ...     ...     ...    ...   \n",
       "398  296.0       113  46.0    6.4  16.110001   34       1   173.0      1   \n",
       "399  284.0        34  54.0    5.3   4.390000   32       0   154.0      1   \n",
       "400  194.0       105  38.0    5.1  13.630000   10       0   167.0      2   \n",
       "401  199.0        21  52.0    3.8   4.490000   22       0   197.0      1   \n",
       "402  159.0        33  79.0    2.0   5.589769   49       0   220.0      1   \n",
       "\n",
       "          bp.2s       bp.2d  waist   hip  time.ppn  height_meters         BMI  \\\n",
       "0    152.382979   92.524823   29.0  38.0     720.0         1.5748   48.790420   \n",
       "1    152.382979   92.524823   46.0  48.0     360.0         1.6256   82.495282   \n",
       "2    185.000000   92.000000   49.0  57.0     180.0         1.5494  106.638214   \n",
       "3    152.382979   92.524823   33.0  38.0     480.0         1.7018   41.089412   \n",
       "4    152.382979   92.524823   44.0  41.0     300.0         1.7272   61.343116   \n",
       "..          ...         ...    ...   ...       ...            ...         ...   \n",
       "398  130.000000   94.000000   35.0  39.0     210.0         1.7526   56.322314   \n",
       "399  146.000000  102.000000   32.0  43.0     180.0         1.6002   60.141214   \n",
       "400  152.382979   92.524823   33.0  40.0      20.0         1.7526   54.368939   \n",
       "401  152.382979   92.524823   41.0  48.0     255.0         1.6002   76.933890   \n",
       "402  152.382979   92.524823   49.0  58.0     900.0         1.6256   83.252120   \n",
       "\n",
       "     hip_waist_ratio  diabetic  \n",
       "0           0.763158         0  \n",
       "1           0.958333         0  \n",
       "2           0.859649         0  \n",
       "3           0.868421         0  \n",
       "4           1.073171         1  \n",
       "..               ...       ...  \n",
       "398         0.897436         1  \n",
       "399         0.744186         0  \n",
       "400         0.825000         1  \n",
       "401         0.854167         0  \n",
       "402         0.844828         1  \n",
       "\n",
       "[403 rows x 18 columns]"
      ]
     },
     "execution_count": 91,
     "metadata": {},
     "output_type": "execute_result"
    }
   ],
   "source": [
    "cols = ['id', 'bp.1s', 'bp.1d', 'height', 'location']\n",
    "\n",
    "df_raw.drop(columns=cols)"
   ]
  },
  {
   "cell_type": "code",
   "execution_count": 92,
   "metadata": {},
   "outputs": [
    {
     "data": {
      "text/plain": [
       "Index(['id', 'chol', 'stab.glu', 'hdl', 'ratio', 'glyhb', 'location', 'age',\n",
       "       'gender', 'height', 'weight', 'frame', 'bp.1s', 'bp.1d', 'bp.2s',\n",
       "       'bp.2d', 'waist', 'hip', 'time.ppn', 'height_meters', 'BMI',\n",
       "       'hip_waist_ratio', 'diabetic'],\n",
       "      dtype='object')"
      ]
     },
     "execution_count": 92,
     "metadata": {},
     "output_type": "execute_result"
    }
   ],
   "source": [
    "df_raw.columns"
   ]
  },
  {
   "cell_type": "code",
   "execution_count": 93,
   "metadata": {},
   "outputs": [],
   "source": [
    "df_raw.to_csv('diabetes_dropped_imputed_encoded.csv', index=None)"
   ]
  },
  {
   "cell_type": "code",
   "execution_count": 94,
   "metadata": {},
   "outputs": [],
   "source": [
    "#saving the final dataset of prepared data for use in the modelling process.\n",
    "df_import = pd.read_csv('../datasets/diabetes_dropped_imputed_encoded.csv')"
   ]
  },
  {
   "cell_type": "code",
   "execution_count": 95,
   "metadata": {},
   "outputs": [
    {
     "data": {
      "text/html": [
       "<div>\n",
       "<style scoped>\n",
       "    .dataframe tbody tr th:only-of-type {\n",
       "        vertical-align: middle;\n",
       "    }\n",
       "\n",
       "    .dataframe tbody tr th {\n",
       "        vertical-align: top;\n",
       "    }\n",
       "\n",
       "    .dataframe thead th {\n",
       "        text-align: right;\n",
       "    }\n",
       "</style>\n",
       "<table border=\"1\" class=\"dataframe\">\n",
       "  <thead>\n",
       "    <tr style=\"text-align: right;\">\n",
       "      <th></th>\n",
       "      <th>id</th>\n",
       "      <th>chol</th>\n",
       "      <th>stab.glu</th>\n",
       "      <th>hdl</th>\n",
       "      <th>ratio</th>\n",
       "      <th>glyhb</th>\n",
       "      <th>location</th>\n",
       "      <th>age</th>\n",
       "      <th>gender</th>\n",
       "      <th>height</th>\n",
       "      <th>...</th>\n",
       "      <th>bp.1d</th>\n",
       "      <th>bp.2s</th>\n",
       "      <th>bp.2d</th>\n",
       "      <th>waist</th>\n",
       "      <th>hip</th>\n",
       "      <th>time.ppn</th>\n",
       "      <th>height_meters</th>\n",
       "      <th>BMI</th>\n",
       "      <th>hip_waist_ratio</th>\n",
       "      <th>diabetic</th>\n",
       "    </tr>\n",
       "  </thead>\n",
       "  <tbody>\n",
       "    <tr>\n",
       "      <th>0</th>\n",
       "      <td>0</td>\n",
       "      <td>203.0</td>\n",
       "      <td>27</td>\n",
       "      <td>56.0</td>\n",
       "      <td>3.6</td>\n",
       "      <td>4.310000</td>\n",
       "      <td>0</td>\n",
       "      <td>27</td>\n",
       "      <td>0</td>\n",
       "      <td>62.0</td>\n",
       "      <td>...</td>\n",
       "      <td>59.0</td>\n",
       "      <td>152.382979</td>\n",
       "      <td>92.524823</td>\n",
       "      <td>29.0</td>\n",
       "      <td>38.0</td>\n",
       "      <td>720.0</td>\n",
       "      <td>1.5748</td>\n",
       "      <td>48.790420</td>\n",
       "      <td>0.763158</td>\n",
       "      <td>0</td>\n",
       "    </tr>\n",
       "    <tr>\n",
       "      <th>1</th>\n",
       "      <td>1</td>\n",
       "      <td>165.0</td>\n",
       "      <td>42</td>\n",
       "      <td>24.0</td>\n",
       "      <td>6.9</td>\n",
       "      <td>4.440000</td>\n",
       "      <td>0</td>\n",
       "      <td>10</td>\n",
       "      <td>0</td>\n",
       "      <td>64.0</td>\n",
       "      <td>...</td>\n",
       "      <td>68.0</td>\n",
       "      <td>152.382979</td>\n",
       "      <td>92.524823</td>\n",
       "      <td>46.0</td>\n",
       "      <td>48.0</td>\n",
       "      <td>360.0</td>\n",
       "      <td>1.6256</td>\n",
       "      <td>82.495282</td>\n",
       "      <td>0.958333</td>\n",
       "      <td>0</td>\n",
       "    </tr>\n",
       "    <tr>\n",
       "      <th>2</th>\n",
       "      <td>2</td>\n",
       "      <td>228.0</td>\n",
       "      <td>37</td>\n",
       "      <td>37.0</td>\n",
       "      <td>6.2</td>\n",
       "      <td>4.640000</td>\n",
       "      <td>0</td>\n",
       "      <td>39</td>\n",
       "      <td>0</td>\n",
       "      <td>61.0</td>\n",
       "      <td>...</td>\n",
       "      <td>92.0</td>\n",
       "      <td>185.000000</td>\n",
       "      <td>92.000000</td>\n",
       "      <td>49.0</td>\n",
       "      <td>57.0</td>\n",
       "      <td>180.0</td>\n",
       "      <td>1.5494</td>\n",
       "      <td>106.638214</td>\n",
       "      <td>0.859649</td>\n",
       "      <td>0</td>\n",
       "    </tr>\n",
       "    <tr>\n",
       "      <th>3</th>\n",
       "      <td>3</td>\n",
       "      <td>78.0</td>\n",
       "      <td>38</td>\n",
       "      <td>12.0</td>\n",
       "      <td>6.5</td>\n",
       "      <td>4.630000</td>\n",
       "      <td>0</td>\n",
       "      <td>48</td>\n",
       "      <td>1</td>\n",
       "      <td>67.0</td>\n",
       "      <td>...</td>\n",
       "      <td>50.0</td>\n",
       "      <td>152.382979</td>\n",
       "      <td>92.524823</td>\n",
       "      <td>33.0</td>\n",
       "      <td>38.0</td>\n",
       "      <td>480.0</td>\n",
       "      <td>1.7018</td>\n",
       "      <td>41.089412</td>\n",
       "      <td>0.868421</td>\n",
       "      <td>0</td>\n",
       "    </tr>\n",
       "    <tr>\n",
       "      <th>4</th>\n",
       "      <td>4</td>\n",
       "      <td>249.0</td>\n",
       "      <td>35</td>\n",
       "      <td>28.0</td>\n",
       "      <td>8.9</td>\n",
       "      <td>7.720000</td>\n",
       "      <td>0</td>\n",
       "      <td>45</td>\n",
       "      <td>1</td>\n",
       "      <td>68.0</td>\n",
       "      <td>...</td>\n",
       "      <td>80.0</td>\n",
       "      <td>152.382979</td>\n",
       "      <td>92.524823</td>\n",
       "      <td>44.0</td>\n",
       "      <td>41.0</td>\n",
       "      <td>300.0</td>\n",
       "      <td>1.7272</td>\n",
       "      <td>61.343116</td>\n",
       "      <td>1.073171</td>\n",
       "      <td>1</td>\n",
       "    </tr>\n",
       "    <tr>\n",
       "      <th>...</th>\n",
       "      <td>...</td>\n",
       "      <td>...</td>\n",
       "      <td>...</td>\n",
       "      <td>...</td>\n",
       "      <td>...</td>\n",
       "      <td>...</td>\n",
       "      <td>...</td>\n",
       "      <td>...</td>\n",
       "      <td>...</td>\n",
       "      <td>...</td>\n",
       "      <td>...</td>\n",
       "      <td>...</td>\n",
       "      <td>...</td>\n",
       "      <td>...</td>\n",
       "      <td>...</td>\n",
       "      <td>...</td>\n",
       "      <td>...</td>\n",
       "      <td>...</td>\n",
       "      <td>...</td>\n",
       "      <td>...</td>\n",
       "      <td>...</td>\n",
       "    </tr>\n",
       "    <tr>\n",
       "      <th>398</th>\n",
       "      <td>398</td>\n",
       "      <td>296.0</td>\n",
       "      <td>113</td>\n",
       "      <td>46.0</td>\n",
       "      <td>6.4</td>\n",
       "      <td>16.110001</td>\n",
       "      <td>1</td>\n",
       "      <td>34</td>\n",
       "      <td>1</td>\n",
       "      <td>69.0</td>\n",
       "      <td>...</td>\n",
       "      <td>94.0</td>\n",
       "      <td>130.000000</td>\n",
       "      <td>94.000000</td>\n",
       "      <td>35.0</td>\n",
       "      <td>39.0</td>\n",
       "      <td>210.0</td>\n",
       "      <td>1.7526</td>\n",
       "      <td>56.322314</td>\n",
       "      <td>0.897436</td>\n",
       "      <td>1</td>\n",
       "    </tr>\n",
       "    <tr>\n",
       "      <th>399</th>\n",
       "      <td>399</td>\n",
       "      <td>284.0</td>\n",
       "      <td>34</td>\n",
       "      <td>54.0</td>\n",
       "      <td>5.3</td>\n",
       "      <td>4.390000</td>\n",
       "      <td>1</td>\n",
       "      <td>32</td>\n",
       "      <td>0</td>\n",
       "      <td>63.0</td>\n",
       "      <td>...</td>\n",
       "      <td>100.0</td>\n",
       "      <td>146.000000</td>\n",
       "      <td>102.000000</td>\n",
       "      <td>32.0</td>\n",
       "      <td>43.0</td>\n",
       "      <td>180.0</td>\n",
       "      <td>1.6002</td>\n",
       "      <td>60.141214</td>\n",
       "      <td>0.744186</td>\n",
       "      <td>0</td>\n",
       "    </tr>\n",
       "    <tr>\n",
       "      <th>400</th>\n",
       "      <td>400</td>\n",
       "      <td>194.0</td>\n",
       "      <td>105</td>\n",
       "      <td>38.0</td>\n",
       "      <td>5.1</td>\n",
       "      <td>13.630000</td>\n",
       "      <td>1</td>\n",
       "      <td>10</td>\n",
       "      <td>0</td>\n",
       "      <td>69.0</td>\n",
       "      <td>...</td>\n",
       "      <td>70.0</td>\n",
       "      <td>152.382979</td>\n",
       "      <td>92.524823</td>\n",
       "      <td>33.0</td>\n",
       "      <td>40.0</td>\n",
       "      <td>20.0</td>\n",
       "      <td>1.7526</td>\n",
       "      <td>54.368939</td>\n",
       "      <td>0.825000</td>\n",
       "      <td>1</td>\n",
       "    </tr>\n",
       "    <tr>\n",
       "      <th>401</th>\n",
       "      <td>401</td>\n",
       "      <td>199.0</td>\n",
       "      <td>21</td>\n",
       "      <td>52.0</td>\n",
       "      <td>3.8</td>\n",
       "      <td>4.490000</td>\n",
       "      <td>1</td>\n",
       "      <td>22</td>\n",
       "      <td>0</td>\n",
       "      <td>63.0</td>\n",
       "      <td>...</td>\n",
       "      <td>78.0</td>\n",
       "      <td>152.382979</td>\n",
       "      <td>92.524823</td>\n",
       "      <td>41.0</td>\n",
       "      <td>48.0</td>\n",
       "      <td>255.0</td>\n",
       "      <td>1.6002</td>\n",
       "      <td>76.933890</td>\n",
       "      <td>0.854167</td>\n",
       "      <td>0</td>\n",
       "    </tr>\n",
       "    <tr>\n",
       "      <th>402</th>\n",
       "      <td>402</td>\n",
       "      <td>159.0</td>\n",
       "      <td>33</td>\n",
       "      <td>79.0</td>\n",
       "      <td>2.0</td>\n",
       "      <td>5.589769</td>\n",
       "      <td>1</td>\n",
       "      <td>49</td>\n",
       "      <td>0</td>\n",
       "      <td>64.0</td>\n",
       "      <td>...</td>\n",
       "      <td>72.0</td>\n",
       "      <td>152.382979</td>\n",
       "      <td>92.524823</td>\n",
       "      <td>49.0</td>\n",
       "      <td>58.0</td>\n",
       "      <td>900.0</td>\n",
       "      <td>1.6256</td>\n",
       "      <td>83.252120</td>\n",
       "      <td>0.844828</td>\n",
       "      <td>1</td>\n",
       "    </tr>\n",
       "  </tbody>\n",
       "</table>\n",
       "<p>403 rows × 23 columns</p>\n",
       "</div>"
      ],
      "text/plain": [
       "      id   chol  stab.glu   hdl  ratio      glyhb  location  age  gender  \\\n",
       "0      0  203.0        27  56.0    3.6   4.310000         0   27       0   \n",
       "1      1  165.0        42  24.0    6.9   4.440000         0   10       0   \n",
       "2      2  228.0        37  37.0    6.2   4.640000         0   39       0   \n",
       "3      3   78.0        38  12.0    6.5   4.630000         0   48       1   \n",
       "4      4  249.0        35  28.0    8.9   7.720000         0   45       1   \n",
       "..   ...    ...       ...   ...    ...        ...       ...  ...     ...   \n",
       "398  398  296.0       113  46.0    6.4  16.110001         1   34       1   \n",
       "399  399  284.0        34  54.0    5.3   4.390000         1   32       0   \n",
       "400  400  194.0       105  38.0    5.1  13.630000         1   10       0   \n",
       "401  401  199.0        21  52.0    3.8   4.490000         1   22       0   \n",
       "402  402  159.0        33  79.0    2.0   5.589769         1   49       0   \n",
       "\n",
       "     height  ...  bp.1d       bp.2s       bp.2d  waist   hip  time.ppn  \\\n",
       "0      62.0  ...   59.0  152.382979   92.524823   29.0  38.0     720.0   \n",
       "1      64.0  ...   68.0  152.382979   92.524823   46.0  48.0     360.0   \n",
       "2      61.0  ...   92.0  185.000000   92.000000   49.0  57.0     180.0   \n",
       "3      67.0  ...   50.0  152.382979   92.524823   33.0  38.0     480.0   \n",
       "4      68.0  ...   80.0  152.382979   92.524823   44.0  41.0     300.0   \n",
       "..      ...  ...    ...         ...         ...    ...   ...       ...   \n",
       "398    69.0  ...   94.0  130.000000   94.000000   35.0  39.0     210.0   \n",
       "399    63.0  ...  100.0  146.000000  102.000000   32.0  43.0     180.0   \n",
       "400    69.0  ...   70.0  152.382979   92.524823   33.0  40.0      20.0   \n",
       "401    63.0  ...   78.0  152.382979   92.524823   41.0  48.0     255.0   \n",
       "402    64.0  ...   72.0  152.382979   92.524823   49.0  58.0     900.0   \n",
       "\n",
       "     height_meters         BMI  hip_waist_ratio  diabetic  \n",
       "0           1.5748   48.790420         0.763158         0  \n",
       "1           1.6256   82.495282         0.958333         0  \n",
       "2           1.5494  106.638214         0.859649         0  \n",
       "3           1.7018   41.089412         0.868421         0  \n",
       "4           1.7272   61.343116         1.073171         1  \n",
       "..             ...         ...              ...       ...  \n",
       "398         1.7526   56.322314         0.897436         1  \n",
       "399         1.6002   60.141214         0.744186         0  \n",
       "400         1.7526   54.368939         0.825000         1  \n",
       "401         1.6002   76.933890         0.854167         0  \n",
       "402         1.6256   83.252120         0.844828         1  \n",
       "\n",
       "[403 rows x 23 columns]"
      ]
     },
     "execution_count": 95,
     "metadata": {},
     "output_type": "execute_result"
    }
   ],
   "source": [
    "df_import"
   ]
  },
  {
   "cell_type": "code",
   "execution_count": null,
   "metadata": {},
   "outputs": [],
   "source": []
  }
 ],
 "metadata": {
  "interpreter": {
   "hash": "69eb92836b941e979072a76c7fcfffe5419cca933cedd02cfafbdfca1a93358c"
  },
  "kernelspec": {
   "display_name": "Python 3.9.10 64-bit",
   "language": "python",
   "name": "python3"
  },
  "language_info": {
   "codemirror_mode": {
    "name": "ipython",
    "version": 3
   },
   "file_extension": ".py",
   "mimetype": "text/x-python",
   "name": "python",
   "nbconvert_exporter": "python",
   "pygments_lexer": "ipython3",
   "version": "3.9.10"
  },
  "orig_nbformat": 4
 },
 "nbformat": 4,
 "nbformat_minor": 2
}
