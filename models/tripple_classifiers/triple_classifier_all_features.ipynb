{
 "cells": [
  {
   "cell_type": "markdown",
   "metadata": {},
   "source": [
    "THIS IS THE SECOND PART OF THE PROJECT. HERE WE WILL FIT THE THREE SELECTED MODELS ON THE ENTIRE DATASET WITHOUT\n",
    "ELIMINATING ANY FEATURES AND COMPARE THE OUTCOMES TO STEP THREE WHICH EMPLOYS ONLY PART OF THE FEATURES. \n",
    "\n",
    "WE WILL VARY THE AMOUNT OF DATA USED IN TESTING THE MODEL AND SEE HOW IT AFFECTS THE PERFORMANCE OF THE MODELS\n",
    "WE WILL USE 30% TRAINING DATA IN THE FIRST CYCLE AND USE 20% TRAINING DATA IN THE SECOND CYCLE.\n",
    "\n",
    "RESULTS FOR EACH CYCLE ARE SHOWN IN THE LAST CELL"
   ]
  },
  {
   "cell_type": "code",
   "execution_count": 19,
   "metadata": {},
   "outputs": [],
   "source": [
    "#import requisite libraries and packages for the project\n",
    "import pandas as pd\n",
    "import numpy as np\n",
    "from sklearn.ensemble import RandomForestClassifier\n",
    "from sklearn.svm import SVC\n",
    "from xgboost import XGBClassifier\n",
    "\n",
    "from sklearn.metrics import classification_report\n",
    "from sklearn.metrics import mean_absolute_error\n",
    "from sklearn.metrics import mean_squared_error\n",
    "from sklearn.metrics import roc_auc_score\n",
    "from sklearn.metrics import confusion_matrix\n",
    "\n",
    "from sklearn.model_selection import train_test_split\n",
    "from sklearn.preprocessing import StandardScaler"
   ]
  },
  {
   "cell_type": "code",
   "execution_count": 5,
   "metadata": {},
   "outputs": [],
   "source": [
    "#load the final clean, imputed and encoded dataset from the previous process\n",
    "df_1 = pd.read_csv('../datasets/diabetes_dropped_imputed_encoded.csv')"
   ]
  },
  {
   "cell_type": "markdown",
   "metadata": {},
   "source": [
    "exploring the dataset to ensure it was not corrupted \n"
   ]
  },
  {
   "cell_type": "code",
   "execution_count": 6,
   "metadata": {},
   "outputs": [
    {
     "data": {
      "text/html": [
       "<div>\n",
       "<style scoped>\n",
       "    .dataframe tbody tr th:only-of-type {\n",
       "        vertical-align: middle;\n",
       "    }\n",
       "\n",
       "    .dataframe tbody tr th {\n",
       "        vertical-align: top;\n",
       "    }\n",
       "\n",
       "    .dataframe thead th {\n",
       "        text-align: right;\n",
       "    }\n",
       "</style>\n",
       "<table border=\"1\" class=\"dataframe\">\n",
       "  <thead>\n",
       "    <tr style=\"text-align: right;\">\n",
       "      <th></th>\n",
       "      <th>id</th>\n",
       "      <th>chol</th>\n",
       "      <th>stab.glu</th>\n",
       "      <th>hdl</th>\n",
       "      <th>ratio</th>\n",
       "      <th>glyhb</th>\n",
       "      <th>location</th>\n",
       "      <th>age</th>\n",
       "      <th>gender</th>\n",
       "      <th>height</th>\n",
       "      <th>...</th>\n",
       "      <th>bp.1d</th>\n",
       "      <th>bp.2s</th>\n",
       "      <th>bp.2d</th>\n",
       "      <th>waist</th>\n",
       "      <th>hip</th>\n",
       "      <th>time.ppn</th>\n",
       "      <th>height_meters</th>\n",
       "      <th>BMI</th>\n",
       "      <th>hip_waist_ratio</th>\n",
       "      <th>diabetic</th>\n",
       "    </tr>\n",
       "  </thead>\n",
       "  <tbody>\n",
       "    <tr>\n",
       "      <th>0</th>\n",
       "      <td>0</td>\n",
       "      <td>203.0</td>\n",
       "      <td>27</td>\n",
       "      <td>56.0</td>\n",
       "      <td>3.6</td>\n",
       "      <td>4.310000</td>\n",
       "      <td>0</td>\n",
       "      <td>27</td>\n",
       "      <td>0</td>\n",
       "      <td>62.0</td>\n",
       "      <td>...</td>\n",
       "      <td>59.0</td>\n",
       "      <td>152.382979</td>\n",
       "      <td>92.524823</td>\n",
       "      <td>29.0</td>\n",
       "      <td>38.0</td>\n",
       "      <td>720.0</td>\n",
       "      <td>1.5748</td>\n",
       "      <td>48.790420</td>\n",
       "      <td>0.763158</td>\n",
       "      <td>0</td>\n",
       "    </tr>\n",
       "    <tr>\n",
       "      <th>1</th>\n",
       "      <td>1</td>\n",
       "      <td>165.0</td>\n",
       "      <td>42</td>\n",
       "      <td>24.0</td>\n",
       "      <td>6.9</td>\n",
       "      <td>4.440000</td>\n",
       "      <td>0</td>\n",
       "      <td>10</td>\n",
       "      <td>0</td>\n",
       "      <td>64.0</td>\n",
       "      <td>...</td>\n",
       "      <td>68.0</td>\n",
       "      <td>152.382979</td>\n",
       "      <td>92.524823</td>\n",
       "      <td>46.0</td>\n",
       "      <td>48.0</td>\n",
       "      <td>360.0</td>\n",
       "      <td>1.6256</td>\n",
       "      <td>82.495282</td>\n",
       "      <td>0.958333</td>\n",
       "      <td>0</td>\n",
       "    </tr>\n",
       "    <tr>\n",
       "      <th>2</th>\n",
       "      <td>2</td>\n",
       "      <td>228.0</td>\n",
       "      <td>37</td>\n",
       "      <td>37.0</td>\n",
       "      <td>6.2</td>\n",
       "      <td>4.640000</td>\n",
       "      <td>0</td>\n",
       "      <td>39</td>\n",
       "      <td>0</td>\n",
       "      <td>61.0</td>\n",
       "      <td>...</td>\n",
       "      <td>92.0</td>\n",
       "      <td>185.000000</td>\n",
       "      <td>92.000000</td>\n",
       "      <td>49.0</td>\n",
       "      <td>57.0</td>\n",
       "      <td>180.0</td>\n",
       "      <td>1.5494</td>\n",
       "      <td>106.638214</td>\n",
       "      <td>0.859649</td>\n",
       "      <td>0</td>\n",
       "    </tr>\n",
       "    <tr>\n",
       "      <th>3</th>\n",
       "      <td>3</td>\n",
       "      <td>78.0</td>\n",
       "      <td>38</td>\n",
       "      <td>12.0</td>\n",
       "      <td>6.5</td>\n",
       "      <td>4.630000</td>\n",
       "      <td>0</td>\n",
       "      <td>48</td>\n",
       "      <td>1</td>\n",
       "      <td>67.0</td>\n",
       "      <td>...</td>\n",
       "      <td>50.0</td>\n",
       "      <td>152.382979</td>\n",
       "      <td>92.524823</td>\n",
       "      <td>33.0</td>\n",
       "      <td>38.0</td>\n",
       "      <td>480.0</td>\n",
       "      <td>1.7018</td>\n",
       "      <td>41.089412</td>\n",
       "      <td>0.868421</td>\n",
       "      <td>0</td>\n",
       "    </tr>\n",
       "    <tr>\n",
       "      <th>4</th>\n",
       "      <td>4</td>\n",
       "      <td>249.0</td>\n",
       "      <td>35</td>\n",
       "      <td>28.0</td>\n",
       "      <td>8.9</td>\n",
       "      <td>7.720000</td>\n",
       "      <td>0</td>\n",
       "      <td>45</td>\n",
       "      <td>1</td>\n",
       "      <td>68.0</td>\n",
       "      <td>...</td>\n",
       "      <td>80.0</td>\n",
       "      <td>152.382979</td>\n",
       "      <td>92.524823</td>\n",
       "      <td>44.0</td>\n",
       "      <td>41.0</td>\n",
       "      <td>300.0</td>\n",
       "      <td>1.7272</td>\n",
       "      <td>61.343116</td>\n",
       "      <td>1.073171</td>\n",
       "      <td>1</td>\n",
       "    </tr>\n",
       "    <tr>\n",
       "      <th>...</th>\n",
       "      <td>...</td>\n",
       "      <td>...</td>\n",
       "      <td>...</td>\n",
       "      <td>...</td>\n",
       "      <td>...</td>\n",
       "      <td>...</td>\n",
       "      <td>...</td>\n",
       "      <td>...</td>\n",
       "      <td>...</td>\n",
       "      <td>...</td>\n",
       "      <td>...</td>\n",
       "      <td>...</td>\n",
       "      <td>...</td>\n",
       "      <td>...</td>\n",
       "      <td>...</td>\n",
       "      <td>...</td>\n",
       "      <td>...</td>\n",
       "      <td>...</td>\n",
       "      <td>...</td>\n",
       "      <td>...</td>\n",
       "      <td>...</td>\n",
       "    </tr>\n",
       "    <tr>\n",
       "      <th>398</th>\n",
       "      <td>398</td>\n",
       "      <td>296.0</td>\n",
       "      <td>113</td>\n",
       "      <td>46.0</td>\n",
       "      <td>6.4</td>\n",
       "      <td>16.110001</td>\n",
       "      <td>1</td>\n",
       "      <td>34</td>\n",
       "      <td>1</td>\n",
       "      <td>69.0</td>\n",
       "      <td>...</td>\n",
       "      <td>94.0</td>\n",
       "      <td>130.000000</td>\n",
       "      <td>94.000000</td>\n",
       "      <td>35.0</td>\n",
       "      <td>39.0</td>\n",
       "      <td>210.0</td>\n",
       "      <td>1.7526</td>\n",
       "      <td>56.322314</td>\n",
       "      <td>0.897436</td>\n",
       "      <td>1</td>\n",
       "    </tr>\n",
       "    <tr>\n",
       "      <th>399</th>\n",
       "      <td>399</td>\n",
       "      <td>284.0</td>\n",
       "      <td>34</td>\n",
       "      <td>54.0</td>\n",
       "      <td>5.3</td>\n",
       "      <td>4.390000</td>\n",
       "      <td>1</td>\n",
       "      <td>32</td>\n",
       "      <td>0</td>\n",
       "      <td>63.0</td>\n",
       "      <td>...</td>\n",
       "      <td>100.0</td>\n",
       "      <td>146.000000</td>\n",
       "      <td>102.000000</td>\n",
       "      <td>32.0</td>\n",
       "      <td>43.0</td>\n",
       "      <td>180.0</td>\n",
       "      <td>1.6002</td>\n",
       "      <td>60.141214</td>\n",
       "      <td>0.744186</td>\n",
       "      <td>0</td>\n",
       "    </tr>\n",
       "    <tr>\n",
       "      <th>400</th>\n",
       "      <td>400</td>\n",
       "      <td>194.0</td>\n",
       "      <td>105</td>\n",
       "      <td>38.0</td>\n",
       "      <td>5.1</td>\n",
       "      <td>13.630000</td>\n",
       "      <td>1</td>\n",
       "      <td>10</td>\n",
       "      <td>0</td>\n",
       "      <td>69.0</td>\n",
       "      <td>...</td>\n",
       "      <td>70.0</td>\n",
       "      <td>152.382979</td>\n",
       "      <td>92.524823</td>\n",
       "      <td>33.0</td>\n",
       "      <td>40.0</td>\n",
       "      <td>20.0</td>\n",
       "      <td>1.7526</td>\n",
       "      <td>54.368939</td>\n",
       "      <td>0.825000</td>\n",
       "      <td>1</td>\n",
       "    </tr>\n",
       "    <tr>\n",
       "      <th>401</th>\n",
       "      <td>401</td>\n",
       "      <td>199.0</td>\n",
       "      <td>21</td>\n",
       "      <td>52.0</td>\n",
       "      <td>3.8</td>\n",
       "      <td>4.490000</td>\n",
       "      <td>1</td>\n",
       "      <td>22</td>\n",
       "      <td>0</td>\n",
       "      <td>63.0</td>\n",
       "      <td>...</td>\n",
       "      <td>78.0</td>\n",
       "      <td>152.382979</td>\n",
       "      <td>92.524823</td>\n",
       "      <td>41.0</td>\n",
       "      <td>48.0</td>\n",
       "      <td>255.0</td>\n",
       "      <td>1.6002</td>\n",
       "      <td>76.933890</td>\n",
       "      <td>0.854167</td>\n",
       "      <td>0</td>\n",
       "    </tr>\n",
       "    <tr>\n",
       "      <th>402</th>\n",
       "      <td>402</td>\n",
       "      <td>159.0</td>\n",
       "      <td>33</td>\n",
       "      <td>79.0</td>\n",
       "      <td>2.0</td>\n",
       "      <td>5.589769</td>\n",
       "      <td>1</td>\n",
       "      <td>49</td>\n",
       "      <td>0</td>\n",
       "      <td>64.0</td>\n",
       "      <td>...</td>\n",
       "      <td>72.0</td>\n",
       "      <td>152.382979</td>\n",
       "      <td>92.524823</td>\n",
       "      <td>49.0</td>\n",
       "      <td>58.0</td>\n",
       "      <td>900.0</td>\n",
       "      <td>1.6256</td>\n",
       "      <td>83.252120</td>\n",
       "      <td>0.844828</td>\n",
       "      <td>1</td>\n",
       "    </tr>\n",
       "  </tbody>\n",
       "</table>\n",
       "<p>403 rows × 23 columns</p>\n",
       "</div>"
      ],
      "text/plain": [
       "      id   chol  stab.glu   hdl  ratio      glyhb  location  age  gender  \\\n",
       "0      0  203.0        27  56.0    3.6   4.310000         0   27       0   \n",
       "1      1  165.0        42  24.0    6.9   4.440000         0   10       0   \n",
       "2      2  228.0        37  37.0    6.2   4.640000         0   39       0   \n",
       "3      3   78.0        38  12.0    6.5   4.630000         0   48       1   \n",
       "4      4  249.0        35  28.0    8.9   7.720000         0   45       1   \n",
       "..   ...    ...       ...   ...    ...        ...       ...  ...     ...   \n",
       "398  398  296.0       113  46.0    6.4  16.110001         1   34       1   \n",
       "399  399  284.0        34  54.0    5.3   4.390000         1   32       0   \n",
       "400  400  194.0       105  38.0    5.1  13.630000         1   10       0   \n",
       "401  401  199.0        21  52.0    3.8   4.490000         1   22       0   \n",
       "402  402  159.0        33  79.0    2.0   5.589769         1   49       0   \n",
       "\n",
       "     height  ...  bp.1d       bp.2s       bp.2d  waist   hip  time.ppn  \\\n",
       "0      62.0  ...   59.0  152.382979   92.524823   29.0  38.0     720.0   \n",
       "1      64.0  ...   68.0  152.382979   92.524823   46.0  48.0     360.0   \n",
       "2      61.0  ...   92.0  185.000000   92.000000   49.0  57.0     180.0   \n",
       "3      67.0  ...   50.0  152.382979   92.524823   33.0  38.0     480.0   \n",
       "4      68.0  ...   80.0  152.382979   92.524823   44.0  41.0     300.0   \n",
       "..      ...  ...    ...         ...         ...    ...   ...       ...   \n",
       "398    69.0  ...   94.0  130.000000   94.000000   35.0  39.0     210.0   \n",
       "399    63.0  ...  100.0  146.000000  102.000000   32.0  43.0     180.0   \n",
       "400    69.0  ...   70.0  152.382979   92.524823   33.0  40.0      20.0   \n",
       "401    63.0  ...   78.0  152.382979   92.524823   41.0  48.0     255.0   \n",
       "402    64.0  ...   72.0  152.382979   92.524823   49.0  58.0     900.0   \n",
       "\n",
       "     height_meters         BMI  hip_waist_ratio  diabetic  \n",
       "0           1.5748   48.790420         0.763158         0  \n",
       "1           1.6256   82.495282         0.958333         0  \n",
       "2           1.5494  106.638214         0.859649         0  \n",
       "3           1.7018   41.089412         0.868421         0  \n",
       "4           1.7272   61.343116         1.073171         1  \n",
       "..             ...         ...              ...       ...  \n",
       "398         1.7526   56.322314         0.897436         1  \n",
       "399         1.6002   60.141214         0.744186         0  \n",
       "400         1.7526   54.368939         0.825000         1  \n",
       "401         1.6002   76.933890         0.854167         0  \n",
       "402         1.6256   83.252120         0.844828         1  \n",
       "\n",
       "[403 rows x 23 columns]"
      ]
     },
     "execution_count": 6,
     "metadata": {},
     "output_type": "execute_result"
    }
   ],
   "source": [
    "#exploring the dataset to ensure it was not corrupted \n",
    "df_1"
   ]
  },
  {
   "cell_type": "code",
   "execution_count": 7,
   "metadata": {},
   "outputs": [
    {
     "data": {
      "text/plain": [
       "(403, 23)"
      ]
     },
     "execution_count": 7,
     "metadata": {},
     "output_type": "execute_result"
    }
   ],
   "source": [
    "df_1.shape"
   ]
  },
  {
   "cell_type": "code",
   "execution_count": 8,
   "metadata": {},
   "outputs": [
    {
     "data": {
      "text/plain": [
       "Index(['id', 'chol', 'stab.glu', 'hdl', 'ratio', 'glyhb', 'location', 'age',\n",
       "       'gender', 'height', 'weight', 'frame', 'bp.1s', 'bp.1d', 'bp.2s',\n",
       "       'bp.2d', 'waist', 'hip', 'time.ppn', 'height_meters', 'BMI',\n",
       "       'hip_waist_ratio', 'diabetic'],\n",
       "      dtype='object')"
      ]
     },
     "execution_count": 8,
     "metadata": {},
     "output_type": "execute_result"
    }
   ],
   "source": [
    "df_1.columns"
   ]
  },
  {
   "cell_type": "code",
   "execution_count": 9,
   "metadata": {},
   "outputs": [
    {
     "data": {
      "text/plain": [
       "False"
      ]
     },
     "execution_count": 9,
     "metadata": {},
     "output_type": "execute_result"
    }
   ],
   "source": [
    "df_1.isnull().values.any()"
   ]
  },
  {
   "cell_type": "code",
   "execution_count": 10,
   "metadata": {},
   "outputs": [
    {
     "data": {
      "text/plain": [
       "0"
      ]
     },
     "execution_count": 10,
     "metadata": {},
     "output_type": "execute_result"
    }
   ],
   "source": [
    "df_1.isnull().sum().sum()"
   ]
  },
  {
   "cell_type": "code",
   "execution_count": 14,
   "metadata": {},
   "outputs": [
    {
     "data": {
      "text/plain": [
       "Index(['id', 'chol', 'stab.glu', 'hdl', 'ratio', 'glyhb', 'location', 'age',\n",
       "       'gender', 'height', 'weight', 'frame', 'bp.1s', 'bp.1d', 'bp.2s',\n",
       "       'bp.2d', 'waist', 'hip', 'time.ppn', 'height_meters', 'BMI',\n",
       "       'hip_waist_ratio', 'diabetic'],\n",
       "      dtype='object')"
      ]
     },
     "execution_count": 14,
     "metadata": {},
     "output_type": "execute_result"
    }
   ],
   "source": [
    "df_1.columns"
   ]
  },
  {
   "cell_type": "code",
   "execution_count": 15,
   "metadata": {},
   "outputs": [],
   "source": [
    "#selecting the columns to be used for training the model\n",
    "#selecting the feature and the predictors of the model.\n",
    "#diabetic - a feature created in Part I is set as the y variable \n",
    "#all the other features will be used to predict y\n",
    "train_cols = ['chol', 'stab.glu', 'hdl', 'ratio', 'glyhb', 'age',\n",
    "       'gender', 'weight', 'frame', 'bp.1s', 'bp.1d', 'bp.2s',\n",
    "       'bp.2d', 'waist', 'hip', 'time.ppn', 'height_meters', 'BMI',\n",
    "       'hip_waist_ratio']\n",
    "\n",
    "x = df_1[train_cols]\n",
    "y = df_1['diabetic']"
   ]
  },
  {
   "cell_type": "code",
   "execution_count": 116,
   "metadata": {},
   "outputs": [],
   "source": [
    "#splitting the dataset into training and testing sets\n",
    "x_train, x_test, y_train, y_test = train_test_split(x, y, test_size=0.3, random_state=17)"
   ]
  },
  {
   "cell_type": "code",
   "execution_count": 117,
   "metadata": {},
   "outputs": [],
   "source": [
    "#scaling the data ensures faster training and improved scoring for machine learning models\n",
    "x_train_scaled =  StandardScaler().fit_transform(x_train)\n",
    "x_test_scaled = StandardScaler().fit_transform(x_test)"
   ]
  },
  {
   "cell_type": "code",
   "execution_count": 118,
   "metadata": {},
   "outputs": [],
   "source": [
    "#this function fits the three moels; RF, SVM and XGB\n",
    "def auto_train(x, y, model_alg):\n",
    "    if model_alg == 'rf':\n",
    "        model = RandomForestClassifier(random_state=30, n_estimators=100, max_features=8, max_depth=20)\n",
    "    elif model_alg == 'svm':\n",
    "        model = SVC(C=1, kernel='rbf', random_state=1)\n",
    "    elif model_alg == 'xgb':\n",
    "        model = XGBClassifier(use_label_encoder=False, objective='reg:logistic', colsample_bytree=0.8)\n",
    "        \n",
    "    model.fit(x_train_scaled, y_train)\n",
    "    \n",
    "    return model"
   ]
  },
  {
   "cell_type": "code",
   "execution_count": 119,
   "metadata": {},
   "outputs": [],
   "source": [
    "#this function is for evaluating the individual models fitted in the above function\n",
    "#evaluation objects are created in this function - mae, rmse, rac and clas\n",
    "def auto_evaluate(model, x, y):\n",
    "    \n",
    "    predicted = model.predict(x)\n",
    "    \n",
    "    mae = mean_absolute_error(y, predicted)\n",
    "    rmse = np.sqrt(mean_squared_error(y, predicted))\n",
    "    rac = roc_auc_score(y, predicted)\n",
    "    clas = classification_report(y, predicted)\n",
    "    \n",
    "    return [mae, rmse, rac, clas]"
   ]
  },
  {
   "cell_type": "code",
   "execution_count": 120,
   "metadata": {},
   "outputs": [],
   "source": [
    "#calling the auto_train function and passing the positional arguments to train the model\n",
    "random_forest = auto_train(x_train_scaled, y_train, 'rf')\n",
    "svm = auto_train(x_train_scaled, y_train, 'svm')\n",
    "gradient_boost = auto_train(x_train_scaled, y_train, 'xgb')"
   ]
  },
  {
   "cell_type": "code",
   "execution_count": 121,
   "metadata": {},
   "outputs": [
    {
     "data": {
      "text/plain": [
       "[0.09090909090909091,\n",
       " 0.30151134457776363,\n",
       " 0.7708333333333333,\n",
       " '              precision    recall  f1-score   support\\n\\n           0       0.90      1.00      0.95        97\\n           1       1.00      0.54      0.70        24\\n\\n    accuracy                           0.91       121\\n   macro avg       0.95      0.77      0.82       121\\nweighted avg       0.92      0.91      0.90       121\\n']"
      ]
     },
     "execution_count": 121,
     "metadata": {},
     "output_type": "execute_result"
    }
   ],
   "source": [
    "#evluatiing the SVM model\n",
    "svm_output = auto_evaluate(svm, x_test_scaled, y_test)\n",
    "svm_output"
   ]
  },
  {
   "cell_type": "code",
   "execution_count": 122,
   "metadata": {},
   "outputs": [
    {
     "data": {
      "text/plain": [
       "[0.049586776859504134,\n",
       " 0.22268088570756164,\n",
       " 0.875,\n",
       " '              precision    recall  f1-score   support\\n\\n           0       0.94      1.00      0.97        97\\n           1       1.00      0.75      0.86        24\\n\\n    accuracy                           0.95       121\\n   macro avg       0.97      0.88      0.91       121\\nweighted avg       0.95      0.95      0.95       121\\n']"
      ]
     },
     "execution_count": 122,
     "metadata": {},
     "output_type": "execute_result"
    }
   ],
   "source": [
    "#evluatiing the RF model\n",
    "random_forest_output = auto_evaluate(random_forest, x_test_scaled, y_test)\n",
    "random_forest_output"
   ]
  },
  {
   "cell_type": "code",
   "execution_count": 123,
   "metadata": {},
   "outputs": [
    {
     "data": {
      "text/plain": [
       "[0.049586776859504134,\n",
       " 0.22268088570756164,\n",
       " 0.875,\n",
       " '              precision    recall  f1-score   support\\n\\n           0       0.94      1.00      0.97        97\\n           1       1.00      0.75      0.86        24\\n\\n    accuracy                           0.95       121\\n   macro avg       0.97      0.88      0.91       121\\nweighted avg       0.95      0.95      0.95       121\\n']"
      ]
     },
     "execution_count": 123,
     "metadata": {},
     "output_type": "execute_result"
    }
   ],
   "source": [
    "#evluatiing the XGB model\n",
    "xgb_output = auto_evaluate(gradient_boost, x_test_scaled, y_test)\n",
    "xgb_output"
   ]
  },
  {
   "cell_type": "markdown",
   "metadata": {},
   "source": [
    "THE RANDOM FOREST MODEL AND XTREME GRADIENT BOOSTER SCORE ALMOST ALL SIMILAR SCORE - THEY BOTH OUTPERFORM THE SVM MODEL BY A FEW POINTS ON ALL THE METRICS EMPLOYED ON TESTING THE MODEL.\n",
    "\n",
    "RANDOM FORESTS ARE AN ENSEMBLE MODEL THAT COMPRISES OF MULTIPLE TREE CLASSIFIERS THAT CLASSIFY THE FEATURE USING A VOTE ON THE MODEL THAT HAS THE MOST SCORES - THIS IS A MORE OPTIMAL SCORING METHOD COMPARED TO THE SVM MODEL THAT USES HYPERPLANES TO CREATE DISTINCTIONS BETWEEN DIFFERENT CLASSES. \n",
    "\n",
    "THE XGB MODEL ADVANCES ON THE RANDOM FOREST TECHNIQUE IN THAT IT USES WEIGHTED MEANS FOR EACH SUB-CLASSIFIER TO EVALUATE A GENERAL SCORING USING THE HIGHEST MEAN, HENCE IT IS MORE REFINED AND ACCURATE COMPARED TO RF CLASSIFIER. IT AS WELL HAS A SHORTER TRAINING TIME COMPARED TO THE RANDOM FOREST CLASSIFER. IN THIS CASE HOWEVER, BOTH MODELS HAVE THE SAME SCORE.\n",
    "\n",
    "USING A SMALLER TESTING DATASET (20%) DID SHOW HIGHER PERFORMANCE FOR ALL THE THREE CLASSIFIER - THIS CAN BE EXPLAINED BASED ON THE SIZE OF THE ENTIRE DATASET, WHICH IS RELATIVELY SMALL, HENCE USING MORE DATA TO TRAIN THE MODELS, IS LIKELY TO RESULT IN  BETTER SCORING ON THE TEST DATA. \n",
    "\n",
    "TO FIND A MORE BEFITTING MODEL, FURTHER FEATURE ENGINEERING AND INDIVIDUAL HYPERPARAMETER TUNING ARE POSSIBLE RECCOMMENDATIONS FROM THIS PROJECT. \n",
    "\n",
    "SINCE IT IS A MEDICAL DATA PROBLEM, IT IS ALSO IMPORTANT TO PAY MORE ATTENTION ON THE SENSITIVITY AND SPECIFICITY OF THE MODEL'S GENERALISATION TREND. \n",
    "\n",
    "GENERALLY, THE RF AND XGB MODELS DID PERFORM VERY WELL AS SEEN FROM THE HIGH ACCURACIES AND VERY LOW RMSE SCORE. \n",
    "\n"
   ]
  },
  {
   "cell_type": "markdown",
   "metadata": {},
   "source": [
    "sample = 0.3 (30% testing data) <>=======================<>\n",
    "\n",
    "ROOT MEAN SQUARED EVALUATION METRIC\n",
    "\n",
    "[Rmse (rf) = 0.222, rmse (xgb) = 0.222, rmse (svm) = 0.301]\n",
    "\n",
    "ROC-AUC EVALUATION METRIC\n",
    "\n",
    "[Roc-auc(rf) = 0.875, roc-auc(xgb)=0.875, roc-auc (svm) = 0.770]\n",
    "\n",
    "CLASSIFICATION ACCURACY EVALUATION METRIC [RECALL, PRECISION, F1 SCORE]\n",
    "\n",
    "[Accuracy (rf) = 95%, Accuracy (xgb) = 95%, Accuracy(svm) = 91%]\n",
    "\n",
    "Recall (TP/TP+FN) ===>  SVM = , RF = , XGB =\n",
    "Precision (TP/TP+FP) ===> SVM = , RF = , XGB =\n",
    "\n",
    "sample = 0.2 (20% testing data)  <>========================<>\n",
    "\n",
    "ROOT MEAN SQUARED EVALUATION METRIC\n",
    "\n",
    "[Rmse (rf) = 0.222, rmse (xgb) = 0.222, rmse (svm) = 0.301]\n",
    "\n",
    "ROC-AUC EVALUATION METRIC\n",
    "\n",
    "[Roc-auc(rf) = 0.875, roc-auc(xgb)=0.882, roc-auc (svm) = 0.735]\n",
    "\n",
    "CLASSIFICATION ACCURACY EVALUATION METRIC [RECALL, PRECISION, F1 SCORE]\n",
    "\n",
    "[Accuracy (rf) = 95%, Accuracy (xgb) = 95%, Accuracy(svm) = 89%]\n",
    "\n",
    "Recall (TP/TP+FN) ===>  SVM = , RF = , XGB =\n",
    "Precision (TP/TP+FP) ===> SVM = , RF = , XGB =\n"
   ]
  }
 ],
 "metadata": {
  "interpreter": {
   "hash": "69eb92836b941e979072a76c7fcfffe5419cca933cedd02cfafbdfca1a93358c"
  },
  "kernelspec": {
   "display_name": "Python 3.9.10 64-bit",
   "language": "python",
   "name": "python3"
  },
  "language_info": {
   "codemirror_mode": {
    "name": "ipython",
    "version": 3
   },
   "file_extension": ".py",
   "mimetype": "text/x-python",
   "name": "python",
   "nbconvert_exporter": "python",
   "pygments_lexer": "ipython3",
   "version": "3.9.10"
  },
  "orig_nbformat": 4
 },
 "nbformat": 4,
 "nbformat_minor": 2
}
