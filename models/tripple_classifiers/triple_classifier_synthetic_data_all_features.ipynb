{
 "cells": [
  {
   "cell_type": "code",
   "execution_count": 3,
   "metadata": {},
   "outputs": [
    {
     "ename": "AttributeError",
     "evalue": "partially initialized module 'pandas' has no attribute 'core' (most likely due to a circular import)",
     "output_type": "error",
     "traceback": [
      "\u001b[1;31m---------------------------------------------------------------------------\u001b[0m",
      "\u001b[1;31mAttributeError\u001b[0m                            Traceback (most recent call last)",
      "\u001b[1;32m<ipython-input-3-e1a13c448688>\u001b[0m in \u001b[0;36m<module>\u001b[1;34m\u001b[0m\n\u001b[0;32m      1\u001b[0m \u001b[1;31m#loading requisite libraries for this step of the project\u001b[0m\u001b[1;33m\u001b[0m\u001b[1;33m\u001b[0m\u001b[0m\n\u001b[1;32m----> 2\u001b[1;33m \u001b[1;32mimport\u001b[0m \u001b[0mpandas\u001b[0m \u001b[1;32mas\u001b[0m \u001b[0mpd\u001b[0m\u001b[1;33m\u001b[0m\u001b[1;33m\u001b[0m\u001b[0m\n\u001b[0m\u001b[0;32m      3\u001b[0m \u001b[1;32mimport\u001b[0m \u001b[0mnumpy\u001b[0m \u001b[1;32mas\u001b[0m \u001b[0mnp\u001b[0m\u001b[1;33m\u001b[0m\u001b[1;33m\u001b[0m\u001b[0m\n\u001b[0;32m      4\u001b[0m \u001b[1;33m\u001b[0m\u001b[0m\n\u001b[0;32m      5\u001b[0m \u001b[1;32mimport\u001b[0m \u001b[0mseaborn\u001b[0m \u001b[1;32mas\u001b[0m \u001b[0msns\u001b[0m\u001b[1;33m\u001b[0m\u001b[1;33m\u001b[0m\u001b[0m\n",
      "\u001b[1;32m~\\AppData\\Local\\Packages\\PythonSoftwareFoundation.Python.3.9_qbz5n2kfra8p0\\LocalCache\\local-packages\\Python39\\site-packages\\pandas\\__init__.py\u001b[0m in \u001b[0;36m<module>\u001b[1;34m\u001b[0m\n\u001b[0;32m    177\u001b[0m \u001b[1;33m\u001b[0m\u001b[0m\n\u001b[0;32m    178\u001b[0m \u001b[1;32mfrom\u001b[0m \u001b[0mpandas\u001b[0m\u001b[1;33m.\u001b[0m\u001b[0mutil\u001b[0m\u001b[1;33m.\u001b[0m\u001b[0m_tester\u001b[0m \u001b[1;32mimport\u001b[0m \u001b[0mtest\u001b[0m\u001b[1;33m\u001b[0m\u001b[1;33m\u001b[0m\u001b[0m\n\u001b[1;32m--> 179\u001b[1;33m \u001b[1;32mimport\u001b[0m \u001b[0mpandas\u001b[0m\u001b[1;33m.\u001b[0m\u001b[0mtesting\u001b[0m\u001b[1;33m\u001b[0m\u001b[1;33m\u001b[0m\u001b[0m\n\u001b[0m\u001b[0;32m    180\u001b[0m \u001b[1;32mimport\u001b[0m \u001b[0mpandas\u001b[0m\u001b[1;33m.\u001b[0m\u001b[0marrays\u001b[0m\u001b[1;33m\u001b[0m\u001b[1;33m\u001b[0m\u001b[0m\n\u001b[0;32m    181\u001b[0m \u001b[1;33m\u001b[0m\u001b[0m\n",
      "\u001b[1;32m~\\AppData\\Local\\Packages\\PythonSoftwareFoundation.Python.3.9_qbz5n2kfra8p0\\LocalCache\\local-packages\\Python39\\site-packages\\pandas\\testing.py\u001b[0m in \u001b[0;36m<module>\u001b[1;34m\u001b[0m\n\u001b[0;32m      3\u001b[0m \"\"\"\n\u001b[0;32m      4\u001b[0m \u001b[1;33m\u001b[0m\u001b[0m\n\u001b[1;32m----> 5\u001b[1;33m from pandas._testing import (\n\u001b[0m\u001b[0;32m      6\u001b[0m     \u001b[0massert_extension_array_equal\u001b[0m\u001b[1;33m,\u001b[0m\u001b[1;33m\u001b[0m\u001b[1;33m\u001b[0m\u001b[0m\n\u001b[0;32m      7\u001b[0m     \u001b[0massert_frame_equal\u001b[0m\u001b[1;33m,\u001b[0m\u001b[1;33m\u001b[0m\u001b[1;33m\u001b[0m\u001b[0m\n",
      "\u001b[1;32m~\\AppData\\Local\\Packages\\PythonSoftwareFoundation.Python.3.9_qbz5n2kfra8p0\\LocalCache\\local-packages\\Python39\\site-packages\\pandas\\_testing.py\u001b[0m in \u001b[0;36m<module>\u001b[1;34m\u001b[0m\n\u001b[0;32m   3052\u001b[0m \u001b[1;33m\u001b[0m\u001b[0m\n\u001b[0;32m   3053\u001b[0m \u001b[1;33m\u001b[0m\u001b[0m\n\u001b[1;32m-> 3054\u001b[1;33m \u001b[0mcython_table\u001b[0m \u001b[1;33m=\u001b[0m \u001b[0mpd\u001b[0m\u001b[1;33m.\u001b[0m\u001b[0mcore\u001b[0m\u001b[1;33m.\u001b[0m\u001b[0mbase\u001b[0m\u001b[1;33m.\u001b[0m\u001b[0mSelectionMixin\u001b[0m\u001b[1;33m.\u001b[0m\u001b[0m_cython_table\u001b[0m\u001b[1;33m.\u001b[0m\u001b[0mitems\u001b[0m\u001b[1;33m(\u001b[0m\u001b[1;33m)\u001b[0m\u001b[1;33m\u001b[0m\u001b[1;33m\u001b[0m\u001b[0m\n\u001b[0m\u001b[0;32m   3055\u001b[0m \u001b[1;33m\u001b[0m\u001b[0m\n\u001b[0;32m   3056\u001b[0m \u001b[1;33m\u001b[0m\u001b[0m\n",
      "\u001b[1;31mAttributeError\u001b[0m: partially initialized module 'pandas' has no attribute 'core' (most likely due to a circular import)"
     ]
    }
   ],
   "source": [
    "#loading requisite libraries for this step of the project\n",
    "import pandas as pd\n",
    "import numpy as np\n",
    "\n",
    "import seaborn as sns\n",
    "import matplotlib\n",
    "import matplotlib.pyplot as plt\n",
    "\n",
    "from sklearn.ensemble import RandomForestClassifier\n",
    "from sklearn.svm import SVC\n",
    "from xgboost import XGBClassifier\n",
    "\n",
    "from sklearn.metrics import classification_report\n",
    "from sklearn.metrics import mean_absolute_error\n",
    "from sklearn.metrics import mean_squared_error\n",
    "from sklearn.metrics import roc_auc_score\n",
    "\n",
    "from sklearn.model_selection import train_test_split\n",
    "from sklearn.preprocessing import StandardScaler"
   ]
  },
  {
   "cell_type": "code",
   "execution_count": null,
   "metadata": {},
   "outputs": [],
   "source": [
    "#setting default values for visualizations\n",
    "sns.set_style('darkgrid')\n",
    "matplotlib.rcParams['font.size'] = 14\n",
    "matplotlib.rcParams['figure.figsize'] = (14, 10)\n",
    "matplotlib.rcParams['figure.facecolor'] = '#000000'"
   ]
  },
  {
   "cell_type": "code",
   "execution_count": null,
   "metadata": {},
   "outputs": [],
   "source": [
    "#loading the preprocessed dataset from step I\n",
    "df_1 = pd.read_csv('../datasets/synthesized_diabetes_data.csv')"
   ]
  },
  {
   "cell_type": "markdown",
   "metadata": {},
   "source": [
    "EXPLORING THE DATA"
   ]
  },
  {
   "cell_type": "code",
   "execution_count": null,
   "metadata": {},
   "outputs": [
    {
     "data": {
      "text/html": [
       "<div>\n",
       "<style scoped>\n",
       "    .dataframe tbody tr th:only-of-type {\n",
       "        vertical-align: middle;\n",
       "    }\n",
       "\n",
       "    .dataframe tbody tr th {\n",
       "        vertical-align: top;\n",
       "    }\n",
       "\n",
       "    .dataframe thead th {\n",
       "        text-align: right;\n",
       "    }\n",
       "</style>\n",
       "<table border=\"1\" class=\"dataframe\">\n",
       "  <thead>\n",
       "    <tr style=\"text-align: right;\">\n",
       "      <th></th>\n",
       "      <th>chol</th>\n",
       "      <th>stab.glu</th>\n",
       "      <th>hdl</th>\n",
       "      <th>ratio</th>\n",
       "      <th>glyhb</th>\n",
       "      <th>location</th>\n",
       "      <th>age</th>\n",
       "      <th>gender</th>\n",
       "      <th>height</th>\n",
       "      <th>weight</th>\n",
       "      <th>...</th>\n",
       "      <th>bp.1d</th>\n",
       "      <th>bp.2s</th>\n",
       "      <th>bp.2d</th>\n",
       "      <th>waist</th>\n",
       "      <th>hip</th>\n",
       "      <th>time.ppn</th>\n",
       "      <th>height_meters</th>\n",
       "      <th>BMI</th>\n",
       "      <th>hip_waist_ratio</th>\n",
       "      <th>diabetic</th>\n",
       "    </tr>\n",
       "  </thead>\n",
       "  <tbody>\n",
       "    <tr>\n",
       "      <th>0</th>\n",
       "      <td>156.700394</td>\n",
       "      <td>31</td>\n",
       "      <td>52.154896</td>\n",
       "      <td>3.314927</td>\n",
       "      <td>4.299748</td>\n",
       "      <td>1</td>\n",
       "      <td>7</td>\n",
       "      <td>1</td>\n",
       "      <td>68.496912</td>\n",
       "      <td>146.234609</td>\n",
       "      <td>...</td>\n",
       "      <td>85.186571</td>\n",
       "      <td>151.973658</td>\n",
       "      <td>92.697071</td>\n",
       "      <td>29.222653</td>\n",
       "      <td>34.012633</td>\n",
       "      <td>761.958003</td>\n",
       "      <td>1.667030</td>\n",
       "      <td>53.028606</td>\n",
       "      <td>0.815154</td>\n",
       "      <td>0</td>\n",
       "    </tr>\n",
       "    <tr>\n",
       "      <th>1</th>\n",
       "      <td>205.708528</td>\n",
       "      <td>50</td>\n",
       "      <td>74.558454</td>\n",
       "      <td>2.397619</td>\n",
       "      <td>4.750497</td>\n",
       "      <td>1</td>\n",
       "      <td>50</td>\n",
       "      <td>0</td>\n",
       "      <td>67.514518</td>\n",
       "      <td>155.252176</td>\n",
       "      <td>...</td>\n",
       "      <td>88.848128</td>\n",
       "      <td>152.708004</td>\n",
       "      <td>92.802874</td>\n",
       "      <td>32.887620</td>\n",
       "      <td>40.640470</td>\n",
       "      <td>715.021735</td>\n",
       "      <td>1.681850</td>\n",
       "      <td>42.542497</td>\n",
       "      <td>0.855346</td>\n",
       "      <td>1</td>\n",
       "    </tr>\n",
       "    <tr>\n",
       "      <th>2</th>\n",
       "      <td>184.259740</td>\n",
       "      <td>39</td>\n",
       "      <td>50.107744</td>\n",
       "      <td>2.436952</td>\n",
       "      <td>5.033467</td>\n",
       "      <td>1</td>\n",
       "      <td>56</td>\n",
       "      <td>0</td>\n",
       "      <td>63.226992</td>\n",
       "      <td>134.186382</td>\n",
       "      <td>...</td>\n",
       "      <td>94.615906</td>\n",
       "      <td>153.064309</td>\n",
       "      <td>92.212116</td>\n",
       "      <td>32.548504</td>\n",
       "      <td>36.741043</td>\n",
       "      <td>210.965098</td>\n",
       "      <td>1.565997</td>\n",
       "      <td>54.781513</td>\n",
       "      <td>0.863442</td>\n",
       "      <td>0</td>\n",
       "    </tr>\n",
       "    <tr>\n",
       "      <th>3</th>\n",
       "      <td>236.859522</td>\n",
       "      <td>40</td>\n",
       "      <td>46.163972</td>\n",
       "      <td>3.794523</td>\n",
       "      <td>5.382256</td>\n",
       "      <td>0</td>\n",
       "      <td>51</td>\n",
       "      <td>0</td>\n",
       "      <td>66.799333</td>\n",
       "      <td>202.246191</td>\n",
       "      <td>...</td>\n",
       "      <td>79.333852</td>\n",
       "      <td>151.949308</td>\n",
       "      <td>92.541618</td>\n",
       "      <td>45.726840</td>\n",
       "      <td>50.127763</td>\n",
       "      <td>801.800590</td>\n",
       "      <td>1.752456</td>\n",
       "      <td>65.815471</td>\n",
       "      <td>0.851003</td>\n",
       "      <td>1</td>\n",
       "    </tr>\n",
       "    <tr>\n",
       "      <th>4</th>\n",
       "      <td>189.616025</td>\n",
       "      <td>92</td>\n",
       "      <td>40.045044</td>\n",
       "      <td>3.633247</td>\n",
       "      <td>4.634788</td>\n",
       "      <td>1</td>\n",
       "      <td>10</td>\n",
       "      <td>1</td>\n",
       "      <td>69.283944</td>\n",
       "      <td>186.218617</td>\n",
       "      <td>...</td>\n",
       "      <td>67.017735</td>\n",
       "      <td>151.475941</td>\n",
       "      <td>92.036697</td>\n",
       "      <td>32.192694</td>\n",
       "      <td>41.216135</td>\n",
       "      <td>160.570897</td>\n",
       "      <td>1.779865</td>\n",
       "      <td>58.610103</td>\n",
       "      <td>0.890379</td>\n",
       "      <td>1</td>\n",
       "    </tr>\n",
       "    <tr>\n",
       "      <th>...</th>\n",
       "      <td>...</td>\n",
       "      <td>...</td>\n",
       "      <td>...</td>\n",
       "      <td>...</td>\n",
       "      <td>...</td>\n",
       "      <td>...</td>\n",
       "      <td>...</td>\n",
       "      <td>...</td>\n",
       "      <td>...</td>\n",
       "      <td>...</td>\n",
       "      <td>...</td>\n",
       "      <td>...</td>\n",
       "      <td>...</td>\n",
       "      <td>...</td>\n",
       "      <td>...</td>\n",
       "      <td>...</td>\n",
       "      <td>...</td>\n",
       "      <td>...</td>\n",
       "      <td>...</td>\n",
       "      <td>...</td>\n",
       "      <td>...</td>\n",
       "    </tr>\n",
       "    <tr>\n",
       "      <th>6495</th>\n",
       "      <td>257.604430</td>\n",
       "      <td>98</td>\n",
       "      <td>35.771984</td>\n",
       "      <td>5.118372</td>\n",
       "      <td>4.753262</td>\n",
       "      <td>0</td>\n",
       "      <td>18</td>\n",
       "      <td>0</td>\n",
       "      <td>61.331854</td>\n",
       "      <td>235.607829</td>\n",
       "      <td>...</td>\n",
       "      <td>102.549858</td>\n",
       "      <td>152.100496</td>\n",
       "      <td>83.917625</td>\n",
       "      <td>35.150511</td>\n",
       "      <td>53.406133</td>\n",
       "      <td>88.264917</td>\n",
       "      <td>1.529035</td>\n",
       "      <td>68.481644</td>\n",
       "      <td>0.855944</td>\n",
       "      <td>1</td>\n",
       "    </tr>\n",
       "    <tr>\n",
       "      <th>6496</th>\n",
       "      <td>162.296900</td>\n",
       "      <td>45</td>\n",
       "      <td>35.999784</td>\n",
       "      <td>5.681376</td>\n",
       "      <td>4.227569</td>\n",
       "      <td>1</td>\n",
       "      <td>4</td>\n",
       "      <td>0</td>\n",
       "      <td>65.386967</td>\n",
       "      <td>296.862677</td>\n",
       "      <td>...</td>\n",
       "      <td>84.701618</td>\n",
       "      <td>125.647137</td>\n",
       "      <td>82.484329</td>\n",
       "      <td>39.052591</td>\n",
       "      <td>59.843454</td>\n",
       "      <td>443.647170</td>\n",
       "      <td>1.656517</td>\n",
       "      <td>80.007193</td>\n",
       "      <td>0.830202</td>\n",
       "      <td>0</td>\n",
       "    </tr>\n",
       "    <tr>\n",
       "      <th>6497</th>\n",
       "      <td>187.502574</td>\n",
       "      <td>57</td>\n",
       "      <td>33.007135</td>\n",
       "      <td>4.111922</td>\n",
       "      <td>5.364477</td>\n",
       "      <td>1</td>\n",
       "      <td>20</td>\n",
       "      <td>0</td>\n",
       "      <td>66.676238</td>\n",
       "      <td>190.406558</td>\n",
       "      <td>...</td>\n",
       "      <td>76.921248</td>\n",
       "      <td>151.736385</td>\n",
       "      <td>93.133092</td>\n",
       "      <td>49.009939</td>\n",
       "      <td>64.824856</td>\n",
       "      <td>187.248003</td>\n",
       "      <td>1.722115</td>\n",
       "      <td>115.404367</td>\n",
       "      <td>0.820453</td>\n",
       "      <td>1</td>\n",
       "    </tr>\n",
       "    <tr>\n",
       "      <th>6498</th>\n",
       "      <td>182.580909</td>\n",
       "      <td>32</td>\n",
       "      <td>52.969260</td>\n",
       "      <td>2.549922</td>\n",
       "      <td>4.153793</td>\n",
       "      <td>1</td>\n",
       "      <td>16</td>\n",
       "      <td>0</td>\n",
       "      <td>61.393461</td>\n",
       "      <td>132.810153</td>\n",
       "      <td>...</td>\n",
       "      <td>66.361413</td>\n",
       "      <td>151.984054</td>\n",
       "      <td>92.246495</td>\n",
       "      <td>31.932760</td>\n",
       "      <td>46.220675</td>\n",
       "      <td>895.800788</td>\n",
       "      <td>1.542742</td>\n",
       "      <td>65.397955</td>\n",
       "      <td>0.777446</td>\n",
       "      <td>0</td>\n",
       "    </tr>\n",
       "    <tr>\n",
       "      <th>6499</th>\n",
       "      <td>101.290703</td>\n",
       "      <td>94</td>\n",
       "      <td>28.458160</td>\n",
       "      <td>6.511101</td>\n",
       "      <td>8.391174</td>\n",
       "      <td>0</td>\n",
       "      <td>46</td>\n",
       "      <td>1</td>\n",
       "      <td>65.889821</td>\n",
       "      <td>313.736387</td>\n",
       "      <td>...</td>\n",
       "      <td>109.086086</td>\n",
       "      <td>140.006507</td>\n",
       "      <td>85.340720</td>\n",
       "      <td>49.858667</td>\n",
       "      <td>52.974802</td>\n",
       "      <td>157.157333</td>\n",
       "      <td>1.597931</td>\n",
       "      <td>77.849449</td>\n",
       "      <td>0.920231</td>\n",
       "      <td>1</td>\n",
       "    </tr>\n",
       "  </tbody>\n",
       "</table>\n",
       "<p>6500 rows × 22 columns</p>\n",
       "</div>"
      ],
      "text/plain": [
       "            chol  stab.glu        hdl     ratio     glyhb  location  age  \\\n",
       "0     156.700394        31  52.154896  3.314927  4.299748         1    7   \n",
       "1     205.708528        50  74.558454  2.397619  4.750497         1   50   \n",
       "2     184.259740        39  50.107744  2.436952  5.033467         1   56   \n",
       "3     236.859522        40  46.163972  3.794523  5.382256         0   51   \n",
       "4     189.616025        92  40.045044  3.633247  4.634788         1   10   \n",
       "...          ...       ...        ...       ...       ...       ...  ...   \n",
       "6495  257.604430        98  35.771984  5.118372  4.753262         0   18   \n",
       "6496  162.296900        45  35.999784  5.681376  4.227569         1    4   \n",
       "6497  187.502574        57  33.007135  4.111922  5.364477         1   20   \n",
       "6498  182.580909        32  52.969260  2.549922  4.153793         1   16   \n",
       "6499  101.290703        94  28.458160  6.511101  8.391174         0   46   \n",
       "\n",
       "      gender     height      weight  ...       bp.1d       bp.2s      bp.2d  \\\n",
       "0          1  68.496912  146.234609  ...   85.186571  151.973658  92.697071   \n",
       "1          0  67.514518  155.252176  ...   88.848128  152.708004  92.802874   \n",
       "2          0  63.226992  134.186382  ...   94.615906  153.064309  92.212116   \n",
       "3          0  66.799333  202.246191  ...   79.333852  151.949308  92.541618   \n",
       "4          1  69.283944  186.218617  ...   67.017735  151.475941  92.036697   \n",
       "...      ...        ...         ...  ...         ...         ...        ...   \n",
       "6495       0  61.331854  235.607829  ...  102.549858  152.100496  83.917625   \n",
       "6496       0  65.386967  296.862677  ...   84.701618  125.647137  82.484329   \n",
       "6497       0  66.676238  190.406558  ...   76.921248  151.736385  93.133092   \n",
       "6498       0  61.393461  132.810153  ...   66.361413  151.984054  92.246495   \n",
       "6499       1  65.889821  313.736387  ...  109.086086  140.006507  85.340720   \n",
       "\n",
       "          waist        hip    time.ppn  height_meters         BMI  \\\n",
       "0     29.222653  34.012633  761.958003       1.667030   53.028606   \n",
       "1     32.887620  40.640470  715.021735       1.681850   42.542497   \n",
       "2     32.548504  36.741043  210.965098       1.565997   54.781513   \n",
       "3     45.726840  50.127763  801.800590       1.752456   65.815471   \n",
       "4     32.192694  41.216135  160.570897       1.779865   58.610103   \n",
       "...         ...        ...         ...            ...         ...   \n",
       "6495  35.150511  53.406133   88.264917       1.529035   68.481644   \n",
       "6496  39.052591  59.843454  443.647170       1.656517   80.007193   \n",
       "6497  49.009939  64.824856  187.248003       1.722115  115.404367   \n",
       "6498  31.932760  46.220675  895.800788       1.542742   65.397955   \n",
       "6499  49.858667  52.974802  157.157333       1.597931   77.849449   \n",
       "\n",
       "      hip_waist_ratio  diabetic  \n",
       "0            0.815154         0  \n",
       "1            0.855346         1  \n",
       "2            0.863442         0  \n",
       "3            0.851003         1  \n",
       "4            0.890379         1  \n",
       "...               ...       ...  \n",
       "6495         0.855944         1  \n",
       "6496         0.830202         0  \n",
       "6497         0.820453         1  \n",
       "6498         0.777446         0  \n",
       "6499         0.920231         1  \n",
       "\n",
       "[6500 rows x 22 columns]"
      ]
     },
     "execution_count": 4,
     "metadata": {},
     "output_type": "execute_result"
    }
   ],
   "source": [
    "df_1"
   ]
  },
  {
   "cell_type": "code",
   "execution_count": null,
   "metadata": {},
   "outputs": [
    {
     "data": {
      "text/plain": [
       "(6500, 22)"
      ]
     },
     "execution_count": 5,
     "metadata": {},
     "output_type": "execute_result"
    }
   ],
   "source": [
    "df_1.shape"
   ]
  },
  {
   "cell_type": "code",
   "execution_count": null,
   "metadata": {},
   "outputs": [
    {
     "data": {
      "text/plain": [
       "Index(['chol', 'stab.glu', 'hdl', 'ratio', 'glyhb', 'location', 'age',\n",
       "       'gender', 'height', 'weight', 'frame', 'bp.1s', 'bp.1d', 'bp.2s',\n",
       "       'bp.2d', 'waist', 'hip', 'time.ppn', 'height_meters', 'BMI',\n",
       "       'hip_waist_ratio', 'diabetic'],\n",
       "      dtype='object')"
      ]
     },
     "execution_count": 6,
     "metadata": {},
     "output_type": "execute_result"
    }
   ],
   "source": [
    "df_1.columns"
   ]
  },
  {
   "cell_type": "code",
   "execution_count": null,
   "metadata": {},
   "outputs": [
    {
     "data": {
      "text/plain": [
       "False"
      ]
     },
     "execution_count": 7,
     "metadata": {},
     "output_type": "execute_result"
    }
   ],
   "source": [
    "df_1.isnull().values.any()"
   ]
  },
  {
   "cell_type": "code",
   "execution_count": null,
   "metadata": {},
   "outputs": [
    {
     "data": {
      "text/plain": [
       "0"
      ]
     },
     "execution_count": 8,
     "metadata": {},
     "output_type": "execute_result"
    }
   ],
   "source": [
    "df_1.isnull().sum().sum()"
   ]
  },
  {
   "cell_type": "code",
   "execution_count": null,
   "metadata": {},
   "outputs": [],
   "source": [
    "df_1.columns"
   ]
  },
  {
   "cell_type": "code",
   "execution_count": null,
   "metadata": {},
   "outputs": [],
   "source": [
    "X = df_1.drop(['diabetic'])\n",
    "Y = df_1['diabetic']"
   ]
  },
  {
   "cell_type": "code",
   "execution_count": null,
   "metadata": {},
   "outputs": [],
   "source": []
  },
  {
   "cell_type": "code",
   "execution_count": null,
   "metadata": {},
   "outputs": [],
   "source": [
    "#splitting the dataset into traning and testing datasets \n",
    "x_train, x_test, y_train, y_test = train_test_split(X, Y, test_size=0.2, random_state=17)"
   ]
  },
  {
   "cell_type": "code",
   "execution_count": null,
   "metadata": {},
   "outputs": [],
   "source": [
    "#scaling the dataset to reduce dimensionality and for easier and faster training\n",
    "x_train_scaled =  StandardScaler().fit_transform(x_train)\n",
    "x_test_scaled = StandardScaler().fit_transform(x_test)"
   ]
  },
  {
   "cell_type": "code",
   "execution_count": null,
   "metadata": {},
   "outputs": [],
   "source": [
    "#an auto-training function for the three models\n",
    "def auto_train(x, y, model_alg):\n",
    "    if model_alg == 'rf':\n",
    "        model = RandomForestClassifier(random_state=30, n_estimators=100, max_features=8, max_depth=20)\n",
    "    elif model_alg == 'svm':\n",
    "        model = SVC(C=1, kernel='rbf', random_state=1)\n",
    "    elif model_alg == 'xgb':\n",
    "        model = XGBClassifier(use_label_encoder=False, objective='binary:hinge', colsample_bytree=0.8)\n",
    "        \n",
    "    model.fit(x_train_scaled, y_train)\n",
    "    \n",
    "    return model"
   ]
  },
  {
   "cell_type": "code",
   "execution_count": null,
   "metadata": {},
   "outputs": [],
   "source": [
    "#an evaluation function for the three models.\n",
    "def auto_evaluate(model, x, y):\n",
    "    \n",
    "    predicted = model.predict(x)\n",
    "    \n",
    "    mae = mean_absolute_error(y, predicted)\n",
    "    rmse = np.sqrt(mean_squared_error(y, predicted))\n",
    "    rac = roc_auc_score(y, predicted)\n",
    "    clas = classification_report(y, predicted)\n",
    "    \n",
    "    return [mae, rmse, rac, clas]"
   ]
  },
  {
   "cell_type": "code",
   "execution_count": null,
   "metadata": {},
   "outputs": [],
   "source": [
    "#fitting and training the models using a function call\n",
    "random_forest = auto_train(x_train_scaled, y_train, 'rf')\n",
    "svm = auto_train(x_train_scaled, y_train, 'svm')\n",
    "gradient_boost = auto_train(x_train_scaled, y_train, 'xgb')"
   ]
  },
  {
   "cell_type": "code",
   "execution_count": null,
   "metadata": {},
   "outputs": [
    {
     "data": {
      "text/plain": [
       "[0.15923076923076923,\n",
       " 0.39903730305670576,\n",
       " 0.7810967485305941,\n",
       " '              precision    recall  f1-score   support\\n\\n           0       0.81      0.63      0.71       399\\n           1       0.85      0.94      0.89       901\\n\\n    accuracy                           0.84      1300\\n   macro avg       0.83      0.78      0.80      1300\\nweighted avg       0.84      0.84      0.83      1300\\n']"
      ]
     },
     "execution_count": 27,
     "metadata": {},
     "output_type": "execute_result"
    }
   ],
   "source": [
    "#model outputs; SVM\n",
    "svm_output = auto_evaluate(svm, x_test_scaled, y_test)\n",
    "svm_output"
   ]
  },
  {
   "cell_type": "code",
   "execution_count": null,
   "metadata": {},
   "outputs": [
    {
     "data": {
      "text/plain": [
       "[0.1423076923076923,\n",
       " 0.37723691800736087,\n",
       " 0.8044765075841658,\n",
       " '              precision    recall  f1-score   support\\n\\n           0       0.84      0.67      0.74       399\\n           1       0.86      0.94      0.90       901\\n\\n    accuracy                           0.86      1300\\n   macro avg       0.85      0.80      0.82      1300\\nweighted avg       0.86      0.86      0.85      1300\\n']"
      ]
     },
     "execution_count": 28,
     "metadata": {},
     "output_type": "execute_result"
    }
   ],
   "source": [
    "#model outputs; RF\n",
    "random_forest_output = auto_evaluate(random_forest, x_test_scaled, y_test)\n",
    "random_forest_output"
   ]
  },
  {
   "cell_type": "code",
   "execution_count": null,
   "metadata": {},
   "outputs": [
    {
     "data": {
      "text/plain": [
       "[0.16384615384615384,\n",
       " 0.4047791420591652,\n",
       " 0.7959201555498068,\n",
       " '              precision    recall  f1-score   support\\n\\n           0       0.75      0.69      0.72       399\\n           1       0.87      0.90      0.88       901\\n\\n    accuracy                           0.84      1300\\n   macro avg       0.81      0.80      0.80      1300\\nweighted avg       0.83      0.84      0.83      1300\\n']"
      ]
     },
     "execution_count": 29,
     "metadata": {},
     "output_type": "execute_result"
    }
   ],
   "source": [
    "#model outputs; XGB\n",
    "xgb_output = auto_evaluate(gradient_boost, x_test_scaled, y_test)\n",
    "xgb_output"
   ]
  }
 ],
 "metadata": {
  "interpreter": {
   "hash": "69eb92836b941e979072a76c7fcfffe5419cca933cedd02cfafbdfca1a93358c"
  },
  "kernelspec": {
   "display_name": "Python 3.9.10 64-bit",
   "language": "python",
   "name": "python3"
  },
  "language_info": {
   "codemirror_mode": {
    "name": "ipython",
    "version": 3
   },
   "file_extension": ".py",
   "mimetype": "text/x-python",
   "name": "python",
   "nbconvert_exporter": "python",
   "pygments_lexer": "ipython3",
   "version": "3.9.10"
  },
  "orig_nbformat": 4
 },
 "nbformat": 4,
 "nbformat_minor": 2
}
