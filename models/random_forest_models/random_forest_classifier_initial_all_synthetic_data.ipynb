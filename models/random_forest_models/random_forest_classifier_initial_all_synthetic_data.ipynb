{
 "cells": [
  {
   "cell_type": "code",
   "execution_count": 1,
   "metadata": {},
   "outputs": [],
   "source": [
    "\n",
    "import matplotlib.pyplot as plt \n",
    "import seaborn as sns\n",
    "\n",
    "import pandas as pd \n",
    "import numpy as np \n",
    "import matplotlib\n",
    "\n",
    "from sklearn.preprocessing import MinMaxScaler\n",
    "from sklearn.tree import plot_tree, export_text\n",
    "from sklearn.ensemble import RandomForestClassifier\n",
    "from sklearn.metrics import mean_squared_error as mse\n",
    "from sklearn.model_selection import train_test_split"
   ]
  },
  {
   "cell_type": "code",
   "execution_count": 2,
   "metadata": {},
   "outputs": [],
   "source": [
    "pd.set_option('display.max_columns', None)\n",
    "pd.set_option('display.max_rows', 150)\n",
    "sns.set_style('darkgrid')\n",
    "matplotlib.rcParams['font.size'] = 14\n",
    "matplotlib.rcParams['figure.figsize'] = (10, 6)\n",
    "matplotlib.rcParams['figure.facecolor'] = '#000000'"
   ]
  },
  {
   "cell_type": "code",
   "execution_count": 3,
   "metadata": {},
   "outputs": [],
   "source": [
    "df = pd.read_csv('../../datasets/synthesized_diabetes_data.csv')"
   ]
  },
  {
   "cell_type": "code",
   "execution_count": 4,
   "metadata": {},
   "outputs": [
    {
     "data": {
      "text/html": [
       "<div>\n",
       "<style scoped>\n",
       "    .dataframe tbody tr th:only-of-type {\n",
       "        vertical-align: middle;\n",
       "    }\n",
       "\n",
       "    .dataframe tbody tr th {\n",
       "        vertical-align: top;\n",
       "    }\n",
       "\n",
       "    .dataframe thead th {\n",
       "        text-align: right;\n",
       "    }\n",
       "</style>\n",
       "<table border=\"1\" class=\"dataframe\">\n",
       "  <thead>\n",
       "    <tr style=\"text-align: right;\">\n",
       "      <th></th>\n",
       "      <th>chol</th>\n",
       "      <th>stab.glu</th>\n",
       "      <th>hdl</th>\n",
       "      <th>ratio</th>\n",
       "      <th>glyhb</th>\n",
       "      <th>location</th>\n",
       "      <th>age</th>\n",
       "      <th>gender</th>\n",
       "      <th>height</th>\n",
       "      <th>weight</th>\n",
       "      <th>frame</th>\n",
       "      <th>bp.1s</th>\n",
       "      <th>bp.1d</th>\n",
       "      <th>bp.2s</th>\n",
       "      <th>bp.2d</th>\n",
       "      <th>waist</th>\n",
       "      <th>hip</th>\n",
       "      <th>time.ppn</th>\n",
       "      <th>height_meters</th>\n",
       "      <th>BMI</th>\n",
       "      <th>hip_waist_ratio</th>\n",
       "      <th>diabetic</th>\n",
       "    </tr>\n",
       "  </thead>\n",
       "  <tbody>\n",
       "    <tr>\n",
       "      <th>0</th>\n",
       "      <td>156.700394</td>\n",
       "      <td>31</td>\n",
       "      <td>52.154896</td>\n",
       "      <td>3.314927</td>\n",
       "      <td>4.299748</td>\n",
       "      <td>1</td>\n",
       "      <td>7</td>\n",
       "      <td>1</td>\n",
       "      <td>68.496912</td>\n",
       "      <td>146.234609</td>\n",
       "      <td>2</td>\n",
       "      <td>121.623985</td>\n",
       "      <td>85.186571</td>\n",
       "      <td>151.973658</td>\n",
       "      <td>92.697071</td>\n",
       "      <td>29.222653</td>\n",
       "      <td>34.012633</td>\n",
       "      <td>761.958003</td>\n",
       "      <td>1.667030</td>\n",
       "      <td>53.028606</td>\n",
       "      <td>0.815154</td>\n",
       "      <td>0</td>\n",
       "    </tr>\n",
       "    <tr>\n",
       "      <th>1</th>\n",
       "      <td>205.708528</td>\n",
       "      <td>50</td>\n",
       "      <td>74.558454</td>\n",
       "      <td>2.397619</td>\n",
       "      <td>4.750497</td>\n",
       "      <td>1</td>\n",
       "      <td>50</td>\n",
       "      <td>0</td>\n",
       "      <td>67.514518</td>\n",
       "      <td>155.252176</td>\n",
       "      <td>1</td>\n",
       "      <td>130.264602</td>\n",
       "      <td>88.848128</td>\n",
       "      <td>152.708004</td>\n",
       "      <td>92.802874</td>\n",
       "      <td>32.887620</td>\n",
       "      <td>40.640470</td>\n",
       "      <td>715.021735</td>\n",
       "      <td>1.681850</td>\n",
       "      <td>42.542497</td>\n",
       "      <td>0.855346</td>\n",
       "      <td>1</td>\n",
       "    </tr>\n",
       "    <tr>\n",
       "      <th>2</th>\n",
       "      <td>184.259740</td>\n",
       "      <td>39</td>\n",
       "      <td>50.107744</td>\n",
       "      <td>2.436952</td>\n",
       "      <td>5.033467</td>\n",
       "      <td>1</td>\n",
       "      <td>56</td>\n",
       "      <td>0</td>\n",
       "      <td>63.226992</td>\n",
       "      <td>134.186382</td>\n",
       "      <td>2</td>\n",
       "      <td>133.617710</td>\n",
       "      <td>94.615906</td>\n",
       "      <td>153.064309</td>\n",
       "      <td>92.212116</td>\n",
       "      <td>32.548504</td>\n",
       "      <td>36.741043</td>\n",
       "      <td>210.965098</td>\n",
       "      <td>1.565997</td>\n",
       "      <td>54.781513</td>\n",
       "      <td>0.863442</td>\n",
       "      <td>0</td>\n",
       "    </tr>\n",
       "    <tr>\n",
       "      <th>3</th>\n",
       "      <td>236.859522</td>\n",
       "      <td>40</td>\n",
       "      <td>46.163972</td>\n",
       "      <td>3.794523</td>\n",
       "      <td>5.382256</td>\n",
       "      <td>0</td>\n",
       "      <td>51</td>\n",
       "      <td>0</td>\n",
       "      <td>66.799333</td>\n",
       "      <td>202.246191</td>\n",
       "      <td>0</td>\n",
       "      <td>206.689504</td>\n",
       "      <td>79.333852</td>\n",
       "      <td>151.949308</td>\n",
       "      <td>92.541618</td>\n",
       "      <td>45.726840</td>\n",
       "      <td>50.127763</td>\n",
       "      <td>801.800590</td>\n",
       "      <td>1.752456</td>\n",
       "      <td>65.815471</td>\n",
       "      <td>0.851003</td>\n",
       "      <td>1</td>\n",
       "    </tr>\n",
       "    <tr>\n",
       "      <th>4</th>\n",
       "      <td>189.616025</td>\n",
       "      <td>92</td>\n",
       "      <td>40.045044</td>\n",
       "      <td>3.633247</td>\n",
       "      <td>4.634788</td>\n",
       "      <td>1</td>\n",
       "      <td>10</td>\n",
       "      <td>1</td>\n",
       "      <td>69.283944</td>\n",
       "      <td>186.218617</td>\n",
       "      <td>2</td>\n",
       "      <td>109.481572</td>\n",
       "      <td>67.017735</td>\n",
       "      <td>151.475941</td>\n",
       "      <td>92.036697</td>\n",
       "      <td>32.192694</td>\n",
       "      <td>41.216135</td>\n",
       "      <td>160.570897</td>\n",
       "      <td>1.779865</td>\n",
       "      <td>58.610103</td>\n",
       "      <td>0.890379</td>\n",
       "      <td>1</td>\n",
       "    </tr>\n",
       "    <tr>\n",
       "      <th>...</th>\n",
       "      <td>...</td>\n",
       "      <td>...</td>\n",
       "      <td>...</td>\n",
       "      <td>...</td>\n",
       "      <td>...</td>\n",
       "      <td>...</td>\n",
       "      <td>...</td>\n",
       "      <td>...</td>\n",
       "      <td>...</td>\n",
       "      <td>...</td>\n",
       "      <td>...</td>\n",
       "      <td>...</td>\n",
       "      <td>...</td>\n",
       "      <td>...</td>\n",
       "      <td>...</td>\n",
       "      <td>...</td>\n",
       "      <td>...</td>\n",
       "      <td>...</td>\n",
       "      <td>...</td>\n",
       "      <td>...</td>\n",
       "      <td>...</td>\n",
       "      <td>...</td>\n",
       "    </tr>\n",
       "    <tr>\n",
       "      <th>6495</th>\n",
       "      <td>257.604430</td>\n",
       "      <td>98</td>\n",
       "      <td>35.771984</td>\n",
       "      <td>5.118372</td>\n",
       "      <td>4.753262</td>\n",
       "      <td>0</td>\n",
       "      <td>18</td>\n",
       "      <td>0</td>\n",
       "      <td>61.331854</td>\n",
       "      <td>235.607829</td>\n",
       "      <td>1</td>\n",
       "      <td>202.049036</td>\n",
       "      <td>102.549858</td>\n",
       "      <td>152.100496</td>\n",
       "      <td>83.917625</td>\n",
       "      <td>35.150511</td>\n",
       "      <td>53.406133</td>\n",
       "      <td>88.264917</td>\n",
       "      <td>1.529035</td>\n",
       "      <td>68.481644</td>\n",
       "      <td>0.855944</td>\n",
       "      <td>1</td>\n",
       "    </tr>\n",
       "    <tr>\n",
       "      <th>6496</th>\n",
       "      <td>162.296900</td>\n",
       "      <td>45</td>\n",
       "      <td>35.999784</td>\n",
       "      <td>5.681376</td>\n",
       "      <td>4.227569</td>\n",
       "      <td>1</td>\n",
       "      <td>4</td>\n",
       "      <td>0</td>\n",
       "      <td>65.386967</td>\n",
       "      <td>296.862677</td>\n",
       "      <td>1</td>\n",
       "      <td>121.976799</td>\n",
       "      <td>84.701618</td>\n",
       "      <td>125.647137</td>\n",
       "      <td>82.484329</td>\n",
       "      <td>39.052591</td>\n",
       "      <td>59.843454</td>\n",
       "      <td>443.647170</td>\n",
       "      <td>1.656517</td>\n",
       "      <td>80.007193</td>\n",
       "      <td>0.830202</td>\n",
       "      <td>0</td>\n",
       "    </tr>\n",
       "    <tr>\n",
       "      <th>6497</th>\n",
       "      <td>187.502574</td>\n",
       "      <td>57</td>\n",
       "      <td>33.007135</td>\n",
       "      <td>4.111922</td>\n",
       "      <td>5.364477</td>\n",
       "      <td>1</td>\n",
       "      <td>20</td>\n",
       "      <td>0</td>\n",
       "      <td>66.676238</td>\n",
       "      <td>190.406558</td>\n",
       "      <td>1</td>\n",
       "      <td>114.021723</td>\n",
       "      <td>76.921248</td>\n",
       "      <td>151.736385</td>\n",
       "      <td>93.133092</td>\n",
       "      <td>49.009939</td>\n",
       "      <td>64.824856</td>\n",
       "      <td>187.248003</td>\n",
       "      <td>1.722115</td>\n",
       "      <td>115.404367</td>\n",
       "      <td>0.820453</td>\n",
       "      <td>1</td>\n",
       "    </tr>\n",
       "    <tr>\n",
       "      <th>6498</th>\n",
       "      <td>182.580909</td>\n",
       "      <td>32</td>\n",
       "      <td>52.969260</td>\n",
       "      <td>2.549922</td>\n",
       "      <td>4.153793</td>\n",
       "      <td>1</td>\n",
       "      <td>16</td>\n",
       "      <td>0</td>\n",
       "      <td>61.393461</td>\n",
       "      <td>132.810153</td>\n",
       "      <td>2</td>\n",
       "      <td>106.366161</td>\n",
       "      <td>66.361413</td>\n",
       "      <td>151.984054</td>\n",
       "      <td>92.246495</td>\n",
       "      <td>31.932760</td>\n",
       "      <td>46.220675</td>\n",
       "      <td>895.800788</td>\n",
       "      <td>1.542742</td>\n",
       "      <td>65.397955</td>\n",
       "      <td>0.777446</td>\n",
       "      <td>0</td>\n",
       "    </tr>\n",
       "    <tr>\n",
       "      <th>6499</th>\n",
       "      <td>101.290703</td>\n",
       "      <td>94</td>\n",
       "      <td>28.458160</td>\n",
       "      <td>6.511101</td>\n",
       "      <td>8.391174</td>\n",
       "      <td>0</td>\n",
       "      <td>46</td>\n",
       "      <td>1</td>\n",
       "      <td>65.889821</td>\n",
       "      <td>313.736387</td>\n",
       "      <td>0</td>\n",
       "      <td>183.061726</td>\n",
       "      <td>109.086086</td>\n",
       "      <td>140.006507</td>\n",
       "      <td>85.340720</td>\n",
       "      <td>49.858667</td>\n",
       "      <td>52.974802</td>\n",
       "      <td>157.157333</td>\n",
       "      <td>1.597931</td>\n",
       "      <td>77.849449</td>\n",
       "      <td>0.920231</td>\n",
       "      <td>1</td>\n",
       "    </tr>\n",
       "  </tbody>\n",
       "</table>\n",
       "<p>6500 rows × 22 columns</p>\n",
       "</div>"
      ],
      "text/plain": [
       "            chol  stab.glu        hdl     ratio     glyhb  location  age  \\\n",
       "0     156.700394        31  52.154896  3.314927  4.299748         1    7   \n",
       "1     205.708528        50  74.558454  2.397619  4.750497         1   50   \n",
       "2     184.259740        39  50.107744  2.436952  5.033467         1   56   \n",
       "3     236.859522        40  46.163972  3.794523  5.382256         0   51   \n",
       "4     189.616025        92  40.045044  3.633247  4.634788         1   10   \n",
       "...          ...       ...        ...       ...       ...       ...  ...   \n",
       "6495  257.604430        98  35.771984  5.118372  4.753262         0   18   \n",
       "6496  162.296900        45  35.999784  5.681376  4.227569         1    4   \n",
       "6497  187.502574        57  33.007135  4.111922  5.364477         1   20   \n",
       "6498  182.580909        32  52.969260  2.549922  4.153793         1   16   \n",
       "6499  101.290703        94  28.458160  6.511101  8.391174         0   46   \n",
       "\n",
       "      gender     height      weight  frame       bp.1s       bp.1d  \\\n",
       "0          1  68.496912  146.234609      2  121.623985   85.186571   \n",
       "1          0  67.514518  155.252176      1  130.264602   88.848128   \n",
       "2          0  63.226992  134.186382      2  133.617710   94.615906   \n",
       "3          0  66.799333  202.246191      0  206.689504   79.333852   \n",
       "4          1  69.283944  186.218617      2  109.481572   67.017735   \n",
       "...      ...        ...         ...    ...         ...         ...   \n",
       "6495       0  61.331854  235.607829      1  202.049036  102.549858   \n",
       "6496       0  65.386967  296.862677      1  121.976799   84.701618   \n",
       "6497       0  66.676238  190.406558      1  114.021723   76.921248   \n",
       "6498       0  61.393461  132.810153      2  106.366161   66.361413   \n",
       "6499       1  65.889821  313.736387      0  183.061726  109.086086   \n",
       "\n",
       "           bp.2s      bp.2d      waist        hip    time.ppn  height_meters  \\\n",
       "0     151.973658  92.697071  29.222653  34.012633  761.958003       1.667030   \n",
       "1     152.708004  92.802874  32.887620  40.640470  715.021735       1.681850   \n",
       "2     153.064309  92.212116  32.548504  36.741043  210.965098       1.565997   \n",
       "3     151.949308  92.541618  45.726840  50.127763  801.800590       1.752456   \n",
       "4     151.475941  92.036697  32.192694  41.216135  160.570897       1.779865   \n",
       "...          ...        ...        ...        ...         ...            ...   \n",
       "6495  152.100496  83.917625  35.150511  53.406133   88.264917       1.529035   \n",
       "6496  125.647137  82.484329  39.052591  59.843454  443.647170       1.656517   \n",
       "6497  151.736385  93.133092  49.009939  64.824856  187.248003       1.722115   \n",
       "6498  151.984054  92.246495  31.932760  46.220675  895.800788       1.542742   \n",
       "6499  140.006507  85.340720  49.858667  52.974802  157.157333       1.597931   \n",
       "\n",
       "             BMI  hip_waist_ratio  diabetic  \n",
       "0      53.028606         0.815154         0  \n",
       "1      42.542497         0.855346         1  \n",
       "2      54.781513         0.863442         0  \n",
       "3      65.815471         0.851003         1  \n",
       "4      58.610103         0.890379         1  \n",
       "...          ...              ...       ...  \n",
       "6495   68.481644         0.855944         1  \n",
       "6496   80.007193         0.830202         0  \n",
       "6497  115.404367         0.820453         1  \n",
       "6498   65.397955         0.777446         0  \n",
       "6499   77.849449         0.920231         1  \n",
       "\n",
       "[6500 rows x 22 columns]"
      ]
     },
     "execution_count": 4,
     "metadata": {},
     "output_type": "execute_result"
    }
   ],
   "source": [
    "df"
   ]
  },
  {
   "cell_type": "code",
   "execution_count": 5,
   "metadata": {},
   "outputs": [
    {
     "name": "stdout",
     "output_type": "stream",
     "text": [
      "<class 'pandas.core.frame.DataFrame'>\n",
      "RangeIndex: 6500 entries, 0 to 6499\n",
      "Data columns (total 22 columns):\n",
      " #   Column           Non-Null Count  Dtype  \n",
      "---  ------           --------------  -----  \n",
      " 0   chol             6500 non-null   float64\n",
      " 1   stab.glu         6500 non-null   int64  \n",
      " 2   hdl              6500 non-null   float64\n",
      " 3   ratio            6500 non-null   float64\n",
      " 4   glyhb            6500 non-null   float64\n",
      " 5   location         6500 non-null   int64  \n",
      " 6   age              6500 non-null   int64  \n",
      " 7   gender           6500 non-null   int64  \n",
      " 8   height           6500 non-null   float64\n",
      " 9   weight           6500 non-null   float64\n",
      " 10  frame            6500 non-null   int64  \n",
      " 11  bp.1s            6500 non-null   float64\n",
      " 12  bp.1d            6500 non-null   float64\n",
      " 13  bp.2s            6500 non-null   float64\n",
      " 14  bp.2d            6500 non-null   float64\n",
      " 15  waist            6500 non-null   float64\n",
      " 16  hip              6500 non-null   float64\n",
      " 17  time.ppn         6500 non-null   float64\n",
      " 18  height_meters    6500 non-null   float64\n",
      " 19  BMI              6500 non-null   float64\n",
      " 20  hip_waist_ratio  6500 non-null   float64\n",
      " 21  diabetic         6500 non-null   int64  \n",
      "dtypes: float64(16), int64(6)\n",
      "memory usage: 1.1 MB\n"
     ]
    }
   ],
   "source": [
    "df.info()"
   ]
  },
  {
   "cell_type": "code",
   "execution_count": 6,
   "metadata": {},
   "outputs": [
    {
     "data": {
      "text/plain": [
       "Index(['chol', 'stab.glu', 'hdl', 'ratio', 'glyhb', 'location', 'age',\n",
       "       'gender', 'height', 'weight', 'frame', 'bp.1s', 'bp.1d', 'bp.2s',\n",
       "       'bp.2d', 'waist', 'hip', 'time.ppn', 'height_meters', 'BMI',\n",
       "       'hip_waist_ratio', 'diabetic'],\n",
       "      dtype='object')"
      ]
     },
     "execution_count": 6,
     "metadata": {},
     "output_type": "execute_result"
    }
   ],
   "source": [
    "df.columns"
   ]
  },
  {
   "cell_type": "code",
   "execution_count": 7,
   "metadata": {},
   "outputs": [],
   "source": [
    "train_cols = ['chol', 'stab.glu', 'hdl', 'ratio', 'glyhb', 'location', 'age',\n",
    "       'gender', 'height', 'weight', 'frame', 'bp.1s', 'bp.1d', 'bp.2s',\n",
    "       'bp.2d', 'waist', 'hip', 'time.ppn', 'height_meters', 'BMI',\n",
    "       'hip_waist_ratio']\n",
    "important_cols = ['glyhb','stab.glu','chol','age','ratio', 'bp.1s','hdl', 'bp.1d', 'bp.2d','time.ppn']\n",
    "\n",
    "x = df[train_cols]\n",
    "y = df['diabetic']\n"
   ]
  },
  {
   "cell_type": "code",
   "execution_count": 8,
   "metadata": {},
   "outputs": [
    {
     "data": {
      "text/html": [
       "<div>\n",
       "<style scoped>\n",
       "    .dataframe tbody tr th:only-of-type {\n",
       "        vertical-align: middle;\n",
       "    }\n",
       "\n",
       "    .dataframe tbody tr th {\n",
       "        vertical-align: top;\n",
       "    }\n",
       "\n",
       "    .dataframe thead th {\n",
       "        text-align: right;\n",
       "    }\n",
       "</style>\n",
       "<table border=\"1\" class=\"dataframe\">\n",
       "  <thead>\n",
       "    <tr style=\"text-align: right;\">\n",
       "      <th></th>\n",
       "      <th>chol</th>\n",
       "      <th>stab.glu</th>\n",
       "      <th>hdl</th>\n",
       "      <th>ratio</th>\n",
       "      <th>glyhb</th>\n",
       "      <th>location</th>\n",
       "      <th>age</th>\n",
       "      <th>gender</th>\n",
       "      <th>height</th>\n",
       "      <th>weight</th>\n",
       "      <th>frame</th>\n",
       "      <th>bp.1s</th>\n",
       "      <th>bp.1d</th>\n",
       "      <th>bp.2s</th>\n",
       "      <th>bp.2d</th>\n",
       "      <th>waist</th>\n",
       "      <th>hip</th>\n",
       "      <th>time.ppn</th>\n",
       "      <th>height_meters</th>\n",
       "      <th>BMI</th>\n",
       "      <th>hip_waist_ratio</th>\n",
       "    </tr>\n",
       "  </thead>\n",
       "  <tbody>\n",
       "    <tr>\n",
       "      <th>0</th>\n",
       "      <td>156.700394</td>\n",
       "      <td>31</td>\n",
       "      <td>52.154896</td>\n",
       "      <td>3.314927</td>\n",
       "      <td>4.299748</td>\n",
       "      <td>1</td>\n",
       "      <td>7</td>\n",
       "      <td>1</td>\n",
       "      <td>68.496912</td>\n",
       "      <td>146.234609</td>\n",
       "      <td>2</td>\n",
       "      <td>121.623985</td>\n",
       "      <td>85.186571</td>\n",
       "      <td>151.973658</td>\n",
       "      <td>92.697071</td>\n",
       "      <td>29.222653</td>\n",
       "      <td>34.012633</td>\n",
       "      <td>761.958003</td>\n",
       "      <td>1.667030</td>\n",
       "      <td>53.028606</td>\n",
       "      <td>0.815154</td>\n",
       "    </tr>\n",
       "    <tr>\n",
       "      <th>1</th>\n",
       "      <td>205.708528</td>\n",
       "      <td>50</td>\n",
       "      <td>74.558454</td>\n",
       "      <td>2.397619</td>\n",
       "      <td>4.750497</td>\n",
       "      <td>1</td>\n",
       "      <td>50</td>\n",
       "      <td>0</td>\n",
       "      <td>67.514518</td>\n",
       "      <td>155.252176</td>\n",
       "      <td>1</td>\n",
       "      <td>130.264602</td>\n",
       "      <td>88.848128</td>\n",
       "      <td>152.708004</td>\n",
       "      <td>92.802874</td>\n",
       "      <td>32.887620</td>\n",
       "      <td>40.640470</td>\n",
       "      <td>715.021735</td>\n",
       "      <td>1.681850</td>\n",
       "      <td>42.542497</td>\n",
       "      <td>0.855346</td>\n",
       "    </tr>\n",
       "    <tr>\n",
       "      <th>2</th>\n",
       "      <td>184.259740</td>\n",
       "      <td>39</td>\n",
       "      <td>50.107744</td>\n",
       "      <td>2.436952</td>\n",
       "      <td>5.033467</td>\n",
       "      <td>1</td>\n",
       "      <td>56</td>\n",
       "      <td>0</td>\n",
       "      <td>63.226992</td>\n",
       "      <td>134.186382</td>\n",
       "      <td>2</td>\n",
       "      <td>133.617710</td>\n",
       "      <td>94.615906</td>\n",
       "      <td>153.064309</td>\n",
       "      <td>92.212116</td>\n",
       "      <td>32.548504</td>\n",
       "      <td>36.741043</td>\n",
       "      <td>210.965098</td>\n",
       "      <td>1.565997</td>\n",
       "      <td>54.781513</td>\n",
       "      <td>0.863442</td>\n",
       "    </tr>\n",
       "    <tr>\n",
       "      <th>3</th>\n",
       "      <td>236.859522</td>\n",
       "      <td>40</td>\n",
       "      <td>46.163972</td>\n",
       "      <td>3.794523</td>\n",
       "      <td>5.382256</td>\n",
       "      <td>0</td>\n",
       "      <td>51</td>\n",
       "      <td>0</td>\n",
       "      <td>66.799333</td>\n",
       "      <td>202.246191</td>\n",
       "      <td>0</td>\n",
       "      <td>206.689504</td>\n",
       "      <td>79.333852</td>\n",
       "      <td>151.949308</td>\n",
       "      <td>92.541618</td>\n",
       "      <td>45.726840</td>\n",
       "      <td>50.127763</td>\n",
       "      <td>801.800590</td>\n",
       "      <td>1.752456</td>\n",
       "      <td>65.815471</td>\n",
       "      <td>0.851003</td>\n",
       "    </tr>\n",
       "    <tr>\n",
       "      <th>4</th>\n",
       "      <td>189.616025</td>\n",
       "      <td>92</td>\n",
       "      <td>40.045044</td>\n",
       "      <td>3.633247</td>\n",
       "      <td>4.634788</td>\n",
       "      <td>1</td>\n",
       "      <td>10</td>\n",
       "      <td>1</td>\n",
       "      <td>69.283944</td>\n",
       "      <td>186.218617</td>\n",
       "      <td>2</td>\n",
       "      <td>109.481572</td>\n",
       "      <td>67.017735</td>\n",
       "      <td>151.475941</td>\n",
       "      <td>92.036697</td>\n",
       "      <td>32.192694</td>\n",
       "      <td>41.216135</td>\n",
       "      <td>160.570897</td>\n",
       "      <td>1.779865</td>\n",
       "      <td>58.610103</td>\n",
       "      <td>0.890379</td>\n",
       "    </tr>\n",
       "    <tr>\n",
       "      <th>...</th>\n",
       "      <td>...</td>\n",
       "      <td>...</td>\n",
       "      <td>...</td>\n",
       "      <td>...</td>\n",
       "      <td>...</td>\n",
       "      <td>...</td>\n",
       "      <td>...</td>\n",
       "      <td>...</td>\n",
       "      <td>...</td>\n",
       "      <td>...</td>\n",
       "      <td>...</td>\n",
       "      <td>...</td>\n",
       "      <td>...</td>\n",
       "      <td>...</td>\n",
       "      <td>...</td>\n",
       "      <td>...</td>\n",
       "      <td>...</td>\n",
       "      <td>...</td>\n",
       "      <td>...</td>\n",
       "      <td>...</td>\n",
       "      <td>...</td>\n",
       "    </tr>\n",
       "    <tr>\n",
       "      <th>6495</th>\n",
       "      <td>257.604430</td>\n",
       "      <td>98</td>\n",
       "      <td>35.771984</td>\n",
       "      <td>5.118372</td>\n",
       "      <td>4.753262</td>\n",
       "      <td>0</td>\n",
       "      <td>18</td>\n",
       "      <td>0</td>\n",
       "      <td>61.331854</td>\n",
       "      <td>235.607829</td>\n",
       "      <td>1</td>\n",
       "      <td>202.049036</td>\n",
       "      <td>102.549858</td>\n",
       "      <td>152.100496</td>\n",
       "      <td>83.917625</td>\n",
       "      <td>35.150511</td>\n",
       "      <td>53.406133</td>\n",
       "      <td>88.264917</td>\n",
       "      <td>1.529035</td>\n",
       "      <td>68.481644</td>\n",
       "      <td>0.855944</td>\n",
       "    </tr>\n",
       "    <tr>\n",
       "      <th>6496</th>\n",
       "      <td>162.296900</td>\n",
       "      <td>45</td>\n",
       "      <td>35.999784</td>\n",
       "      <td>5.681376</td>\n",
       "      <td>4.227569</td>\n",
       "      <td>1</td>\n",
       "      <td>4</td>\n",
       "      <td>0</td>\n",
       "      <td>65.386967</td>\n",
       "      <td>296.862677</td>\n",
       "      <td>1</td>\n",
       "      <td>121.976799</td>\n",
       "      <td>84.701618</td>\n",
       "      <td>125.647137</td>\n",
       "      <td>82.484329</td>\n",
       "      <td>39.052591</td>\n",
       "      <td>59.843454</td>\n",
       "      <td>443.647170</td>\n",
       "      <td>1.656517</td>\n",
       "      <td>80.007193</td>\n",
       "      <td>0.830202</td>\n",
       "    </tr>\n",
       "    <tr>\n",
       "      <th>6497</th>\n",
       "      <td>187.502574</td>\n",
       "      <td>57</td>\n",
       "      <td>33.007135</td>\n",
       "      <td>4.111922</td>\n",
       "      <td>5.364477</td>\n",
       "      <td>1</td>\n",
       "      <td>20</td>\n",
       "      <td>0</td>\n",
       "      <td>66.676238</td>\n",
       "      <td>190.406558</td>\n",
       "      <td>1</td>\n",
       "      <td>114.021723</td>\n",
       "      <td>76.921248</td>\n",
       "      <td>151.736385</td>\n",
       "      <td>93.133092</td>\n",
       "      <td>49.009939</td>\n",
       "      <td>64.824856</td>\n",
       "      <td>187.248003</td>\n",
       "      <td>1.722115</td>\n",
       "      <td>115.404367</td>\n",
       "      <td>0.820453</td>\n",
       "    </tr>\n",
       "    <tr>\n",
       "      <th>6498</th>\n",
       "      <td>182.580909</td>\n",
       "      <td>32</td>\n",
       "      <td>52.969260</td>\n",
       "      <td>2.549922</td>\n",
       "      <td>4.153793</td>\n",
       "      <td>1</td>\n",
       "      <td>16</td>\n",
       "      <td>0</td>\n",
       "      <td>61.393461</td>\n",
       "      <td>132.810153</td>\n",
       "      <td>2</td>\n",
       "      <td>106.366161</td>\n",
       "      <td>66.361413</td>\n",
       "      <td>151.984054</td>\n",
       "      <td>92.246495</td>\n",
       "      <td>31.932760</td>\n",
       "      <td>46.220675</td>\n",
       "      <td>895.800788</td>\n",
       "      <td>1.542742</td>\n",
       "      <td>65.397955</td>\n",
       "      <td>0.777446</td>\n",
       "    </tr>\n",
       "    <tr>\n",
       "      <th>6499</th>\n",
       "      <td>101.290703</td>\n",
       "      <td>94</td>\n",
       "      <td>28.458160</td>\n",
       "      <td>6.511101</td>\n",
       "      <td>8.391174</td>\n",
       "      <td>0</td>\n",
       "      <td>46</td>\n",
       "      <td>1</td>\n",
       "      <td>65.889821</td>\n",
       "      <td>313.736387</td>\n",
       "      <td>0</td>\n",
       "      <td>183.061726</td>\n",
       "      <td>109.086086</td>\n",
       "      <td>140.006507</td>\n",
       "      <td>85.340720</td>\n",
       "      <td>49.858667</td>\n",
       "      <td>52.974802</td>\n",
       "      <td>157.157333</td>\n",
       "      <td>1.597931</td>\n",
       "      <td>77.849449</td>\n",
       "      <td>0.920231</td>\n",
       "    </tr>\n",
       "  </tbody>\n",
       "</table>\n",
       "<p>6500 rows × 21 columns</p>\n",
       "</div>"
      ],
      "text/plain": [
       "            chol  stab.glu        hdl     ratio     glyhb  location  age  \\\n",
       "0     156.700394        31  52.154896  3.314927  4.299748         1    7   \n",
       "1     205.708528        50  74.558454  2.397619  4.750497         1   50   \n",
       "2     184.259740        39  50.107744  2.436952  5.033467         1   56   \n",
       "3     236.859522        40  46.163972  3.794523  5.382256         0   51   \n",
       "4     189.616025        92  40.045044  3.633247  4.634788         1   10   \n",
       "...          ...       ...        ...       ...       ...       ...  ...   \n",
       "6495  257.604430        98  35.771984  5.118372  4.753262         0   18   \n",
       "6496  162.296900        45  35.999784  5.681376  4.227569         1    4   \n",
       "6497  187.502574        57  33.007135  4.111922  5.364477         1   20   \n",
       "6498  182.580909        32  52.969260  2.549922  4.153793         1   16   \n",
       "6499  101.290703        94  28.458160  6.511101  8.391174         0   46   \n",
       "\n",
       "      gender     height      weight  frame       bp.1s       bp.1d  \\\n",
       "0          1  68.496912  146.234609      2  121.623985   85.186571   \n",
       "1          0  67.514518  155.252176      1  130.264602   88.848128   \n",
       "2          0  63.226992  134.186382      2  133.617710   94.615906   \n",
       "3          0  66.799333  202.246191      0  206.689504   79.333852   \n",
       "4          1  69.283944  186.218617      2  109.481572   67.017735   \n",
       "...      ...        ...         ...    ...         ...         ...   \n",
       "6495       0  61.331854  235.607829      1  202.049036  102.549858   \n",
       "6496       0  65.386967  296.862677      1  121.976799   84.701618   \n",
       "6497       0  66.676238  190.406558      1  114.021723   76.921248   \n",
       "6498       0  61.393461  132.810153      2  106.366161   66.361413   \n",
       "6499       1  65.889821  313.736387      0  183.061726  109.086086   \n",
       "\n",
       "           bp.2s      bp.2d      waist        hip    time.ppn  height_meters  \\\n",
       "0     151.973658  92.697071  29.222653  34.012633  761.958003       1.667030   \n",
       "1     152.708004  92.802874  32.887620  40.640470  715.021735       1.681850   \n",
       "2     153.064309  92.212116  32.548504  36.741043  210.965098       1.565997   \n",
       "3     151.949308  92.541618  45.726840  50.127763  801.800590       1.752456   \n",
       "4     151.475941  92.036697  32.192694  41.216135  160.570897       1.779865   \n",
       "...          ...        ...        ...        ...         ...            ...   \n",
       "6495  152.100496  83.917625  35.150511  53.406133   88.264917       1.529035   \n",
       "6496  125.647137  82.484329  39.052591  59.843454  443.647170       1.656517   \n",
       "6497  151.736385  93.133092  49.009939  64.824856  187.248003       1.722115   \n",
       "6498  151.984054  92.246495  31.932760  46.220675  895.800788       1.542742   \n",
       "6499  140.006507  85.340720  49.858667  52.974802  157.157333       1.597931   \n",
       "\n",
       "             BMI  hip_waist_ratio  \n",
       "0      53.028606         0.815154  \n",
       "1      42.542497         0.855346  \n",
       "2      54.781513         0.863442  \n",
       "3      65.815471         0.851003  \n",
       "4      58.610103         0.890379  \n",
       "...          ...              ...  \n",
       "6495   68.481644         0.855944  \n",
       "6496   80.007193         0.830202  \n",
       "6497  115.404367         0.820453  \n",
       "6498   65.397955         0.777446  \n",
       "6499   77.849449         0.920231  \n",
       "\n",
       "[6500 rows x 21 columns]"
      ]
     },
     "execution_count": 8,
     "metadata": {},
     "output_type": "execute_result"
    }
   ],
   "source": [
    "x"
   ]
  },
  {
   "cell_type": "code",
   "execution_count": 9,
   "metadata": {},
   "outputs": [
    {
     "data": {
      "text/plain": [
       "0       0\n",
       "1       1\n",
       "2       0\n",
       "3       1\n",
       "4       1\n",
       "       ..\n",
       "6495    1\n",
       "6496    0\n",
       "6497    1\n",
       "6498    0\n",
       "6499    1\n",
       "Name: diabetic, Length: 6500, dtype: int64"
      ]
     },
     "execution_count": 9,
     "metadata": {},
     "output_type": "execute_result"
    }
   ],
   "source": [
    "y"
   ]
  },
  {
   "cell_type": "markdown",
   "metadata": {},
   "source": [
    "RANDOMM FOREST TRAINING"
   ]
  },
  {
   "cell_type": "code",
   "execution_count": 10,
   "metadata": {},
   "outputs": [],
   "source": [
    "x_train, x_test, y_train, y_test = train_test_split(x, y, test_size=0.3, random_state=17)\n"
   ]
  },
  {
   "cell_type": "code",
   "execution_count": 11,
   "metadata": {},
   "outputs": [
    {
     "data": {
      "text/html": [
       "<div>\n",
       "<style scoped>\n",
       "    .dataframe tbody tr th:only-of-type {\n",
       "        vertical-align: middle;\n",
       "    }\n",
       "\n",
       "    .dataframe tbody tr th {\n",
       "        vertical-align: top;\n",
       "    }\n",
       "\n",
       "    .dataframe thead th {\n",
       "        text-align: right;\n",
       "    }\n",
       "</style>\n",
       "<table border=\"1\" class=\"dataframe\">\n",
       "  <thead>\n",
       "    <tr style=\"text-align: right;\">\n",
       "      <th></th>\n",
       "      <th>chol</th>\n",
       "      <th>stab.glu</th>\n",
       "      <th>hdl</th>\n",
       "      <th>ratio</th>\n",
       "      <th>glyhb</th>\n",
       "      <th>location</th>\n",
       "      <th>age</th>\n",
       "      <th>gender</th>\n",
       "      <th>height</th>\n",
       "      <th>weight</th>\n",
       "      <th>frame</th>\n",
       "      <th>bp.1s</th>\n",
       "      <th>bp.1d</th>\n",
       "      <th>bp.2s</th>\n",
       "      <th>bp.2d</th>\n",
       "      <th>waist</th>\n",
       "      <th>hip</th>\n",
       "      <th>time.ppn</th>\n",
       "      <th>height_meters</th>\n",
       "      <th>BMI</th>\n",
       "      <th>hip_waist_ratio</th>\n",
       "    </tr>\n",
       "  </thead>\n",
       "  <tbody>\n",
       "    <tr>\n",
       "      <th>2550</th>\n",
       "      <td>215.987842</td>\n",
       "      <td>127</td>\n",
       "      <td>29.889151</td>\n",
       "      <td>6.554891</td>\n",
       "      <td>9.832528</td>\n",
       "      <td>0</td>\n",
       "      <td>42</td>\n",
       "      <td>0</td>\n",
       "      <td>60.369422</td>\n",
       "      <td>254.020897</td>\n",
       "      <td>0</td>\n",
       "      <td>153.279870</td>\n",
       "      <td>89.115398</td>\n",
       "      <td>130.908500</td>\n",
       "      <td>85.107914</td>\n",
       "      <td>43.688492</td>\n",
       "      <td>48.831739</td>\n",
       "      <td>133.597501</td>\n",
       "      <td>1.509555</td>\n",
       "      <td>89.508485</td>\n",
       "      <td>0.977900</td>\n",
       "    </tr>\n",
       "    <tr>\n",
       "      <th>1697</th>\n",
       "      <td>169.808118</td>\n",
       "      <td>88</td>\n",
       "      <td>32.116434</td>\n",
       "      <td>6.423277</td>\n",
       "      <td>6.670956</td>\n",
       "      <td>1</td>\n",
       "      <td>58</td>\n",
       "      <td>1</td>\n",
       "      <td>62.263550</td>\n",
       "      <td>201.388951</td>\n",
       "      <td>0</td>\n",
       "      <td>175.937034</td>\n",
       "      <td>71.158303</td>\n",
       "      <td>151.773368</td>\n",
       "      <td>92.911414</td>\n",
       "      <td>40.288993</td>\n",
       "      <td>50.471264</td>\n",
       "      <td>130.288624</td>\n",
       "      <td>1.645463</td>\n",
       "      <td>69.116004</td>\n",
       "      <td>0.893912</td>\n",
       "    </tr>\n",
       "    <tr>\n",
       "      <th>676</th>\n",
       "      <td>284.149653</td>\n",
       "      <td>91</td>\n",
       "      <td>36.224982</td>\n",
       "      <td>5.327700</td>\n",
       "      <td>10.644512</td>\n",
       "      <td>0</td>\n",
       "      <td>46</td>\n",
       "      <td>1</td>\n",
       "      <td>61.969629</td>\n",
       "      <td>197.463541</td>\n",
       "      <td>1</td>\n",
       "      <td>180.932719</td>\n",
       "      <td>81.828026</td>\n",
       "      <td>151.923641</td>\n",
       "      <td>92.366777</td>\n",
       "      <td>47.705389</td>\n",
       "      <td>41.371145</td>\n",
       "      <td>47.314570</td>\n",
       "      <td>1.668729</td>\n",
       "      <td>74.453740</td>\n",
       "      <td>1.070344</td>\n",
       "    </tr>\n",
       "    <tr>\n",
       "      <th>1016</th>\n",
       "      <td>144.870407</td>\n",
       "      <td>24</td>\n",
       "      <td>88.266929</td>\n",
       "      <td>2.432068</td>\n",
       "      <td>3.458608</td>\n",
       "      <td>1</td>\n",
       "      <td>7</td>\n",
       "      <td>0</td>\n",
       "      <td>69.750116</td>\n",
       "      <td>145.522197</td>\n",
       "      <td>2</td>\n",
       "      <td>108.379313</td>\n",
       "      <td>62.437562</td>\n",
       "      <td>152.471649</td>\n",
       "      <td>92.635420</td>\n",
       "      <td>27.468380</td>\n",
       "      <td>38.804305</td>\n",
       "      <td>18.828681</td>\n",
       "      <td>1.712402</td>\n",
       "      <td>43.879763</td>\n",
       "      <td>0.808907</td>\n",
       "    </tr>\n",
       "    <tr>\n",
       "      <th>4471</th>\n",
       "      <td>169.087708</td>\n",
       "      <td>35</td>\n",
       "      <td>28.342206</td>\n",
       "      <td>3.835004</td>\n",
       "      <td>10.225937</td>\n",
       "      <td>1</td>\n",
       "      <td>43</td>\n",
       "      <td>1</td>\n",
       "      <td>69.784685</td>\n",
       "      <td>263.361334</td>\n",
       "      <td>1</td>\n",
       "      <td>151.314932</td>\n",
       "      <td>87.720073</td>\n",
       "      <td>151.642116</td>\n",
       "      <td>92.944248</td>\n",
       "      <td>47.578428</td>\n",
       "      <td>56.058084</td>\n",
       "      <td>160.454623</td>\n",
       "      <td>1.728200</td>\n",
       "      <td>75.420614</td>\n",
       "      <td>0.891799</td>\n",
       "    </tr>\n",
       "    <tr>\n",
       "      <th>...</th>\n",
       "      <td>...</td>\n",
       "      <td>...</td>\n",
       "      <td>...</td>\n",
       "      <td>...</td>\n",
       "      <td>...</td>\n",
       "      <td>...</td>\n",
       "      <td>...</td>\n",
       "      <td>...</td>\n",
       "      <td>...</td>\n",
       "      <td>...</td>\n",
       "      <td>...</td>\n",
       "      <td>...</td>\n",
       "      <td>...</td>\n",
       "      <td>...</td>\n",
       "      <td>...</td>\n",
       "      <td>...</td>\n",
       "      <td>...</td>\n",
       "      <td>...</td>\n",
       "      <td>...</td>\n",
       "      <td>...</td>\n",
       "      <td>...</td>\n",
       "    </tr>\n",
       "    <tr>\n",
       "      <th>1337</th>\n",
       "      <td>154.295822</td>\n",
       "      <td>25</td>\n",
       "      <td>100.027163</td>\n",
       "      <td>2.524766</td>\n",
       "      <td>3.999447</td>\n",
       "      <td>1</td>\n",
       "      <td>13</td>\n",
       "      <td>0</td>\n",
       "      <td>64.691987</td>\n",
       "      <td>139.871960</td>\n",
       "      <td>2</td>\n",
       "      <td>109.388362</td>\n",
       "      <td>64.711240</td>\n",
       "      <td>152.346265</td>\n",
       "      <td>92.870291</td>\n",
       "      <td>33.109413</td>\n",
       "      <td>44.978894</td>\n",
       "      <td>373.736798</td>\n",
       "      <td>1.643846</td>\n",
       "      <td>62.607979</td>\n",
       "      <td>0.793008</td>\n",
       "    </tr>\n",
       "    <tr>\n",
       "      <th>406</th>\n",
       "      <td>156.227637</td>\n",
       "      <td>87</td>\n",
       "      <td>47.839854</td>\n",
       "      <td>2.523222</td>\n",
       "      <td>7.781261</td>\n",
       "      <td>1</td>\n",
       "      <td>45</td>\n",
       "      <td>1</td>\n",
       "      <td>70.158174</td>\n",
       "      <td>192.927221</td>\n",
       "      <td>1</td>\n",
       "      <td>128.445536</td>\n",
       "      <td>69.198215</td>\n",
       "      <td>152.561443</td>\n",
       "      <td>92.339677</td>\n",
       "      <td>41.802011</td>\n",
       "      <td>46.231660</td>\n",
       "      <td>667.391313</td>\n",
       "      <td>1.652999</td>\n",
       "      <td>65.858508</td>\n",
       "      <td>0.876827</td>\n",
       "    </tr>\n",
       "    <tr>\n",
       "      <th>5510</th>\n",
       "      <td>187.602257</td>\n",
       "      <td>98</td>\n",
       "      <td>22.046356</td>\n",
       "      <td>3.598695</td>\n",
       "      <td>7.228946</td>\n",
       "      <td>1</td>\n",
       "      <td>15</td>\n",
       "      <td>0</td>\n",
       "      <td>65.948055</td>\n",
       "      <td>165.136452</td>\n",
       "      <td>1</td>\n",
       "      <td>129.862923</td>\n",
       "      <td>78.768958</td>\n",
       "      <td>151.861421</td>\n",
       "      <td>92.836544</td>\n",
       "      <td>37.881022</td>\n",
       "      <td>47.154249</td>\n",
       "      <td>532.786982</td>\n",
       "      <td>1.710824</td>\n",
       "      <td>64.926971</td>\n",
       "      <td>0.807972</td>\n",
       "    </tr>\n",
       "    <tr>\n",
       "      <th>2191</th>\n",
       "      <td>232.622323</td>\n",
       "      <td>103</td>\n",
       "      <td>49.208181</td>\n",
       "      <td>3.745909</td>\n",
       "      <td>13.565362</td>\n",
       "      <td>1</td>\n",
       "      <td>53</td>\n",
       "      <td>1</td>\n",
       "      <td>63.986653</td>\n",
       "      <td>162.053121</td>\n",
       "      <td>0</td>\n",
       "      <td>145.448211</td>\n",
       "      <td>91.414708</td>\n",
       "      <td>152.430319</td>\n",
       "      <td>92.546891</td>\n",
       "      <td>32.338770</td>\n",
       "      <td>46.918695</td>\n",
       "      <td>1135.207562</td>\n",
       "      <td>1.567735</td>\n",
       "      <td>62.397981</td>\n",
       "      <td>0.848266</td>\n",
       "    </tr>\n",
       "    <tr>\n",
       "      <th>2671</th>\n",
       "      <td>204.802273</td>\n",
       "      <td>39</td>\n",
       "      <td>54.635403</td>\n",
       "      <td>4.979533</td>\n",
       "      <td>5.117058</td>\n",
       "      <td>0</td>\n",
       "      <td>39</td>\n",
       "      <td>0</td>\n",
       "      <td>57.883978</td>\n",
       "      <td>283.609679</td>\n",
       "      <td>1</td>\n",
       "      <td>147.761847</td>\n",
       "      <td>101.801565</td>\n",
       "      <td>131.004378</td>\n",
       "      <td>90.256058</td>\n",
       "      <td>42.779389</td>\n",
       "      <td>51.570558</td>\n",
       "      <td>149.683000</td>\n",
       "      <td>1.495829</td>\n",
       "      <td>86.876582</td>\n",
       "      <td>0.835695</td>\n",
       "    </tr>\n",
       "  </tbody>\n",
       "</table>\n",
       "<p>4550 rows × 21 columns</p>\n",
       "</div>"
      ],
      "text/plain": [
       "            chol  stab.glu         hdl     ratio      glyhb  location  age  \\\n",
       "2550  215.987842       127   29.889151  6.554891   9.832528         0   42   \n",
       "1697  169.808118        88   32.116434  6.423277   6.670956         1   58   \n",
       "676   284.149653        91   36.224982  5.327700  10.644512         0   46   \n",
       "1016  144.870407        24   88.266929  2.432068   3.458608         1    7   \n",
       "4471  169.087708        35   28.342206  3.835004  10.225937         1   43   \n",
       "...          ...       ...         ...       ...        ...       ...  ...   \n",
       "1337  154.295822        25  100.027163  2.524766   3.999447         1   13   \n",
       "406   156.227637        87   47.839854  2.523222   7.781261         1   45   \n",
       "5510  187.602257        98   22.046356  3.598695   7.228946         1   15   \n",
       "2191  232.622323       103   49.208181  3.745909  13.565362         1   53   \n",
       "2671  204.802273        39   54.635403  4.979533   5.117058         0   39   \n",
       "\n",
       "      gender     height      weight  frame       bp.1s       bp.1d  \\\n",
       "2550       0  60.369422  254.020897      0  153.279870   89.115398   \n",
       "1697       1  62.263550  201.388951      0  175.937034   71.158303   \n",
       "676        1  61.969629  197.463541      1  180.932719   81.828026   \n",
       "1016       0  69.750116  145.522197      2  108.379313   62.437562   \n",
       "4471       1  69.784685  263.361334      1  151.314932   87.720073   \n",
       "...      ...        ...         ...    ...         ...         ...   \n",
       "1337       0  64.691987  139.871960      2  109.388362   64.711240   \n",
       "406        1  70.158174  192.927221      1  128.445536   69.198215   \n",
       "5510       0  65.948055  165.136452      1  129.862923   78.768958   \n",
       "2191       1  63.986653  162.053121      0  145.448211   91.414708   \n",
       "2671       0  57.883978  283.609679      1  147.761847  101.801565   \n",
       "\n",
       "           bp.2s      bp.2d      waist        hip     time.ppn  height_meters  \\\n",
       "2550  130.908500  85.107914  43.688492  48.831739   133.597501       1.509555   \n",
       "1697  151.773368  92.911414  40.288993  50.471264   130.288624       1.645463   \n",
       "676   151.923641  92.366777  47.705389  41.371145    47.314570       1.668729   \n",
       "1016  152.471649  92.635420  27.468380  38.804305    18.828681       1.712402   \n",
       "4471  151.642116  92.944248  47.578428  56.058084   160.454623       1.728200   \n",
       "...          ...        ...        ...        ...          ...            ...   \n",
       "1337  152.346265  92.870291  33.109413  44.978894   373.736798       1.643846   \n",
       "406   152.561443  92.339677  41.802011  46.231660   667.391313       1.652999   \n",
       "5510  151.861421  92.836544  37.881022  47.154249   532.786982       1.710824   \n",
       "2191  152.430319  92.546891  32.338770  46.918695  1135.207562       1.567735   \n",
       "2671  131.004378  90.256058  42.779389  51.570558   149.683000       1.495829   \n",
       "\n",
       "            BMI  hip_waist_ratio  \n",
       "2550  89.508485         0.977900  \n",
       "1697  69.116004         0.893912  \n",
       "676   74.453740         1.070344  \n",
       "1016  43.879763         0.808907  \n",
       "4471  75.420614         0.891799  \n",
       "...         ...              ...  \n",
       "1337  62.607979         0.793008  \n",
       "406   65.858508         0.876827  \n",
       "5510  64.926971         0.807972  \n",
       "2191  62.397981         0.848266  \n",
       "2671  86.876582         0.835695  \n",
       "\n",
       "[4550 rows x 21 columns]"
      ]
     },
     "execution_count": 11,
     "metadata": {},
     "output_type": "execute_result"
    }
   ],
   "source": [
    "x_train"
   ]
  },
  {
   "cell_type": "code",
   "execution_count": 12,
   "metadata": {},
   "outputs": [],
   "source": [
    "forest_model  = RandomForestClassifier(n_jobs=-1, random_state=42)"
   ]
  },
  {
   "cell_type": "code",
   "execution_count": 13,
   "metadata": {},
   "outputs": [
    {
     "name": "stdout",
     "output_type": "stream",
     "text": [
      "Wall time: 4.51 s\n"
     ]
    },
    {
     "data": {
      "text/plain": [
       "RandomForestClassifier(n_jobs=-1, random_state=42)"
      ]
     },
     "execution_count": 13,
     "metadata": {},
     "output_type": "execute_result"
    }
   ],
   "source": [
    "%%time \n",
    "forest_model.fit(x_train, y_train)"
   ]
  },
  {
   "cell_type": "code",
   "execution_count": 14,
   "metadata": {},
   "outputs": [
    {
     "data": {
      "text/plain": [
       "1.0"
      ]
     },
     "execution_count": 14,
     "metadata": {},
     "output_type": "execute_result"
    }
   ],
   "source": [
    "forest_model.score(x_train, y_train)"
   ]
  },
  {
   "cell_type": "code",
   "execution_count": 15,
   "metadata": {},
   "outputs": [
    {
     "data": {
      "text/plain": [
       "array([[0.01, 0.99],\n",
       "       [0.04, 0.96],\n",
       "       [0.01, 0.99],\n",
       "       ...,\n",
       "       [0.02, 0.98],\n",
       "       [0.01, 0.99],\n",
       "       [0.1 , 0.9 ]])"
      ]
     },
     "execution_count": 15,
     "metadata": {},
     "output_type": "execute_result"
    }
   ],
   "source": [
    "forest_train_probability = forest_model.predict_proba(x_train)\n",
    "forest_train_probability"
   ]
  },
  {
   "cell_type": "code",
   "execution_count": 16,
   "metadata": {},
   "outputs": [
    {
     "data": {
      "text/plain": [
       "DecisionTreeClassifier(max_features='auto', random_state=1608637542)"
      ]
     },
     "execution_count": 16,
     "metadata": {},
     "output_type": "execute_result"
    }
   ],
   "source": [
    "forest_model.estimators_[0]"
   ]
  },
  {
   "cell_type": "code",
   "execution_count": 17,
   "metadata": {},
   "outputs": [
    {
     "data": {
      "text/plain": [
       "100"
      ]
     },
     "execution_count": 17,
     "metadata": {},
     "output_type": "execute_result"
    }
   ],
   "source": [
    "len(forest_model.estimators_)"
   ]
  },
  {
   "cell_type": "code",
   "execution_count": 18,
   "metadata": {},
   "outputs": [],
   "source": [
    "forest_importance_df = pd.DataFrame({\n",
    "    'feature' : x_train.columns, \n",
    "    'importance' : forest_model.feature_importances_\n",
    "}).sort_values('importance', ascending=False)"
   ]
  },
  {
   "cell_type": "code",
   "execution_count": 19,
   "metadata": {},
   "outputs": [
    {
     "data": {
      "text/html": [
       "<div>\n",
       "<style scoped>\n",
       "    .dataframe tbody tr th:only-of-type {\n",
       "        vertical-align: middle;\n",
       "    }\n",
       "\n",
       "    .dataframe tbody tr th {\n",
       "        vertical-align: top;\n",
       "    }\n",
       "\n",
       "    .dataframe thead th {\n",
       "        text-align: right;\n",
       "    }\n",
       "</style>\n",
       "<table border=\"1\" class=\"dataframe\">\n",
       "  <thead>\n",
       "    <tr style=\"text-align: right;\">\n",
       "      <th></th>\n",
       "      <th>feature</th>\n",
       "      <th>importance</th>\n",
       "    </tr>\n",
       "  </thead>\n",
       "  <tbody>\n",
       "    <tr>\n",
       "      <th>4</th>\n",
       "      <td>glyhb</td>\n",
       "      <td>0.233803</td>\n",
       "    </tr>\n",
       "    <tr>\n",
       "      <th>1</th>\n",
       "      <td>stab.glu</td>\n",
       "      <td>0.125633</td>\n",
       "    </tr>\n",
       "    <tr>\n",
       "      <th>6</th>\n",
       "      <td>age</td>\n",
       "      <td>0.074011</td>\n",
       "    </tr>\n",
       "    <tr>\n",
       "      <th>11</th>\n",
       "      <td>bp.1s</td>\n",
       "      <td>0.047111</td>\n",
       "    </tr>\n",
       "    <tr>\n",
       "      <th>15</th>\n",
       "      <td>waist</td>\n",
       "      <td>0.046380</td>\n",
       "    </tr>\n",
       "    <tr>\n",
       "      <th>17</th>\n",
       "      <td>time.ppn</td>\n",
       "      <td>0.044662</td>\n",
       "    </tr>\n",
       "    <tr>\n",
       "      <th>12</th>\n",
       "      <td>bp.1d</td>\n",
       "      <td>0.044639</td>\n",
       "    </tr>\n",
       "    <tr>\n",
       "      <th>2</th>\n",
       "      <td>hdl</td>\n",
       "      <td>0.043055</td>\n",
       "    </tr>\n",
       "    <tr>\n",
       "      <th>13</th>\n",
       "      <td>bp.2s</td>\n",
       "      <td>0.039973</td>\n",
       "    </tr>\n",
       "    <tr>\n",
       "      <th>0</th>\n",
       "      <td>chol</td>\n",
       "      <td>0.035615</td>\n",
       "    </tr>\n",
       "  </tbody>\n",
       "</table>\n",
       "</div>"
      ],
      "text/plain": [
       "     feature  importance\n",
       "4      glyhb    0.233803\n",
       "1   stab.glu    0.125633\n",
       "6        age    0.074011\n",
       "11     bp.1s    0.047111\n",
       "15     waist    0.046380\n",
       "17  time.ppn    0.044662\n",
       "12     bp.1d    0.044639\n",
       "2        hdl    0.043055\n",
       "13     bp.2s    0.039973\n",
       "0       chol    0.035615"
      ]
     },
     "execution_count": 19,
     "metadata": {},
     "output_type": "execute_result"
    }
   ],
   "source": [
    "forest_importance_df.head(10)"
   ]
  },
  {
   "cell_type": "code",
   "execution_count": 20,
   "metadata": {},
   "outputs": [
    {
     "data": {
      "text/plain": [
       "<AxesSubplot:title={'center':'Feature Importance'}, xlabel='importance', ylabel='feature'>"
      ]
     },
     "execution_count": 20,
     "metadata": {},
     "output_type": "execute_result"
    },
    {
     "data": {
      "image/png": "[encoded data removed]",
      "text/plain": [
       "<Figure size 720x432 with 1 Axes>"
      ]
     },
     "metadata": {},
     "output_type": "display_data"
    }
   ],
   "source": [
    "plt.title('Feature Importance')\n",
    "sns.barplot(data=forest_importance_df.head(10), x='importance', y='feature')"
   ]
  },
  {
   "cell_type": "code",
   "execution_count": 21,
   "metadata": {},
   "outputs": [],
   "source": [
    "base_forest_model = RandomForestClassifier(random_state=42, n_jobs=-1).fit(x_train, y_train)"
   ]
  },
  {
   "cell_type": "code",
   "execution_count": 22,
   "metadata": {},
   "outputs": [],
   "source": [
    "base_train_accuracy = base_forest_model.score(x_train, y_train)"
   ]
  },
  {
   "cell_type": "code",
   "execution_count": 23,
   "metadata": {},
   "outputs": [
    {
     "data": {
      "text/plain": [
       "1.0"
      ]
     },
     "execution_count": 23,
     "metadata": {},
     "output_type": "execute_result"
    }
   ],
   "source": [
    "base_accuracy = base_train_accuracy\n",
    "base_accuracy"
   ]
  },
  {
   "cell_type": "code",
   "execution_count": 24,
   "metadata": {},
   "outputs": [],
   "source": [
    "forest_model_1 = RandomForestClassifier(random_state=42, n_jobs=-1, n_estimators=10).fit(x_train, y_train)"
   ]
  },
  {
   "cell_type": "code",
   "execution_count": 25,
   "metadata": {},
   "outputs": [
    {
     "data": {
      "text/plain": [
       "0.9947252747252747"
      ]
     },
     "execution_count": 25,
     "metadata": {},
     "output_type": "execute_result"
    }
   ],
   "source": [
    "forest_model_1.score(x_train, y_train)"
   ]
  },
  {
   "cell_type": "code",
   "execution_count": 26,
   "metadata": {},
   "outputs": [],
   "source": [
    "forest_model_2 = RandomForestClassifier(random_state=42, n_jobs=-1, n_estimators=500).fit(x_train, y_train)\n"
   ]
  },
  {
   "cell_type": "code",
   "execution_count": 27,
   "metadata": {},
   "outputs": [
    {
     "data": {
      "text/plain": [
       "1.0"
      ]
     },
     "execution_count": 27,
     "metadata": {},
     "output_type": "execute_result"
    }
   ],
   "source": [
    "forest_model_2.score(x_train, y_train)"
   ]
  },
  {
   "cell_type": "code",
   "execution_count": 28,
   "metadata": {},
   "outputs": [],
   "source": [
    "def estimator_no_error(est):\n",
    "    forest_model_3 = RandomForestClassifier(random_state=42, n_jobs=-1, n_estimators=est)\n",
    "    forest_model_3.fit(x_train, y_train)\n",
    "\n",
    "    forest_train_accuracy = 1 - forest_model_3.score(x_train, y_train)\n",
    "\n",
    "    return {\n",
    "        'No. of Estimators' : est, \n",
    "        'Training Error' : forest_train_accuracy\n",
    "        }"
   ]
  },
  {
   "cell_type": "code",
   "execution_count": 29,
   "metadata": {},
   "outputs": [
    {
     "name": "stdout",
     "output_type": "stream",
     "text": [
      "Wall time: 2.67 s\n"
     ]
    }
   ],
   "source": [
    "%%time\n",
    "forest_error_df = pd.DataFrame([estimator_no_error(est) for est in range(1, 10)])"
   ]
  },
  {
   "cell_type": "code",
   "execution_count": 30,
   "metadata": {},
   "outputs": [
    {
     "data": {
      "text/html": [
       "<div>\n",
       "<style scoped>\n",
       "    .dataframe tbody tr th:only-of-type {\n",
       "        vertical-align: middle;\n",
       "    }\n",
       "\n",
       "    .dataframe tbody tr th {\n",
       "        vertical-align: top;\n",
       "    }\n",
       "\n",
       "    .dataframe thead th {\n",
       "        text-align: right;\n",
       "    }\n",
       "</style>\n",
       "<table border=\"1\" class=\"dataframe\">\n",
       "  <thead>\n",
       "    <tr style=\"text-align: right;\">\n",
       "      <th></th>\n",
       "      <th>No. of Estimators</th>\n",
       "      <th>Training Error</th>\n",
       "    </tr>\n",
       "  </thead>\n",
       "  <tbody>\n",
       "    <tr>\n",
       "      <th>0</th>\n",
       "      <td>1</td>\n",
       "      <td>0.080220</td>\n",
       "    </tr>\n",
       "    <tr>\n",
       "      <th>1</th>\n",
       "      <td>2</td>\n",
       "      <td>0.080879</td>\n",
       "    </tr>\n",
       "    <tr>\n",
       "      <th>2</th>\n",
       "      <td>3</td>\n",
       "      <td>0.030769</td>\n",
       "    </tr>\n",
       "    <tr>\n",
       "      <th>3</th>\n",
       "      <td>4</td>\n",
       "      <td>0.025934</td>\n",
       "    </tr>\n",
       "    <tr>\n",
       "      <th>4</th>\n",
       "      <td>5</td>\n",
       "      <td>0.016703</td>\n",
       "    </tr>\n",
       "    <tr>\n",
       "      <th>5</th>\n",
       "      <td>6</td>\n",
       "      <td>0.011209</td>\n",
       "    </tr>\n",
       "    <tr>\n",
       "      <th>6</th>\n",
       "      <td>7</td>\n",
       "      <td>0.011209</td>\n",
       "    </tr>\n",
       "    <tr>\n",
       "      <th>7</th>\n",
       "      <td>8</td>\n",
       "      <td>0.007473</td>\n",
       "    </tr>\n",
       "    <tr>\n",
       "      <th>8</th>\n",
       "      <td>9</td>\n",
       "      <td>0.007473</td>\n",
       "    </tr>\n",
       "  </tbody>\n",
       "</table>\n",
       "</div>"
      ],
      "text/plain": [
       "   No. of Estimators  Training Error\n",
       "0                  1        0.080220\n",
       "1                  2        0.080879\n",
       "2                  3        0.030769\n",
       "3                  4        0.025934\n",
       "4                  5        0.016703\n",
       "5                  6        0.011209\n",
       "6                  7        0.011209\n",
       "7                  8        0.007473\n",
       "8                  9        0.007473"
      ]
     },
     "execution_count": 30,
     "metadata": {},
     "output_type": "execute_result"
    }
   ],
   "source": [
    "forest_error_df"
   ]
  },
  {
   "cell_type": "code",
   "execution_count": 31,
   "metadata": {},
   "outputs": [
    {
     "data": {
      "text/plain": [
       "<matplotlib.legend.Legend at 0x1d662e83fa0>"
      ]
     },
     "execution_count": 31,
     "metadata": {},
     "output_type": "execute_result"
    },
    {
     "data": {
      "image/png": "[encoded data removed]",
      "text/plain": [
       "<Figure size 720x432 with 1 Axes>"
      ]
     },
     "metadata": {},
     "output_type": "display_data"
    }
   ],
   "source": [
    "plt.figure()\n",
    "plt.plot(forest_error_df['No. of Estimators'], forest_error_df['Training Error'])\n",
    "\n",
    "plt.title('Training Error')\n",
    "\n",
    "plt.xticks(range(0,10,2))\n",
    "\n",
    "plt.xlabel('Max. Estimators')\n",
    "plt.ylabel('Prediction Error (1 - Accuracy)')\n",
    "\n",
    "plt.legend(['Training'])"
   ]
  },
  {
   "cell_type": "code",
   "execution_count": 32,
   "metadata": {},
   "outputs": [],
   "source": [
    "def test_params(**params):\n",
    "    rf_model = RandomForestClassifier(random_state=42, n_jobs=-1, **params).fit(x_train, y_train)\n",
    "    return rf_model.score(x_train, y_train)"
   ]
  },
  {
   "cell_type": "code",
   "execution_count": 33,
   "metadata": {},
   "outputs": [
    {
     "data": {
      "text/plain": [
       "0.8848351648351649"
      ]
     },
     "execution_count": 33,
     "metadata": {},
     "output_type": "execute_result"
    }
   ],
   "source": [
    "test_params(max_depth=5)"
   ]
  },
  {
   "cell_type": "code",
   "execution_count": 34,
   "metadata": {},
   "outputs": [
    {
     "data": {
      "text/plain": [
       "1.0"
      ]
     },
     "execution_count": 34,
     "metadata": {},
     "output_type": "execute_result"
    }
   ],
   "source": [
    "test_params(max_depth=26)"
   ]
  },
  {
   "cell_type": "code",
   "execution_count": 35,
   "metadata": {},
   "outputs": [],
   "source": [
    "def depth_max(dm):\n",
    "    forest_model_3 = RandomForestClassifier(random_state=42, n_jobs=-1, max_depth=dm)\n",
    "    forest_model_3.fit(x_train, y_train)\n",
    "\n",
    "    forest_train_accuracy = 1 - forest_model_3.score(x_train, y_train)\n",
    "\n",
    "    return {\n",
    "        'Max depth' : dm, \n",
    "        'Training Error' : forest_train_accuracy\n",
    "        }"
   ]
  },
  {
   "cell_type": "code",
   "execution_count": 115,
   "metadata": {},
   "outputs": [
    {
     "name": "stdout",
     "output_type": "stream",
     "text": [
      "Wall time: 1min 16s\n"
     ]
    }
   ],
   "source": [
    "%%time\n",
    "max_depth_df = pd.DataFrame([depth_max(dm) for dm in range(1, 25)])"
   ]
  },
  {
   "cell_type": "code",
   "execution_count": 116,
   "metadata": {},
   "outputs": [
    {
     "data": {
      "text/html": [
       "<div>\n",
       "<style scoped>\n",
       "    .dataframe tbody tr th:only-of-type {\n",
       "        vertical-align: middle;\n",
       "    }\n",
       "\n",
       "    .dataframe tbody tr th {\n",
       "        vertical-align: top;\n",
       "    }\n",
       "\n",
       "    .dataframe thead th {\n",
       "        text-align: right;\n",
       "    }\n",
       "</style>\n",
       "<table border=\"1\" class=\"dataframe\">\n",
       "  <thead>\n",
       "    <tr style=\"text-align: right;\">\n",
       "      <th></th>\n",
       "      <th>Max depth</th>\n",
       "      <th>Training Error</th>\n",
       "    </tr>\n",
       "  </thead>\n",
       "  <tbody>\n",
       "    <tr>\n",
       "      <th>0</th>\n",
       "      <td>1</td>\n",
       "      <td>0.258462</td>\n",
       "    </tr>\n",
       "    <tr>\n",
       "      <th>1</th>\n",
       "      <td>2</td>\n",
       "      <td>0.165055</td>\n",
       "    </tr>\n",
       "    <tr>\n",
       "      <th>2</th>\n",
       "      <td>3</td>\n",
       "      <td>0.146154</td>\n",
       "    </tr>\n",
       "    <tr>\n",
       "      <th>3</th>\n",
       "      <td>4</td>\n",
       "      <td>0.129231</td>\n",
       "    </tr>\n",
       "    <tr>\n",
       "      <th>4</th>\n",
       "      <td>5</td>\n",
       "      <td>0.115165</td>\n",
       "    </tr>\n",
       "    <tr>\n",
       "      <th>5</th>\n",
       "      <td>6</td>\n",
       "      <td>0.103956</td>\n",
       "    </tr>\n",
       "    <tr>\n",
       "      <th>6</th>\n",
       "      <td>7</td>\n",
       "      <td>0.087033</td>\n",
       "    </tr>\n",
       "    <tr>\n",
       "      <th>7</th>\n",
       "      <td>8</td>\n",
       "      <td>0.066813</td>\n",
       "    </tr>\n",
       "    <tr>\n",
       "      <th>8</th>\n",
       "      <td>9</td>\n",
       "      <td>0.050110</td>\n",
       "    </tr>\n",
       "    <tr>\n",
       "      <th>9</th>\n",
       "      <td>10</td>\n",
       "      <td>0.035824</td>\n",
       "    </tr>\n",
       "    <tr>\n",
       "      <th>10</th>\n",
       "      <td>11</td>\n",
       "      <td>0.026374</td>\n",
       "    </tr>\n",
       "    <tr>\n",
       "      <th>11</th>\n",
       "      <td>12</td>\n",
       "      <td>0.018022</td>\n",
       "    </tr>\n",
       "    <tr>\n",
       "      <th>12</th>\n",
       "      <td>13</td>\n",
       "      <td>0.012967</td>\n",
       "    </tr>\n",
       "    <tr>\n",
       "      <th>13</th>\n",
       "      <td>14</td>\n",
       "      <td>0.007033</td>\n",
       "    </tr>\n",
       "    <tr>\n",
       "      <th>14</th>\n",
       "      <td>15</td>\n",
       "      <td>0.003516</td>\n",
       "    </tr>\n",
       "    <tr>\n",
       "      <th>15</th>\n",
       "      <td>16</td>\n",
       "      <td>0.001758</td>\n",
       "    </tr>\n",
       "    <tr>\n",
       "      <th>16</th>\n",
       "      <td>17</td>\n",
       "      <td>0.000000</td>\n",
       "    </tr>\n",
       "    <tr>\n",
       "      <th>17</th>\n",
       "      <td>18</td>\n",
       "      <td>0.000000</td>\n",
       "    </tr>\n",
       "    <tr>\n",
       "      <th>18</th>\n",
       "      <td>19</td>\n",
       "      <td>0.000000</td>\n",
       "    </tr>\n",
       "    <tr>\n",
       "      <th>19</th>\n",
       "      <td>20</td>\n",
       "      <td>0.000000</td>\n",
       "    </tr>\n",
       "    <tr>\n",
       "      <th>20</th>\n",
       "      <td>21</td>\n",
       "      <td>0.000000</td>\n",
       "    </tr>\n",
       "    <tr>\n",
       "      <th>21</th>\n",
       "      <td>22</td>\n",
       "      <td>0.000000</td>\n",
       "    </tr>\n",
       "    <tr>\n",
       "      <th>22</th>\n",
       "      <td>23</td>\n",
       "      <td>0.000000</td>\n",
       "    </tr>\n",
       "    <tr>\n",
       "      <th>23</th>\n",
       "      <td>24</td>\n",
       "      <td>0.000000</td>\n",
       "    </tr>\n",
       "  </tbody>\n",
       "</table>\n",
       "</div>"
      ],
      "text/plain": [
       "    Max depth  Training Error\n",
       "0           1        0.258462\n",
       "1           2        0.165055\n",
       "2           3        0.146154\n",
       "3           4        0.129231\n",
       "4           5        0.115165\n",
       "5           6        0.103956\n",
       "6           7        0.087033\n",
       "7           8        0.066813\n",
       "8           9        0.050110\n",
       "9          10        0.035824\n",
       "10         11        0.026374\n",
       "11         12        0.018022\n",
       "12         13        0.012967\n",
       "13         14        0.007033\n",
       "14         15        0.003516\n",
       "15         16        0.001758\n",
       "16         17        0.000000\n",
       "17         18        0.000000\n",
       "18         19        0.000000\n",
       "19         20        0.000000\n",
       "20         21        0.000000\n",
       "21         22        0.000000\n",
       "22         23        0.000000\n",
       "23         24        0.000000"
      ]
     },
     "execution_count": 116,
     "metadata": {},
     "output_type": "execute_result"
    }
   ],
   "source": [
    "max_depth_df"
   ]
  },
  {
   "cell_type": "code",
   "execution_count": 117,
   "metadata": {},
   "outputs": [
    {
     "data": {
      "text/plain": [
       "<matplotlib.legend.Legend at 0x1d66b4a8880>"
      ]
     },
     "execution_count": 117,
     "metadata": {},
     "output_type": "execute_result"
    },
    {
     "data": {
      "image/png": "[encoded data removed]",
      "text/plain": [
       "<Figure size 720x432 with 1 Axes>"
      ]
     },
     "metadata": {},
     "output_type": "display_data"
    }
   ],
   "source": [
    "plt.figure()\n",
    "plt.plot(max_depth_df['Max depth'], max_depth_df['Training Error'])\n",
    "\n",
    "plt.title('Training Error')\n",
    "plt.xticks(range(0,26,2))\n",
    "plt.xlabel('Max depth')\n",
    "plt.ylabel('Prediction Error (1 - Accuracy)')\n",
    "plt.legend(['Training'])"
   ]
  },
  {
   "cell_type": "code",
   "execution_count": 39,
   "metadata": {},
   "outputs": [
    {
     "data": {
      "text/plain": [
       "0.8958241758241758"
      ]
     },
     "execution_count": 39,
     "metadata": {},
     "output_type": "execute_result"
    }
   ],
   "source": [
    "test_params(max_leaf_nodes= 2**5)"
   ]
  },
  {
   "cell_type": "code",
   "execution_count": 40,
   "metadata": {},
   "outputs": [
    {
     "data": {
      "text/plain": [
       "1.0"
      ]
     },
     "execution_count": 40,
     "metadata": {},
     "output_type": "execute_result"
    }
   ],
   "source": [
    "test_params(max_leaf_nodes= 2**20)"
   ]
  },
  {
   "cell_type": "code",
   "execution_count": 41,
   "metadata": {},
   "outputs": [
    {
     "data": {
      "text/plain": [
       "1.0"
      ]
     },
     "execution_count": 41,
     "metadata": {},
     "output_type": "execute_result"
    }
   ],
   "source": [
    "base_accuracy"
   ]
  },
  {
   "cell_type": "code",
   "execution_count": 42,
   "metadata": {},
   "outputs": [],
   "source": [
    "def max_leaf(ml):\n",
    "    forest_model_3 = RandomForestClassifier(random_state=42, n_jobs=-1, max_leaf_nodes=ml)\n",
    "    forest_model_3.fit(x_train, y_train)\n",
    "\n",
    "    forest_train_accuracy = 1 - forest_model_3.score(x_train, y_train)\n",
    "\n",
    "    return {\n",
    "        'Max leaf_nodes' : ml, \n",
    "        'Training Error' : forest_train_accuracy\n",
    "        }"
   ]
  },
  {
   "cell_type": "code",
   "execution_count": 114,
   "metadata": {},
   "outputs": [
    {
     "name": "stdout",
     "output_type": "stream",
     "text": [
      "Wall time: 1min 19s\n"
     ]
    }
   ],
   "source": [
    "%%time\n",
    "max_leaf_df = pd.DataFrame([max_leaf(ml) for ml in range(2, 32)])"
   ]
  },
  {
   "cell_type": "code",
   "execution_count": 118,
   "metadata": {},
   "outputs": [
    {
     "data": {
      "text/html": [
       "<div>\n",
       "<style scoped>\n",
       "    .dataframe tbody tr th:only-of-type {\n",
       "        vertical-align: middle;\n",
       "    }\n",
       "\n",
       "    .dataframe tbody tr th {\n",
       "        vertical-align: top;\n",
       "    }\n",
       "\n",
       "    .dataframe thead th {\n",
       "        text-align: right;\n",
       "    }\n",
       "</style>\n",
       "<table border=\"1\" class=\"dataframe\">\n",
       "  <thead>\n",
       "    <tr style=\"text-align: right;\">\n",
       "      <th></th>\n",
       "      <th>Max leaf_nodes</th>\n",
       "      <th>Training Error</th>\n",
       "    </tr>\n",
       "  </thead>\n",
       "  <tbody>\n",
       "    <tr>\n",
       "      <th>0</th>\n",
       "      <td>2</td>\n",
       "      <td>0.258462</td>\n",
       "    </tr>\n",
       "    <tr>\n",
       "      <th>1</th>\n",
       "      <td>3</td>\n",
       "      <td>0.172088</td>\n",
       "    </tr>\n",
       "    <tr>\n",
       "      <th>2</th>\n",
       "      <td>4</td>\n",
       "      <td>0.158242</td>\n",
       "    </tr>\n",
       "    <tr>\n",
       "      <th>3</th>\n",
       "      <td>5</td>\n",
       "      <td>0.155385</td>\n",
       "    </tr>\n",
       "    <tr>\n",
       "      <th>4</th>\n",
       "      <td>6</td>\n",
       "      <td>0.151868</td>\n",
       "    </tr>\n",
       "    <tr>\n",
       "      <th>5</th>\n",
       "      <td>7</td>\n",
       "      <td>0.148352</td>\n",
       "    </tr>\n",
       "    <tr>\n",
       "      <th>6</th>\n",
       "      <td>8</td>\n",
       "      <td>0.143736</td>\n",
       "    </tr>\n",
       "    <tr>\n",
       "      <th>7</th>\n",
       "      <td>9</td>\n",
       "      <td>0.137582</td>\n",
       "    </tr>\n",
       "    <tr>\n",
       "      <th>8</th>\n",
       "      <td>10</td>\n",
       "      <td>0.135604</td>\n",
       "    </tr>\n",
       "    <tr>\n",
       "      <th>9</th>\n",
       "      <td>11</td>\n",
       "      <td>0.132747</td>\n",
       "    </tr>\n",
       "    <tr>\n",
       "      <th>10</th>\n",
       "      <td>12</td>\n",
       "      <td>0.130330</td>\n",
       "    </tr>\n",
       "    <tr>\n",
       "      <th>11</th>\n",
       "      <td>13</td>\n",
       "      <td>0.127253</td>\n",
       "    </tr>\n",
       "    <tr>\n",
       "      <th>12</th>\n",
       "      <td>14</td>\n",
       "      <td>0.125275</td>\n",
       "    </tr>\n",
       "    <tr>\n",
       "      <th>13</th>\n",
       "      <td>15</td>\n",
       "      <td>0.123956</td>\n",
       "    </tr>\n",
       "    <tr>\n",
       "      <th>14</th>\n",
       "      <td>16</td>\n",
       "      <td>0.122857</td>\n",
       "    </tr>\n",
       "    <tr>\n",
       "      <th>15</th>\n",
       "      <td>17</td>\n",
       "      <td>0.120220</td>\n",
       "    </tr>\n",
       "    <tr>\n",
       "      <th>16</th>\n",
       "      <td>18</td>\n",
       "      <td>0.118022</td>\n",
       "    </tr>\n",
       "    <tr>\n",
       "      <th>17</th>\n",
       "      <td>19</td>\n",
       "      <td>0.116484</td>\n",
       "    </tr>\n",
       "    <tr>\n",
       "      <th>18</th>\n",
       "      <td>20</td>\n",
       "      <td>0.115165</td>\n",
       "    </tr>\n",
       "    <tr>\n",
       "      <th>19</th>\n",
       "      <td>21</td>\n",
       "      <td>0.114066</td>\n",
       "    </tr>\n",
       "    <tr>\n",
       "      <th>20</th>\n",
       "      <td>22</td>\n",
       "      <td>0.114286</td>\n",
       "    </tr>\n",
       "    <tr>\n",
       "      <th>21</th>\n",
       "      <td>23</td>\n",
       "      <td>0.112967</td>\n",
       "    </tr>\n",
       "    <tr>\n",
       "      <th>22</th>\n",
       "      <td>24</td>\n",
       "      <td>0.111648</td>\n",
       "    </tr>\n",
       "    <tr>\n",
       "      <th>23</th>\n",
       "      <td>25</td>\n",
       "      <td>0.111429</td>\n",
       "    </tr>\n",
       "    <tr>\n",
       "      <th>24</th>\n",
       "      <td>26</td>\n",
       "      <td>0.110330</td>\n",
       "    </tr>\n",
       "    <tr>\n",
       "      <th>25</th>\n",
       "      <td>27</td>\n",
       "      <td>0.109451</td>\n",
       "    </tr>\n",
       "    <tr>\n",
       "      <th>26</th>\n",
       "      <td>28</td>\n",
       "      <td>0.108132</td>\n",
       "    </tr>\n",
       "    <tr>\n",
       "      <th>27</th>\n",
       "      <td>29</td>\n",
       "      <td>0.106593</td>\n",
       "    </tr>\n",
       "    <tr>\n",
       "      <th>28</th>\n",
       "      <td>30</td>\n",
       "      <td>0.105934</td>\n",
       "    </tr>\n",
       "    <tr>\n",
       "      <th>29</th>\n",
       "      <td>31</td>\n",
       "      <td>0.105275</td>\n",
       "    </tr>\n",
       "  </tbody>\n",
       "</table>\n",
       "</div>"
      ],
      "text/plain": [
       "    Max leaf_nodes  Training Error\n",
       "0                2        0.258462\n",
       "1                3        0.172088\n",
       "2                4        0.158242\n",
       "3                5        0.155385\n",
       "4                6        0.151868\n",
       "5                7        0.148352\n",
       "6                8        0.143736\n",
       "7                9        0.137582\n",
       "8               10        0.135604\n",
       "9               11        0.132747\n",
       "10              12        0.130330\n",
       "11              13        0.127253\n",
       "12              14        0.125275\n",
       "13              15        0.123956\n",
       "14              16        0.122857\n",
       "15              17        0.120220\n",
       "16              18        0.118022\n",
       "17              19        0.116484\n",
       "18              20        0.115165\n",
       "19              21        0.114066\n",
       "20              22        0.114286\n",
       "21              23        0.112967\n",
       "22              24        0.111648\n",
       "23              25        0.111429\n",
       "24              26        0.110330\n",
       "25              27        0.109451\n",
       "26              28        0.108132\n",
       "27              29        0.106593\n",
       "28              30        0.105934\n",
       "29              31        0.105275"
      ]
     },
     "execution_count": 118,
     "metadata": {},
     "output_type": "execute_result"
    }
   ],
   "source": [
    "max_leaf_df"
   ]
  },
  {
   "cell_type": "code",
   "execution_count": 45,
   "metadata": {},
   "outputs": [
    {
     "data": {
      "text/plain": [
       "<matplotlib.legend.Legend at 0x1d662f2f9a0>"
      ]
     },
     "execution_count": 45,
     "metadata": {},
     "output_type": "execute_result"
    },
    {
     "data": {
      "image/png": "[encoded data removed]",
      "text/plain": [
       "<Figure size 720x432 with 1 Axes>"
      ]
     },
     "metadata": {},
     "output_type": "display_data"
    }
   ],
   "source": [
    "plt.figure()\n",
    "plt.plot(max_leaf_df['Max leaf_nodes'], max_leaf_df['Training Error'])\n",
    "\n",
    "plt.title('Training vs Error')\n",
    "plt.xticks(range(0,20,2))\n",
    "plt.xlabel('Max leaf_nodes')\n",
    "plt.ylabel('Prediction Error (1 - Accuracy)')\n",
    "plt.legend(['Training'])"
   ]
  },
  {
   "cell_type": "code",
   "execution_count": 46,
   "metadata": {},
   "outputs": [
    {
     "data": {
      "text/plain": [
       "1.0"
      ]
     },
     "execution_count": 46,
     "metadata": {},
     "output_type": "execute_result"
    }
   ],
   "source": [
    "test_params(max_features='log2')"
   ]
  },
  {
   "cell_type": "code",
   "execution_count": 47,
   "metadata": {},
   "outputs": [
    {
     "data": {
      "text/plain": [
       "1.0"
      ]
     },
     "execution_count": 47,
     "metadata": {},
     "output_type": "execute_result"
    }
   ],
   "source": [
    "test_params(max_features=3)"
   ]
  },
  {
   "cell_type": "code",
   "execution_count": 48,
   "metadata": {},
   "outputs": [],
   "source": [
    "def features_max(mf):\n",
    "    forest_model_3 = RandomForestClassifier(random_state=42, n_jobs=-1, max_features=mf)\n",
    "    forest_model_3.fit(x_train, y_train)\n",
    "\n",
    "    forest_train_accuracy = 1 - forest_model_3.score(x_train, y_train)\n",
    "\n",
    "    return {\n",
    "        'Max features' : mf, \n",
    "        'Training Error' : forest_train_accuracy\n",
    "        }"
   ]
  },
  {
   "cell_type": "code",
   "execution_count": 49,
   "metadata": {},
   "outputs": [],
   "source": [
    "max_leaf_df = pd.DataFrame([features_max('log2')])"
   ]
  },
  {
   "cell_type": "code",
   "execution_count": 50,
   "metadata": {},
   "outputs": [
    {
     "data": {
      "text/html": [
       "<div>\n",
       "<style scoped>\n",
       "    .dataframe tbody tr th:only-of-type {\n",
       "        vertical-align: middle;\n",
       "    }\n",
       "\n",
       "    .dataframe tbody tr th {\n",
       "        vertical-align: top;\n",
       "    }\n",
       "\n",
       "    .dataframe thead th {\n",
       "        text-align: right;\n",
       "    }\n",
       "</style>\n",
       "<table border=\"1\" class=\"dataframe\">\n",
       "  <thead>\n",
       "    <tr style=\"text-align: right;\">\n",
       "      <th></th>\n",
       "      <th>Max features</th>\n",
       "      <th>Training Error</th>\n",
       "    </tr>\n",
       "  </thead>\n",
       "  <tbody>\n",
       "    <tr>\n",
       "      <th>0</th>\n",
       "      <td>log2</td>\n",
       "      <td>0.0</td>\n",
       "    </tr>\n",
       "  </tbody>\n",
       "</table>\n",
       "</div>"
      ],
      "text/plain": [
       "  Max features  Training Error\n",
       "0         log2             0.0"
      ]
     },
     "execution_count": 50,
     "metadata": {},
     "output_type": "execute_result"
    }
   ],
   "source": [
    "max_leaf_df"
   ]
  },
  {
   "cell_type": "code",
   "execution_count": 51,
   "metadata": {},
   "outputs": [],
   "source": [
    "max_leaf_df = pd.DataFrame([features_max('sqrt')])"
   ]
  },
  {
   "cell_type": "code",
   "execution_count": 52,
   "metadata": {},
   "outputs": [
    {
     "data": {
      "text/html": [
       "<div>\n",
       "<style scoped>\n",
       "    .dataframe tbody tr th:only-of-type {\n",
       "        vertical-align: middle;\n",
       "    }\n",
       "\n",
       "    .dataframe tbody tr th {\n",
       "        vertical-align: top;\n",
       "    }\n",
       "\n",
       "    .dataframe thead th {\n",
       "        text-align: right;\n",
       "    }\n",
       "</style>\n",
       "<table border=\"1\" class=\"dataframe\">\n",
       "  <thead>\n",
       "    <tr style=\"text-align: right;\">\n",
       "      <th></th>\n",
       "      <th>Max features</th>\n",
       "      <th>Training Error</th>\n",
       "    </tr>\n",
       "  </thead>\n",
       "  <tbody>\n",
       "    <tr>\n",
       "      <th>0</th>\n",
       "      <td>sqrt</td>\n",
       "      <td>0.0</td>\n",
       "    </tr>\n",
       "  </tbody>\n",
       "</table>\n",
       "</div>"
      ],
      "text/plain": [
       "  Max features  Training Error\n",
       "0         sqrt             0.0"
      ]
     },
     "execution_count": 52,
     "metadata": {},
     "output_type": "execute_result"
    }
   ],
   "source": [
    "max_leaf_df"
   ]
  },
  {
   "cell_type": "code",
   "execution_count": 53,
   "metadata": {},
   "outputs": [],
   "source": [
    "max_leaf_df = pd.DataFrame([features_max('auto')])"
   ]
  },
  {
   "cell_type": "code",
   "execution_count": 54,
   "metadata": {},
   "outputs": [
    {
     "data": {
      "text/html": [
       "<div>\n",
       "<style scoped>\n",
       "    .dataframe tbody tr th:only-of-type {\n",
       "        vertical-align: middle;\n",
       "    }\n",
       "\n",
       "    .dataframe tbody tr th {\n",
       "        vertical-align: top;\n",
       "    }\n",
       "\n",
       "    .dataframe thead th {\n",
       "        text-align: right;\n",
       "    }\n",
       "</style>\n",
       "<table border=\"1\" class=\"dataframe\">\n",
       "  <thead>\n",
       "    <tr style=\"text-align: right;\">\n",
       "      <th></th>\n",
       "      <th>Max features</th>\n",
       "      <th>Training Error</th>\n",
       "    </tr>\n",
       "  </thead>\n",
       "  <tbody>\n",
       "    <tr>\n",
       "      <th>0</th>\n",
       "      <td>auto</td>\n",
       "      <td>0.0</td>\n",
       "    </tr>\n",
       "  </tbody>\n",
       "</table>\n",
       "</div>"
      ],
      "text/plain": [
       "  Max features  Training Error\n",
       "0         auto             0.0"
      ]
     },
     "execution_count": 54,
     "metadata": {},
     "output_type": "execute_result"
    }
   ],
   "source": [
    "max_leaf_df"
   ]
  },
  {
   "cell_type": "code",
   "execution_count": 55,
   "metadata": {},
   "outputs": [],
   "source": [
    "max_leaf_df = pd.DataFrame([features_max(None)])"
   ]
  },
  {
   "cell_type": "code",
   "execution_count": 56,
   "metadata": {},
   "outputs": [
    {
     "data": {
      "text/html": [
       "<div>\n",
       "<style scoped>\n",
       "    .dataframe tbody tr th:only-of-type {\n",
       "        vertical-align: middle;\n",
       "    }\n",
       "\n",
       "    .dataframe tbody tr th {\n",
       "        vertical-align: top;\n",
       "    }\n",
       "\n",
       "    .dataframe thead th {\n",
       "        text-align: right;\n",
       "    }\n",
       "</style>\n",
       "<table border=\"1\" class=\"dataframe\">\n",
       "  <thead>\n",
       "    <tr style=\"text-align: right;\">\n",
       "      <th></th>\n",
       "      <th>Max features</th>\n",
       "      <th>Training Error</th>\n",
       "    </tr>\n",
       "  </thead>\n",
       "  <tbody>\n",
       "    <tr>\n",
       "      <th>0</th>\n",
       "      <td>None</td>\n",
       "      <td>0.0</td>\n",
       "    </tr>\n",
       "  </tbody>\n",
       "</table>\n",
       "</div>"
      ],
      "text/plain": [
       "  Max features  Training Error\n",
       "0         None             0.0"
      ]
     },
     "execution_count": 56,
     "metadata": {},
     "output_type": "execute_result"
    }
   ],
   "source": [
    "max_leaf_df"
   ]
  },
  {
   "cell_type": "code",
   "execution_count": 57,
   "metadata": {},
   "outputs": [
    {
     "data": {
      "text/plain": [
       "0.9854945054945055"
      ]
     },
     "execution_count": 57,
     "metadata": {},
     "output_type": "execute_result"
    }
   ],
   "source": [
    "test_params(min_samples_split=3, min_samples_leaf=2)"
   ]
  },
  {
   "cell_type": "code",
   "execution_count": 58,
   "metadata": {},
   "outputs": [
    {
     "data": {
      "text/plain": [
       "0.9105494505494506"
      ]
     },
     "execution_count": 58,
     "metadata": {},
     "output_type": "execute_result"
    }
   ],
   "source": [
    "test_params(min_samples_split=20, min_samples_leaf=14)"
   ]
  },
  {
   "cell_type": "code",
   "execution_count": 59,
   "metadata": {},
   "outputs": [
    {
     "data": {
      "text/plain": [
       "1.0"
      ]
     },
     "execution_count": 59,
     "metadata": {},
     "output_type": "execute_result"
    }
   ],
   "source": [
    "test_params(min_impurity_decrease=1e-7)"
   ]
  },
  {
   "cell_type": "code",
   "execution_count": 77,
   "metadata": {},
   "outputs": [
    {
     "data": {
      "text/plain": [
       "0.983956043956044"
      ]
     },
     "execution_count": 77,
     "metadata": {},
     "output_type": "execute_result"
    }
   ],
   "source": [
    "test_params(min_impurity_decrease=1e-4)"
   ]
  },
  {
   "cell_type": "code",
   "execution_count": 75,
   "metadata": {},
   "outputs": [
    {
     "data": {
      "text/plain": [
       "1.0"
      ]
     },
     "execution_count": 75,
     "metadata": {},
     "output_type": "execute_result"
    }
   ],
   "source": [
    "test_params(bootstrap=True)"
   ]
  },
  {
   "cell_type": "code",
   "execution_count": 176,
   "metadata": {},
   "outputs": [
    {
     "data": {
      "text/plain": [
       "0.9578021978021978"
      ]
     },
     "execution_count": 176,
     "metadata": {},
     "output_type": "execute_result"
    }
   ],
   "source": [
    "test_params(bootstrap=True, max_samples=0.4)"
   ]
  },
  {
   "cell_type": "code",
   "execution_count": 195,
   "metadata": {},
   "outputs": [],
   "source": [
    "final_rf = RandomForestClassifier(\n",
    "    random_state=42,\n",
    "    n_estimators=10,\n",
    "    max_features='auto',\n",
    "    max_depth=16,\n",
    "    max_leaf_nodes=35,\n",
    "    min_samples_split=40, \n",
    "    min_samples_leaf=34,\n",
    "    min_impurity_decrease=1e-4,\n",
    "    bootstrap=True, \n",
    "    max_samples=0.4,\n",
    "    class_weight={1 : 1, 0 : 1.5}\n",
    ")"
   ]
  },
  {
   "cell_type": "code",
   "execution_count": 196,
   "metadata": {},
   "outputs": [
    {
     "data": {
      "text/plain": [
       "RandomForestClassifier(class_weight={0: 1.5, 1: 1}, max_depth=16,\n",
       "                       max_leaf_nodes=35, max_samples=0.4,\n",
       "                       min_impurity_decrease=0.0001, min_samples_leaf=34,\n",
       "                       min_samples_split=40, n_estimators=10, random_state=42)"
      ]
     },
     "execution_count": 196,
     "metadata": {},
     "output_type": "execute_result"
    }
   ],
   "source": [
    "final_rf.fit(x_train, y_train)"
   ]
  },
  {
   "cell_type": "code",
   "execution_count": 197,
   "metadata": {},
   "outputs": [
    {
     "data": {
      "text/plain": [
       "0.8729670329670329"
      ]
     },
     "execution_count": 197,
     "metadata": {},
     "output_type": "execute_result"
    }
   ],
   "source": [
    "final_rf.score(x_train, y_train)"
   ]
  },
  {
   "cell_type": "code",
   "execution_count": 198,
   "metadata": {},
   "outputs": [],
   "source": [
    "y_pred = final_rf.predict(x_test)"
   ]
  },
  {
   "cell_type": "code",
   "execution_count": 199,
   "metadata": {},
   "outputs": [],
   "source": [
    "rmse = np.sqrt(mse(y_test, y_pred))"
   ]
  },
  {
   "cell_type": "code",
   "execution_count": 200,
   "metadata": {},
   "outputs": [
    {
     "data": {
      "text/plain": [
       "0.3651483716701107"
      ]
     },
     "execution_count": 200,
     "metadata": {},
     "output_type": "execute_result"
    }
   ],
   "source": [
    "rmse"
   ]
  },
  {
   "cell_type": "code",
   "execution_count": 201,
   "metadata": {},
   "outputs": [],
   "source": [
    "def predict_discrete (final_rf, single_input):\n",
    "    input_df = pd.DataFrame([single_input])\n",
    "    #input_df[numerical_cols] = imputer.transform(input_df[numerical_cols])\n",
    "    #input_df[numerical_cols] = scaler.transform(input_df[numerical_cols])\n",
    "    #input_df[encoded_cols] = encoder.transform(input_df[categorical_cols])\n",
    "\n",
    "    x_input = input_df\n",
    "    predictions = final_rf.predict(x_input)[0]\n",
    "    probability = final_rf.predict_proba(x_input)[0][list(final_rf.classes_).index(predictions)]\n",
    "\n",
    "    return predictions, probability"
   ]
  },
  {
   "cell_type": "code",
   "execution_count": 202,
   "metadata": {},
   "outputs": [],
   "source": [
    "new_input = {'chol': 203,\n",
    "             'stab.glu' : 27,\n",
    "             'hdl' : 56,\n",
    "             'ratio': 3.6,\n",
    "             'glyhb': 4.31,\n",
    "             'location' : 0,\n",
    "             'age': 27,\n",
    "            'gender': 0,\n",
    "            'height': 62,\n",
    "            'weight': 121,\n",
    "            'frame': 1,\n",
    "            'bp.1s': 118,\n",
    "            'bp.1d': 59,\n",
    "            'bp.2s': 152.38,\n",
    "       'bp.2d': 92.52,\n",
    "       'waist': 29,\n",
    "       'hip': 38, \n",
    "       'time.ppn': 720, \n",
    "       'height_meters': 1.57,\n",
    "       'BMI': 49.79,\n",
    "       'hip_waist_ratio': 0.76\n",
    "       }"
   ]
  },
  {
   "cell_type": "code",
   "execution_count": 203,
   "metadata": {},
   "outputs": [
    {
     "data": {
      "text/plain": [
       "(0, 0.5858698177524881)"
      ]
     },
     "execution_count": 203,
     "metadata": {},
     "output_type": "execute_result"
    }
   ],
   "source": [
    "predict_discrete(final_rf, new_input)"
   ]
  },
  {
   "cell_type": "markdown",
   "metadata": {},
   "source": [
    "import pickle\n",
    "filename = 'diabetes_predictor.sav'\n",
    "pickle.dump(final_rf, open(filename, 'wb'))"
   ]
  }
 ],
 "metadata": {
  "interpreter": {
   "hash": "153b441b79b186a170e66d39f3ac68da9dc112e187bf195c7a204943ec397faa"
  },
  "kernelspec": {
   "display_name": "Python 3.9.10 64-bit",
   "language": "python",
   "name": "python3"
  },
  "language_info": {
   "codemirror_mode": {
    "name": "ipython",
    "version": 3
   },
   "file_extension": ".py",
   "mimetype": "text/x-python",
   "name": "python",
   "nbconvert_exporter": "python",
   "pygments_lexer": "ipython3",
   "version": "3.9.10"
  },
  "orig_nbformat": 4
 },
 "nbformat": 4,
 "nbformat_minor": 2
}
