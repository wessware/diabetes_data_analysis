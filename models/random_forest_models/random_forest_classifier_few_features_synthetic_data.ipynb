{
 "cells": [
  {
   "cell_type": "code",
   "execution_count": 1,
   "metadata": {},
   "outputs": [],
   "source": [
    "\n",
    "import matplotlib.pyplot as plt \n",
    "import seaborn as sns\n",
    "\n",
    "import pandas as pd \n",
    "import numpy as np \n",
    "import matplotlib\n",
    "\n",
    "from sklearn.preprocessing import MinMaxScaler\n",
    "from sklearn.tree import plot_tree, export_text\n",
    "from sklearn.ensemble import RandomForestClassifier\n",
    "from sklearn.metrics import mean_squared_error as mse\n",
    "from sklearn.model_selection import train_test_split"
   ]
  },
  {
   "cell_type": "code",
   "execution_count": 2,
   "metadata": {},
   "outputs": [],
   "source": [
    "pd.set_option('display.max_columns', None)\n",
    "pd.set_option('display.max_rows', 150)\n",
    "sns.set_style('darkgrid')\n",
    "matplotlib.rcParams['font.size'] = 14\n",
    "matplotlib.rcParams['figure.figsize'] = (10, 6)\n",
    "matplotlib.rcParams['figure.facecolor'] = '#000000'"
   ]
  },
  {
   "cell_type": "code",
   "execution_count": 3,
   "metadata": {},
   "outputs": [],
   "source": [
    "df = pd.read_csv('../../datasets/synthesized_diabetes_data.csv')"
   ]
  },
  {
   "cell_type": "code",
   "execution_count": 4,
   "metadata": {},
   "outputs": [
    {
     "data": {
      "text/html": [
       "<div>\n",
       "<style scoped>\n",
       "    .dataframe tbody tr th:only-of-type {\n",
       "        vertical-align: middle;\n",
       "    }\n",
       "\n",
       "    .dataframe tbody tr th {\n",
       "        vertical-align: top;\n",
       "    }\n",
       "\n",
       "    .dataframe thead th {\n",
       "        text-align: right;\n",
       "    }\n",
       "</style>\n",
       "<table border=\"1\" class=\"dataframe\">\n",
       "  <thead>\n",
       "    <tr style=\"text-align: right;\">\n",
       "      <th></th>\n",
       "      <th>chol</th>\n",
       "      <th>stab.glu</th>\n",
       "      <th>hdl</th>\n",
       "      <th>ratio</th>\n",
       "      <th>glyhb</th>\n",
       "      <th>location</th>\n",
       "      <th>age</th>\n",
       "      <th>gender</th>\n",
       "      <th>height</th>\n",
       "      <th>weight</th>\n",
       "      <th>frame</th>\n",
       "      <th>bp.1s</th>\n",
       "      <th>bp.1d</th>\n",
       "      <th>bp.2s</th>\n",
       "      <th>bp.2d</th>\n",
       "      <th>waist</th>\n",
       "      <th>hip</th>\n",
       "      <th>time.ppn</th>\n",
       "      <th>height_meters</th>\n",
       "      <th>BMI</th>\n",
       "      <th>hip_waist_ratio</th>\n",
       "      <th>diabetic</th>\n",
       "    </tr>\n",
       "  </thead>\n",
       "  <tbody>\n",
       "    <tr>\n",
       "      <th>0</th>\n",
       "      <td>156.700394</td>\n",
       "      <td>31</td>\n",
       "      <td>52.154896</td>\n",
       "      <td>3.314927</td>\n",
       "      <td>4.299748</td>\n",
       "      <td>1</td>\n",
       "      <td>7</td>\n",
       "      <td>1</td>\n",
       "      <td>68.496912</td>\n",
       "      <td>146.234609</td>\n",
       "      <td>2</td>\n",
       "      <td>121.623985</td>\n",
       "      <td>85.186571</td>\n",
       "      <td>151.973658</td>\n",
       "      <td>92.697071</td>\n",
       "      <td>29.222653</td>\n",
       "      <td>34.012633</td>\n",
       "      <td>761.958003</td>\n",
       "      <td>1.667030</td>\n",
       "      <td>53.028606</td>\n",
       "      <td>0.815154</td>\n",
       "      <td>0</td>\n",
       "    </tr>\n",
       "    <tr>\n",
       "      <th>1</th>\n",
       "      <td>205.708528</td>\n",
       "      <td>50</td>\n",
       "      <td>74.558454</td>\n",
       "      <td>2.397619</td>\n",
       "      <td>4.750497</td>\n",
       "      <td>1</td>\n",
       "      <td>50</td>\n",
       "      <td>0</td>\n",
       "      <td>67.514518</td>\n",
       "      <td>155.252176</td>\n",
       "      <td>1</td>\n",
       "      <td>130.264602</td>\n",
       "      <td>88.848128</td>\n",
       "      <td>152.708004</td>\n",
       "      <td>92.802874</td>\n",
       "      <td>32.887620</td>\n",
       "      <td>40.640470</td>\n",
       "      <td>715.021735</td>\n",
       "      <td>1.681850</td>\n",
       "      <td>42.542497</td>\n",
       "      <td>0.855346</td>\n",
       "      <td>1</td>\n",
       "    </tr>\n",
       "    <tr>\n",
       "      <th>2</th>\n",
       "      <td>184.259740</td>\n",
       "      <td>39</td>\n",
       "      <td>50.107744</td>\n",
       "      <td>2.436952</td>\n",
       "      <td>5.033467</td>\n",
       "      <td>1</td>\n",
       "      <td>56</td>\n",
       "      <td>0</td>\n",
       "      <td>63.226992</td>\n",
       "      <td>134.186382</td>\n",
       "      <td>2</td>\n",
       "      <td>133.617710</td>\n",
       "      <td>94.615906</td>\n",
       "      <td>153.064309</td>\n",
       "      <td>92.212116</td>\n",
       "      <td>32.548504</td>\n",
       "      <td>36.741043</td>\n",
       "      <td>210.965098</td>\n",
       "      <td>1.565997</td>\n",
       "      <td>54.781513</td>\n",
       "      <td>0.863442</td>\n",
       "      <td>0</td>\n",
       "    </tr>\n",
       "    <tr>\n",
       "      <th>3</th>\n",
       "      <td>236.859522</td>\n",
       "      <td>40</td>\n",
       "      <td>46.163972</td>\n",
       "      <td>3.794523</td>\n",
       "      <td>5.382256</td>\n",
       "      <td>0</td>\n",
       "      <td>51</td>\n",
       "      <td>0</td>\n",
       "      <td>66.799333</td>\n",
       "      <td>202.246191</td>\n",
       "      <td>0</td>\n",
       "      <td>206.689504</td>\n",
       "      <td>79.333852</td>\n",
       "      <td>151.949308</td>\n",
       "      <td>92.541618</td>\n",
       "      <td>45.726840</td>\n",
       "      <td>50.127763</td>\n",
       "      <td>801.800590</td>\n",
       "      <td>1.752456</td>\n",
       "      <td>65.815471</td>\n",
       "      <td>0.851003</td>\n",
       "      <td>1</td>\n",
       "    </tr>\n",
       "    <tr>\n",
       "      <th>4</th>\n",
       "      <td>189.616025</td>\n",
       "      <td>92</td>\n",
       "      <td>40.045044</td>\n",
       "      <td>3.633247</td>\n",
       "      <td>4.634788</td>\n",
       "      <td>1</td>\n",
       "      <td>10</td>\n",
       "      <td>1</td>\n",
       "      <td>69.283944</td>\n",
       "      <td>186.218617</td>\n",
       "      <td>2</td>\n",
       "      <td>109.481572</td>\n",
       "      <td>67.017735</td>\n",
       "      <td>151.475941</td>\n",
       "      <td>92.036697</td>\n",
       "      <td>32.192694</td>\n",
       "      <td>41.216135</td>\n",
       "      <td>160.570897</td>\n",
       "      <td>1.779865</td>\n",
       "      <td>58.610103</td>\n",
       "      <td>0.890379</td>\n",
       "      <td>1</td>\n",
       "    </tr>\n",
       "    <tr>\n",
       "      <th>...</th>\n",
       "      <td>...</td>\n",
       "      <td>...</td>\n",
       "      <td>...</td>\n",
       "      <td>...</td>\n",
       "      <td>...</td>\n",
       "      <td>...</td>\n",
       "      <td>...</td>\n",
       "      <td>...</td>\n",
       "      <td>...</td>\n",
       "      <td>...</td>\n",
       "      <td>...</td>\n",
       "      <td>...</td>\n",
       "      <td>...</td>\n",
       "      <td>...</td>\n",
       "      <td>...</td>\n",
       "      <td>...</td>\n",
       "      <td>...</td>\n",
       "      <td>...</td>\n",
       "      <td>...</td>\n",
       "      <td>...</td>\n",
       "      <td>...</td>\n",
       "      <td>...</td>\n",
       "    </tr>\n",
       "    <tr>\n",
       "      <th>6495</th>\n",
       "      <td>257.604430</td>\n",
       "      <td>98</td>\n",
       "      <td>35.771984</td>\n",
       "      <td>5.118372</td>\n",
       "      <td>4.753262</td>\n",
       "      <td>0</td>\n",
       "      <td>18</td>\n",
       "      <td>0</td>\n",
       "      <td>61.331854</td>\n",
       "      <td>235.607829</td>\n",
       "      <td>1</td>\n",
       "      <td>202.049036</td>\n",
       "      <td>102.549858</td>\n",
       "      <td>152.100496</td>\n",
       "      <td>83.917625</td>\n",
       "      <td>35.150511</td>\n",
       "      <td>53.406133</td>\n",
       "      <td>88.264917</td>\n",
       "      <td>1.529035</td>\n",
       "      <td>68.481644</td>\n",
       "      <td>0.855944</td>\n",
       "      <td>1</td>\n",
       "    </tr>\n",
       "    <tr>\n",
       "      <th>6496</th>\n",
       "      <td>162.296900</td>\n",
       "      <td>45</td>\n",
       "      <td>35.999784</td>\n",
       "      <td>5.681376</td>\n",
       "      <td>4.227569</td>\n",
       "      <td>1</td>\n",
       "      <td>4</td>\n",
       "      <td>0</td>\n",
       "      <td>65.386967</td>\n",
       "      <td>296.862677</td>\n",
       "      <td>1</td>\n",
       "      <td>121.976799</td>\n",
       "      <td>84.701618</td>\n",
       "      <td>125.647137</td>\n",
       "      <td>82.484329</td>\n",
       "      <td>39.052591</td>\n",
       "      <td>59.843454</td>\n",
       "      <td>443.647170</td>\n",
       "      <td>1.656517</td>\n",
       "      <td>80.007193</td>\n",
       "      <td>0.830202</td>\n",
       "      <td>0</td>\n",
       "    </tr>\n",
       "    <tr>\n",
       "      <th>6497</th>\n",
       "      <td>187.502574</td>\n",
       "      <td>57</td>\n",
       "      <td>33.007135</td>\n",
       "      <td>4.111922</td>\n",
       "      <td>5.364477</td>\n",
       "      <td>1</td>\n",
       "      <td>20</td>\n",
       "      <td>0</td>\n",
       "      <td>66.676238</td>\n",
       "      <td>190.406558</td>\n",
       "      <td>1</td>\n",
       "      <td>114.021723</td>\n",
       "      <td>76.921248</td>\n",
       "      <td>151.736385</td>\n",
       "      <td>93.133092</td>\n",
       "      <td>49.009939</td>\n",
       "      <td>64.824856</td>\n",
       "      <td>187.248003</td>\n",
       "      <td>1.722115</td>\n",
       "      <td>115.404367</td>\n",
       "      <td>0.820453</td>\n",
       "      <td>1</td>\n",
       "    </tr>\n",
       "    <tr>\n",
       "      <th>6498</th>\n",
       "      <td>182.580909</td>\n",
       "      <td>32</td>\n",
       "      <td>52.969260</td>\n",
       "      <td>2.549922</td>\n",
       "      <td>4.153793</td>\n",
       "      <td>1</td>\n",
       "      <td>16</td>\n",
       "      <td>0</td>\n",
       "      <td>61.393461</td>\n",
       "      <td>132.810153</td>\n",
       "      <td>2</td>\n",
       "      <td>106.366161</td>\n",
       "      <td>66.361413</td>\n",
       "      <td>151.984054</td>\n",
       "      <td>92.246495</td>\n",
       "      <td>31.932760</td>\n",
       "      <td>46.220675</td>\n",
       "      <td>895.800788</td>\n",
       "      <td>1.542742</td>\n",
       "      <td>65.397955</td>\n",
       "      <td>0.777446</td>\n",
       "      <td>0</td>\n",
       "    </tr>\n",
       "    <tr>\n",
       "      <th>6499</th>\n",
       "      <td>101.290703</td>\n",
       "      <td>94</td>\n",
       "      <td>28.458160</td>\n",
       "      <td>6.511101</td>\n",
       "      <td>8.391174</td>\n",
       "      <td>0</td>\n",
       "      <td>46</td>\n",
       "      <td>1</td>\n",
       "      <td>65.889821</td>\n",
       "      <td>313.736387</td>\n",
       "      <td>0</td>\n",
       "      <td>183.061726</td>\n",
       "      <td>109.086086</td>\n",
       "      <td>140.006507</td>\n",
       "      <td>85.340720</td>\n",
       "      <td>49.858667</td>\n",
       "      <td>52.974802</td>\n",
       "      <td>157.157333</td>\n",
       "      <td>1.597931</td>\n",
       "      <td>77.849449</td>\n",
       "      <td>0.920231</td>\n",
       "      <td>1</td>\n",
       "    </tr>\n",
       "  </tbody>\n",
       "</table>\n",
       "<p>6500 rows × 22 columns</p>\n",
       "</div>"
      ],
      "text/plain": [
       "            chol  stab.glu        hdl     ratio     glyhb  location  age  \\\n",
       "0     156.700394        31  52.154896  3.314927  4.299748         1    7   \n",
       "1     205.708528        50  74.558454  2.397619  4.750497         1   50   \n",
       "2     184.259740        39  50.107744  2.436952  5.033467         1   56   \n",
       "3     236.859522        40  46.163972  3.794523  5.382256         0   51   \n",
       "4     189.616025        92  40.045044  3.633247  4.634788         1   10   \n",
       "...          ...       ...        ...       ...       ...       ...  ...   \n",
       "6495  257.604430        98  35.771984  5.118372  4.753262         0   18   \n",
       "6496  162.296900        45  35.999784  5.681376  4.227569         1    4   \n",
       "6497  187.502574        57  33.007135  4.111922  5.364477         1   20   \n",
       "6498  182.580909        32  52.969260  2.549922  4.153793         1   16   \n",
       "6499  101.290703        94  28.458160  6.511101  8.391174         0   46   \n",
       "\n",
       "      gender     height      weight  frame       bp.1s       bp.1d  \\\n",
       "0          1  68.496912  146.234609      2  121.623985   85.186571   \n",
       "1          0  67.514518  155.252176      1  130.264602   88.848128   \n",
       "2          0  63.226992  134.186382      2  133.617710   94.615906   \n",
       "3          0  66.799333  202.246191      0  206.689504   79.333852   \n",
       "4          1  69.283944  186.218617      2  109.481572   67.017735   \n",
       "...      ...        ...         ...    ...         ...         ...   \n",
       "6495       0  61.331854  235.607829      1  202.049036  102.549858   \n",
       "6496       0  65.386967  296.862677      1  121.976799   84.701618   \n",
       "6497       0  66.676238  190.406558      1  114.021723   76.921248   \n",
       "6498       0  61.393461  132.810153      2  106.366161   66.361413   \n",
       "6499       1  65.889821  313.736387      0  183.061726  109.086086   \n",
       "\n",
       "           bp.2s      bp.2d      waist        hip    time.ppn  height_meters  \\\n",
       "0     151.973658  92.697071  29.222653  34.012633  761.958003       1.667030   \n",
       "1     152.708004  92.802874  32.887620  40.640470  715.021735       1.681850   \n",
       "2     153.064309  92.212116  32.548504  36.741043  210.965098       1.565997   \n",
       "3     151.949308  92.541618  45.726840  50.127763  801.800590       1.752456   \n",
       "4     151.475941  92.036697  32.192694  41.216135  160.570897       1.779865   \n",
       "...          ...        ...        ...        ...         ...            ...   \n",
       "6495  152.100496  83.917625  35.150511  53.406133   88.264917       1.529035   \n",
       "6496  125.647137  82.484329  39.052591  59.843454  443.647170       1.656517   \n",
       "6497  151.736385  93.133092  49.009939  64.824856  187.248003       1.722115   \n",
       "6498  151.984054  92.246495  31.932760  46.220675  895.800788       1.542742   \n",
       "6499  140.006507  85.340720  49.858667  52.974802  157.157333       1.597931   \n",
       "\n",
       "             BMI  hip_waist_ratio  diabetic  \n",
       "0      53.028606         0.815154         0  \n",
       "1      42.542497         0.855346         1  \n",
       "2      54.781513         0.863442         0  \n",
       "3      65.815471         0.851003         1  \n",
       "4      58.610103         0.890379         1  \n",
       "...          ...              ...       ...  \n",
       "6495   68.481644         0.855944         1  \n",
       "6496   80.007193         0.830202         0  \n",
       "6497  115.404367         0.820453         1  \n",
       "6498   65.397955         0.777446         0  \n",
       "6499   77.849449         0.920231         1  \n",
       "\n",
       "[6500 rows x 22 columns]"
      ]
     },
     "execution_count": 4,
     "metadata": {},
     "output_type": "execute_result"
    }
   ],
   "source": [
    "df"
   ]
  },
  {
   "cell_type": "code",
   "execution_count": 5,
   "metadata": {},
   "outputs": [
    {
     "name": "stdout",
     "output_type": "stream",
     "text": [
      "<class 'pandas.core.frame.DataFrame'>\n",
      "RangeIndex: 6500 entries, 0 to 6499\n",
      "Data columns (total 22 columns):\n",
      " #   Column           Non-Null Count  Dtype  \n",
      "---  ------           --------------  -----  \n",
      " 0   chol             6500 non-null   float64\n",
      " 1   stab.glu         6500 non-null   int64  \n",
      " 2   hdl              6500 non-null   float64\n",
      " 3   ratio            6500 non-null   float64\n",
      " 4   glyhb            6500 non-null   float64\n",
      " 5   location         6500 non-null   int64  \n",
      " 6   age              6500 non-null   int64  \n",
      " 7   gender           6500 non-null   int64  \n",
      " 8   height           6500 non-null   float64\n",
      " 9   weight           6500 non-null   float64\n",
      " 10  frame            6500 non-null   int64  \n",
      " 11  bp.1s            6500 non-null   float64\n",
      " 12  bp.1d            6500 non-null   float64\n",
      " 13  bp.2s            6500 non-null   float64\n",
      " 14  bp.2d            6500 non-null   float64\n",
      " 15  waist            6500 non-null   float64\n",
      " 16  hip              6500 non-null   float64\n",
      " 17  time.ppn         6500 non-null   float64\n",
      " 18  height_meters    6500 non-null   float64\n",
      " 19  BMI              6500 non-null   float64\n",
      " 20  hip_waist_ratio  6500 non-null   float64\n",
      " 21  diabetic         6500 non-null   int64  \n",
      "dtypes: float64(16), int64(6)\n",
      "memory usage: 1.1 MB\n"
     ]
    }
   ],
   "source": [
    "df.info()"
   ]
  },
  {
   "cell_type": "code",
   "execution_count": 6,
   "metadata": {},
   "outputs": [
    {
     "data": {
      "text/plain": [
       "Index(['chol', 'stab.glu', 'hdl', 'ratio', 'glyhb', 'location', 'age',\n",
       "       'gender', 'height', 'weight', 'frame', 'bp.1s', 'bp.1d', 'bp.2s',\n",
       "       'bp.2d', 'waist', 'hip', 'time.ppn', 'height_meters', 'BMI',\n",
       "       'hip_waist_ratio', 'diabetic'],\n",
       "      dtype='object')"
      ]
     },
     "execution_count": 6,
     "metadata": {},
     "output_type": "execute_result"
    }
   ],
   "source": [
    "df.columns"
   ]
  },
  {
   "cell_type": "code",
   "execution_count": 7,
   "metadata": {},
   "outputs": [],
   "source": [
    "train_cols = ['chol', 'stab.glu', 'hdl', 'ratio', 'glyhb', 'location', 'age',\n",
    "       'gender', 'height', 'weight', 'frame', 'bp.1s', 'bp.1d', 'bp.2s',\n",
    "       'bp.2d', 'waist', 'hip', 'time.ppn', 'height_meters', 'BMI',\n",
    "       'hip_waist_ratio']\n",
    "important_cols = ['glyhb','stab.glu','chol','age','ratio', 'bp.1s','hdl', 'bp.1d', 'bp.2d','time.ppn']\n",
    "\n",
    "x = df[important_cols]\n",
    "y = df['diabetic']\n"
   ]
  },
  {
   "cell_type": "code",
   "execution_count": 8,
   "metadata": {},
   "outputs": [
    {
     "data": {
      "text/html": [
       "<div>\n",
       "<style scoped>\n",
       "    .dataframe tbody tr th:only-of-type {\n",
       "        vertical-align: middle;\n",
       "    }\n",
       "\n",
       "    .dataframe tbody tr th {\n",
       "        vertical-align: top;\n",
       "    }\n",
       "\n",
       "    .dataframe thead th {\n",
       "        text-align: right;\n",
       "    }\n",
       "</style>\n",
       "<table border=\"1\" class=\"dataframe\">\n",
       "  <thead>\n",
       "    <tr style=\"text-align: right;\">\n",
       "      <th></th>\n",
       "      <th>glyhb</th>\n",
       "      <th>stab.glu</th>\n",
       "      <th>chol</th>\n",
       "      <th>age</th>\n",
       "      <th>ratio</th>\n",
       "      <th>bp.1s</th>\n",
       "      <th>hdl</th>\n",
       "      <th>bp.1d</th>\n",
       "      <th>bp.2d</th>\n",
       "      <th>time.ppn</th>\n",
       "    </tr>\n",
       "  </thead>\n",
       "  <tbody>\n",
       "    <tr>\n",
       "      <th>0</th>\n",
       "      <td>4.299748</td>\n",
       "      <td>31</td>\n",
       "      <td>156.700394</td>\n",
       "      <td>7</td>\n",
       "      <td>3.314927</td>\n",
       "      <td>121.623985</td>\n",
       "      <td>52.154896</td>\n",
       "      <td>85.186571</td>\n",
       "      <td>92.697071</td>\n",
       "      <td>761.958003</td>\n",
       "    </tr>\n",
       "    <tr>\n",
       "      <th>1</th>\n",
       "      <td>4.750497</td>\n",
       "      <td>50</td>\n",
       "      <td>205.708528</td>\n",
       "      <td>50</td>\n",
       "      <td>2.397619</td>\n",
       "      <td>130.264602</td>\n",
       "      <td>74.558454</td>\n",
       "      <td>88.848128</td>\n",
       "      <td>92.802874</td>\n",
       "      <td>715.021735</td>\n",
       "    </tr>\n",
       "    <tr>\n",
       "      <th>2</th>\n",
       "      <td>5.033467</td>\n",
       "      <td>39</td>\n",
       "      <td>184.259740</td>\n",
       "      <td>56</td>\n",
       "      <td>2.436952</td>\n",
       "      <td>133.617710</td>\n",
       "      <td>50.107744</td>\n",
       "      <td>94.615906</td>\n",
       "      <td>92.212116</td>\n",
       "      <td>210.965098</td>\n",
       "    </tr>\n",
       "    <tr>\n",
       "      <th>3</th>\n",
       "      <td>5.382256</td>\n",
       "      <td>40</td>\n",
       "      <td>236.859522</td>\n",
       "      <td>51</td>\n",
       "      <td>3.794523</td>\n",
       "      <td>206.689504</td>\n",
       "      <td>46.163972</td>\n",
       "      <td>79.333852</td>\n",
       "      <td>92.541618</td>\n",
       "      <td>801.800590</td>\n",
       "    </tr>\n",
       "    <tr>\n",
       "      <th>4</th>\n",
       "      <td>4.634788</td>\n",
       "      <td>92</td>\n",
       "      <td>189.616025</td>\n",
       "      <td>10</td>\n",
       "      <td>3.633247</td>\n",
       "      <td>109.481572</td>\n",
       "      <td>40.045044</td>\n",
       "      <td>67.017735</td>\n",
       "      <td>92.036697</td>\n",
       "      <td>160.570897</td>\n",
       "    </tr>\n",
       "    <tr>\n",
       "      <th>...</th>\n",
       "      <td>...</td>\n",
       "      <td>...</td>\n",
       "      <td>...</td>\n",
       "      <td>...</td>\n",
       "      <td>...</td>\n",
       "      <td>...</td>\n",
       "      <td>...</td>\n",
       "      <td>...</td>\n",
       "      <td>...</td>\n",
       "      <td>...</td>\n",
       "    </tr>\n",
       "    <tr>\n",
       "      <th>6495</th>\n",
       "      <td>4.753262</td>\n",
       "      <td>98</td>\n",
       "      <td>257.604430</td>\n",
       "      <td>18</td>\n",
       "      <td>5.118372</td>\n",
       "      <td>202.049036</td>\n",
       "      <td>35.771984</td>\n",
       "      <td>102.549858</td>\n",
       "      <td>83.917625</td>\n",
       "      <td>88.264917</td>\n",
       "    </tr>\n",
       "    <tr>\n",
       "      <th>6496</th>\n",
       "      <td>4.227569</td>\n",
       "      <td>45</td>\n",
       "      <td>162.296900</td>\n",
       "      <td>4</td>\n",
       "      <td>5.681376</td>\n",
       "      <td>121.976799</td>\n",
       "      <td>35.999784</td>\n",
       "      <td>84.701618</td>\n",
       "      <td>82.484329</td>\n",
       "      <td>443.647170</td>\n",
       "    </tr>\n",
       "    <tr>\n",
       "      <th>6497</th>\n",
       "      <td>5.364477</td>\n",
       "      <td>57</td>\n",
       "      <td>187.502574</td>\n",
       "      <td>20</td>\n",
       "      <td>4.111922</td>\n",
       "      <td>114.021723</td>\n",
       "      <td>33.007135</td>\n",
       "      <td>76.921248</td>\n",
       "      <td>93.133092</td>\n",
       "      <td>187.248003</td>\n",
       "    </tr>\n",
       "    <tr>\n",
       "      <th>6498</th>\n",
       "      <td>4.153793</td>\n",
       "      <td>32</td>\n",
       "      <td>182.580909</td>\n",
       "      <td>16</td>\n",
       "      <td>2.549922</td>\n",
       "      <td>106.366161</td>\n",
       "      <td>52.969260</td>\n",
       "      <td>66.361413</td>\n",
       "      <td>92.246495</td>\n",
       "      <td>895.800788</td>\n",
       "    </tr>\n",
       "    <tr>\n",
       "      <th>6499</th>\n",
       "      <td>8.391174</td>\n",
       "      <td>94</td>\n",
       "      <td>101.290703</td>\n",
       "      <td>46</td>\n",
       "      <td>6.511101</td>\n",
       "      <td>183.061726</td>\n",
       "      <td>28.458160</td>\n",
       "      <td>109.086086</td>\n",
       "      <td>85.340720</td>\n",
       "      <td>157.157333</td>\n",
       "    </tr>\n",
       "  </tbody>\n",
       "</table>\n",
       "<p>6500 rows × 10 columns</p>\n",
       "</div>"
      ],
      "text/plain": [
       "         glyhb  stab.glu        chol  age     ratio       bp.1s        hdl  \\\n",
       "0     4.299748        31  156.700394    7  3.314927  121.623985  52.154896   \n",
       "1     4.750497        50  205.708528   50  2.397619  130.264602  74.558454   \n",
       "2     5.033467        39  184.259740   56  2.436952  133.617710  50.107744   \n",
       "3     5.382256        40  236.859522   51  3.794523  206.689504  46.163972   \n",
       "4     4.634788        92  189.616025   10  3.633247  109.481572  40.045044   \n",
       "...        ...       ...         ...  ...       ...         ...        ...   \n",
       "6495  4.753262        98  257.604430   18  5.118372  202.049036  35.771984   \n",
       "6496  4.227569        45  162.296900    4  5.681376  121.976799  35.999784   \n",
       "6497  5.364477        57  187.502574   20  4.111922  114.021723  33.007135   \n",
       "6498  4.153793        32  182.580909   16  2.549922  106.366161  52.969260   \n",
       "6499  8.391174        94  101.290703   46  6.511101  183.061726  28.458160   \n",
       "\n",
       "           bp.1d      bp.2d    time.ppn  \n",
       "0      85.186571  92.697071  761.958003  \n",
       "1      88.848128  92.802874  715.021735  \n",
       "2      94.615906  92.212116  210.965098  \n",
       "3      79.333852  92.541618  801.800590  \n",
       "4      67.017735  92.036697  160.570897  \n",
       "...          ...        ...         ...  \n",
       "6495  102.549858  83.917625   88.264917  \n",
       "6496   84.701618  82.484329  443.647170  \n",
       "6497   76.921248  93.133092  187.248003  \n",
       "6498   66.361413  92.246495  895.800788  \n",
       "6499  109.086086  85.340720  157.157333  \n",
       "\n",
       "[6500 rows x 10 columns]"
      ]
     },
     "execution_count": 8,
     "metadata": {},
     "output_type": "execute_result"
    }
   ],
   "source": [
    "x"
   ]
  },
  {
   "cell_type": "code",
   "execution_count": 9,
   "metadata": {},
   "outputs": [
    {
     "data": {
      "text/plain": [
       "0       0\n",
       "1       1\n",
       "2       0\n",
       "3       1\n",
       "4       1\n",
       "       ..\n",
       "6495    1\n",
       "6496    0\n",
       "6497    1\n",
       "6498    0\n",
       "6499    1\n",
       "Name: diabetic, Length: 6500, dtype: int64"
      ]
     },
     "execution_count": 9,
     "metadata": {},
     "output_type": "execute_result"
    }
   ],
   "source": [
    "y"
   ]
  },
  {
   "cell_type": "markdown",
   "metadata": {},
   "source": [
    "RANDOMM FOREST TRAINING"
   ]
  },
  {
   "cell_type": "code",
   "execution_count": 10,
   "metadata": {},
   "outputs": [],
   "source": [
    "x_train, x_test, y_train, y_test = train_test_split(x, y, test_size=0.3, random_state=17)\n"
   ]
  },
  {
   "cell_type": "code",
   "execution_count": 11,
   "metadata": {},
   "outputs": [
    {
     "data": {
      "text/html": [
       "<div>\n",
       "<style scoped>\n",
       "    .dataframe tbody tr th:only-of-type {\n",
       "        vertical-align: middle;\n",
       "    }\n",
       "\n",
       "    .dataframe tbody tr th {\n",
       "        vertical-align: top;\n",
       "    }\n",
       "\n",
       "    .dataframe thead th {\n",
       "        text-align: right;\n",
       "    }\n",
       "</style>\n",
       "<table border=\"1\" class=\"dataframe\">\n",
       "  <thead>\n",
       "    <tr style=\"text-align: right;\">\n",
       "      <th></th>\n",
       "      <th>glyhb</th>\n",
       "      <th>stab.glu</th>\n",
       "      <th>chol</th>\n",
       "      <th>age</th>\n",
       "      <th>ratio</th>\n",
       "      <th>bp.1s</th>\n",
       "      <th>hdl</th>\n",
       "      <th>bp.1d</th>\n",
       "      <th>bp.2d</th>\n",
       "      <th>time.ppn</th>\n",
       "    </tr>\n",
       "  </thead>\n",
       "  <tbody>\n",
       "    <tr>\n",
       "      <th>2550</th>\n",
       "      <td>9.832528</td>\n",
       "      <td>127</td>\n",
       "      <td>215.987842</td>\n",
       "      <td>42</td>\n",
       "      <td>6.554891</td>\n",
       "      <td>153.279870</td>\n",
       "      <td>29.889151</td>\n",
       "      <td>89.115398</td>\n",
       "      <td>85.107914</td>\n",
       "      <td>133.597501</td>\n",
       "    </tr>\n",
       "    <tr>\n",
       "      <th>1697</th>\n",
       "      <td>6.670956</td>\n",
       "      <td>88</td>\n",
       "      <td>169.808118</td>\n",
       "      <td>58</td>\n",
       "      <td>6.423277</td>\n",
       "      <td>175.937034</td>\n",
       "      <td>32.116434</td>\n",
       "      <td>71.158303</td>\n",
       "      <td>92.911414</td>\n",
       "      <td>130.288624</td>\n",
       "    </tr>\n",
       "    <tr>\n",
       "      <th>676</th>\n",
       "      <td>10.644512</td>\n",
       "      <td>91</td>\n",
       "      <td>284.149653</td>\n",
       "      <td>46</td>\n",
       "      <td>5.327700</td>\n",
       "      <td>180.932719</td>\n",
       "      <td>36.224982</td>\n",
       "      <td>81.828026</td>\n",
       "      <td>92.366777</td>\n",
       "      <td>47.314570</td>\n",
       "    </tr>\n",
       "    <tr>\n",
       "      <th>1016</th>\n",
       "      <td>3.458608</td>\n",
       "      <td>24</td>\n",
       "      <td>144.870407</td>\n",
       "      <td>7</td>\n",
       "      <td>2.432068</td>\n",
       "      <td>108.379313</td>\n",
       "      <td>88.266929</td>\n",
       "      <td>62.437562</td>\n",
       "      <td>92.635420</td>\n",
       "      <td>18.828681</td>\n",
       "    </tr>\n",
       "    <tr>\n",
       "      <th>4471</th>\n",
       "      <td>10.225937</td>\n",
       "      <td>35</td>\n",
       "      <td>169.087708</td>\n",
       "      <td>43</td>\n",
       "      <td>3.835004</td>\n",
       "      <td>151.314932</td>\n",
       "      <td>28.342206</td>\n",
       "      <td>87.720073</td>\n",
       "      <td>92.944248</td>\n",
       "      <td>160.454623</td>\n",
       "    </tr>\n",
       "    <tr>\n",
       "      <th>...</th>\n",
       "      <td>...</td>\n",
       "      <td>...</td>\n",
       "      <td>...</td>\n",
       "      <td>...</td>\n",
       "      <td>...</td>\n",
       "      <td>...</td>\n",
       "      <td>...</td>\n",
       "      <td>...</td>\n",
       "      <td>...</td>\n",
       "      <td>...</td>\n",
       "    </tr>\n",
       "    <tr>\n",
       "      <th>1337</th>\n",
       "      <td>3.999447</td>\n",
       "      <td>25</td>\n",
       "      <td>154.295822</td>\n",
       "      <td>13</td>\n",
       "      <td>2.524766</td>\n",
       "      <td>109.388362</td>\n",
       "      <td>100.027163</td>\n",
       "      <td>64.711240</td>\n",
       "      <td>92.870291</td>\n",
       "      <td>373.736798</td>\n",
       "    </tr>\n",
       "    <tr>\n",
       "      <th>406</th>\n",
       "      <td>7.781261</td>\n",
       "      <td>87</td>\n",
       "      <td>156.227637</td>\n",
       "      <td>45</td>\n",
       "      <td>2.523222</td>\n",
       "      <td>128.445536</td>\n",
       "      <td>47.839854</td>\n",
       "      <td>69.198215</td>\n",
       "      <td>92.339677</td>\n",
       "      <td>667.391313</td>\n",
       "    </tr>\n",
       "    <tr>\n",
       "      <th>5510</th>\n",
       "      <td>7.228946</td>\n",
       "      <td>98</td>\n",
       "      <td>187.602257</td>\n",
       "      <td>15</td>\n",
       "      <td>3.598695</td>\n",
       "      <td>129.862923</td>\n",
       "      <td>22.046356</td>\n",
       "      <td>78.768958</td>\n",
       "      <td>92.836544</td>\n",
       "      <td>532.786982</td>\n",
       "    </tr>\n",
       "    <tr>\n",
       "      <th>2191</th>\n",
       "      <td>13.565362</td>\n",
       "      <td>103</td>\n",
       "      <td>232.622323</td>\n",
       "      <td>53</td>\n",
       "      <td>3.745909</td>\n",
       "      <td>145.448211</td>\n",
       "      <td>49.208181</td>\n",
       "      <td>91.414708</td>\n",
       "      <td>92.546891</td>\n",
       "      <td>1135.207562</td>\n",
       "    </tr>\n",
       "    <tr>\n",
       "      <th>2671</th>\n",
       "      <td>5.117058</td>\n",
       "      <td>39</td>\n",
       "      <td>204.802273</td>\n",
       "      <td>39</td>\n",
       "      <td>4.979533</td>\n",
       "      <td>147.761847</td>\n",
       "      <td>54.635403</td>\n",
       "      <td>101.801565</td>\n",
       "      <td>90.256058</td>\n",
       "      <td>149.683000</td>\n",
       "    </tr>\n",
       "  </tbody>\n",
       "</table>\n",
       "<p>4550 rows × 10 columns</p>\n",
       "</div>"
      ],
      "text/plain": [
       "          glyhb  stab.glu        chol  age     ratio       bp.1s         hdl  \\\n",
       "2550   9.832528       127  215.987842   42  6.554891  153.279870   29.889151   \n",
       "1697   6.670956        88  169.808118   58  6.423277  175.937034   32.116434   \n",
       "676   10.644512        91  284.149653   46  5.327700  180.932719   36.224982   \n",
       "1016   3.458608        24  144.870407    7  2.432068  108.379313   88.266929   \n",
       "4471  10.225937        35  169.087708   43  3.835004  151.314932   28.342206   \n",
       "...         ...       ...         ...  ...       ...         ...         ...   \n",
       "1337   3.999447        25  154.295822   13  2.524766  109.388362  100.027163   \n",
       "406    7.781261        87  156.227637   45  2.523222  128.445536   47.839854   \n",
       "5510   7.228946        98  187.602257   15  3.598695  129.862923   22.046356   \n",
       "2191  13.565362       103  232.622323   53  3.745909  145.448211   49.208181   \n",
       "2671   5.117058        39  204.802273   39  4.979533  147.761847   54.635403   \n",
       "\n",
       "           bp.1d      bp.2d     time.ppn  \n",
       "2550   89.115398  85.107914   133.597501  \n",
       "1697   71.158303  92.911414   130.288624  \n",
       "676    81.828026  92.366777    47.314570  \n",
       "1016   62.437562  92.635420    18.828681  \n",
       "4471   87.720073  92.944248   160.454623  \n",
       "...          ...        ...          ...  \n",
       "1337   64.711240  92.870291   373.736798  \n",
       "406    69.198215  92.339677   667.391313  \n",
       "5510   78.768958  92.836544   532.786982  \n",
       "2191   91.414708  92.546891  1135.207562  \n",
       "2671  101.801565  90.256058   149.683000  \n",
       "\n",
       "[4550 rows x 10 columns]"
      ]
     },
     "execution_count": 11,
     "metadata": {},
     "output_type": "execute_result"
    }
   ],
   "source": [
    "x_train"
   ]
  },
  {
   "cell_type": "code",
   "execution_count": 12,
   "metadata": {},
   "outputs": [],
   "source": [
    "forest_model  = RandomForestClassifier(n_jobs=-1, random_state=42)"
   ]
  },
  {
   "cell_type": "code",
   "execution_count": 13,
   "metadata": {},
   "outputs": [
    {
     "name": "stdout",
     "output_type": "stream",
     "text": [
      "Wall time: 3.73 s\n"
     ]
    },
    {
     "data": {
      "text/plain": [
       "RandomForestClassifier(n_jobs=-1, random_state=42)"
      ]
     },
     "execution_count": 13,
     "metadata": {},
     "output_type": "execute_result"
    }
   ],
   "source": [
    "%%time \n",
    "forest_model.fit(x_train, y_train)"
   ]
  },
  {
   "cell_type": "code",
   "execution_count": 14,
   "metadata": {},
   "outputs": [
    {
     "data": {
      "text/plain": [
       "1.0"
      ]
     },
     "execution_count": 14,
     "metadata": {},
     "output_type": "execute_result"
    }
   ],
   "source": [
    "forest_model.score(x_train, y_train)"
   ]
  },
  {
   "cell_type": "code",
   "execution_count": 15,
   "metadata": {},
   "outputs": [
    {
     "data": {
      "text/plain": [
       "array([[0.01, 0.99],\n",
       "       [0.01, 0.99],\n",
       "       [0.01, 0.99],\n",
       "       ...,\n",
       "       [0.01, 0.99],\n",
       "       [0.  , 1.  ],\n",
       "       [0.13, 0.87]])"
      ]
     },
     "execution_count": 15,
     "metadata": {},
     "output_type": "execute_result"
    }
   ],
   "source": [
    "forest_train_probability = forest_model.predict_proba(x_train)\n",
    "forest_train_probability"
   ]
  },
  {
   "cell_type": "code",
   "execution_count": 16,
   "metadata": {},
   "outputs": [
    {
     "data": {
      "text/plain": [
       "DecisionTreeClassifier(max_features='auto', random_state=1608637542)"
      ]
     },
     "execution_count": 16,
     "metadata": {},
     "output_type": "execute_result"
    }
   ],
   "source": [
    "forest_model.estimators_[0]"
   ]
  },
  {
   "cell_type": "code",
   "execution_count": 17,
   "metadata": {},
   "outputs": [
    {
     "data": {
      "text/plain": [
       "100"
      ]
     },
     "execution_count": 17,
     "metadata": {},
     "output_type": "execute_result"
    }
   ],
   "source": [
    "len(forest_model.estimators_)"
   ]
  },
  {
   "cell_type": "code",
   "execution_count": 18,
   "metadata": {},
   "outputs": [],
   "source": [
    "forest_importance_df = pd.DataFrame({\n",
    "    'feature' : x_train.columns, \n",
    "    'importance' : forest_model.feature_importances_\n",
    "}).sort_values('importance', ascending=False)"
   ]
  },
  {
   "cell_type": "code",
   "execution_count": 19,
   "metadata": {},
   "outputs": [
    {
     "data": {
      "text/html": [
       "<div>\n",
       "<style scoped>\n",
       "    .dataframe tbody tr th:only-of-type {\n",
       "        vertical-align: middle;\n",
       "    }\n",
       "\n",
       "    .dataframe tbody tr th {\n",
       "        vertical-align: top;\n",
       "    }\n",
       "\n",
       "    .dataframe thead th {\n",
       "        text-align: right;\n",
       "    }\n",
       "</style>\n",
       "<table border=\"1\" class=\"dataframe\">\n",
       "  <thead>\n",
       "    <tr style=\"text-align: right;\">\n",
       "      <th></th>\n",
       "      <th>feature</th>\n",
       "      <th>importance</th>\n",
       "    </tr>\n",
       "  </thead>\n",
       "  <tbody>\n",
       "    <tr>\n",
       "      <th>0</th>\n",
       "      <td>glyhb</td>\n",
       "      <td>0.292490</td>\n",
       "    </tr>\n",
       "    <tr>\n",
       "      <th>1</th>\n",
       "      <td>stab.glu</td>\n",
       "      <td>0.154847</td>\n",
       "    </tr>\n",
       "    <tr>\n",
       "      <th>3</th>\n",
       "      <td>age</td>\n",
       "      <td>0.091103</td>\n",
       "    </tr>\n",
       "    <tr>\n",
       "      <th>7</th>\n",
       "      <td>bp.1d</td>\n",
       "      <td>0.080629</td>\n",
       "    </tr>\n",
       "    <tr>\n",
       "      <th>9</th>\n",
       "      <td>time.ppn</td>\n",
       "      <td>0.077044</td>\n",
       "    </tr>\n",
       "    <tr>\n",
       "      <th>5</th>\n",
       "      <td>bp.1s</td>\n",
       "      <td>0.071358</td>\n",
       "    </tr>\n",
       "    <tr>\n",
       "      <th>6</th>\n",
       "      <td>hdl</td>\n",
       "      <td>0.069924</td>\n",
       "    </tr>\n",
       "    <tr>\n",
       "      <th>8</th>\n",
       "      <td>bp.2d</td>\n",
       "      <td>0.054467</td>\n",
       "    </tr>\n",
       "    <tr>\n",
       "      <th>2</th>\n",
       "      <td>chol</td>\n",
       "      <td>0.054301</td>\n",
       "    </tr>\n",
       "    <tr>\n",
       "      <th>4</th>\n",
       "      <td>ratio</td>\n",
       "      <td>0.053835</td>\n",
       "    </tr>\n",
       "  </tbody>\n",
       "</table>\n",
       "</div>"
      ],
      "text/plain": [
       "    feature  importance\n",
       "0     glyhb    0.292490\n",
       "1  stab.glu    0.154847\n",
       "3       age    0.091103\n",
       "7     bp.1d    0.080629\n",
       "9  time.ppn    0.077044\n",
       "5     bp.1s    0.071358\n",
       "6       hdl    0.069924\n",
       "8     bp.2d    0.054467\n",
       "2      chol    0.054301\n",
       "4     ratio    0.053835"
      ]
     },
     "execution_count": 19,
     "metadata": {},
     "output_type": "execute_result"
    }
   ],
   "source": [
    "forest_importance_df.head(10)"
   ]
  },
  {
   "cell_type": "code",
   "execution_count": 20,
   "metadata": {},
   "outputs": [
    {
     "data": {
      "text/plain": [
       "<AxesSubplot:title={'center':'Feature Importance'}, xlabel='importance', ylabel='feature'>"
      ]
     },
     "execution_count": 20,
     "metadata": {},
     "output_type": "execute_result"
    },
    {
     "data": {
      "image/png": "[encoded data removed]",
      "text/plain": [
       "<Figure size 720x432 with 1 Axes>"
      ]
     },
     "metadata": {},
     "output_type": "display_data"
    }
   ],
   "source": [
    "plt.title('Feature Importance')\n",
    "sns.barplot(data=forest_importance_df.head(10), x='importance', y='feature')"
   ]
  },
  {
   "cell_type": "code",
   "execution_count": 21,
   "metadata": {},
   "outputs": [],
   "source": [
    "base_forest_model = RandomForestClassifier(random_state=42, n_jobs=-1).fit(x_train, y_train)"
   ]
  },
  {
   "cell_type": "code",
   "execution_count": 22,
   "metadata": {},
   "outputs": [],
   "source": [
    "base_train_accuracy = base_forest_model.score(x_train, y_train)"
   ]
  },
  {
   "cell_type": "code",
   "execution_count": 23,
   "metadata": {},
   "outputs": [
    {
     "data": {
      "text/plain": [
       "1.0"
      ]
     },
     "execution_count": 23,
     "metadata": {},
     "output_type": "execute_result"
    }
   ],
   "source": [
    "base_accuracy = base_train_accuracy\n",
    "base_accuracy"
   ]
  },
  {
   "cell_type": "code",
   "execution_count": 24,
   "metadata": {},
   "outputs": [],
   "source": [
    "forest_model_1 = RandomForestClassifier(random_state=42, n_jobs=-1, n_estimators=10).fit(x_train, y_train)"
   ]
  },
  {
   "cell_type": "code",
   "execution_count": 25,
   "metadata": {},
   "outputs": [
    {
     "data": {
      "text/plain": [
       "0.9934065934065934"
      ]
     },
     "execution_count": 25,
     "metadata": {},
     "output_type": "execute_result"
    }
   ],
   "source": [
    "forest_model_1.score(x_train, y_train)"
   ]
  },
  {
   "cell_type": "code",
   "execution_count": 26,
   "metadata": {},
   "outputs": [],
   "source": [
    "forest_model_2 = RandomForestClassifier(random_state=42, n_jobs=-1, n_estimators=500).fit(x_train, y_train)\n"
   ]
  },
  {
   "cell_type": "code",
   "execution_count": 27,
   "metadata": {},
   "outputs": [
    {
     "data": {
      "text/plain": [
       "1.0"
      ]
     },
     "execution_count": 27,
     "metadata": {},
     "output_type": "execute_result"
    }
   ],
   "source": [
    "forest_model_2.score(x_train, y_train)"
   ]
  },
  {
   "cell_type": "code",
   "execution_count": 28,
   "metadata": {},
   "outputs": [],
   "source": [
    "def estimator_no_error(est):\n",
    "    forest_model_3 = RandomForestClassifier(random_state=42, n_jobs=-1, n_estimators=est)\n",
    "    forest_model_3.fit(x_train, y_train)\n",
    "\n",
    "    forest_train_accuracy = 1 - forest_model_3.score(x_train, y_train)\n",
    "\n",
    "    return {\n",
    "        'No. of Estimators' : est, \n",
    "        'Training Error' : forest_train_accuracy\n",
    "        }"
   ]
  },
  {
   "cell_type": "code",
   "execution_count": 29,
   "metadata": {},
   "outputs": [
    {
     "name": "stdout",
     "output_type": "stream",
     "text": [
      "Wall time: 2.37 s\n"
     ]
    }
   ],
   "source": [
    "%%time\n",
    "forest_error_df = pd.DataFrame([estimator_no_error(est) for est in range(1, 10)])"
   ]
  },
  {
   "cell_type": "code",
   "execution_count": 30,
   "metadata": {},
   "outputs": [
    {
     "data": {
      "text/html": [
       "<div>\n",
       "<style scoped>\n",
       "    .dataframe tbody tr th:only-of-type {\n",
       "        vertical-align: middle;\n",
       "    }\n",
       "\n",
       "    .dataframe tbody tr th {\n",
       "        vertical-align: top;\n",
       "    }\n",
       "\n",
       "    .dataframe thead th {\n",
       "        text-align: right;\n",
       "    }\n",
       "</style>\n",
       "<table border=\"1\" class=\"dataframe\">\n",
       "  <thead>\n",
       "    <tr style=\"text-align: right;\">\n",
       "      <th></th>\n",
       "      <th>No. of Estimators</th>\n",
       "      <th>Training Error</th>\n",
       "    </tr>\n",
       "  </thead>\n",
       "  <tbody>\n",
       "    <tr>\n",
       "      <th>0</th>\n",
       "      <td>1</td>\n",
       "      <td>0.074945</td>\n",
       "    </tr>\n",
       "    <tr>\n",
       "      <th>1</th>\n",
       "      <td>2</td>\n",
       "      <td>0.088352</td>\n",
       "    </tr>\n",
       "    <tr>\n",
       "      <th>2</th>\n",
       "      <td>3</td>\n",
       "      <td>0.036264</td>\n",
       "    </tr>\n",
       "    <tr>\n",
       "      <th>3</th>\n",
       "      <td>4</td>\n",
       "      <td>0.030549</td>\n",
       "    </tr>\n",
       "    <tr>\n",
       "      <th>4</th>\n",
       "      <td>5</td>\n",
       "      <td>0.019780</td>\n",
       "    </tr>\n",
       "    <tr>\n",
       "      <th>5</th>\n",
       "      <td>6</td>\n",
       "      <td>0.017582</td>\n",
       "    </tr>\n",
       "    <tr>\n",
       "      <th>6</th>\n",
       "      <td>7</td>\n",
       "      <td>0.013846</td>\n",
       "    </tr>\n",
       "    <tr>\n",
       "      <th>7</th>\n",
       "      <td>8</td>\n",
       "      <td>0.010330</td>\n",
       "    </tr>\n",
       "    <tr>\n",
       "      <th>8</th>\n",
       "      <td>9</td>\n",
       "      <td>0.008571</td>\n",
       "    </tr>\n",
       "  </tbody>\n",
       "</table>\n",
       "</div>"
      ],
      "text/plain": [
       "   No. of Estimators  Training Error\n",
       "0                  1        0.074945\n",
       "1                  2        0.088352\n",
       "2                  3        0.036264\n",
       "3                  4        0.030549\n",
       "4                  5        0.019780\n",
       "5                  6        0.017582\n",
       "6                  7        0.013846\n",
       "7                  8        0.010330\n",
       "8                  9        0.008571"
      ]
     },
     "execution_count": 30,
     "metadata": {},
     "output_type": "execute_result"
    }
   ],
   "source": [
    "forest_error_df"
   ]
  },
  {
   "cell_type": "code",
   "execution_count": 31,
   "metadata": {},
   "outputs": [
    {
     "data": {
      "text/plain": [
       "<matplotlib.legend.Legend at 0x29291236220>"
      ]
     },
     "execution_count": 31,
     "metadata": {},
     "output_type": "execute_result"
    },
    {
     "data": {
      "image/png": "[encoded data removed]",
      "text/plain": [
       "<Figure size 720x432 with 1 Axes>"
      ]
     },
     "metadata": {},
     "output_type": "display_data"
    }
   ],
   "source": [
    "plt.figure()\n",
    "plt.plot(forest_error_df['No. of Estimators'], forest_error_df['Training Error'])\n",
    "\n",
    "plt.title('Training Error')\n",
    "\n",
    "plt.xticks(range(0,10,2))\n",
    "\n",
    "plt.xlabel('Max. Estimators')\n",
    "plt.ylabel('Prediction Error (1 - Accuracy)')\n",
    "\n",
    "plt.legend(['Training'])"
   ]
  },
  {
   "cell_type": "code",
   "execution_count": 32,
   "metadata": {},
   "outputs": [],
   "source": [
    "def test_params(**params):\n",
    "    rf_model = RandomForestClassifier(random_state=42, n_jobs=-1, **params).fit(x_train, y_train)\n",
    "    return rf_model.score(x_train, y_train)"
   ]
  },
  {
   "cell_type": "code",
   "execution_count": 33,
   "metadata": {},
   "outputs": [
    {
     "data": {
      "text/plain": [
       "0.8751648351648351"
      ]
     },
     "execution_count": 33,
     "metadata": {},
     "output_type": "execute_result"
    }
   ],
   "source": [
    "test_params(max_depth=5)"
   ]
  },
  {
   "cell_type": "code",
   "execution_count": 34,
   "metadata": {},
   "outputs": [
    {
     "data": {
      "text/plain": [
       "1.0"
      ]
     },
     "execution_count": 34,
     "metadata": {},
     "output_type": "execute_result"
    }
   ],
   "source": [
    "test_params(max_depth=26)"
   ]
  },
  {
   "cell_type": "code",
   "execution_count": 35,
   "metadata": {},
   "outputs": [],
   "source": [
    "def depth_max(dm):\n",
    "    forest_model_3 = RandomForestClassifier(random_state=42, n_jobs=-1, max_depth=dm)\n",
    "    forest_model_3.fit(x_train, y_train)\n",
    "\n",
    "    forest_train_accuracy = 1 - forest_model_3.score(x_train, y_train)\n",
    "\n",
    "    return {\n",
    "        'Max depth' : dm, \n",
    "        'Training Error' : forest_train_accuracy\n",
    "        }"
   ]
  },
  {
   "cell_type": "code",
   "execution_count": 36,
   "metadata": {},
   "outputs": [
    {
     "name": "stdout",
     "output_type": "stream",
     "text": [
      "Wall time: 1min 1s\n"
     ]
    }
   ],
   "source": [
    "%%time\n",
    "max_depth_df = pd.DataFrame([depth_max(dm) for dm in range(1, 25)])"
   ]
  },
  {
   "cell_type": "code",
   "execution_count": 37,
   "metadata": {},
   "outputs": [
    {
     "data": {
      "text/html": [
       "<div>\n",
       "<style scoped>\n",
       "    .dataframe tbody tr th:only-of-type {\n",
       "        vertical-align: middle;\n",
       "    }\n",
       "\n",
       "    .dataframe tbody tr th {\n",
       "        vertical-align: top;\n",
       "    }\n",
       "\n",
       "    .dataframe thead th {\n",
       "        text-align: right;\n",
       "    }\n",
       "</style>\n",
       "<table border=\"1\" class=\"dataframe\">\n",
       "  <thead>\n",
       "    <tr style=\"text-align: right;\">\n",
       "      <th></th>\n",
       "      <th>Max depth</th>\n",
       "      <th>Training Error</th>\n",
       "    </tr>\n",
       "  </thead>\n",
       "  <tbody>\n",
       "    <tr>\n",
       "      <th>0</th>\n",
       "      <td>1</td>\n",
       "      <td>0.213626</td>\n",
       "    </tr>\n",
       "    <tr>\n",
       "      <th>1</th>\n",
       "      <td>2</td>\n",
       "      <td>0.151648</td>\n",
       "    </tr>\n",
       "    <tr>\n",
       "      <th>2</th>\n",
       "      <td>3</td>\n",
       "      <td>0.142857</td>\n",
       "    </tr>\n",
       "    <tr>\n",
       "      <th>3</th>\n",
       "      <td>4</td>\n",
       "      <td>0.137143</td>\n",
       "    </tr>\n",
       "    <tr>\n",
       "      <th>4</th>\n",
       "      <td>5</td>\n",
       "      <td>0.124835</td>\n",
       "    </tr>\n",
       "    <tr>\n",
       "      <th>5</th>\n",
       "      <td>6</td>\n",
       "      <td>0.113626</td>\n",
       "    </tr>\n",
       "    <tr>\n",
       "      <th>6</th>\n",
       "      <td>7</td>\n",
       "      <td>0.098022</td>\n",
       "    </tr>\n",
       "    <tr>\n",
       "      <th>7</th>\n",
       "      <td>8</td>\n",
       "      <td>0.081099</td>\n",
       "    </tr>\n",
       "    <tr>\n",
       "      <th>8</th>\n",
       "      <td>9</td>\n",
       "      <td>0.060659</td>\n",
       "    </tr>\n",
       "    <tr>\n",
       "      <th>9</th>\n",
       "      <td>10</td>\n",
       "      <td>0.042857</td>\n",
       "    </tr>\n",
       "    <tr>\n",
       "      <th>10</th>\n",
       "      <td>11</td>\n",
       "      <td>0.029451</td>\n",
       "    </tr>\n",
       "    <tr>\n",
       "      <th>11</th>\n",
       "      <td>12</td>\n",
       "      <td>0.019780</td>\n",
       "    </tr>\n",
       "    <tr>\n",
       "      <th>12</th>\n",
       "      <td>13</td>\n",
       "      <td>0.012527</td>\n",
       "    </tr>\n",
       "    <tr>\n",
       "      <th>13</th>\n",
       "      <td>14</td>\n",
       "      <td>0.006813</td>\n",
       "    </tr>\n",
       "    <tr>\n",
       "      <th>14</th>\n",
       "      <td>15</td>\n",
       "      <td>0.003736</td>\n",
       "    </tr>\n",
       "    <tr>\n",
       "      <th>15</th>\n",
       "      <td>16</td>\n",
       "      <td>0.001538</td>\n",
       "    </tr>\n",
       "    <tr>\n",
       "      <th>16</th>\n",
       "      <td>17</td>\n",
       "      <td>0.000000</td>\n",
       "    </tr>\n",
       "    <tr>\n",
       "      <th>17</th>\n",
       "      <td>18</td>\n",
       "      <td>0.000000</td>\n",
       "    </tr>\n",
       "    <tr>\n",
       "      <th>18</th>\n",
       "      <td>19</td>\n",
       "      <td>0.000000</td>\n",
       "    </tr>\n",
       "    <tr>\n",
       "      <th>19</th>\n",
       "      <td>20</td>\n",
       "      <td>0.000000</td>\n",
       "    </tr>\n",
       "    <tr>\n",
       "      <th>20</th>\n",
       "      <td>21</td>\n",
       "      <td>0.000000</td>\n",
       "    </tr>\n",
       "    <tr>\n",
       "      <th>21</th>\n",
       "      <td>22</td>\n",
       "      <td>0.000000</td>\n",
       "    </tr>\n",
       "    <tr>\n",
       "      <th>22</th>\n",
       "      <td>23</td>\n",
       "      <td>0.000000</td>\n",
       "    </tr>\n",
       "    <tr>\n",
       "      <th>23</th>\n",
       "      <td>24</td>\n",
       "      <td>0.000000</td>\n",
       "    </tr>\n",
       "  </tbody>\n",
       "</table>\n",
       "</div>"
      ],
      "text/plain": [
       "    Max depth  Training Error\n",
       "0           1        0.213626\n",
       "1           2        0.151648\n",
       "2           3        0.142857\n",
       "3           4        0.137143\n",
       "4           5        0.124835\n",
       "5           6        0.113626\n",
       "6           7        0.098022\n",
       "7           8        0.081099\n",
       "8           9        0.060659\n",
       "9          10        0.042857\n",
       "10         11        0.029451\n",
       "11         12        0.019780\n",
       "12         13        0.012527\n",
       "13         14        0.006813\n",
       "14         15        0.003736\n",
       "15         16        0.001538\n",
       "16         17        0.000000\n",
       "17         18        0.000000\n",
       "18         19        0.000000\n",
       "19         20        0.000000\n",
       "20         21        0.000000\n",
       "21         22        0.000000\n",
       "22         23        0.000000\n",
       "23         24        0.000000"
      ]
     },
     "execution_count": 37,
     "metadata": {},
     "output_type": "execute_result"
    }
   ],
   "source": [
    "max_depth_df"
   ]
  },
  {
   "cell_type": "code",
   "execution_count": 38,
   "metadata": {},
   "outputs": [
    {
     "data": {
      "text/plain": [
       "<matplotlib.legend.Legend at 0x29291289fd0>"
      ]
     },
     "execution_count": 38,
     "metadata": {},
     "output_type": "execute_result"
    },
    {
     "data": {
      "image/png": "[encoded data removed]",
      "text/plain": [
       "<Figure size 720x432 with 1 Axes>"
      ]
     },
     "metadata": {},
     "output_type": "display_data"
    }
   ],
   "source": [
    "plt.figure()\n",
    "plt.plot(max_depth_df['Max depth'], max_depth_df['Training Error'])\n",
    "\n",
    "plt.title('Training Error')\n",
    "plt.xticks(range(0,26,2))\n",
    "plt.xlabel('Max depth')\n",
    "plt.ylabel('Prediction Error (1 - Accuracy)')\n",
    "plt.legend(['Training'])"
   ]
  },
  {
   "cell_type": "code",
   "execution_count": 39,
   "metadata": {},
   "outputs": [
    {
     "data": {
      "text/plain": [
       "0.8857142857142857"
      ]
     },
     "execution_count": 39,
     "metadata": {},
     "output_type": "execute_result"
    }
   ],
   "source": [
    "test_params(max_leaf_nodes= 2**5)"
   ]
  },
  {
   "cell_type": "code",
   "execution_count": 40,
   "metadata": {},
   "outputs": [
    {
     "data": {
      "text/plain": [
       "1.0"
      ]
     },
     "execution_count": 40,
     "metadata": {},
     "output_type": "execute_result"
    }
   ],
   "source": [
    "test_params(max_leaf_nodes= 2**20)"
   ]
  },
  {
   "cell_type": "code",
   "execution_count": 41,
   "metadata": {},
   "outputs": [
    {
     "data": {
      "text/plain": [
       "1.0"
      ]
     },
     "execution_count": 41,
     "metadata": {},
     "output_type": "execute_result"
    }
   ],
   "source": [
    "base_accuracy"
   ]
  },
  {
   "cell_type": "code",
   "execution_count": 42,
   "metadata": {},
   "outputs": [],
   "source": [
    "def max_leaf(ml):\n",
    "    forest_model_3 = RandomForestClassifier(random_state=42, n_jobs=-1, max_leaf_nodes=ml)\n",
    "    forest_model_3.fit(x_train, y_train)\n",
    "\n",
    "    forest_train_accuracy = 1 - forest_model_3.score(x_train, y_train)\n",
    "\n",
    "    return {\n",
    "        'Max leaf_nodes' : ml, \n",
    "        'Training Error' : forest_train_accuracy\n",
    "        }"
   ]
  },
  {
   "cell_type": "code",
   "execution_count": 43,
   "metadata": {},
   "outputs": [
    {
     "name": "stdout",
     "output_type": "stream",
     "text": [
      "Wall time: 1min 54s\n"
     ]
    }
   ],
   "source": [
    "%%time\n",
    "max_leaf_df = pd.DataFrame([max_leaf(ml) for ml in range(2, 60)])"
   ]
  },
  {
   "cell_type": "code",
   "execution_count": 44,
   "metadata": {},
   "outputs": [
    {
     "data": {
      "text/html": [
       "<div>\n",
       "<style scoped>\n",
       "    .dataframe tbody tr th:only-of-type {\n",
       "        vertical-align: middle;\n",
       "    }\n",
       "\n",
       "    .dataframe tbody tr th {\n",
       "        vertical-align: top;\n",
       "    }\n",
       "\n",
       "    .dataframe thead th {\n",
       "        text-align: right;\n",
       "    }\n",
       "</style>\n",
       "<table border=\"1\" class=\"dataframe\">\n",
       "  <thead>\n",
       "    <tr style=\"text-align: right;\">\n",
       "      <th></th>\n",
       "      <th>Max leaf_nodes</th>\n",
       "      <th>Training Error</th>\n",
       "    </tr>\n",
       "  </thead>\n",
       "  <tbody>\n",
       "    <tr>\n",
       "      <th>0</th>\n",
       "      <td>2</td>\n",
       "      <td>0.213626</td>\n",
       "    </tr>\n",
       "    <tr>\n",
       "      <th>1</th>\n",
       "      <td>3</td>\n",
       "      <td>0.157363</td>\n",
       "    </tr>\n",
       "    <tr>\n",
       "      <th>2</th>\n",
       "      <td>4</td>\n",
       "      <td>0.150330</td>\n",
       "    </tr>\n",
       "    <tr>\n",
       "      <th>3</th>\n",
       "      <td>5</td>\n",
       "      <td>0.148132</td>\n",
       "    </tr>\n",
       "    <tr>\n",
       "      <th>4</th>\n",
       "      <td>6</td>\n",
       "      <td>0.149231</td>\n",
       "    </tr>\n",
       "    <tr>\n",
       "      <th>5</th>\n",
       "      <td>7</td>\n",
       "      <td>0.145275</td>\n",
       "    </tr>\n",
       "    <tr>\n",
       "      <th>6</th>\n",
       "      <td>8</td>\n",
       "      <td>0.142418</td>\n",
       "    </tr>\n",
       "    <tr>\n",
       "      <th>7</th>\n",
       "      <td>9</td>\n",
       "      <td>0.138681</td>\n",
       "    </tr>\n",
       "    <tr>\n",
       "      <th>8</th>\n",
       "      <td>10</td>\n",
       "      <td>0.138462</td>\n",
       "    </tr>\n",
       "    <tr>\n",
       "      <th>9</th>\n",
       "      <td>11</td>\n",
       "      <td>0.137582</td>\n",
       "    </tr>\n",
       "    <tr>\n",
       "      <th>10</th>\n",
       "      <td>12</td>\n",
       "      <td>0.136923</td>\n",
       "    </tr>\n",
       "    <tr>\n",
       "      <th>11</th>\n",
       "      <td>13</td>\n",
       "      <td>0.134066</td>\n",
       "    </tr>\n",
       "    <tr>\n",
       "      <th>12</th>\n",
       "      <td>14</td>\n",
       "      <td>0.132527</td>\n",
       "    </tr>\n",
       "    <tr>\n",
       "      <th>13</th>\n",
       "      <td>15</td>\n",
       "      <td>0.131868</td>\n",
       "    </tr>\n",
       "    <tr>\n",
       "      <th>14</th>\n",
       "      <td>16</td>\n",
       "      <td>0.130769</td>\n",
       "    </tr>\n",
       "    <tr>\n",
       "      <th>15</th>\n",
       "      <td>17</td>\n",
       "      <td>0.127912</td>\n",
       "    </tr>\n",
       "    <tr>\n",
       "      <th>16</th>\n",
       "      <td>18</td>\n",
       "      <td>0.127692</td>\n",
       "    </tr>\n",
       "    <tr>\n",
       "      <th>17</th>\n",
       "      <td>19</td>\n",
       "      <td>0.126593</td>\n",
       "    </tr>\n",
       "    <tr>\n",
       "      <th>18</th>\n",
       "      <td>20</td>\n",
       "      <td>0.125934</td>\n",
       "    </tr>\n",
       "    <tr>\n",
       "      <th>19</th>\n",
       "      <td>21</td>\n",
       "      <td>0.125275</td>\n",
       "    </tr>\n",
       "    <tr>\n",
       "      <th>20</th>\n",
       "      <td>22</td>\n",
       "      <td>0.122418</td>\n",
       "    </tr>\n",
       "    <tr>\n",
       "      <th>21</th>\n",
       "      <td>23</td>\n",
       "      <td>0.122857</td>\n",
       "    </tr>\n",
       "    <tr>\n",
       "      <th>22</th>\n",
       "      <td>24</td>\n",
       "      <td>0.122418</td>\n",
       "    </tr>\n",
       "    <tr>\n",
       "      <th>23</th>\n",
       "      <td>25</td>\n",
       "      <td>0.120440</td>\n",
       "    </tr>\n",
       "    <tr>\n",
       "      <th>24</th>\n",
       "      <td>26</td>\n",
       "      <td>0.118901</td>\n",
       "    </tr>\n",
       "    <tr>\n",
       "      <th>25</th>\n",
       "      <td>27</td>\n",
       "      <td>0.118462</td>\n",
       "    </tr>\n",
       "    <tr>\n",
       "      <th>26</th>\n",
       "      <td>28</td>\n",
       "      <td>0.117363</td>\n",
       "    </tr>\n",
       "    <tr>\n",
       "      <th>27</th>\n",
       "      <td>29</td>\n",
       "      <td>0.116484</td>\n",
       "    </tr>\n",
       "    <tr>\n",
       "      <th>28</th>\n",
       "      <td>30</td>\n",
       "      <td>0.115604</td>\n",
       "    </tr>\n",
       "    <tr>\n",
       "      <th>29</th>\n",
       "      <td>31</td>\n",
       "      <td>0.114725</td>\n",
       "    </tr>\n",
       "    <tr>\n",
       "      <th>30</th>\n",
       "      <td>32</td>\n",
       "      <td>0.114286</td>\n",
       "    </tr>\n",
       "    <tr>\n",
       "      <th>31</th>\n",
       "      <td>33</td>\n",
       "      <td>0.113626</td>\n",
       "    </tr>\n",
       "    <tr>\n",
       "      <th>32</th>\n",
       "      <td>34</td>\n",
       "      <td>0.112308</td>\n",
       "    </tr>\n",
       "    <tr>\n",
       "      <th>33</th>\n",
       "      <td>35</td>\n",
       "      <td>0.112527</td>\n",
       "    </tr>\n",
       "    <tr>\n",
       "      <th>34</th>\n",
       "      <td>36</td>\n",
       "      <td>0.112088</td>\n",
       "    </tr>\n",
       "    <tr>\n",
       "      <th>35</th>\n",
       "      <td>37</td>\n",
       "      <td>0.111209</td>\n",
       "    </tr>\n",
       "    <tr>\n",
       "      <th>36</th>\n",
       "      <td>38</td>\n",
       "      <td>0.110110</td>\n",
       "    </tr>\n",
       "    <tr>\n",
       "      <th>37</th>\n",
       "      <td>39</td>\n",
       "      <td>0.109231</td>\n",
       "    </tr>\n",
       "    <tr>\n",
       "      <th>38</th>\n",
       "      <td>40</td>\n",
       "      <td>0.108132</td>\n",
       "    </tr>\n",
       "    <tr>\n",
       "      <th>39</th>\n",
       "      <td>41</td>\n",
       "      <td>0.107912</td>\n",
       "    </tr>\n",
       "    <tr>\n",
       "      <th>40</th>\n",
       "      <td>42</td>\n",
       "      <td>0.107253</td>\n",
       "    </tr>\n",
       "    <tr>\n",
       "      <th>41</th>\n",
       "      <td>43</td>\n",
       "      <td>0.107253</td>\n",
       "    </tr>\n",
       "    <tr>\n",
       "      <th>42</th>\n",
       "      <td>44</td>\n",
       "      <td>0.106593</td>\n",
       "    </tr>\n",
       "    <tr>\n",
       "      <th>43</th>\n",
       "      <td>45</td>\n",
       "      <td>0.105934</td>\n",
       "    </tr>\n",
       "    <tr>\n",
       "      <th>44</th>\n",
       "      <td>46</td>\n",
       "      <td>0.105275</td>\n",
       "    </tr>\n",
       "    <tr>\n",
       "      <th>45</th>\n",
       "      <td>47</td>\n",
       "      <td>0.104615</td>\n",
       "    </tr>\n",
       "    <tr>\n",
       "      <th>46</th>\n",
       "      <td>48</td>\n",
       "      <td>0.104396</td>\n",
       "    </tr>\n",
       "    <tr>\n",
       "      <th>47</th>\n",
       "      <td>49</td>\n",
       "      <td>0.103297</td>\n",
       "    </tr>\n",
       "    <tr>\n",
       "      <th>48</th>\n",
       "      <td>50</td>\n",
       "      <td>0.102637</td>\n",
       "    </tr>\n",
       "    <tr>\n",
       "      <th>49</th>\n",
       "      <td>51</td>\n",
       "      <td>0.101758</td>\n",
       "    </tr>\n",
       "    <tr>\n",
       "      <th>50</th>\n",
       "      <td>52</td>\n",
       "      <td>0.101319</td>\n",
       "    </tr>\n",
       "    <tr>\n",
       "      <th>51</th>\n",
       "      <td>53</td>\n",
       "      <td>0.101099</td>\n",
       "    </tr>\n",
       "    <tr>\n",
       "      <th>52</th>\n",
       "      <td>54</td>\n",
       "      <td>0.101099</td>\n",
       "    </tr>\n",
       "    <tr>\n",
       "      <th>53</th>\n",
       "      <td>55</td>\n",
       "      <td>0.100659</td>\n",
       "    </tr>\n",
       "    <tr>\n",
       "      <th>54</th>\n",
       "      <td>56</td>\n",
       "      <td>0.100659</td>\n",
       "    </tr>\n",
       "    <tr>\n",
       "      <th>55</th>\n",
       "      <td>57</td>\n",
       "      <td>0.100879</td>\n",
       "    </tr>\n",
       "    <tr>\n",
       "      <th>56</th>\n",
       "      <td>58</td>\n",
       "      <td>0.099341</td>\n",
       "    </tr>\n",
       "    <tr>\n",
       "      <th>57</th>\n",
       "      <td>59</td>\n",
       "      <td>0.098462</td>\n",
       "    </tr>\n",
       "  </tbody>\n",
       "</table>\n",
       "</div>"
      ],
      "text/plain": [
       "    Max leaf_nodes  Training Error\n",
       "0                2        0.213626\n",
       "1                3        0.157363\n",
       "2                4        0.150330\n",
       "3                5        0.148132\n",
       "4                6        0.149231\n",
       "5                7        0.145275\n",
       "6                8        0.142418\n",
       "7                9        0.138681\n",
       "8               10        0.138462\n",
       "9               11        0.137582\n",
       "10              12        0.136923\n",
       "11              13        0.134066\n",
       "12              14        0.132527\n",
       "13              15        0.131868\n",
       "14              16        0.130769\n",
       "15              17        0.127912\n",
       "16              18        0.127692\n",
       "17              19        0.126593\n",
       "18              20        0.125934\n",
       "19              21        0.125275\n",
       "20              22        0.122418\n",
       "21              23        0.122857\n",
       "22              24        0.122418\n",
       "23              25        0.120440\n",
       "24              26        0.118901\n",
       "25              27        0.118462\n",
       "26              28        0.117363\n",
       "27              29        0.116484\n",
       "28              30        0.115604\n",
       "29              31        0.114725\n",
       "30              32        0.114286\n",
       "31              33        0.113626\n",
       "32              34        0.112308\n",
       "33              35        0.112527\n",
       "34              36        0.112088\n",
       "35              37        0.111209\n",
       "36              38        0.110110\n",
       "37              39        0.109231\n",
       "38              40        0.108132\n",
       "39              41        0.107912\n",
       "40              42        0.107253\n",
       "41              43        0.107253\n",
       "42              44        0.106593\n",
       "43              45        0.105934\n",
       "44              46        0.105275\n",
       "45              47        0.104615\n",
       "46              48        0.104396\n",
       "47              49        0.103297\n",
       "48              50        0.102637\n",
       "49              51        0.101758\n",
       "50              52        0.101319\n",
       "51              53        0.101099\n",
       "52              54        0.101099\n",
       "53              55        0.100659\n",
       "54              56        0.100659\n",
       "55              57        0.100879\n",
       "56              58        0.099341\n",
       "57              59        0.098462"
      ]
     },
     "execution_count": 44,
     "metadata": {},
     "output_type": "execute_result"
    }
   ],
   "source": [
    "max_leaf_df"
   ]
  },
  {
   "cell_type": "code",
   "execution_count": 45,
   "metadata": {},
   "outputs": [
    {
     "data": {
      "text/plain": [
       "<matplotlib.legend.Legend at 0x292912cb6d0>"
      ]
     },
     "execution_count": 45,
     "metadata": {},
     "output_type": "execute_result"
    },
    {
     "data": {
      "image/png": "[encoded data removed]",
      "text/plain": [
       "<Figure size 720x432 with 1 Axes>"
      ]
     },
     "metadata": {},
     "output_type": "display_data"
    }
   ],
   "source": [
    "plt.figure()\n",
    "plt.plot(max_leaf_df['Max leaf_nodes'], max_leaf_df['Training Error'])\n",
    "\n",
    "plt.title('Training vs Error')\n",
    "plt.xticks(range(0,60,2))\n",
    "plt.xlabel('Max leaf_nodes')\n",
    "plt.ylabel('Prediction Error (1 - Accuracy)')\n",
    "plt.legend(['Training'])"
   ]
  },
  {
   "cell_type": "code",
   "execution_count": 46,
   "metadata": {},
   "outputs": [
    {
     "data": {
      "text/plain": [
       "1.0"
      ]
     },
     "execution_count": 46,
     "metadata": {},
     "output_type": "execute_result"
    }
   ],
   "source": [
    "test_params(max_features='log2')"
   ]
  },
  {
   "cell_type": "code",
   "execution_count": 47,
   "metadata": {},
   "outputs": [
    {
     "data": {
      "text/plain": [
       "1.0"
      ]
     },
     "execution_count": 47,
     "metadata": {},
     "output_type": "execute_result"
    }
   ],
   "source": [
    "test_params(max_features=3)"
   ]
  },
  {
   "cell_type": "code",
   "execution_count": 48,
   "metadata": {},
   "outputs": [],
   "source": [
    "def features_max(mf):\n",
    "    forest_model_3 = RandomForestClassifier(random_state=42, n_jobs=-1, max_features=mf)\n",
    "    forest_model_3.fit(x_train, y_train)\n",
    "\n",
    "    forest_train_accuracy = 1 - forest_model_3.score(x_train, y_train)\n",
    "\n",
    "    return {\n",
    "        'Max features' : mf, \n",
    "        'Training Error' : forest_train_accuracy\n",
    "        }"
   ]
  },
  {
   "cell_type": "code",
   "execution_count": 49,
   "metadata": {},
   "outputs": [],
   "source": [
    "max_leaf_df = pd.DataFrame([features_max('log2')])"
   ]
  },
  {
   "cell_type": "code",
   "execution_count": 50,
   "metadata": {},
   "outputs": [
    {
     "data": {
      "text/html": [
       "<div>\n",
       "<style scoped>\n",
       "    .dataframe tbody tr th:only-of-type {\n",
       "        vertical-align: middle;\n",
       "    }\n",
       "\n",
       "    .dataframe tbody tr th {\n",
       "        vertical-align: top;\n",
       "    }\n",
       "\n",
       "    .dataframe thead th {\n",
       "        text-align: right;\n",
       "    }\n",
       "</style>\n",
       "<table border=\"1\" class=\"dataframe\">\n",
       "  <thead>\n",
       "    <tr style=\"text-align: right;\">\n",
       "      <th></th>\n",
       "      <th>Max features</th>\n",
       "      <th>Training Error</th>\n",
       "    </tr>\n",
       "  </thead>\n",
       "  <tbody>\n",
       "    <tr>\n",
       "      <th>0</th>\n",
       "      <td>log2</td>\n",
       "      <td>0.0</td>\n",
       "    </tr>\n",
       "  </tbody>\n",
       "</table>\n",
       "</div>"
      ],
      "text/plain": [
       "  Max features  Training Error\n",
       "0         log2             0.0"
      ]
     },
     "execution_count": 50,
     "metadata": {},
     "output_type": "execute_result"
    }
   ],
   "source": [
    "max_leaf_df"
   ]
  },
  {
   "cell_type": "code",
   "execution_count": 51,
   "metadata": {},
   "outputs": [],
   "source": [
    "max_leaf_df = pd.DataFrame([features_max('sqrt')])"
   ]
  },
  {
   "cell_type": "code",
   "execution_count": 52,
   "metadata": {},
   "outputs": [
    {
     "data": {
      "text/html": [
       "<div>\n",
       "<style scoped>\n",
       "    .dataframe tbody tr th:only-of-type {\n",
       "        vertical-align: middle;\n",
       "    }\n",
       "\n",
       "    .dataframe tbody tr th {\n",
       "        vertical-align: top;\n",
       "    }\n",
       "\n",
       "    .dataframe thead th {\n",
       "        text-align: right;\n",
       "    }\n",
       "</style>\n",
       "<table border=\"1\" class=\"dataframe\">\n",
       "  <thead>\n",
       "    <tr style=\"text-align: right;\">\n",
       "      <th></th>\n",
       "      <th>Max features</th>\n",
       "      <th>Training Error</th>\n",
       "    </tr>\n",
       "  </thead>\n",
       "  <tbody>\n",
       "    <tr>\n",
       "      <th>0</th>\n",
       "      <td>sqrt</td>\n",
       "      <td>0.0</td>\n",
       "    </tr>\n",
       "  </tbody>\n",
       "</table>\n",
       "</div>"
      ],
      "text/plain": [
       "  Max features  Training Error\n",
       "0         sqrt             0.0"
      ]
     },
     "execution_count": 52,
     "metadata": {},
     "output_type": "execute_result"
    }
   ],
   "source": [
    "max_leaf_df"
   ]
  },
  {
   "cell_type": "code",
   "execution_count": 53,
   "metadata": {},
   "outputs": [],
   "source": [
    "max_leaf_df = pd.DataFrame([features_max('auto')])"
   ]
  },
  {
   "cell_type": "code",
   "execution_count": 54,
   "metadata": {},
   "outputs": [
    {
     "data": {
      "text/html": [
       "<div>\n",
       "<style scoped>\n",
       "    .dataframe tbody tr th:only-of-type {\n",
       "        vertical-align: middle;\n",
       "    }\n",
       "\n",
       "    .dataframe tbody tr th {\n",
       "        vertical-align: top;\n",
       "    }\n",
       "\n",
       "    .dataframe thead th {\n",
       "        text-align: right;\n",
       "    }\n",
       "</style>\n",
       "<table border=\"1\" class=\"dataframe\">\n",
       "  <thead>\n",
       "    <tr style=\"text-align: right;\">\n",
       "      <th></th>\n",
       "      <th>Max features</th>\n",
       "      <th>Training Error</th>\n",
       "    </tr>\n",
       "  </thead>\n",
       "  <tbody>\n",
       "    <tr>\n",
       "      <th>0</th>\n",
       "      <td>auto</td>\n",
       "      <td>0.0</td>\n",
       "    </tr>\n",
       "  </tbody>\n",
       "</table>\n",
       "</div>"
      ],
      "text/plain": [
       "  Max features  Training Error\n",
       "0         auto             0.0"
      ]
     },
     "execution_count": 54,
     "metadata": {},
     "output_type": "execute_result"
    }
   ],
   "source": [
    "max_leaf_df"
   ]
  },
  {
   "cell_type": "code",
   "execution_count": 55,
   "metadata": {},
   "outputs": [],
   "source": [
    "max_leaf_df = pd.DataFrame([features_max(None)])"
   ]
  },
  {
   "cell_type": "code",
   "execution_count": 56,
   "metadata": {},
   "outputs": [
    {
     "data": {
      "text/html": [
       "<div>\n",
       "<style scoped>\n",
       "    .dataframe tbody tr th:only-of-type {\n",
       "        vertical-align: middle;\n",
       "    }\n",
       "\n",
       "    .dataframe tbody tr th {\n",
       "        vertical-align: top;\n",
       "    }\n",
       "\n",
       "    .dataframe thead th {\n",
       "        text-align: right;\n",
       "    }\n",
       "</style>\n",
       "<table border=\"1\" class=\"dataframe\">\n",
       "  <thead>\n",
       "    <tr style=\"text-align: right;\">\n",
       "      <th></th>\n",
       "      <th>Max features</th>\n",
       "      <th>Training Error</th>\n",
       "    </tr>\n",
       "  </thead>\n",
       "  <tbody>\n",
       "    <tr>\n",
       "      <th>0</th>\n",
       "      <td>None</td>\n",
       "      <td>0.0</td>\n",
       "    </tr>\n",
       "  </tbody>\n",
       "</table>\n",
       "</div>"
      ],
      "text/plain": [
       "  Max features  Training Error\n",
       "0         None             0.0"
      ]
     },
     "execution_count": 56,
     "metadata": {},
     "output_type": "execute_result"
    }
   ],
   "source": [
    "max_leaf_df"
   ]
  },
  {
   "cell_type": "code",
   "execution_count": 57,
   "metadata": {},
   "outputs": [
    {
     "data": {
      "text/plain": [
       "0.981978021978022"
      ]
     },
     "execution_count": 57,
     "metadata": {},
     "output_type": "execute_result"
    }
   ],
   "source": [
    "test_params(min_samples_split=3, min_samples_leaf=2)"
   ]
  },
  {
   "cell_type": "code",
   "execution_count": 58,
   "metadata": {},
   "outputs": [
    {
     "data": {
      "text/plain": [
       "0.8936263736263736"
      ]
     },
     "execution_count": 58,
     "metadata": {},
     "output_type": "execute_result"
    }
   ],
   "source": [
    "test_params(min_samples_split=20, min_samples_leaf=14)"
   ]
  },
  {
   "cell_type": "code",
   "execution_count": 59,
   "metadata": {},
   "outputs": [
    {
     "data": {
      "text/plain": [
       "1.0"
      ]
     },
     "execution_count": 59,
     "metadata": {},
     "output_type": "execute_result"
    }
   ],
   "source": [
    "test_params(min_impurity_decrease=1e-7)"
   ]
  },
  {
   "cell_type": "code",
   "execution_count": 60,
   "metadata": {},
   "outputs": [
    {
     "data": {
      "text/plain": [
       "0.9813186813186813"
      ]
     },
     "execution_count": 60,
     "metadata": {},
     "output_type": "execute_result"
    }
   ],
   "source": [
    "test_params(min_impurity_decrease=1e-4)"
   ]
  },
  {
   "cell_type": "code",
   "execution_count": 61,
   "metadata": {},
   "outputs": [
    {
     "data": {
      "text/plain": [
       "1.0"
      ]
     },
     "execution_count": 61,
     "metadata": {},
     "output_type": "execute_result"
    }
   ],
   "source": [
    "test_params(bootstrap=True)"
   ]
  },
  {
   "cell_type": "code",
   "execution_count": 62,
   "metadata": {},
   "outputs": [
    {
     "data": {
      "text/plain": [
       "0.9505494505494505"
      ]
     },
     "execution_count": 62,
     "metadata": {},
     "output_type": "execute_result"
    }
   ],
   "source": [
    "test_params(bootstrap=True, max_samples=0.4)"
   ]
  },
  {
   "cell_type": "code",
   "execution_count": 63,
   "metadata": {},
   "outputs": [],
   "source": [
    "final_rf = RandomForestClassifier(\n",
    "    random_state=42,\n",
    "    n_estimators=10,\n",
    "    max_features='auto',\n",
    "    max_depth=16,\n",
    "    max_leaf_nodes=60,\n",
    "    min_samples_split=40, \n",
    "    min_samples_leaf=34,\n",
    "    min_impurity_decrease=1e-4,\n",
    "    bootstrap=True, \n",
    "    max_samples=0.4,\n",
    "    class_weight={1 : 1, 0 : 1.5}\n",
    ")"
   ]
  },
  {
   "cell_type": "code",
   "execution_count": 64,
   "metadata": {},
   "outputs": [
    {
     "data": {
      "text/plain": [
       "RandomForestClassifier(class_weight={0: 1.5, 1: 1}, max_depth=16,\n",
       "                       max_leaf_nodes=60, max_samples=0.4,\n",
       "                       min_impurity_decrease=0.0001, min_samples_leaf=34,\n",
       "                       min_samples_split=40, n_estimators=10, random_state=42)"
      ]
     },
     "execution_count": 64,
     "metadata": {},
     "output_type": "execute_result"
    }
   ],
   "source": [
    "final_rf.fit(x_train, y_train)"
   ]
  },
  {
   "cell_type": "code",
   "execution_count": 65,
   "metadata": {},
   "outputs": [
    {
     "data": {
      "text/plain": [
       "0.8604395604395605"
      ]
     },
     "execution_count": 65,
     "metadata": {},
     "output_type": "execute_result"
    }
   ],
   "source": [
    "final_rf.score(x_train, y_train)"
   ]
  },
  {
   "cell_type": "code",
   "execution_count": 66,
   "metadata": {},
   "outputs": [],
   "source": [
    "y_pred = final_rf.predict(x_test)"
   ]
  },
  {
   "cell_type": "code",
   "execution_count": 67,
   "metadata": {},
   "outputs": [],
   "source": [
    "rmse = np.sqrt(mse(y_test, y_pred))"
   ]
  },
  {
   "cell_type": "code",
   "execution_count": 68,
   "metadata": {},
   "outputs": [
    {
     "data": {
      "text/plain": [
       "0.3836397883164456"
      ]
     },
     "execution_count": 68,
     "metadata": {},
     "output_type": "execute_result"
    }
   ],
   "source": [
    "rmse"
   ]
  },
  {
   "cell_type": "code",
   "execution_count": 69,
   "metadata": {},
   "outputs": [],
   "source": [
    "def predict_discrete (final_rf, single_input):\n",
    "    input_df = pd.DataFrame([single_input])\n",
    "    #input_df[numerical_cols] = imputer.transform(input_df[numerical_cols])\n",
    "    #input_df[numerical_cols] = scaler.transform(input_df[numerical_cols])\n",
    "    #input_df[encoded_cols] = encoder.transform(input_df[categorical_cols])\n",
    "\n",
    "    x_input = input_df\n",
    "    predictions = final_rf.predict(x_input)[0]\n",
    "    probability = final_rf.predict_proba(x_input)[0][list(final_rf.classes_).index(predictions)]\n",
    "\n",
    "    return predictions, probability"
   ]
  },
  {
   "cell_type": "code",
   "execution_count": 70,
   "metadata": {},
   "outputs": [],
   "source": [
    "new_input = {'chol': 203,\n",
    "             'stab.glu' : 27,\n",
    "             'hdl' : 56,\n",
    "             'ratio': 3.6,\n",
    "             'glyhb': 4.31,\n",
    "             'location' : 0,\n",
    "             'age': 27,\n",
    "            'gender': 0,\n",
    "            'height': 62,\n",
    "            'weight': 121,\n",
    "            'frame': 1,\n",
    "            'bp.1s': 118,\n",
    "            'bp.1d': 59,\n",
    "            'bp.2s': 152.38,\n",
    "       'bp.2d': 92.52,\n",
    "       'waist': 29,\n",
    "       'hip': 38, \n",
    "       'time.ppn': 720, \n",
    "       'height_meters': 1.57,\n",
    "       'BMI': 49.79,\n",
    "       'hip_waist_ratio': 0.76\n",
    "       }"
   ]
  },
  {
   "cell_type": "markdown",
   "metadata": {},
   "source": [
    "predict_discrete(final_rf, important_input)"
   ]
  },
  {
   "cell_type": "markdown",
   "metadata": {},
   "source": [
    "import pickle\n",
    "filename = 'diabetes_predictor.sav'\n",
    "pickle.dump(final_rf, open(filename, 'wb'))"
   ]
  }
 ],
 "metadata": {
  "interpreter": {
   "hash": "153b441b79b186a170e66d39f3ac68da9dc112e187bf195c7a204943ec397faa"
  },
  "kernelspec": {
   "display_name": "Python 3.9.10 64-bit",
   "language": "python",
   "name": "python3"
  },
  "language_info": {
   "codemirror_mode": {
    "name": "ipython",
    "version": 3
   },
   "file_extension": ".py",
   "mimetype": "text/x-python",
   "name": "python",
   "nbconvert_exporter": "python",
   "pygments_lexer": "ipython3",
   "version": "3.9.10"
  },
  "orig_nbformat": 4
 },
 "nbformat": 4,
 "nbformat_minor": 2
}
